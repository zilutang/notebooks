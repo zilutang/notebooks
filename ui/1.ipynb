{
 "cells": [
  {
   "cell_type": "code",
   "execution_count": 1,
   "metadata": {
    "collapsed": false
   },
   "outputs": [
    {
     "data": {
      "text/html": [
       "\n",
       "<div style=\"background-color:gainsboro; border:solid black; width:300px; padding:20px;\">\n",
       "Variable Name: <input type=\"text\" id=\"var_name\" value=\"foo\"><br>\n",
       "Variable Value: <input type=\"text\" id=\"var_value\" value=\"bar\"><br>\n",
       "<button onclick=\"set_value()\">Set Value</button>\n",
       "</div>\n",
       "\n",
       "<script type=\"text/Javascript\">\n",
       "    function set_value(){\n",
       "        var var_name = document.getElementById('var_name').value;\n",
       "        var var_value = document.getElementById('var_value').value;\n",
       "        var command = var_name + \" = '\" + var_value + \"'\";\n",
       "        console.log(\"Executing Command: \" + command);\n",
       "        \n",
       "        var kernel = IPython.notebook.kernel;\n",
       "        kernel.execute(command);\n",
       "    }\n",
       "</script>\n"
      ],
      "text/plain": [
       "<IPython.core.display.HTML object>"
      ]
     },
     "execution_count": 1,
     "metadata": {},
     "output_type": "execute_result"
    }
   ],
   "source": [
    "from IPython.display import HTML\n",
    "\n",
    "input_form = \"\"\"\n",
    "<div style=\"background-color:gainsboro; border:solid black; width:300px; padding:20px;\">\n",
    "Variable Name: <input type=\"text\" id=\"var_name\" value=\"foo\"><br>\n",
    "Variable Value: <input type=\"text\" id=\"var_value\" value=\"bar\"><br>\n",
    "<button onclick=\"set_value()\">Set Value</button>\n",
    "</div>\n",
    "\"\"\"\n",
    "\n",
    "javascript = \"\"\"\n",
    "<script type=\"text/Javascript\">\n",
    "    function set_value(){\n",
    "        var var_name = document.getElementById('var_name').value;\n",
    "        var var_value = document.getElementById('var_value').value;\n",
    "        var command = var_name + \" = '\" + var_value + \"'\";\n",
    "        console.log(\"Executing Command: \" + command);\n",
    "        \n",
    "        var kernel = IPython.notebook.kernel;\n",
    "        kernel.execute(command);\n",
    "    }\n",
    "</script>\n",
    "\"\"\"\n",
    "\n",
    "HTML(input_form + javascript)"
   ]
  },
  {
   "cell_type": "code",
   "execution_count": 2,
   "metadata": {
    "collapsed": true
   },
   "outputs": [],
   "source": [
    "from IPython.display import HTML\n",
    "from cStringIO import StringIO\n",
    "\n",
    "# We'll use HTML to create a control panel with an\n",
    "# empty image and a number of navigation buttons.\n",
    "\n",
    "disp_html = \"\"\"\n",
    "<div class=\"animation\" align=\"center\">\n",
    "<img id=\"anim_frame\" src=\"\"><br>\n",
    "<button onclick=\"prevFrame()\">Prev Frame</button>\n",
    "<button onclick=\"reverse()\">Reverse</button>\n",
    "<button onclick=\"pause()\">Pause</button>\n",
    "<button onclick=\"play()\">Play</button>\n",
    "<button onclick=\"nextFrame()\">Next Frame</button>\n",
    "</div>\n",
    "\"\"\"\n",
    "\n",
    "# now the javascript to drive it.  The nextFrame() and prevFrame()\n",
    "# functions will call the kernel and pull-down the frame which\n",
    "# is generated.  The play() and reverse() functions use timeouts\n",
    "# to repeatedly call nextFrame() and prevFrame().\n",
    "\n",
    "javascript = \"\"\"\n",
    "<script type=\"text/Javascript\">\n",
    "var count = -1;  // keep track of frame number\n",
    "var animating = 0;  // keep track of animation direction\n",
    "var timer = null;\n",
    "var kernel = IPython.notebook.kernel;\n",
    "\n",
    "function output(out_type, out){\n",
    "    data = out.data[\"text/plain\"];\n",
    "    document.getElementById(\"anim_frame\").src = data.substring(1, data.length - 1);\n",
    "    \n",
    "    if(animating > 0){\n",
    "        timer = setTimeout(nextFrame, 0);\n",
    "    }\n",
    "    else if(animating < 0){\n",
    "        timer = setTimeout(prevFrame, 0);\n",
    "    }\n",
    "}\n",
    "\n",
    "var callbacks = {'output' : output};\n",
    "\n",
    "function pause(){\n",
    "    animating = 0;\n",
    "    if(timer){\n",
    "        clearInterval(timer);\n",
    "        timer = null;\n",
    "    }\n",
    "}\n",
    "\n",
    "function play(){\n",
    "    pause();\n",
    "    animating = +1;\n",
    "    nextFrame();\n",
    "}\n",
    "\n",
    "function reverse(){\n",
    "    pause();\n",
    "    animating = -1;\n",
    "    prevFrame();\n",
    "}\n",
    "\n",
    "function nextFrame(){\n",
    "    count += 1;\n",
    "    var msg_id = kernel.execute(\"disp._get_frame_data(\" + count + \")\", callbacks, {silent:false});\n",
    "}\n",
    "\n",
    "function prevFrame(){\n",
    "    count -= 1;\n",
    "    var msg_id = kernel.execute(\"disp._get_frame_data(\" + count + \")\", callbacks, {silent:false});\n",
    "}\n",
    "\n",
    "// display the first frame\n",
    "setTimeout(nextFrame, 0);\n",
    "\n",
    "</script>\n",
    "\"\"\"\n",
    "\n",
    "# Here we create a class whose HTML representation is the above\n",
    "# HTML and javascript.  Note that we've hard-coded the global\n",
    "# variable name `disp` in the Javascript, so you'll have to assign\n",
    "# the resulting object to this name in order to view it.\n",
    "\n",
    "class DisplayAnimation(object):\n",
    "    def __init__(self, anim):\n",
    "        self.anim = anim\n",
    "        self.fig = anim._fig\n",
    "        plt.close(self.fig)\n",
    "        \n",
    "    def _get_frame_data(self, i):\n",
    "        anim._draw_frame(i)\n",
    "        buffer = StringIO()\n",
    "        fig.savefig(buffer, format='png')\n",
    "        buffer.reset()\n",
    "        data = buffer.read().encode('base64')\n",
    "        return \"data:image/png;base64,{0}\".format(data.replace('\\n', ''))\n",
    "    \n",
    "    def _repr_html_(self):\n",
    "        return disp_html + javascript"
   ]
  },
  {
   "cell_type": "code",
   "execution_count": 5,
   "metadata": {
    "collapsed": false
   },
   "outputs": [
    {
     "name": "stdout",
     "output_type": "stream",
     "text": [
      "Populating the interactive namespace from numpy and matplotlib\n"
     ]
    },
    {
     "name": "stderr",
     "output_type": "stream",
     "text": [
      "WARNING: pylab import has clobbered these variables: ['disp']\n",
      "`%matplotlib` prevents importing * from pylab and numpy\n"
     ]
    }
   ],
   "source": [
    "%pylab inline"
   ]
  },
  {
   "cell_type": "code",
   "execution_count": 6,
   "metadata": {
    "collapsed": false
   },
   "outputs": [
    {
     "data": {
      "text/html": [
       "\n",
       "<div class=\"animation\" align=\"center\">\n",
       "<img id=\"anim_frame\" src=\"\"><br>\n",
       "<button onclick=\"prevFrame()\">Prev Frame</button>\n",
       "<button onclick=\"reverse()\">Reverse</button>\n",
       "<button onclick=\"pause()\">Pause</button>\n",
       "<button onclick=\"play()\">Play</button>\n",
       "<button onclick=\"nextFrame()\">Next Frame</button>\n",
       "</div>\n",
       "\n",
       "<script type=\"text/Javascript\">\n",
       "var count = -1;  // keep track of frame number\n",
       "var animating = 0;  // keep track of animation direction\n",
       "var timer = null;\n",
       "var kernel = IPython.notebook.kernel;\n",
       "\n",
       "function output(out_type, out){\n",
       "    data = out.data[\"text/plain\"];\n",
       "    document.getElementById(\"anim_frame\").src = data.substring(1, data.length - 1);\n",
       "    \n",
       "    if(animating > 0){\n",
       "        timer = setTimeout(nextFrame, 0);\n",
       "    }\n",
       "    else if(animating < 0){\n",
       "        timer = setTimeout(prevFrame, 0);\n",
       "    }\n",
       "}\n",
       "\n",
       "var callbacks = {'output' : output};\n",
       "\n",
       "function pause(){\n",
       "    animating = 0;\n",
       "    if(timer){\n",
       "        clearInterval(timer);\n",
       "        timer = null;\n",
       "    }\n",
       "}\n",
       "\n",
       "function play(){\n",
       "    pause();\n",
       "    animating = +1;\n",
       "    nextFrame();\n",
       "}\n",
       "\n",
       "function reverse(){\n",
       "    pause();\n",
       "    animating = -1;\n",
       "    prevFrame();\n",
       "}\n",
       "\n",
       "function nextFrame(){\n",
       "    count += 1;\n",
       "    var msg_id = kernel.execute(\"disp._get_frame_data(\" + count + \")\", callbacks, {silent:false});\n",
       "}\n",
       "\n",
       "function prevFrame(){\n",
       "    count -= 1;\n",
       "    var msg_id = kernel.execute(\"disp._get_frame_data(\" + count + \")\", callbacks, {silent:false});\n",
       "}\n",
       "\n",
       "// display the first frame\n",
       "setTimeout(nextFrame, 0);\n",
       "\n",
       "</script>\n"
      ],
      "text/plain": [
       "<__main__.DisplayAnimation at 0xaa85668>"
      ]
     },
     "execution_count": 6,
     "metadata": {},
     "output_type": "execute_result"
    }
   ],
   "source": [
    "from matplotlib import animation\n",
    "import matplotlib.pyplot as plt\n",
    "fig = plt.figure()\n",
    "ax = plt.axes(xlim=(0, 10), ylim=(-2, 2))\n",
    "line, = ax.plot([], [], lw=2)\n",
    "\n",
    "def init():\n",
    "    line.set_data([], [])\n",
    "    return line,\n",
    "\n",
    "def animate(i):\n",
    "    x = np.linspace(0, 10, 1000)\n",
    "    y = np.cos(i * 0.02 * np.pi) * np.sin(x - i * 0.02 * np.pi)\n",
    "    line.set_data(x, y)\n",
    "    return line,\n",
    "\n",
    "anim = animation.FuncAnimation(fig, animate, init_func=init,\n",
    "                               frames=100, interval=30)\n",
    "\n",
    "# For now, we need to name this `disp` for it to work\n",
    "disp = DisplayAnimation(anim)\n",
    "disp"
   ]
  },
  {
   "cell_type": "code",
   "execution_count": 7,
   "metadata": {
    "collapsed": false
   },
   "outputs": [
    {
     "data": {
      "text/plain": [
       "[<matplotlib.lines.Line2D at 0xabf5e10>]"
      ]
     },
     "execution_count": 7,
     "metadata": {},
     "output_type": "execute_result"
    },
    {
     "data": {
      "image/png": "[encoded data removed]",
      "text/plain": [
       "<matplotlib.figure.Figure at 0xabf5d68>"
      ]
     },
     "metadata": {},
     "output_type": "display_data"
    }
   ],
   "source": [
    "def save_to_mem(fig):\n",
    "    buffer = StringIO()\n",
    "    fig.savefig(buffer, format='png')\n",
    "    buffer.reset()\n",
    "    data = buffer.read().encode('base64')\n",
    "    return \"data:image/png;base64,{0}\".format(data.replace('\\n', ''))\n",
    "\n",
    "fig, ax = plt.subplots()\n",
    "ax.plot(rand(200))"
   ]
  },
  {
   "cell_type": "code",
   "execution_count": 8,
   "metadata": {
    "collapsed": false
   },
   "outputs": [
    {
     "data": {
      "text/html": [
       "\n",
       "<div style=\"background-color:gainsboro; border:solid black; width:600px; padding:20px;\">\n",
       "Code: <input type=\"text\" id=\"code_input\" size=\"50\" height=\"2\" value=\"sin(pi / 2)\"><br>\n",
       "Result: <input type=\"text\" id=\"result_output\" size=\"50\" value=\"1.0\"><br>\n",
       "<button onclick=\"exec_code()\">Execute</button>\n",
       "</div>\n",
       "\n",
       "<script type=\"text/Javascript\">\n",
       "    function handle_output(out_type, out){\n",
       "        console.log(out_type);\n",
       "        console.log(out);\n",
       "        var res = null;\n",
       "         // if output is a print statement\n",
       "        if(out_type == \"stream\"){\n",
       "            res = out.data;\n",
       "        }\n",
       "        // if output is a python object\n",
       "        else if(out_type === \"pyout\"){\n",
       "            res = out.data[\"text/plain\"];\n",
       "        }\n",
       "        // if output is a python error\n",
       "        else if(out_type == \"pyerr\"){\n",
       "            res = out.ename + \": \" + out.evalue;\n",
       "        }\n",
       "        // if output is something we haven't thought of\n",
       "        else{\n",
       "            res = \"[out type not implemented]\";   \n",
       "        }\n",
       "        document.getElementById(\"result_output\").value = res;\n",
       "    }\n",
       "    \n",
       "    function exec_code(){\n",
       "        var code_input = document.getElementById('code_input').value;\n",
       "        var kernel = IPython.notebook.kernel;\n",
       "        var callbacks = {'output' : handle_output};\n",
       "        document.getElementById(\"result_output\").value = \"\";  // clear output box\n",
       "        var msg_id = kernel.execute(code_input, callbacks, {silent:false});\n",
       "        console.log(\"button pressed\");\n",
       "    }\n",
       "</script>\n"
      ],
      "text/plain": [
       "<IPython.core.display.HTML object>"
      ]
     },
     "execution_count": 8,
     "metadata": {},
     "output_type": "execute_result"
    }
   ],
   "source": [
    "from math import pi, sin\n",
    "# Add an input form similar to what we saw above\n",
    "input_form = \"\"\"\n",
    "<div style=\"background-color:gainsboro; border:solid black; width:600px; padding:20px;\">\n",
    "Code: <input type=\"text\" id=\"code_input\" size=\"50\" height=\"2\" value=\"sin(pi / 2)\"><br>\n",
    "Result: <input type=\"text\" id=\"result_output\" size=\"50\" value=\"1.0\"><br>\n",
    "<button onclick=\"exec_code()\">Execute</button>\n",
    "</div>\n",
    "\"\"\"\n",
    "\n",
    "# here the javascript has a function to execute the code\n",
    "# within the input box, and a callback to handle the output.\n",
    "javascript = \"\"\"\n",
    "<script type=\"text/Javascript\">\n",
    "    function handle_output(out_type, out){\n",
    "        console.log(out_type);\n",
    "        console.log(out);\n",
    "        var res = null;\n",
    "         // if output is a print statement\n",
    "        if(out_type == \"stream\"){\n",
    "            res = out.data;\n",
    "        }\n",
    "        // if output is a python object\n",
    "        else if(out_type === \"pyout\"){\n",
    "            res = out.data[\"text/plain\"];\n",
    "        }\n",
    "        // if output is a python error\n",
    "        else if(out_type == \"pyerr\"){\n",
    "            res = out.ename + \": \" + out.evalue;\n",
    "        }\n",
    "        // if output is something we haven't thought of\n",
    "        else{\n",
    "            res = \"[out type not implemented]\";   \n",
    "        }\n",
    "        document.getElementById(\"result_output\").value = res;\n",
    "    }\n",
    "    \n",
    "    function exec_code(){\n",
    "        var code_input = document.getElementById('code_input').value;\n",
    "        var kernel = IPython.notebook.kernel;\n",
    "        var callbacks = {'output' : handle_output};\n",
    "        document.getElementById(\"result_output\").value = \"\";  // clear output box\n",
    "        var msg_id = kernel.execute(code_input, callbacks, {silent:false});\n",
    "        console.log(\"button pressed\");\n",
    "    }\n",
    "</script>\n",
    "\"\"\"\n",
    "\n",
    "HTML(input_form + javascript)"
   ]
  },
  {
   "cell_type": "code",
   "execution_count": 9,
   "metadata": {
    "collapsed": false
   },
   "outputs": [
    {
     "ename": "ImportError",
     "evalue": "No module named pyh",
     "output_type": "error",
     "traceback": [
      "\u001b[1;31m---------------------------------------------------------------------------\u001b[0m",
      "\u001b[1;31mImportError\u001b[0m                               Traceback (most recent call last)",
      "\u001b[1;32m<ipython-input-9-27ac0f210586>\u001b[0m in \u001b[0;36m<module>\u001b[1;34m()\u001b[0m\n\u001b[1;32m----> 1\u001b[1;33m \u001b[1;32mfrom\u001b[0m \u001b[0mpyh\u001b[0m \u001b[1;32mimport\u001b[0m \u001b[1;33m*\u001b[0m\u001b[1;33m\u001b[0m\u001b[0m\n\u001b[0m\u001b[0;32m      2\u001b[0m \u001b[0mpage\u001b[0m \u001b[1;33m=\u001b[0m \u001b[0mPyH\u001b[0m\u001b[1;33m(\u001b[0m\u001b[1;34m'My wonderful PyH page'\u001b[0m\u001b[1;33m)\u001b[0m\u001b[1;33m\u001b[0m\u001b[0m\n\u001b[0;32m      3\u001b[0m \u001b[0mpage\u001b[0m\u001b[1;33m.\u001b[0m\u001b[0maddCSS\u001b[0m\u001b[1;33m(\u001b[0m\u001b[1;34m'myStylesheet1.css'\u001b[0m\u001b[1;33m,\u001b[0m \u001b[1;34m'myStylesheet2.css'\u001b[0m\u001b[1;33m)\u001b[0m\u001b[1;33m\u001b[0m\u001b[0m\n\u001b[0;32m      4\u001b[0m \u001b[0mpage\u001b[0m\u001b[1;33m.\u001b[0m\u001b[0maddJS\u001b[0m\u001b[1;33m(\u001b[0m\u001b[1;34m'myJavascript1.js'\u001b[0m\u001b[1;33m,\u001b[0m \u001b[1;34m'myJavascript2.js'\u001b[0m\u001b[1;33m)\u001b[0m\u001b[1;33m\u001b[0m\u001b[0m\n\u001b[0;32m      5\u001b[0m \u001b[0mpage\u001b[0m \u001b[1;33m<<\u001b[0m \u001b[0mh1\u001b[0m\u001b[1;33m(\u001b[0m\u001b[1;34m'My big title'\u001b[0m\u001b[1;33m,\u001b[0m \u001b[0mcl\u001b[0m\u001b[1;33m=\u001b[0m\u001b[1;34m'center'\u001b[0m\u001b[1;33m)\u001b[0m\u001b[1;33m\u001b[0m\u001b[0m\n",
      "\u001b[1;31mImportError\u001b[0m: No module named pyh"
     ]
    }
   ],
   "source": [
    "from pyh import *\n",
    "page = PyH('My wonderful PyH page')\n",
    "page.addCSS('myStylesheet1.css', 'myStylesheet2.css')\n",
    "page.addJS('myJavascript1.js', 'myJavascript2.js')\n",
    "page << h1('My big title', cl='center')\n",
    "page << div(cl='myCSSclass1 myCSSclass2', id='myDiv1') << p('I love PyH!', id='myP1')\n",
    "mydiv2 = page << div(id='myDiv2')\n",
    "mydiv2 << h2('A smaller title') + p('Followed by a paragraph.')\n",
    "page << div(id='myDiv3')\n",
    "page.myDiv3.attributes['cl'] = 'myCSSclass3'\n",
    "page.myDiv3 << p('Another paragraph')\n",
    "page.printOut()"
   ]
  },
  {
   "cell_type": "code",
   "execution_count": 15,
   "metadata": {
    "collapsed": false
   },
   "outputs": [
    {
     "name": "stdout",
     "output_type": "stream",
     "text": [
      "Creating ~/.bokeh directory\n",
      "Creating C:\\Users\\u6025397/.bokeh\\data directory\n",
      "Using data directory: C:\\Users\\u6025397/.bokeh\\data\n"
     ]
    },
    {
     "ename": "URLError",
     "evalue": "<urlopen error [Errno 10060] A connection attempt failed because the connected party did not properly respond after a period of time, or established connection failed because connected host has failed to respond>",
     "output_type": "error",
     "traceback": [
      "\u001b[1;31m---------------------------------------------------------------------------\u001b[0m",
      "\u001b[1;31mURLError\u001b[0m                                  Traceback (most recent call last)",
      "\u001b[1;32m<ipython-input-15-88f4a0e1f68e>\u001b[0m in \u001b[0;36m<module>\u001b[1;34m()\u001b[0m\n\u001b[0;32m      1\u001b[0m \u001b[1;32mimport\u001b[0m \u001b[0mbokeh\u001b[0m\u001b[1;33m\u001b[0m\u001b[0m\n\u001b[1;32m----> 2\u001b[1;33m \u001b[0mbokeh\u001b[0m\u001b[1;33m.\u001b[0m\u001b[0msampledata\u001b[0m\u001b[1;33m.\u001b[0m\u001b[0mdownload\u001b[0m\u001b[1;33m(\u001b[0m\u001b[1;33m)\u001b[0m\u001b[1;33m\u001b[0m\u001b[0m\n\u001b[0m",
      "\u001b[1;32mK:\\Anaconda\\lib\\site-packages\\bokeh\\sampledata\\__init__.pyc\u001b[0m in \u001b[0;36mdownload\u001b[1;34m(progress)\u001b[0m\n\u001b[0;32m     70\u001b[0m \u001b[1;33m\u001b[0m\u001b[0m\n\u001b[0;32m     71\u001b[0m     \u001b[1;32mfor\u001b[0m \u001b[0mbase_url\u001b[0m\u001b[1;33m,\u001b[0m \u001b[0mfile_name\u001b[0m \u001b[1;32min\u001b[0m \u001b[0mfiles\u001b[0m\u001b[1;33m:\u001b[0m\u001b[1;33m\u001b[0m\u001b[0m\n\u001b[1;32m---> 72\u001b[1;33m         \u001b[0m_getfile\u001b[0m\u001b[1;33m(\u001b[0m\u001b[0mbase_url\u001b[0m\u001b[1;33m,\u001b[0m \u001b[0mfile_name\u001b[0m\u001b[1;33m,\u001b[0m \u001b[0mdata_dir\u001b[0m\u001b[1;33m,\u001b[0m \u001b[0mprogress\u001b[0m\u001b[1;33m=\u001b[0m\u001b[0mprogress\u001b[0m\u001b[1;33m)\u001b[0m\u001b[1;33m\u001b[0m\u001b[0m\n\u001b[0m\u001b[0;32m     73\u001b[0m \u001b[1;33m\u001b[0m\u001b[0m\n\u001b[0;32m     74\u001b[0m \u001b[1;32mdef\u001b[0m \u001b[0m_getfile\u001b[0m\u001b[1;33m(\u001b[0m\u001b[0mbase_url\u001b[0m\u001b[1;33m,\u001b[0m \u001b[0mfile_name\u001b[0m\u001b[1;33m,\u001b[0m \u001b[0mdata_dir\u001b[0m\u001b[1;33m,\u001b[0m \u001b[0mprogress\u001b[0m\u001b[1;33m=\u001b[0m\u001b[0mTrue\u001b[0m\u001b[1;33m)\u001b[0m\u001b[1;33m:\u001b[0m\u001b[1;33m\u001b[0m\u001b[0m\n",
      "\u001b[1;32mK:\\Anaconda\\lib\\site-packages\\bokeh\\sampledata\\__init__.pyc\u001b[0m in \u001b[0;36m_getfile\u001b[1;34m(base_url, file_name, data_dir, progress)\u001b[0m\n\u001b[0;32m     76\u001b[0m     \u001b[0mfile_path\u001b[0m \u001b[1;33m=\u001b[0m \u001b[0mjoin\u001b[0m\u001b[1;33m(\u001b[0m\u001b[0mdata_dir\u001b[0m\u001b[1;33m,\u001b[0m \u001b[0mfile_name\u001b[0m\u001b[1;33m)\u001b[0m\u001b[1;33m\u001b[0m\u001b[0m\n\u001b[0;32m     77\u001b[0m \u001b[1;33m\u001b[0m\u001b[0m\n\u001b[1;32m---> 78\u001b[1;33m     \u001b[0murl\u001b[0m \u001b[1;33m=\u001b[0m \u001b[0murlopen\u001b[0m\u001b[1;33m(\u001b[0m\u001b[0mfile_url\u001b[0m\u001b[1;33m)\u001b[0m\u001b[1;33m\u001b[0m\u001b[0m\n\u001b[0m\u001b[0;32m     79\u001b[0m \u001b[1;33m\u001b[0m\u001b[0m\n\u001b[0;32m     80\u001b[0m     \u001b[1;32mwith\u001b[0m \u001b[0mopen\u001b[0m\u001b[1;33m(\u001b[0m\u001b[0mfile_path\u001b[0m\u001b[1;33m,\u001b[0m \u001b[1;34m'wb'\u001b[0m\u001b[1;33m)\u001b[0m \u001b[1;32mas\u001b[0m \u001b[0mfile\u001b[0m\u001b[1;33m:\u001b[0m\u001b[1;33m\u001b[0m\u001b[0m\n",
      "\u001b[1;32mK:\\Anaconda\\lib\\urllib2.pyc\u001b[0m in \u001b[0;36murlopen\u001b[1;34m(url, data, timeout, cafile, capath, cadefault, context)\u001b[0m\n\u001b[0;32m    152\u001b[0m     \u001b[1;32melse\u001b[0m\u001b[1;33m:\u001b[0m\u001b[1;33m\u001b[0m\u001b[0m\n\u001b[0;32m    153\u001b[0m         \u001b[0mopener\u001b[0m \u001b[1;33m=\u001b[0m \u001b[0m_opener\u001b[0m\u001b[1;33m\u001b[0m\u001b[0m\n\u001b[1;32m--> 154\u001b[1;33m     \u001b[1;32mreturn\u001b[0m \u001b[0mopener\u001b[0m\u001b[1;33m.\u001b[0m\u001b[0mopen\u001b[0m\u001b[1;33m(\u001b[0m\u001b[0murl\u001b[0m\u001b[1;33m,\u001b[0m \u001b[0mdata\u001b[0m\u001b[1;33m,\u001b[0m \u001b[0mtimeout\u001b[0m\u001b[1;33m)\u001b[0m\u001b[1;33m\u001b[0m\u001b[0m\n\u001b[0m\u001b[0;32m    155\u001b[0m \u001b[1;33m\u001b[0m\u001b[0m\n\u001b[0;32m    156\u001b[0m \u001b[1;32mdef\u001b[0m \u001b[0minstall_opener\u001b[0m\u001b[1;33m(\u001b[0m\u001b[0mopener\u001b[0m\u001b[1;33m)\u001b[0m\u001b[1;33m:\u001b[0m\u001b[1;33m\u001b[0m\u001b[0m\n",
      "\u001b[1;32mK:\\Anaconda\\lib\\urllib2.pyc\u001b[0m in \u001b[0;36mopen\u001b[1;34m(self, fullurl, data, timeout)\u001b[0m\n\u001b[0;32m    429\u001b[0m             \u001b[0mreq\u001b[0m \u001b[1;33m=\u001b[0m \u001b[0mmeth\u001b[0m\u001b[1;33m(\u001b[0m\u001b[0mreq\u001b[0m\u001b[1;33m)\u001b[0m\u001b[1;33m\u001b[0m\u001b[0m\n\u001b[0;32m    430\u001b[0m \u001b[1;33m\u001b[0m\u001b[0m\n\u001b[1;32m--> 431\u001b[1;33m         \u001b[0mresponse\u001b[0m \u001b[1;33m=\u001b[0m \u001b[0mself\u001b[0m\u001b[1;33m.\u001b[0m\u001b[0m_open\u001b[0m\u001b[1;33m(\u001b[0m\u001b[0mreq\u001b[0m\u001b[1;33m,\u001b[0m \u001b[0mdata\u001b[0m\u001b[1;33m)\u001b[0m\u001b[1;33m\u001b[0m\u001b[0m\n\u001b[0m\u001b[0;32m    432\u001b[0m \u001b[1;33m\u001b[0m\u001b[0m\n\u001b[0;32m    433\u001b[0m         \u001b[1;31m# post-process response\u001b[0m\u001b[1;33m\u001b[0m\u001b[1;33m\u001b[0m\u001b[0m\n",
      "\u001b[1;32mK:\\Anaconda\\lib\\urllib2.pyc\u001b[0m in \u001b[0;36m_open\u001b[1;34m(self, req, data)\u001b[0m\n\u001b[0;32m    447\u001b[0m         \u001b[0mprotocol\u001b[0m \u001b[1;33m=\u001b[0m \u001b[0mreq\u001b[0m\u001b[1;33m.\u001b[0m\u001b[0mget_type\u001b[0m\u001b[1;33m(\u001b[0m\u001b[1;33m)\u001b[0m\u001b[1;33m\u001b[0m\u001b[0m\n\u001b[0;32m    448\u001b[0m         result = self._call_chain(self.handle_open, protocol, protocol +\n\u001b[1;32m--> 449\u001b[1;33m                                   '_open', req)\n\u001b[0m\u001b[0;32m    450\u001b[0m         \u001b[1;32mif\u001b[0m \u001b[0mresult\u001b[0m\u001b[1;33m:\u001b[0m\u001b[1;33m\u001b[0m\u001b[0m\n\u001b[0;32m    451\u001b[0m             \u001b[1;32mreturn\u001b[0m \u001b[0mresult\u001b[0m\u001b[1;33m\u001b[0m\u001b[0m\n",
      "\u001b[1;32mK:\\Anaconda\\lib\\urllib2.pyc\u001b[0m in \u001b[0;36m_call_chain\u001b[1;34m(self, chain, kind, meth_name, *args)\u001b[0m\n\u001b[0;32m    407\u001b[0m             \u001b[0mfunc\u001b[0m \u001b[1;33m=\u001b[0m \u001b[0mgetattr\u001b[0m\u001b[1;33m(\u001b[0m\u001b[0mhandler\u001b[0m\u001b[1;33m,\u001b[0m \u001b[0mmeth_name\u001b[0m\u001b[1;33m)\u001b[0m\u001b[1;33m\u001b[0m\u001b[0m\n\u001b[0;32m    408\u001b[0m \u001b[1;33m\u001b[0m\u001b[0m\n\u001b[1;32m--> 409\u001b[1;33m             \u001b[0mresult\u001b[0m \u001b[1;33m=\u001b[0m \u001b[0mfunc\u001b[0m\u001b[1;33m(\u001b[0m\u001b[1;33m*\u001b[0m\u001b[0margs\u001b[0m\u001b[1;33m)\u001b[0m\u001b[1;33m\u001b[0m\u001b[0m\n\u001b[0m\u001b[0;32m    410\u001b[0m             \u001b[1;32mif\u001b[0m \u001b[0mresult\u001b[0m \u001b[1;32mis\u001b[0m \u001b[1;32mnot\u001b[0m \u001b[0mNone\u001b[0m\u001b[1;33m:\u001b[0m\u001b[1;33m\u001b[0m\u001b[0m\n\u001b[0;32m    411\u001b[0m                 \u001b[1;32mreturn\u001b[0m \u001b[0mresult\u001b[0m\u001b[1;33m\u001b[0m\u001b[0m\n",
      "\u001b[1;32mK:\\Anaconda\\lib\\urllib2.pyc\u001b[0m in \u001b[0;36mhttps_open\u001b[1;34m(self, req)\u001b[0m\n\u001b[0;32m   1238\u001b[0m         \u001b[1;32mdef\u001b[0m \u001b[0mhttps_open\u001b[0m\u001b[1;33m(\u001b[0m\u001b[0mself\u001b[0m\u001b[1;33m,\u001b[0m \u001b[0mreq\u001b[0m\u001b[1;33m)\u001b[0m\u001b[1;33m:\u001b[0m\u001b[1;33m\u001b[0m\u001b[0m\n\u001b[0;32m   1239\u001b[0m             return self.do_open(httplib.HTTPSConnection, req,\n\u001b[1;32m-> 1240\u001b[1;33m                 context=self._context)\n\u001b[0m\u001b[0;32m   1241\u001b[0m \u001b[1;33m\u001b[0m\u001b[0m\n\u001b[0;32m   1242\u001b[0m         \u001b[0mhttps_request\u001b[0m \u001b[1;33m=\u001b[0m \u001b[0mAbstractHTTPHandler\u001b[0m\u001b[1;33m.\u001b[0m\u001b[0mdo_request_\u001b[0m\u001b[1;33m\u001b[0m\u001b[0m\n",
      "\u001b[1;32mK:\\Anaconda\\lib\\urllib2.pyc\u001b[0m in \u001b[0;36mdo_open\u001b[1;34m(self, http_class, req, **http_conn_args)\u001b[0m\n\u001b[0;32m   1195\u001b[0m         \u001b[1;32mexcept\u001b[0m \u001b[0msocket\u001b[0m\u001b[1;33m.\u001b[0m\u001b[0merror\u001b[0m\u001b[1;33m,\u001b[0m \u001b[0merr\u001b[0m\u001b[1;33m:\u001b[0m \u001b[1;31m# XXX what error?\u001b[0m\u001b[1;33m\u001b[0m\u001b[0m\n\u001b[0;32m   1196\u001b[0m             \u001b[0mh\u001b[0m\u001b[1;33m.\u001b[0m\u001b[0mclose\u001b[0m\u001b[1;33m(\u001b[0m\u001b[1;33m)\u001b[0m\u001b[1;33m\u001b[0m\u001b[0m\n\u001b[1;32m-> 1197\u001b[1;33m             \u001b[1;32mraise\u001b[0m \u001b[0mURLError\u001b[0m\u001b[1;33m(\u001b[0m\u001b[0merr\u001b[0m\u001b[1;33m)\u001b[0m\u001b[1;33m\u001b[0m\u001b[0m\n\u001b[0m\u001b[0;32m   1198\u001b[0m         \u001b[1;32melse\u001b[0m\u001b[1;33m:\u001b[0m\u001b[1;33m\u001b[0m\u001b[0m\n\u001b[0;32m   1199\u001b[0m             \u001b[1;32mtry\u001b[0m\u001b[1;33m:\u001b[0m\u001b[1;33m\u001b[0m\u001b[0m\n",
      "\u001b[1;31mURLError\u001b[0m: <urlopen error [Errno 10060] A connection attempt failed because the connected party did not properly respond after a period of time, or established connection failed because connected host has failed to respond>"
     ]
    }
   ],
   "source": [
    "import bokeh\n",
    "bokeh.sampledata.download()"
   ]
  },
  {
   "cell_type": "code",
   "execution_count": 13,
   "metadata": {
    "collapsed": false
   },
   "outputs": [
    {
     "ename": "RuntimeError",
     "evalue": "bokeh sample data directory does not exist, please execute bokeh.sampledata.download()",
     "output_type": "error",
     "traceback": [
      "\u001b[1;31m---------------------------------------------------------------------------\u001b[0m",
      "\u001b[1;31mRuntimeError\u001b[0m                              Traceback (most recent call last)",
      "\u001b[1;32m<ipython-input-13-1320c495c012>\u001b[0m in \u001b[0;36m<module>\u001b[1;34m()\u001b[0m\n\u001b[0;32m      3\u001b[0m \u001b[1;31m#from bokeh import gridplot\u001b[0m\u001b[1;33m\u001b[0m\u001b[1;33m\u001b[0m\u001b[0m\n\u001b[0;32m      4\u001b[0m \u001b[1;32mfrom\u001b[0m \u001b[0mbokeh\u001b[0m\u001b[1;33m.\u001b[0m\u001b[0mplotting\u001b[0m \u001b[1;32mimport\u001b[0m \u001b[0mfigure\u001b[0m\u001b[1;33m,\u001b[0m \u001b[0mshow\u001b[0m\u001b[1;33m,\u001b[0m \u001b[0moutput_file\u001b[0m\u001b[1;33m\u001b[0m\u001b[0m\n\u001b[1;32m----> 5\u001b[1;33m \u001b[1;32mfrom\u001b[0m \u001b[0mbokeh\u001b[0m\u001b[1;33m.\u001b[0m\u001b[0msampledata\u001b[0m\u001b[1;33m.\u001b[0m\u001b[0mstocks\u001b[0m \u001b[1;32mimport\u001b[0m \u001b[0mAAPL\u001b[0m\u001b[1;33m,\u001b[0m \u001b[0mGOOG\u001b[0m\u001b[1;33m,\u001b[0m \u001b[0mIBM\u001b[0m\u001b[1;33m,\u001b[0m \u001b[0mMSFT\u001b[0m\u001b[1;33m\u001b[0m\u001b[0m\n\u001b[0m\u001b[0;32m      6\u001b[0m \u001b[0mbokeh\u001b[0m\u001b[1;33m.\u001b[0m\u001b[0msampledata\u001b[0m\u001b[1;33m.\u001b[0m\u001b[0mdownload\u001b[0m\u001b[1;33m(\u001b[0m\u001b[1;33m)\u001b[0m\u001b[1;33m\u001b[0m\u001b[0m\n\u001b[0;32m      7\u001b[0m \u001b[1;33m\u001b[0m\u001b[0m\n",
      "\u001b[1;32mK:\\Anaconda\\lib\\site-packages\\bokeh\\sampledata\\stocks.py\u001b[0m in \u001b[0;36m<module>\u001b[1;34m()\u001b[0m\n\u001b[0;32m     44\u001b[0m     \u001b[1;32mreturn\u001b[0m \u001b[0mdata\u001b[0m\u001b[1;33m\u001b[0m\u001b[0m\n\u001b[0;32m     45\u001b[0m \u001b[1;33m\u001b[0m\u001b[0m\n\u001b[1;32m---> 46\u001b[1;33m \u001b[0mdata_dir\u001b[0m \u001b[1;33m=\u001b[0m \u001b[0m_data_dir\u001b[0m\u001b[1;33m(\u001b[0m\u001b[1;33m)\u001b[0m\u001b[1;33m\u001b[0m\u001b[0m\n\u001b[0m\u001b[0;32m     47\u001b[0m \u001b[1;33m\u001b[0m\u001b[0m\n\u001b[0;32m     48\u001b[0m stocks = [\n",
      "\u001b[1;32mK:\\Anaconda\\lib\\site-packages\\bokeh\\sampledata\\__init__.pyc\u001b[0m in \u001b[0;36m_data_dir\u001b[1;34m(file_name, create)\u001b[0m\n\u001b[0;32m     35\u001b[0m     \u001b[1;32mif\u001b[0m \u001b[1;32mnot\u001b[0m \u001b[0mexists\u001b[0m\u001b[1;33m(\u001b[0m\u001b[0mdata_dir\u001b[0m\u001b[1;33m)\u001b[0m\u001b[1;33m:\u001b[0m\u001b[1;33m\u001b[0m\u001b[0m\n\u001b[0;32m     36\u001b[0m         \u001b[1;32mif\u001b[0m \u001b[1;32mnot\u001b[0m \u001b[0mcreate\u001b[0m\u001b[1;33m:\u001b[0m\u001b[1;33m\u001b[0m\u001b[0m\n\u001b[1;32m---> 37\u001b[1;33m             \u001b[1;32mraise\u001b[0m \u001b[0mRuntimeError\u001b[0m\u001b[1;33m(\u001b[0m\u001b[1;34m'bokeh sample data directory does not exist, please execute bokeh.sampledata.download()'\u001b[0m\u001b[1;33m)\u001b[0m\u001b[1;33m\u001b[0m\u001b[0m\n\u001b[0m\u001b[0;32m     38\u001b[0m         \u001b[1;32mprint\u001b[0m\u001b[1;33m(\u001b[0m\u001b[1;34m\"Creating %s directory\"\u001b[0m \u001b[1;33m%\u001b[0m \u001b[0mdata_dir\u001b[0m\u001b[1;33m)\u001b[0m\u001b[1;33m\u001b[0m\u001b[0m\n\u001b[0;32m     39\u001b[0m         \u001b[1;32mtry\u001b[0m\u001b[1;33m:\u001b[0m\u001b[1;33m\u001b[0m\u001b[0m\n",
      "\u001b[1;31mRuntimeError\u001b[0m: bokeh sample data directory does not exist, please execute bokeh.sampledata.download()"
     ]
    }
   ],
   "source": [
    "import numpy as np\n",
    "\n",
    "#from bokeh import gridplot\n",
    "from bokeh.plotting import figure, show, output_file\n",
    "from bokeh.sampledata.stocks import AAPL, GOOG, IBM, MSFT\n",
    "\n",
    "\n",
    "def datetime(x):\n",
    "    return np.array(x, dtype=np.datetime64)\n",
    "\n",
    "p1 = figure(x_axis_type=\"datetime\", title=\"Stock Closing Prices\")\n",
    "#p1.grid.grid_line_alpha=0.3\n",
    "p1.xaxis.axis_label = 'Date'\n",
    "p1.yaxis.axis_label = 'Price'\n",
    "\n",
    "p1.line(datetime(AAPL['date']), AAPL['adj_close'], color='#A6CEE3', legend='AAPL')\n",
    "p1.line(datetime(GOOG['date']), GOOG['adj_close'], color='#B2DF8A', legend='GOOG')\n",
    "p1.line(datetime(IBM['date']), IBM['adj_close'], color='#33A02C', legend='IBM')\n",
    "p1.line(datetime(MSFT['date']), MSFT['adj_close'], color='#FB9A99', legend='MSFT')\n",
    "p1.legend.location = \"top_left\"\n",
    "\n",
    "aapl = np.array(AAPL['adj_close'])\n",
    "aapl_dates = np.array(AAPL['date'], dtype=np.datetime64)\n",
    "\n",
    "window_size = 30\n",
    "window = np.ones(window_size)/float(window_size)\n",
    "aapl_avg = np.convolve(aapl, window, 'same')\n",
    "\n",
    "p2 = figure(x_axis_type=\"datetime\", title=\"AAPL One-Month Average\")\n",
    "p2.grid.grid_line_alpha = 0\n",
    "p2.xaxis.axis_label = 'Date'\n",
    "p2.yaxis.axis_label = 'Price'\n",
    "p2.ygrid.band_fill_color = \"olive\"\n",
    "p2.ygrid.band_fill_alpha = 0.1\n",
    "\n",
    "p2.circle(aapl_dates, aapl, size=4, legend='close',\n",
    "          color='darkgrey', alpha=0.2)\n",
    "\n",
    "p2.line(aapl_dates, aapl_avg, legend='avg', color='navy')\n",
    "p2.legend.location = \"top_left\"\n",
    "\n",
    "output_file(\"stocks.html\", title=\"stocks.py example\")\n",
    "\n",
    "show(gridplot([[p1,p2]], plot_width=400, plot_height=400))  # open a browser"
   ]
  }
 ],
 "metadata": {
  "kernelspec": {
   "display_name": "Python 2",
   "language": "python",
   "name": "python2"
  },
  "language_info": {
   "codemirror_mode": {
    "name": "ipython",
    "version": 2
   },
   "file_extension": ".py",
   "mimetype": "text/x-python",
   "name": "python",
   "nbconvert_exporter": "python",
   "pygments_lexer": "ipython2",
   "version": "2.7.10"
  }
 },
 "nbformat": 4,
 "nbformat_minor": 0
}
