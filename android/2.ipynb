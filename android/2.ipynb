{
 "cells": [
  {
   "cell_type": "code",
   "execution_count": 1,
   "metadata": {
    "collapsed": false
   },
   "outputs": [
    {
     "name": "stderr",
     "output_type": "stream",
     "text": [
      "WARNING:urllib3.connectionpool:Retrying (Retry(total=2, connect=None, read=None, redirect=None)) after connection broken by 'NewConnectionError('<urllib3.connection.HTTPConnection object at 0x00000000040BD358>: Failed to establish a new connection: [Errno 10061] No connection could be made because the target machine actively refused it',)': /jsonrpc/0\n",
      "WARNING:urllib3.connectionpool:Retrying (Retry(total=1, connect=None, read=None, redirect=None)) after connection broken by 'NewConnectionError('<urllib3.connection.HTTPConnection object at 0x00000000040BD4E0>: Failed to establish a new connection: [Errno 10061] No connection could be made because the target machine actively refused it',)': /jsonrpc/0\n",
      "WARNING:urllib3.connectionpool:Retrying (Retry(total=0, connect=None, read=None, redirect=None)) after connection broken by 'NewConnectionError('<urllib3.connection.HTTPConnection object at 0x00000000040BD5C0>: Failed to establish a new connection: [Errno 10061] No connection could be made because the target machine actively refused it',)': /jsonrpc/0\n",
      "WARNING:urllib3.connectionpool:Retrying (Retry(total=2, connect=None, read=None, redirect=None)) after connection broken by 'ProtocolError('Connection aborted.', error(10054, 'An existing connection was forcibly closed by the remote host'))': /jsonrpc/0\n",
      "WARNING:urllib3.connectionpool:Retrying (Retry(total=1, connect=None, read=None, redirect=None)) after connection broken by 'ProtocolError('Connection aborted.', error(10054, 'An existing connection was forcibly closed by the remote host'))': /jsonrpc/0\n",
      "WARNING:urllib3.connectionpool:Retrying (Retry(total=0, connect=None, read=None, redirect=None)) after connection broken by 'ProtocolError('Connection aborted.', error(10054, 'An existing connection was forcibly closed by the remote host'))': /jsonrpc/0\n",
      "WARNING:urllib3.connectionpool:Retrying (Retry(total=2, connect=None, read=None, redirect=None)) after connection broken by 'ProtocolError('Connection aborted.', error(10054, 'An existing connection was forcibly closed by the remote host'))': /jsonrpc/0\n",
      "WARNING:urllib3.connectionpool:Retrying (Retry(total=1, connect=None, read=None, redirect=None)) after connection broken by 'ProtocolError('Connection aborted.', error(10054, 'An existing connection was forcibly closed by the remote host'))': /jsonrpc/0\n",
      "WARNING:urllib3.connectionpool:Retrying (Retry(total=0, connect=None, read=None, redirect=None)) after connection broken by 'ProtocolError('Connection aborted.', error(10054, 'An existing connection was forcibly closed by the remote host'))': /jsonrpc/0\n",
      "WARNING:urllib3.connectionpool:Retrying (Retry(total=2, connect=None, read=None, redirect=None)) after connection broken by 'ProtocolError('Connection aborted.', error(10054, 'An existing connection was forcibly closed by the remote host'))': /jsonrpc/0\n",
      "WARNING:urllib3.connectionpool:Retrying (Retry(total=1, connect=None, read=None, redirect=None)) after connection broken by 'ProtocolError('Connection aborted.', error(10054, 'An existing connection was forcibly closed by the remote host'))': /jsonrpc/0\n",
      "WARNING:urllib3.connectionpool:Retrying (Retry(total=0, connect=None, read=None, redirect=None)) after connection broken by 'ProtocolError('Connection aborted.', error(10054, 'An existing connection was forcibly closed by the remote host'))': /jsonrpc/0\n",
      "WARNING:urllib3.connectionpool:Retrying (Retry(total=2, connect=None, read=None, redirect=None)) after connection broken by 'ProtocolError('Connection aborted.', error(10054, 'An existing connection was forcibly closed by the remote host'))': /jsonrpc/0\n",
      "WARNING:urllib3.connectionpool:Retrying (Retry(total=1, connect=None, read=None, redirect=None)) after connection broken by 'ProtocolError('Connection aborted.', error(10054, 'An existing connection was forcibly closed by the remote host'))': /jsonrpc/0\n",
      "WARNING:urllib3.connectionpool:Retrying (Retry(total=0, connect=None, read=None, redirect=None)) after connection broken by 'ProtocolError('Connection aborted.', error(10054, 'An existing connection was forcibly closed by the remote host'))': /jsonrpc/0\n",
      "WARNING:urllib3.connectionpool:Retrying (Retry(total=2, connect=None, read=None, redirect=None)) after connection broken by 'ProtocolError('Connection aborted.', error(10054, 'An existing connection was forcibly closed by the remote host'))': /jsonrpc/0\n",
      "WARNING:urllib3.connectionpool:Retrying (Retry(total=1, connect=None, read=None, redirect=None)) after connection broken by 'ProtocolError('Connection aborted.', error(10054, 'An existing connection was forcibly closed by the remote host'))': /jsonrpc/0\n",
      "WARNING:urllib3.connectionpool:Retrying (Retry(total=0, connect=None, read=None, redirect=None)) after connection broken by 'ProtocolError('Connection aborted.', error(10054, 'An existing connection was forcibly closed by the remote host'))': /jsonrpc/0\n",
      "WARNING:urllib3.connectionpool:Retrying (Retry(total=2, connect=None, read=None, redirect=None)) after connection broken by 'ProtocolError('Connection aborted.', error(10054, 'An existing connection was forcibly closed by the remote host'))': /jsonrpc/0\n",
      "WARNING:urllib3.connectionpool:Retrying (Retry(total=1, connect=None, read=None, redirect=None)) after connection broken by 'ProtocolError('Connection aborted.', error(10054, 'An existing connection was forcibly closed by the remote host'))': /jsonrpc/0\n",
      "WARNING:urllib3.connectionpool:Retrying (Retry(total=0, connect=None, read=None, redirect=None)) after connection broken by 'ProtocolError('Connection aborted.', error(10054, 'An existing connection was forcibly closed by the remote host'))': /jsonrpc/0\n",
      "WARNING:urllib3.connectionpool:Retrying (Retry(total=2, connect=None, read=None, redirect=None)) after connection broken by 'ProtocolError('Connection aborted.', error(10054, 'An existing connection was forcibly closed by the remote host'))': /jsonrpc/0\n",
      "WARNING:urllib3.connectionpool:Retrying (Retry(total=1, connect=None, read=None, redirect=None)) after connection broken by 'ProtocolError('Connection aborted.', error(10054, 'An existing connection was forcibly closed by the remote host'))': /jsonrpc/0\n",
      "WARNING:urllib3.connectionpool:Retrying (Retry(total=0, connect=None, read=None, redirect=None)) after connection broken by 'ProtocolError('Connection aborted.', error(10054, 'An existing connection was forcibly closed by the remote host'))': /jsonrpc/0\n",
      "WARNING:urllib3.connectionpool:Retrying (Retry(total=2, connect=None, read=None, redirect=None)) after connection broken by 'ProtocolError('Connection aborted.', error(10054, 'An existing connection was forcibly closed by the remote host'))': /jsonrpc/0\n",
      "WARNING:urllib3.connectionpool:Retrying (Retry(total=1, connect=None, read=None, redirect=None)) after connection broken by 'ProtocolError('Connection aborted.', error(10054, 'An existing connection was forcibly closed by the remote host'))': /jsonrpc/0\n",
      "WARNING:urllib3.connectionpool:Retrying (Retry(total=0, connect=None, read=None, redirect=None)) after connection broken by 'ProtocolError('Connection aborted.', error(10054, 'An existing connection was forcibly closed by the remote host'))': /jsonrpc/0\n",
      "WARNING:urllib3.connectionpool:Retrying (Retry(total=2, connect=None, read=None, redirect=None)) after connection broken by 'ProtocolError('Connection aborted.', error(10054, 'An existing connection was forcibly closed by the remote host'))': /jsonrpc/0\n",
      "WARNING:urllib3.connectionpool:Retrying (Retry(total=1, connect=None, read=None, redirect=None)) after connection broken by 'ProtocolError('Connection aborted.', error(10054, 'An existing connection was forcibly closed by the remote host'))': /jsonrpc/0\n",
      "WARNING:urllib3.connectionpool:Retrying (Retry(total=0, connect=None, read=None, redirect=None)) after connection broken by 'ProtocolError('Connection aborted.', error(10054, 'An existing connection was forcibly closed by the remote host'))': /jsonrpc/0\n",
      "WARNING:urllib3.connectionpool:Retrying (Retry(total=2, connect=None, read=None, redirect=None)) after connection broken by 'ProtocolError('Connection aborted.', error(10054, 'An existing connection was forcibly closed by the remote host'))': /jsonrpc/0\n",
      "WARNING:urllib3.connectionpool:Retrying (Retry(total=1, connect=None, read=None, redirect=None)) after connection broken by 'ProtocolError('Connection aborted.', error(10054, 'An existing connection was forcibly closed by the remote host'))': /jsonrpc/0\n",
      "WARNING:urllib3.connectionpool:Retrying (Retry(total=0, connect=None, read=None, redirect=None)) after connection broken by 'ProtocolError('Connection aborted.', error(10054, 'An existing connection was forcibly closed by the remote host'))': /jsonrpc/0\n",
      "WARNING:urllib3.connectionpool:Retrying (Retry(total=2, connect=None, read=None, redirect=None)) after connection broken by 'ProtocolError('Connection aborted.', error(10054, 'An existing connection was forcibly closed by the remote host'))': /jsonrpc/0\n",
      "WARNING:urllib3.connectionpool:Retrying (Retry(total=1, connect=None, read=None, redirect=None)) after connection broken by 'ProtocolError('Connection aborted.', error(10054, 'An existing connection was forcibly closed by the remote host'))': /jsonrpc/0\n",
      "WARNING:urllib3.connectionpool:Retrying (Retry(total=0, connect=None, read=None, redirect=None)) after connection broken by 'ProtocolError('Connection aborted.', error(10054, 'An existing connection was forcibly closed by the remote host'))': /jsonrpc/0\n",
      "WARNING:urllib3.connectionpool:Retrying (Retry(total=2, connect=None, read=None, redirect=None)) after connection broken by 'ProtocolError('Connection aborted.', error(10054, 'An existing connection was forcibly closed by the remote host'))': /jsonrpc/0\n",
      "WARNING:urllib3.connectionpool:Retrying (Retry(total=1, connect=None, read=None, redirect=None)) after connection broken by 'ProtocolError('Connection aborted.', error(10054, 'An existing connection was forcibly closed by the remote host'))': /jsonrpc/0\n",
      "WARNING:urllib3.connectionpool:Retrying (Retry(total=0, connect=None, read=None, redirect=None)) after connection broken by 'ProtocolError('Connection aborted.', error(10054, 'An existing connection was forcibly closed by the remote host'))': /jsonrpc/0\n",
      "WARNING:urllib3.connectionpool:Retrying (Retry(total=2, connect=None, read=None, redirect=None)) after connection broken by 'ProtocolError('Connection aborted.', error(10054, 'An existing connection was forcibly closed by the remote host'))': /jsonrpc/0\n",
      "WARNING:urllib3.connectionpool:Retrying (Retry(total=1, connect=None, read=None, redirect=None)) after connection broken by 'ProtocolError('Connection aborted.', error(10054, 'An existing connection was forcibly closed by the remote host'))': /jsonrpc/0\n",
      "WARNING:urllib3.connectionpool:Retrying (Retry(total=0, connect=None, read=None, redirect=None)) after connection broken by 'ProtocolError('Connection aborted.', error(10054, 'An existing connection was forcibly closed by the remote host'))': /jsonrpc/0\n",
      "WARNING:urllib3.connectionpool:Retrying (Retry(total=2, connect=None, read=None, redirect=None)) after connection broken by 'ProtocolError('Connection aborted.', error(10054, 'An existing connection was forcibly closed by the remote host'))': /jsonrpc/0\n",
      "WARNING:urllib3.connectionpool:Retrying (Retry(total=1, connect=None, read=None, redirect=None)) after connection broken by 'ProtocolError('Connection aborted.', error(10054, 'An existing connection was forcibly closed by the remote host'))': /jsonrpc/0\n",
      "WARNING:urllib3.connectionpool:Retrying (Retry(total=0, connect=None, read=None, redirect=None)) after connection broken by 'ProtocolError('Connection aborted.', error(10054, 'An existing connection was forcibly closed by the remote host'))': /jsonrpc/0\n",
      "WARNING:urllib3.connectionpool:Retrying (Retry(total=2, connect=None, read=None, redirect=None)) after connection broken by 'ProtocolError('Connection aborted.', error(10054, 'An existing connection was forcibly closed by the remote host'))': /jsonrpc/0\n",
      "WARNING:urllib3.connectionpool:Retrying (Retry(total=1, connect=None, read=None, redirect=None)) after connection broken by 'ProtocolError('Connection aborted.', error(10054, 'An existing connection was forcibly closed by the remote host'))': /jsonrpc/0\n",
      "WARNING:urllib3.connectionpool:Retrying (Retry(total=0, connect=None, read=None, redirect=None)) after connection broken by 'ProtocolError('Connection aborted.', error(10054, 'An existing connection was forcibly closed by the remote host'))': /jsonrpc/0\n",
      "WARNING:urllib3.connectionpool:Retrying (Retry(total=2, connect=None, read=None, redirect=None)) after connection broken by 'ProtocolError('Connection aborted.', error(10054, 'An existing connection was forcibly closed by the remote host'))': /jsonrpc/0\n",
      "WARNING:urllib3.connectionpool:Retrying (Retry(total=1, connect=None, read=None, redirect=None)) after connection broken by 'ProtocolError('Connection aborted.', error(10054, 'An existing connection was forcibly closed by the remote host'))': /jsonrpc/0\n",
      "WARNING:urllib3.connectionpool:Retrying (Retry(total=0, connect=None, read=None, redirect=None)) after connection broken by 'ProtocolError('Connection aborted.', error(10054, 'An existing connection was forcibly closed by the remote host'))': /jsonrpc/0\n",
      "WARNING:urllib3.connectionpool:Retrying (Retry(total=2, connect=None, read=None, redirect=None)) after connection broken by 'ProtocolError('Connection aborted.', error(10054, 'An existing connection was forcibly closed by the remote host'))': /jsonrpc/0\n",
      "WARNING:urllib3.connectionpool:Retrying (Retry(total=1, connect=None, read=None, redirect=None)) after connection broken by 'ProtocolError('Connection aborted.', error(10054, 'An existing connection was forcibly closed by the remote host'))': /jsonrpc/0\n",
      "WARNING:urllib3.connectionpool:Retrying (Retry(total=0, connect=None, read=None, redirect=None)) after connection broken by 'ProtocolError('Connection aborted.', error(10054, 'An existing connection was forcibly closed by the remote host'))': /jsonrpc/0\n",
      "WARNING:urllib3.connectionpool:Retrying (Retry(total=2, connect=None, read=None, redirect=None)) after connection broken by 'ProtocolError('Connection aborted.', error(10054, 'An existing connection was forcibly closed by the remote host'))': /jsonrpc/0\n",
      "WARNING:urllib3.connectionpool:Retrying (Retry(total=1, connect=None, read=None, redirect=None)) after connection broken by 'ProtocolError('Connection aborted.', error(10054, 'An existing connection was forcibly closed by the remote host'))': /jsonrpc/0\n",
      "WARNING:urllib3.connectionpool:Retrying (Retry(total=0, connect=None, read=None, redirect=None)) after connection broken by 'ProtocolError('Connection aborted.', error(10054, 'An existing connection was forcibly closed by the remote host'))': /jsonrpc/0\n",
      "WARNING:urllib3.connectionpool:Retrying (Retry(total=2, connect=None, read=None, redirect=None)) after connection broken by 'ProtocolError('Connection aborted.', error(10054, 'An existing connection was forcibly closed by the remote host'))': /jsonrpc/0\n",
      "WARNING:urllib3.connectionpool:Retrying (Retry(total=1, connect=None, read=None, redirect=None)) after connection broken by 'ProtocolError('Connection aborted.', error(10054, 'An existing connection was forcibly closed by the remote host'))': /jsonrpc/0\n",
      "WARNING:urllib3.connectionpool:Retrying (Retry(total=0, connect=None, read=None, redirect=None)) after connection broken by 'ProtocolError('Connection aborted.', error(10054, 'An existing connection was forcibly closed by the remote host'))': /jsonrpc/0\n",
      "WARNING:urllib3.connectionpool:Retrying (Retry(total=2, connect=None, read=None, redirect=None)) after connection broken by 'ProtocolError('Connection aborted.', error(10054, 'An existing connection was forcibly closed by the remote host'))': /jsonrpc/0\n",
      "WARNING:urllib3.connectionpool:Retrying (Retry(total=1, connect=None, read=None, redirect=None)) after connection broken by 'ProtocolError('Connection aborted.', error(10054, 'An existing connection was forcibly closed by the remote host'))': /jsonrpc/0\n",
      "WARNING:urllib3.connectionpool:Retrying (Retry(total=0, connect=None, read=None, redirect=None)) after connection broken by 'ProtocolError('Connection aborted.', error(10054, 'An existing connection was forcibly closed by the remote host'))': /jsonrpc/0\n"
     ]
    },
    {
     "data": {
      "text/plain": [
       "{u'currentPackageName': u'com.tencent.weread',\n",
       " u'displayHeight': 1776,\n",
       " u'displayRotation': 0,\n",
       " u'displaySizeDpX': 360,\n",
       " u'displaySizeDpY': 640,\n",
       " u'displayWidth': 1080,\n",
       " u'naturalOrientation': True,\n",
       " u'productName': u'sdk_google_phone_x86_64',\n",
       " u'screenOn': True,\n",
       " u'sdkInt': 25}"
      ]
     },
     "execution_count": 1,
     "metadata": {},
     "output_type": "execute_result"
    }
   ],
   "source": [
    "from uiautomator import device as d\n",
    "from uiautomator import Device\n",
    "d = Device('emulator-5556')\n",
    "#d = Device('Q505T')\n",
    "d.info"
   ]
  },
  {
   "cell_type": "code",
   "execution_count": null,
   "metadata": {
    "collapsed": true
   },
   "outputs": [],
   "source": [
    "#d.screen.on()\n",
    "import time\n",
    "import random\n",
    "mins = 120\n",
    "hours = 6\n",
    "for i in range(mins * hours):\n",
    "    d().swipe.left(steps=10)\n",
    "    time.sleep(30 + 10 * random.random())"
   ]
  }
 ],
 "metadata": {
  "kernelspec": {
   "display_name": "Python 2",
   "language": "python",
   "name": "python2"
  },
  "language_info": {
   "codemirror_mode": {
    "name": "ipython",
    "version": 2
   },
   "file_extension": ".py",
   "mimetype": "text/x-python",
   "name": "python",
   "nbconvert_exporter": "python",
   "pygments_lexer": "ipython2",
   "version": "2.7.10"
  }
 },
 "nbformat": 4,
 "nbformat_minor": 0
}
