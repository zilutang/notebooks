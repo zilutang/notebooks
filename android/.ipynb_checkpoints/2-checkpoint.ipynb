{
 "cells": [
  {
   "cell_type": "code",
   "execution_count": null,
   "metadata": {
    "collapsed": true
   },
   "outputs": [],
   "source": [
    "from uiautomator import device as d\n",
    "from uiautomator import Device\n",
    "d = Device('emulator-5556')\n",
    "#d = Device('Q505T')\n",
    "d.info"
   ]
  },
  {
   "cell_type": "code",
   "execution_count": null,
   "metadata": {
    "collapsed": true
   },
   "outputs": [],
   "source": [
    "#d.screen.on()\n",
    "import time\n",
    "import random\n",
    "mins = 120\n",
    "hours = 6\n",
    "for i in range(mins * hours):\n",
    "    d().swipe.left(steps=10)\n",
    "    time.sleep(30 + 10 * random.random())"
   ]
  }
 ],
 "metadata": {
  "kernelspec": {
   "display_name": "Python 2",
   "language": "python",
   "name": "python2"
  },
  "language_info": {
   "codemirror_mode": {
    "name": "ipython",
    "version": 2
   },
   "file_extension": ".py",
   "mimetype": "text/x-python",
   "name": "python",
   "nbconvert_exporter": "python",
   "pygments_lexer": "ipython2",
   "version": "2.7.10"
  }
 },
 "nbformat": 4,
 "nbformat_minor": 0
}
