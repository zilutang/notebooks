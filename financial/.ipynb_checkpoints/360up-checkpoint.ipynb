{
 "cells": [
  {
   "cell_type": "code",
   "execution_count": 2,
   "metadata": {
    "collapsed": true
   },
   "outputs": [],
   "source": [
    "import pandas as pd\n",
    "import numpy as np"
   ]
  },
  {
   "cell_type": "code",
   "execution_count": 10,
   "metadata": {
    "collapsed": true
   },
   "outputs": [],
   "source": [
    "import seaborn as sns\n",
    "%matplotlib inline"
   ]
  },
  {
   "cell_type": "code",
   "execution_count": 78,
   "metadata": {
    "collapsed": false
   },
   "outputs": [
    {
     "name": "stdout",
     "output_type": "stream",
     "text": [
      "   l20    rate     up\n",
      "0   19   7.277  5.771\n",
      "1   13   9.084  1.552\n",
      "2   19   6.073  1.452\n",
      "3   11  10.360  2.137\n",
      "4   15   7.417  1.289\n",
      "<class 'pandas.core.frame.DataFrame'>\n",
      "RangeIndex: 922 entries, 0 to 921\n",
      "Data columns (total 3 columns):\n",
      "l20     922 non-null int64\n",
      "rate    922 non-null float64\n",
      "up      922 non-null float64\n",
      "dtypes: float64(2), int64(1)\n",
      "memory usage: 21.7 KB\n"
     ]
    }
   ],
   "source": [
    "data = pd.read_csv('data/360UP.txt', sep = '\\t', names = ['l20', 'rate', 'up'])\n",
    "print data.head()\n",
    "data.info()"
   ]
  },
  {
   "cell_type": "code",
   "execution_count": 65,
   "metadata": {
    "collapsed": false
   },
   "outputs": [
    {
     "name": "stdout",
     "output_type": "stream",
     "text": [
      "     l20     rate     up\n",
      "28     1   90.000  1.718\n",
      "45     0  720.000  1.371\n",
      "58     0  630.000  1.317\n",
      "82     1   53.636  1.246\n",
      "85     0  590.000  1.340\n",
      "97     1   51.818  1.119\n",
      "110    3   18.065  1.195\n",
      "123    0  550.000  1.171\n",
      "125    4   13.415  1.244\n",
      "130    0  550.000  1.444\n",
      "144    3   17.097  1.230\n",
      "145    2   25.238  1.076\n",
      "147    4   12.927  1.001\n",
      "150    1   48.182  1.331\n",
      "159    0  530.000  1.064\n",
      "160    3   17.097  1.095\n",
      "162    4   12.927  1.129\n",
      "167    3   17.097  1.117\n",
      "168    3   17.097  1.387\n",
      "169    4   12.927  1.237\n",
      "175    1   47.273  1.130\n",
      "178    3   16.774  1.216\n",
      "179    0  520.000  1.331\n",
      "180    2   24.762  1.093\n",
      "190    3   16.774  1.083\n",
      "195    1   47.273  1.172\n",
      "196    4   12.683  1.254\n",
      "197    0  510.000  1.092\n",
      "198    4   12.439  0.993\n"
     ]
    },
    {
     "data": {
      "text/plain": [
       "<seaborn.axisgrid.PairGrid at 0x13dc82b0>"
      ]
     },
     "execution_count": 65,
     "metadata": {},
     "output_type": "execute_result"
    },
    {
     "data": {
      "image/png": "[encoded data removed]",
      "text/plain": [
       "<matplotlib.figure.Figure at 0x13c96588>"
      ]
     },
     "metadata": {},
     "output_type": "display_data"
    }
   ],
   "source": [
    "print data[data.l20 < 5]\n",
    "sns.pairplot(data[data.l20 < 5], x_vars = ['l20'], y_vars = 'up', size = 7, aspect=2)"
   ]
  },
  {
   "cell_type": "code",
   "execution_count": 91,
   "metadata": {
    "collapsed": false
   },
   "outputs": [
    {
     "ename": "SyntaxError",
     "evalue": "invalid syntax (<ipython-input-91-1dc0db2a9a8e>, line 1)",
     "output_type": "error",
     "traceback": [
      "\u001b[1;36m  File \u001b[1;32m\"<ipython-input-91-1dc0db2a9a8e>\"\u001b[1;36m, line \u001b[1;32m1\u001b[0m\n\u001b[1;33m    sns.pairplot(data[data.l20 < 15 && data.l20 > 8], x_vars=['l20'], y_vars='up', size=7, aspect=2, kind='reg')\u001b[0m\n\u001b[1;37m                                     ^\u001b[0m\n\u001b[1;31mSyntaxError\u001b[0m\u001b[1;31m:\u001b[0m invalid syntax\n"
     ]
    }
   ],
   "source": [
    "sns.pairplot(data[data.l20 < 15], x_vars=['l20'], y_vars='up', size=7, aspect=2, kind='reg')"
   ]
  }
 ],
 "metadata": {
  "kernelspec": {
   "display_name": "Python 2",
   "language": "python",
   "name": "python2"
  },
  "language_info": {
   "codemirror_mode": {
    "name": "ipython",
    "version": 2
   },
   "file_extension": ".py",
   "mimetype": "text/x-python",
   "name": "python",
   "nbconvert_exporter": "python",
   "pygments_lexer": "ipython2",
   "version": "2.7.10"
  }
 },
 "nbformat": 4,
 "nbformat_minor": 0
}
