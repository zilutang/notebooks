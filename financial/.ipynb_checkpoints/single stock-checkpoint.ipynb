{
 "cells": [
  {
   "cell_type": "code",
   "execution_count": 2,
   "metadata": {
    "collapsed": true
   },
   "outputs": [],
   "source": [
    "%matplotlib inline"
   ]
  },
  {
   "cell_type": "code",
   "execution_count": 3,
   "metadata": {
    "collapsed": true
   },
   "outputs": [],
   "source": [
    "import tushare as ts\n",
    "import pandas as pd\n",
    "import numpy as np\n",
    "import pickle"
   ]
  },
  {
   "cell_type": "code",
   "execution_count": 8,
   "metadata": {
    "collapsed": false
   },
   "outputs": [
    {
     "name": "stdout",
     "output_type": "stream",
     "text": [
      "[Getting data:]#################"
     ]
    }
   ],
   "source": [
    "df = ts.get_h_data('002685', start='2012-06-12', end='2016-09-16')\n",
    "\n",
    "with open('./data/002685.pickle', 'wb') as f:\n",
    "    pickle.dump(df, f)"
   ]
  },
  {
   "cell_type": "code",
   "execution_count": 9,
   "metadata": {
    "collapsed": false
   },
   "outputs": [
    {
     "data": {
      "text/html": [
       "<div>\n",
       "<table border=\"1\" class=\"dataframe\">\n",
       "  <thead>\n",
       "    <tr style=\"text-align: right;\">\n",
       "      <th></th>\n",
       "      <th>open</th>\n",
       "      <th>high</th>\n",
       "      <th>close</th>\n",
       "      <th>low</th>\n",
       "      <th>volume</th>\n",
       "      <th>amount</th>\n",
       "    </tr>\n",
       "    <tr>\n",
       "      <th>date</th>\n",
       "      <th></th>\n",
       "      <th></th>\n",
       "      <th></th>\n",
       "      <th></th>\n",
       "      <th></th>\n",
       "      <th></th>\n",
       "    </tr>\n",
       "  </thead>\n",
       "  <tbody>\n",
       "    <tr>\n",
       "      <th>2016-09-14</th>\n",
       "      <td>10.94</td>\n",
       "      <td>11.10</td>\n",
       "      <td>11.04</td>\n",
       "      <td>10.59</td>\n",
       "      <td>23849245.0</td>\n",
       "      <td>258465807.0</td>\n",
       "    </tr>\n",
       "    <tr>\n",
       "      <th>2016-09-13</th>\n",
       "      <td>10.87</td>\n",
       "      <td>11.24</td>\n",
       "      <td>11.08</td>\n",
       "      <td>10.70</td>\n",
       "      <td>29037051.0</td>\n",
       "      <td>319345033.0</td>\n",
       "    </tr>\n",
       "    <tr>\n",
       "      <th>2016-09-12</th>\n",
       "      <td>10.50</td>\n",
       "      <td>10.80</td>\n",
       "      <td>10.80</td>\n",
       "      <td>10.15</td>\n",
       "      <td>20839332.0</td>\n",
       "      <td>219959779.0</td>\n",
       "    </tr>\n",
       "    <tr>\n",
       "      <th>2016-09-09</th>\n",
       "      <td>10.84</td>\n",
       "      <td>11.50</td>\n",
       "      <td>10.97</td>\n",
       "      <td>10.78</td>\n",
       "      <td>38944113.0</td>\n",
       "      <td>432021579.0</td>\n",
       "    </tr>\n",
       "    <tr>\n",
       "      <th>2016-09-08</th>\n",
       "      <td>10.80</td>\n",
       "      <td>11.08</td>\n",
       "      <td>10.97</td>\n",
       "      <td>10.45</td>\n",
       "      <td>38793802.0</td>\n",
       "      <td>417058737.0</td>\n",
       "    </tr>\n",
       "  </tbody>\n",
       "</table>\n",
       "</div>"
      ],
      "text/plain": [
       "             open   high  close    low      volume       amount\n",
       "date                                                           \n",
       "2016-09-14  10.94  11.10  11.04  10.59  23849245.0  258465807.0\n",
       "2016-09-13  10.87  11.24  11.08  10.70  29037051.0  319345033.0\n",
       "2016-09-12  10.50  10.80  10.80  10.15  20839332.0  219959779.0\n",
       "2016-09-09  10.84  11.50  10.97  10.78  38944113.0  432021579.0\n",
       "2016-09-08  10.80  11.08  10.97  10.45  38793802.0  417058737.0"
      ]
     },
     "execution_count": 9,
     "metadata": {},
     "output_type": "execute_result"
    }
   ],
   "source": [
    "df.head()"
   ]
  },
  {
   "cell_type": "code",
   "execution_count": null,
   "metadata": {
    "collapsed": true
   },
   "outputs": [],
   "source": []
  }
 ],
 "metadata": {
  "kernelspec": {
   "display_name": "Python 2",
   "language": "python",
   "name": "python2"
  },
  "language_info": {
   "codemirror_mode": {
    "name": "ipython",
    "version": 2
   },
   "file_extension": ".py",
   "mimetype": "text/x-python",
   "name": "python",
   "nbconvert_exporter": "python",
   "pygments_lexer": "ipython2",
   "version": "2.7.10"
  }
 },
 "nbformat": 4,
 "nbformat_minor": 0
}
