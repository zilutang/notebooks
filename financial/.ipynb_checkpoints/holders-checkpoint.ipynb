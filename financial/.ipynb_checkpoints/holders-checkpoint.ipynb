{
 "cells": [
  {
   "cell_type": "code",
   "execution_count": 1,
   "metadata": {
    "collapsed": true
   },
   "outputs": [],
   "source": [
    "import pandas as pd\n",
    "import numpy as np\n",
    "import seaborn as sns\n",
    "#%matplotlib inline"
   ]
  },
  {
   "cell_type": "code",
   "execution_count": 102,
   "metadata": {
    "collapsed": false
   },
   "outputs": [
    {
     "data": {
      "text/html": [
       "<div>\n",
       "<table border=\"1\" class=\"dataframe\">\n",
       "  <thead>\n",
       "    <tr style=\"text-align: right;\">\n",
       "      <th></th>\n",
       "      <th>file</th>\n",
       "    </tr>\n",
       "  </thead>\n",
       "  <tbody>\n",
       "    <tr>\n",
       "      <th>0</th>\n",
       "      <td>sh600487</td>\n",
       "    </tr>\n",
       "    <tr>\n",
       "      <th>1</th>\n",
       "      <td>sh600568</td>\n",
       "    </tr>\n",
       "    <tr>\n",
       "      <th>2</th>\n",
       "      <td>sh600310</td>\n",
       "    </tr>\n",
       "    <tr>\n",
       "      <th>3</th>\n",
       "      <td>sz000910</td>\n",
       "    </tr>\n",
       "    <tr>\n",
       "      <th>4</th>\n",
       "      <td>sh600343</td>\n",
       "    </tr>\n",
       "  </tbody>\n",
       "</table>\n",
       "</div>"
      ],
      "text/plain": [
       "       file\n",
       "0  sh600487\n",
       "1  sh600568\n",
       "2  sh600310\n",
       "3  sz000910\n",
       "4  sh600343"
      ]
     },
     "execution_count": 102,
     "metadata": {},
     "output_type": "execute_result"
    }
   ],
   "source": [
    "data = pd.read_csv('./data/list-copy.txt', header=None, names=['file'])\n",
    "data.head()"
   ]
  },
  {
   "cell_type": "code",
   "execution_count": 103,
   "metadata": {
    "collapsed": false
   },
   "outputs": [
    {
     "data": {
      "text/html": [
       "<div>\n",
       "<table border=\"1\" class=\"dataframe\">\n",
       "  <thead>\n",
       "    <tr style=\"text-align: right;\">\n",
       "      <th></th>\n",
       "      <th>file</th>\n",
       "    </tr>\n",
       "  </thead>\n",
       "  <tbody>\n",
       "    <tr>\n",
       "      <th>0</th>\n",
       "      <td>sh600487</td>\n",
       "    </tr>\n",
       "    <tr>\n",
       "      <th>1</th>\n",
       "      <td>sh600568</td>\n",
       "    </tr>\n",
       "    <tr>\n",
       "      <th>2</th>\n",
       "      <td>sh600310</td>\n",
       "    </tr>\n",
       "    <tr>\n",
       "      <th>3</th>\n",
       "      <td>sz000910</td>\n",
       "    </tr>\n",
       "    <tr>\n",
       "      <th>4</th>\n",
       "      <td>sh600343</td>\n",
       "    </tr>\n",
       "  </tbody>\n",
       "</table>\n",
       "</div>"
      ],
      "text/plain": [
       "       file\n",
       "0  sh600487\n",
       "1  sh600568\n",
       "2  sh600310\n",
       "3  sz000910\n",
       "4  sh600343"
      ]
     },
     "execution_count": 103,
     "metadata": {},
     "output_type": "execute_result"
    }
   ],
   "source": [
    "data.head()"
   ]
  },
  {
   "cell_type": "code",
   "execution_count": 124,
   "metadata": {
    "collapsed": false
   },
   "outputs": [],
   "source": [
    "filename = 'sh600568'\n",
    "gdrs = pd.read_html('./data/gdrs/' + filename, header=0)\n",
    "z = gdrs[0].ix[1:1, 1:]\n",
    "z.insert(0, 'file', filename, allow_duplicates=False)\n",
    "z\n",
    "count = 0\n",
    "def mergefiles(filename):\n",
    "    #print filename\n",
    "    global z\n",
    "    global count\n",
    "    count += 1\n",
    "    print 'count: %d\\r' %count,\n",
    "    try:\n",
    "        gdrs = pd.read_html('./data/gdrs/' + filename, header=0)\n",
    "        x = gdrs[0].ix[1:1, 1:]\n",
    "        x.insert(0, 'file', filename, allow_duplicates=False)\n",
    "        z = pd.merge(z, x, how='outer')\n",
    "    except:\n",
    "        print 'exception: ' + filename\n",
    "        pass\n",
    "    #print x\n",
    "    #del x\n",
    "    #print y\n",
    "    "
   ]
  },
  {
   "cell_type": "code",
   "execution_count": 126,
   "metadata": {
    "collapsed": false
   },
   "outputs": [
    {
     "name": "stdout",
     "output_type": "stream",
     "text": []
    }
   ],
   "source": [
    "data.file.apply(mergefiles)\n",
    "z.to_html('./data/360up.html', na_rep='/')"
   ]
  },
  {
   "cell_type": "code",
   "execution_count": 107,
   "metadata": {
    "collapsed": false
   },
   "outputs": [],
   "source": [
    "z.to_pickle('./data/360up_250.pickle')"
   ]
  },
  {
   "cell_type": "code",
   "execution_count": 111,
   "metadata": {
    "collapsed": false
   },
   "outputs": [],
   "source": [
    "z.to_html('./data/360up.html', na_rep='/')"
   ]
  },
  {
   "cell_type": "code",
   "execution_count": 51,
   "metadata": {
    "collapsed": false
   },
   "outputs": [
    {
     "data": {
      "text/html": [
       "<div>\n",
       "<table border=\"1\" class=\"dataframe\">\n",
       "  <thead>\n",
       "    <tr style=\"text-align: right;\">\n",
       "      <th></th>\n",
       "      <th>Unnamed: 0</th>\n",
       "      <th>16-06-30</th>\n",
       "      <th>16-03-31</th>\n",
       "      <th>15-12-31</th>\n",
       "      <th>15-09-30</th>\n",
       "      <th>15-06-30</th>\n",
       "      <th>15-03-31</th>\n",
       "      <th>15-03-12</th>\n",
       "      <th>14-12-31</th>\n",
       "      <th>14-09-30</th>\n",
       "      <th>14-06-30</th>\n",
       "    </tr>\n",
       "  </thead>\n",
       "  <tbody>\n",
       "    <tr>\n",
       "      <th>0</th>\n",
       "      <td>股东人数(户)</td>\n",
       "      <td>1.51万</td>\n",
       "      <td>1.77万</td>\n",
       "      <td>1.53万</td>\n",
       "      <td>1.23万</td>\n",
       "      <td>1.23万</td>\n",
       "      <td>1.54万</td>\n",
       "      <td>1.27万</td>\n",
       "      <td>1.30万</td>\n",
       "      <td>1.76万</td>\n",
       "      <td>1.91万</td>\n",
       "    </tr>\n",
       "    <tr>\n",
       "      <th>1</th>\n",
       "      <td>较上期变化(%)</td>\n",
       "      <td>-14.48</td>\n",
       "      <td>15.73</td>\n",
       "      <td>24.28</td>\n",
       "      <td>-0.28</td>\n",
       "      <td>-19.60</td>\n",
       "      <td>21.16</td>\n",
       "      <td>-2.75</td>\n",
       "      <td>-25.78</td>\n",
       "      <td>-8.07</td>\n",
       "      <td>-7.50</td>\n",
       "    </tr>\n",
       "    <tr>\n",
       "      <th>2</th>\n",
       "      <td>人均流通股(股)</td>\n",
       "      <td>3.34万</td>\n",
       "      <td>2.86万</td>\n",
       "      <td>2.39万</td>\n",
       "      <td>2.97万</td>\n",
       "      <td>2.94万</td>\n",
       "      <td>2.35万</td>\n",
       "      <td>2.85万</td>\n",
       "      <td>2.77万</td>\n",
       "      <td>2.06万</td>\n",
       "      <td>1.89万</td>\n",
       "    </tr>\n",
       "    <tr>\n",
       "      <th>3</th>\n",
       "      <td>较上期变化(%)</td>\n",
       "      <td>16.93</td>\n",
       "      <td>19.53</td>\n",
       "      <td>-19.54</td>\n",
       "      <td>1.10</td>\n",
       "      <td>25.19</td>\n",
       "      <td>-17.47</td>\n",
       "      <td>2.82</td>\n",
       "      <td>34.73</td>\n",
       "      <td>8.78</td>\n",
       "      <td>107.54</td>\n",
       "    </tr>\n",
       "    <tr>\n",
       "      <th>4</th>\n",
       "      <td>筹码集中度</td>\n",
       "      <td>非常集中</td>\n",
       "      <td>非常集中</td>\n",
       "      <td>非常集中</td>\n",
       "      <td>非常集中</td>\n",
       "      <td>非常集中</td>\n",
       "      <td>非常集中</td>\n",
       "      <td>非常集中</td>\n",
       "      <td>非常集中</td>\n",
       "      <td>非常集中</td>\n",
       "      <td>非常集中</td>\n",
       "    </tr>\n",
       "    <tr>\n",
       "      <th>5</th>\n",
       "      <td>股价(元)</td>\n",
       "      <td>17.40</td>\n",
       "      <td>15.67</td>\n",
       "      <td>23.91</td>\n",
       "      <td>24.14</td>\n",
       "      <td>24.14</td>\n",
       "      <td>17.80</td>\n",
       "      <td>16.16</td>\n",
       "      <td>13.84</td>\n",
       "      <td>13.26</td>\n",
       "      <td>9.08</td>\n",
       "    </tr>\n",
       "    <tr>\n",
       "      <th>6</th>\n",
       "      <td>人均持股金额(元)</td>\n",
       "      <td>58.2万</td>\n",
       "      <td>44.8万</td>\n",
       "      <td>57.2万</td>\n",
       "      <td>71.8万</td>\n",
       "      <td>71.0万</td>\n",
       "      <td>41.8万</td>\n",
       "      <td>46.0万</td>\n",
       "      <td>38.3万</td>\n",
       "      <td>27.3万</td>\n",
       "      <td>17.2万</td>\n",
       "    </tr>\n",
       "    <tr>\n",
       "      <th>7</th>\n",
       "      <td>前十大股东持股合计(%)</td>\n",
       "      <td>60.79</td>\n",
       "      <td>57.20</td>\n",
       "      <td>55.27</td>\n",
       "      <td>55.65</td>\n",
       "      <td>55.65</td>\n",
       "      <td>55.66</td>\n",
       "      <td>61.06</td>\n",
       "      <td>57.47</td>\n",
       "      <td>55.28</td>\n",
       "      <td>55.99</td>\n",
       "    </tr>\n",
       "    <tr>\n",
       "      <th>8</th>\n",
       "      <td>前十大流通股东持股合计(%)</td>\n",
       "      <td>42.03</td>\n",
       "      <td>38.16</td>\n",
       "      <td>40.24</td>\n",
       "      <td>41.36</td>\n",
       "      <td>41.36</td>\n",
       "      <td>40.48</td>\n",
       "      <td>56.51</td>\n",
       "      <td>56.51</td>\n",
       "      <td>54.11</td>\n",
       "      <td>54.96</td>\n",
       "    </tr>\n",
       "  </tbody>\n",
       "</table>\n",
       "</div>"
      ],
      "text/plain": [
       "       Unnamed: 0 16-06-30 16-03-31 15-12-31 15-09-30 15-06-30 15-03-31  \\\n",
       "0         股东人数(户)    1.51万    1.77万    1.53万    1.23万    1.23万    1.54万   \n",
       "1        较上期变化(%)   -14.48    15.73    24.28    -0.28   -19.60    21.16   \n",
       "2        人均流通股(股)    3.34万    2.86万    2.39万    2.97万    2.94万    2.35万   \n",
       "3        较上期变化(%)    16.93    19.53   -19.54     1.10    25.19   -17.47   \n",
       "4           筹码集中度     非常集中     非常集中     非常集中     非常集中     非常集中     非常集中   \n",
       "5           股价(元)    17.40    15.67    23.91    24.14    24.14    17.80   \n",
       "6       人均持股金额(元)    58.2万    44.8万    57.2万    71.8万    71.0万    41.8万   \n",
       "7    前十大股东持股合计(%)    60.79    57.20    55.27    55.65    55.65    55.66   \n",
       "8  前十大流通股东持股合计(%)    42.03    38.16    40.24    41.36    41.36    40.48   \n",
       "\n",
       "  15-03-12 14-12-31 14-09-30 14-06-30  \n",
       "0    1.27万    1.30万    1.76万    1.91万  \n",
       "1    -2.75   -25.78    -8.07    -7.50  \n",
       "2    2.85万    2.77万    2.06万    1.89万  \n",
       "3     2.82    34.73     8.78   107.54  \n",
       "4     非常集中     非常集中     非常集中     非常集中  \n",
       "5    16.16    13.84    13.26     9.08  \n",
       "6    46.0万    38.3万    27.3万    17.2万  \n",
       "7    61.06    57.47    55.28    55.99  \n",
       "8    56.51    56.51    54.11    54.96  "
      ]
     },
     "execution_count": 51,
     "metadata": {},
     "output_type": "execute_result"
    }
   ],
   "source": [
    "gdrs = pd.read_html('./data/gdrs/sh600568', header=0)\n",
    "gdrs[0]"
   ]
  },
  {
   "cell_type": "code",
   "execution_count": 68,
   "metadata": {
    "collapsed": false
   },
   "outputs": [
    {
     "data": {
      "text/html": [
       "<div>\n",
       "<table border=\"1\" class=\"dataframe\">\n",
       "  <thead>\n",
       "    <tr style=\"text-align: right;\">\n",
       "      <th></th>\n",
       "      <th>16-06-30</th>\n",
       "      <th>16-03-31</th>\n",
       "      <th>15-12-31</th>\n",
       "      <th>15-09-30</th>\n",
       "      <th>15-06-30</th>\n",
       "      <th>15-03-31</th>\n",
       "      <th>15-03-12</th>\n",
       "      <th>14-12-31</th>\n",
       "      <th>14-09-30</th>\n",
       "      <th>14-06-30</th>\n",
       "    </tr>\n",
       "  </thead>\n",
       "  <tbody>\n",
       "    <tr>\n",
       "      <th>0</th>\n",
       "      <td>1.51万</td>\n",
       "      <td>1.77万</td>\n",
       "      <td>1.53万</td>\n",
       "      <td>1.23万</td>\n",
       "      <td>1.23万</td>\n",
       "      <td>1.54万</td>\n",
       "      <td>1.27万</td>\n",
       "      <td>1.30万</td>\n",
       "      <td>1.76万</td>\n",
       "      <td>1.91万</td>\n",
       "    </tr>\n",
       "  </tbody>\n",
       "</table>\n",
       "</div>"
      ],
      "text/plain": [
       "  16-06-30 16-03-31 15-12-31 15-09-30 15-06-30 15-03-31 15-03-12 14-12-31  \\\n",
       "0    1.51万    1.77万    1.53万    1.23万    1.23万    1.54万    1.27万    1.30万   \n",
       "\n",
       "  14-09-30 14-06-30  \n",
       "0    1.76万    1.91万  "
      ]
     },
     "execution_count": 68,
     "metadata": {},
     "output_type": "execute_result"
    }
   ],
   "source": [
    "gdrs1 = gdrs[0].ix[0:0, 1:]\n",
    "gdrs1"
   ]
  },
  {
   "cell_type": "code",
   "execution_count": 42,
   "metadata": {
    "collapsed": false
   },
   "outputs": [
    {
     "data": {
      "text/html": [
       "<div>\n",
       "<table border=\"1\" class=\"dataframe\">\n",
       "  <thead>\n",
       "    <tr style=\"text-align: right;\">\n",
       "      <th></th>\n",
       "      <th>file</th>\n",
       "      <th>16-06-30</th>\n",
       "      <th>16-03-31</th>\n",
       "      <th>15-12-31</th>\n",
       "      <th>15-09-30</th>\n",
       "      <th>15-06-30</th>\n",
       "      <th>15-03-31</th>\n",
       "      <th>15-03-12</th>\n",
       "      <th>14-12-31</th>\n",
       "      <th>14-09-30</th>\n",
       "      <th>14-06-30</th>\n",
       "    </tr>\n",
       "  </thead>\n",
       "  <tbody>\n",
       "    <tr>\n",
       "      <th>1</th>\n",
       "      <td>sh600568</td>\n",
       "      <td>-14.48</td>\n",
       "      <td>15.73</td>\n",
       "      <td>24.28</td>\n",
       "      <td>-0.28</td>\n",
       "      <td>-19.60</td>\n",
       "      <td>21.16</td>\n",
       "      <td>-2.75</td>\n",
       "      <td>-25.78</td>\n",
       "      <td>-8.07</td>\n",
       "      <td>-7.50</td>\n",
       "    </tr>\n",
       "  </tbody>\n",
       "</table>\n",
       "</div>"
      ],
      "text/plain": [
       "       file 16-06-30 16-03-31 15-12-31 15-09-30 15-06-30 15-03-31 15-03-12  \\\n",
       "1  sh600568   -14.48    15.73    24.28    -0.28   -19.60    21.16    -2.75   \n",
       "\n",
       "  14-12-31 14-09-30 14-06-30  \n",
       "1   -25.78    -8.07    -7.50  "
      ]
     },
     "execution_count": 42,
     "metadata": {},
     "output_type": "execute_result"
    }
   ],
   "source": [
    "filename = 'sh600568'\n",
    "gdrs = pd.read_html('./data/gdrs/' + filename, header=0)\n",
    "x = gdrs[0].ix[1:1, 1:]\n",
    "x.insert(0, 'file', filename, allow_duplicates=False)\n",
    "x"
   ]
  },
  {
   "cell_type": "code",
   "execution_count": 53,
   "metadata": {
    "collapsed": false
   },
   "outputs": [
    {
     "data": {
      "text/html": [
       "<div>\n",
       "<table border=\"1\" class=\"dataframe\">\n",
       "  <thead>\n",
       "    <tr style=\"text-align: right;\">\n",
       "      <th></th>\n",
       "      <th>file</th>\n",
       "      <th>16-07-29</th>\n",
       "      <th>16-07-15</th>\n",
       "      <th>16-06-30</th>\n",
       "      <th>16-06-15</th>\n",
       "      <th>16-05-31</th>\n",
       "      <th>16-05-13</th>\n",
       "      <th>16-04-29</th>\n",
       "      <th>16-04-15</th>\n",
       "      <th>16-03-31</th>\n",
       "      <th>16-03-15</th>\n",
       "    </tr>\n",
       "  </thead>\n",
       "  <tbody>\n",
       "    <tr>\n",
       "      <th>1</th>\n",
       "      <td>sz300262</td>\n",
       "      <td>-1.54</td>\n",
       "      <td>-2.31</td>\n",
       "      <td>-7.19</td>\n",
       "      <td>0.26</td>\n",
       "      <td>-1.68</td>\n",
       "      <td>-1.85</td>\n",
       "      <td>-3.30</td>\n",
       "      <td>0.04</td>\n",
       "      <td>-5.84</td>\n",
       "      <td>-0.28</td>\n",
       "    </tr>\n",
       "  </tbody>\n",
       "</table>\n",
       "</div>"
      ],
      "text/plain": [
       "       file 16-07-29 16-07-15 16-06-30 16-06-15 16-05-31 16-05-13 16-04-29  \\\n",
       "1  sz300262    -1.54    -2.31    -7.19     0.26    -1.68    -1.85    -3.30   \n",
       "\n",
       "  16-04-15 16-03-31 16-03-15  \n",
       "1     0.04    -5.84    -0.28  "
      ]
     },
     "execution_count": 53,
     "metadata": {},
     "output_type": "execute_result"
    }
   ],
   "source": [
    "filename = 'sz300262'\n",
    "gdrs = pd.read_html('./data/gdrs/' + filename, header=0)\n",
    "y = gdrs[0].ix[1:1, 1:]\n",
    "y.insert(0, 'file', filename, allow_duplicates=False)\n",
    "y"
   ]
  },
  {
   "cell_type": "code",
   "execution_count": 54,
   "metadata": {
    "collapsed": false
   },
   "outputs": [
    {
     "data": {
      "text/html": [
       "<div>\n",
       "<table border=\"1\" class=\"dataframe\">\n",
       "  <thead>\n",
       "    <tr style=\"text-align: right;\">\n",
       "      <th></th>\n",
       "      <th>file</th>\n",
       "      <th>16-06-30</th>\n",
       "      <th>16-03-31</th>\n",
       "      <th>15-12-31</th>\n",
       "      <th>15-09-30</th>\n",
       "      <th>15-06-30</th>\n",
       "      <th>15-04-08</th>\n",
       "      <th>15-03-31</th>\n",
       "      <th>14-12-31</th>\n",
       "      <th>14-09-30</th>\n",
       "      <th>14-06-30</th>\n",
       "    </tr>\n",
       "  </thead>\n",
       "  <tbody>\n",
       "    <tr>\n",
       "      <th>1</th>\n",
       "      <td>sh600487</td>\n",
       "      <td>-5.04</td>\n",
       "      <td>-12.10</td>\n",
       "      <td>54.72</td>\n",
       "      <td>124.84</td>\n",
       "      <td>4.16</td>\n",
       "      <td>-4.12</td>\n",
       "      <td>23.73</td>\n",
       "      <td>-2.93</td>\n",
       "      <td>-17.10</td>\n",
       "      <td>-1.28</td>\n",
       "    </tr>\n",
       "  </tbody>\n",
       "</table>\n",
       "</div>"
      ],
      "text/plain": [
       "       file 16-06-30 16-03-31 15-12-31 15-09-30 15-06-30 15-04-08 15-03-31  \\\n",
       "1  sh600487    -5.04   -12.10    54.72   124.84     4.16    -4.12    23.73   \n",
       "\n",
       "  14-12-31 14-09-30 14-06-30  \n",
       "1    -2.93   -17.10    -1.28  "
      ]
     },
     "execution_count": 54,
     "metadata": {},
     "output_type": "execute_result"
    }
   ],
   "source": [
    "filename = 'sh600487'\n",
    "gdrs = pd.read_html('./data/gdrs/' + filename, header=0)\n",
    "z = gdrs[0].ix[1:1, 1:]\n",
    "z.insert(0, 'file', filename, allow_duplicates=False)\n",
    "z"
   ]
  },
  {
   "cell_type": "code",
   "execution_count": 55,
   "metadata": {
    "collapsed": false
   },
   "outputs": [
    {
     "data": {
      "text/html": [
       "<div>\n",
       "<table border=\"1\" class=\"dataframe\">\n",
       "  <thead>\n",
       "    <tr style=\"text-align: right;\">\n",
       "      <th></th>\n",
       "      <th>file</th>\n",
       "      <th>16-06-30</th>\n",
       "      <th>16-03-31</th>\n",
       "      <th>15-12-31</th>\n",
       "      <th>15-09-30</th>\n",
       "      <th>15-06-30</th>\n",
       "      <th>15-03-31</th>\n",
       "      <th>15-03-12</th>\n",
       "      <th>14-12-31</th>\n",
       "      <th>14-09-30</th>\n",
       "      <th>...</th>\n",
       "      <th>16-08-15</th>\n",
       "      <th>16-07-29</th>\n",
       "      <th>16-07-15</th>\n",
       "      <th>16-06-15</th>\n",
       "      <th>16-05-31</th>\n",
       "      <th>16-05-13</th>\n",
       "      <th>16-04-29</th>\n",
       "      <th>15-04-08</th>\n",
       "      <th>16-04-15</th>\n",
       "      <th>16-03-15</th>\n",
       "    </tr>\n",
       "  </thead>\n",
       "  <tbody>\n",
       "    <tr>\n",
       "      <th>0</th>\n",
       "      <td>sh600568</td>\n",
       "      <td>-14.48</td>\n",
       "      <td>15.73</td>\n",
       "      <td>24.28</td>\n",
       "      <td>-0.28</td>\n",
       "      <td>-19.60</td>\n",
       "      <td>21.16</td>\n",
       "      <td>-2.75</td>\n",
       "      <td>-25.78</td>\n",
       "      <td>-8.07</td>\n",
       "      <td>...</td>\n",
       "      <td>NaN</td>\n",
       "      <td>NaN</td>\n",
       "      <td>NaN</td>\n",
       "      <td>NaN</td>\n",
       "      <td>NaN</td>\n",
       "      <td>NaN</td>\n",
       "      <td>NaN</td>\n",
       "      <td>NaN</td>\n",
       "      <td>NaN</td>\n",
       "      <td>NaN</td>\n",
       "    </tr>\n",
       "    <tr>\n",
       "      <th>1</th>\n",
       "      <td>sz002271</td>\n",
       "      <td>-9.73</td>\n",
       "      <td>NaN</td>\n",
       "      <td>NaN</td>\n",
       "      <td>NaN</td>\n",
       "      <td>NaN</td>\n",
       "      <td>NaN</td>\n",
       "      <td>NaN</td>\n",
       "      <td>NaN</td>\n",
       "      <td>NaN</td>\n",
       "      <td>...</td>\n",
       "      <td>-6.02</td>\n",
       "      <td>-8.94</td>\n",
       "      <td>-12.98</td>\n",
       "      <td>-2.94</td>\n",
       "      <td>-2.70</td>\n",
       "      <td>3.45</td>\n",
       "      <td>0.23</td>\n",
       "      <td>NaN</td>\n",
       "      <td>NaN</td>\n",
       "      <td>NaN</td>\n",
       "    </tr>\n",
       "    <tr>\n",
       "      <th>2</th>\n",
       "      <td>sh600487</td>\n",
       "      <td>-5.04</td>\n",
       "      <td>-12.10</td>\n",
       "      <td>54.72</td>\n",
       "      <td>124.84</td>\n",
       "      <td>4.16</td>\n",
       "      <td>23.73</td>\n",
       "      <td>NaN</td>\n",
       "      <td>-2.93</td>\n",
       "      <td>-17.10</td>\n",
       "      <td>...</td>\n",
       "      <td>NaN</td>\n",
       "      <td>NaN</td>\n",
       "      <td>NaN</td>\n",
       "      <td>NaN</td>\n",
       "      <td>NaN</td>\n",
       "      <td>NaN</td>\n",
       "      <td>NaN</td>\n",
       "      <td>-4.12</td>\n",
       "      <td>NaN</td>\n",
       "      <td>NaN</td>\n",
       "    </tr>\n",
       "    <tr>\n",
       "      <th>3</th>\n",
       "      <td>sz300262</td>\n",
       "      <td>-7.19</td>\n",
       "      <td>-5.84</td>\n",
       "      <td>NaN</td>\n",
       "      <td>NaN</td>\n",
       "      <td>NaN</td>\n",
       "      <td>NaN</td>\n",
       "      <td>NaN</td>\n",
       "      <td>NaN</td>\n",
       "      <td>NaN</td>\n",
       "      <td>...</td>\n",
       "      <td>NaN</td>\n",
       "      <td>-1.54</td>\n",
       "      <td>-2.31</td>\n",
       "      <td>0.26</td>\n",
       "      <td>-1.68</td>\n",
       "      <td>-1.85</td>\n",
       "      <td>-3.30</td>\n",
       "      <td>NaN</td>\n",
       "      <td>0.04</td>\n",
       "      <td>-0.28</td>\n",
       "    </tr>\n",
       "  </tbody>\n",
       "</table>\n",
       "<p>4 rows × 23 columns</p>\n",
       "</div>"
      ],
      "text/plain": [
       "       file 16-06-30 16-03-31 15-12-31 15-09-30 15-06-30 15-03-31 15-03-12  \\\n",
       "0  sh600568   -14.48    15.73    24.28    -0.28   -19.60    21.16    -2.75   \n",
       "1  sz002271    -9.73      NaN      NaN      NaN      NaN      NaN      NaN   \n",
       "2  sh600487    -5.04   -12.10    54.72   124.84     4.16    23.73      NaN   \n",
       "3  sz300262    -7.19    -5.84      NaN      NaN      NaN      NaN      NaN   \n",
       "\n",
       "  14-12-31 14-09-30   ...    16-08-15 16-07-29 16-07-15 16-06-15 16-05-31  \\\n",
       "0   -25.78    -8.07   ...         NaN      NaN      NaN      NaN      NaN   \n",
       "1      NaN      NaN   ...       -6.02    -8.94   -12.98    -2.94    -2.70   \n",
       "2    -2.93   -17.10   ...         NaN      NaN      NaN      NaN      NaN   \n",
       "3      NaN      NaN   ...         NaN    -1.54    -2.31     0.26    -1.68   \n",
       "\n",
       "  16-05-13 16-04-29 15-04-08 16-04-15 16-03-15  \n",
       "0      NaN      NaN      NaN      NaN      NaN  \n",
       "1     3.45     0.23      NaN      NaN      NaN  \n",
       "2      NaN      NaN    -4.12      NaN      NaN  \n",
       "3    -1.85    -3.30      NaN     0.04    -0.28  \n",
       "\n",
       "[4 rows x 23 columns]"
      ]
     },
     "execution_count": 55,
     "metadata": {},
     "output_type": "execute_result"
    }
   ],
   "source": [
    "x = pd.merge(x,y, how='outer')\n",
    "x = pd.merge(x,z, how='outer')\n",
    "x"
   ]
  },
  {
   "cell_type": "code",
   "execution_count": 56,
   "metadata": {
    "collapsed": false
   },
   "outputs": [
    {
     "name": "stdout",
     "output_type": "stream",
     "text": [
      "<class 'pandas.core.frame.DataFrame'>\n",
      "Int64Index: 4 entries, 0 to 3\n",
      "Data columns (total 23 columns):\n",
      "file        4 non-null object\n",
      "16-06-30    4 non-null object\n",
      "16-03-31    3 non-null object\n",
      "15-12-31    2 non-null object\n",
      "15-09-30    2 non-null object\n",
      "15-06-30    2 non-null object\n",
      "15-03-31    2 non-null object\n",
      "15-03-12    1 non-null object\n",
      "14-12-31    2 non-null object\n",
      "14-09-30    2 non-null object\n",
      "14-06-30    2 non-null object\n",
      "16-09-14    1 non-null object\n",
      "16-08-31    1 non-null object\n",
      "16-08-15    1 non-null object\n",
      "16-07-29    2 non-null object\n",
      "16-07-15    2 non-null object\n",
      "16-06-15    2 non-null object\n",
      "16-05-31    2 non-null object\n",
      "16-05-13    2 non-null object\n",
      "16-04-29    2 non-null object\n",
      "15-04-08    1 non-null object\n",
      "16-04-15    1 non-null object\n",
      "16-03-15    1 non-null object\n",
      "dtypes: object(23)\n",
      "memory usage: 768.0+ bytes\n"
     ]
    }
   ],
   "source": [
    "x.info()"
   ]
  },
  {
   "cell_type": "code",
   "execution_count": 75,
   "metadata": {
    "collapsed": false
   },
   "outputs": [
    {
     "data": {
      "text/html": [
       "<div>\n",
       "<table border=\"1\" class=\"dataframe\">\n",
       "  <thead>\n",
       "    <tr style=\"text-align: right;\">\n",
       "      <th></th>\n",
       "      <th>16-06-30</th>\n",
       "      <th>16-03-31</th>\n",
       "      <th>15-12-31</th>\n",
       "      <th>15-09-30</th>\n",
       "      <th>15-06-30</th>\n",
       "      <th>15-03-31</th>\n",
       "      <th>15-03-12</th>\n",
       "      <th>14-12-31</th>\n",
       "      <th>14-09-30</th>\n",
       "      <th>14-06-30</th>\n",
       "    </tr>\n",
       "  </thead>\n",
       "  <tbody>\n",
       "    <tr>\n",
       "      <th>2</th>\n",
       "      <td>3.34万</td>\n",
       "      <td>2.86万</td>\n",
       "      <td>2.39万</td>\n",
       "      <td>2.97万</td>\n",
       "      <td>2.94万</td>\n",
       "      <td>2.35万</td>\n",
       "      <td>2.85万</td>\n",
       "      <td>2.77万</td>\n",
       "      <td>2.06万</td>\n",
       "      <td>1.89万</td>\n",
       "    </tr>\n",
       "  </tbody>\n",
       "</table>\n",
       "</div>"
      ],
      "text/plain": [
       "  16-06-30 16-03-31 15-12-31 15-09-30 15-06-30 15-03-31 15-03-12 14-12-31  \\\n",
       "2    3.34万    2.86万    2.39万    2.97万    2.94万    2.35万    2.85万    2.77万   \n",
       "\n",
       "  14-09-30 14-06-30  \n",
       "2    2.06万    1.89万  "
      ]
     },
     "execution_count": 75,
     "metadata": {},
     "output_type": "execute_result"
    }
   ],
   "source": [
    "gdrs[0].ix[2:2, 1:]"
   ]
  },
  {
   "cell_type": "code",
   "execution_count": null,
   "metadata": {
    "collapsed": false
   },
   "outputs": [],
   "source": [
    "data.join(gdrs1.ix[2:2, 1:])\n",
    "data.join(lambda file: pd.read_html('./data/gdrs/', header=0)"
   ]
  },
  {
   "cell_type": "code",
   "execution_count": null,
   "metadata": {
    "collapsed": true
   },
   "outputs": [],
   "source": []
  },
  {
   "cell_type": "code",
   "execution_count": 2,
   "metadata": {
    "collapsed": false
   },
   "outputs": [
    {
     "data": {
      "text/html": [
       "<div>\n",
       "<table border=\"1\" class=\"dataframe\">\n",
       "  <thead>\n",
       "    <tr style=\"text-align: right;\">\n",
       "      <th></th>\n",
       "      <th>file</th>\n",
       "    </tr>\n",
       "  </thead>\n",
       "  <tbody>\n",
       "    <tr>\n",
       "      <th>0</th>\n",
       "      <td>sz300308</td>\n",
       "    </tr>\n",
       "    <tr>\n",
       "      <th>1</th>\n",
       "      <td>sz000736</td>\n",
       "    </tr>\n",
       "    <tr>\n",
       "      <th>2</th>\n",
       "      <td>sz002113</td>\n",
       "    </tr>\n",
       "    <tr>\n",
       "      <th>3</th>\n",
       "      <td>sz002722</td>\n",
       "    </tr>\n",
       "    <tr>\n",
       "      <th>4</th>\n",
       "      <td>sz002305</td>\n",
       "    </tr>\n",
       "  </tbody>\n",
       "</table>\n",
       "</div>"
      ],
      "text/plain": [
       "       file\n",
       "0  sz300308\n",
       "1  sz000736\n",
       "2  sz002113\n",
       "3  sz002722\n",
       "4  sz002305"
      ]
     },
     "execution_count": 2,
     "metadata": {},
     "output_type": "execute_result"
    }
   ],
   "source": [
    "data = pd.read_csv('./data/ztrz.txt', header=None, names=['file'])\n",
    "data.head()"
   ]
  },
  {
   "cell_type": "code",
   "execution_count": 17,
   "metadata": {
    "collapsed": false
   },
   "outputs": [
    {
     "name": "stdout",
     "output_type": "stream",
     "text": [
      "0\n"
     ]
    }
   ],
   "source": [
    "filename = 'sz300308'\n",
    "gdrs = pd.read_html('./data/ztrz/' + filename, header=0)\n",
    "z = gdrs[0].ix[1:1, 1:]\n",
    "z.insert(0, 'file', filename, allow_duplicates=False)\n",
    "z\n",
    "count = 0\n",
    "print count\n",
    "def mergefiles(filename):\n",
    "    #print filename\n",
    "    global z\n",
    "    global count\n",
    "    count += 1\n",
    "    #print 'count: %d\\r' %count,\n",
    "    try:\n",
    "        gdrs = pd.read_html('./data/ztrz/' + filename, header=0)\n",
    "        x = gdrs[0].ix[1:1, 1:]\n",
    "        x.insert(0, 'file', filename, allow_duplicates=False)\n",
    "        z = pd.merge(z, x, how='outer')\n",
    "    except:\n",
    "        print 'exception: ' + filename\n",
    "        pass"
   ]
  },
  {
   "cell_type": "code",
   "execution_count": 18,
   "metadata": {
    "collapsed": false
   },
   "outputs": [
    {
     "data": {
      "text/plain": [
       "0      None\n",
       "1      None\n",
       "2      None\n",
       "3      None\n",
       "4      None\n",
       "5      None\n",
       "6      None\n",
       "7      None\n",
       "8      None\n",
       "9      None\n",
       "10     None\n",
       "11     None\n",
       "12     None\n",
       "13     None\n",
       "14     None\n",
       "15     None\n",
       "16     None\n",
       "17     None\n",
       "18     None\n",
       "19     None\n",
       "20     None\n",
       "21     None\n",
       "22     None\n",
       "23     None\n",
       "24     None\n",
       "25     None\n",
       "26     None\n",
       "27     None\n",
       "28     None\n",
       "29     None\n",
       "       ... \n",
       "469    None\n",
       "470    None\n",
       "471    None\n",
       "472    None\n",
       "473    None\n",
       "474    None\n",
       "475    None\n",
       "476    None\n",
       "477    None\n",
       "478    None\n",
       "479    None\n",
       "480    None\n",
       "481    None\n",
       "482    None\n",
       "483    None\n",
       "484    None\n",
       "485    None\n",
       "486    None\n",
       "487    None\n",
       "488    None\n",
       "489    None\n",
       "490    None\n",
       "491    None\n",
       "492    None\n",
       "493    None\n",
       "494    None\n",
       "495    None\n",
       "496    None\n",
       "497    None\n",
       "498    None\n",
       "Name: file, dtype: object"
      ]
     },
     "execution_count": 18,
     "metadata": {},
     "output_type": "execute_result"
    }
   ],
   "source": [
    "data.file.apply(mergefiles)"
   ]
  },
  {
   "cell_type": "code",
   "execution_count": 19,
   "metadata": {
    "collapsed": true
   },
   "outputs": [],
   "source": [
    "z.to_html('./data/ztrz.html', na_rep='/')"
   ]
  },
  {
   "cell_type": "code",
   "execution_count": 20,
   "metadata": {
    "collapsed": false
   },
   "outputs": [
    {
     "ename": "IOError",
     "evalue": "[Errno 13] Permission denied: './data/ztrzresult.txt'",
     "output_type": "error",
     "traceback": [
      "\u001b[1;31m---------------------------------------------------------------------------\u001b[0m",
      "\u001b[1;31mIOError\u001b[0m                                   Traceback (most recent call last)",
      "\u001b[1;32m<ipython-input-20-c6dbda1a499c>\u001b[0m in \u001b[0;36m<module>\u001b[1;34m()\u001b[0m\n\u001b[1;32m----> 1\u001b[1;33m \u001b[0mz\u001b[0m\u001b[1;33m.\u001b[0m\u001b[0mto_csv\u001b[0m\u001b[1;33m(\u001b[0m\u001b[1;34m'./data/ztrzresult.txt'\u001b[0m\u001b[1;33m)\u001b[0m\u001b[1;33m\u001b[0m\u001b[0m\n\u001b[0m",
      "\u001b[1;32mK:\\Anaconda\\lib\\site-packages\\pandas\\core\\frame.pyc\u001b[0m in \u001b[0;36mto_csv\u001b[1;34m(self, path_or_buf, sep, na_rep, float_format, columns, header, index, index_label, mode, encoding, compression, quoting, quotechar, line_terminator, chunksize, tupleize_cols, date_format, doublequote, escapechar, decimal, **kwds)\u001b[0m\n\u001b[0;32m   1342\u001b[0m                                      \u001b[0mdoublequote\u001b[0m\u001b[1;33m=\u001b[0m\u001b[0mdoublequote\u001b[0m\u001b[1;33m,\u001b[0m\u001b[1;33m\u001b[0m\u001b[0m\n\u001b[0;32m   1343\u001b[0m                                      escapechar=escapechar, decimal=decimal)\n\u001b[1;32m-> 1344\u001b[1;33m         \u001b[0mformatter\u001b[0m\u001b[1;33m.\u001b[0m\u001b[0msave\u001b[0m\u001b[1;33m(\u001b[0m\u001b[1;33m)\u001b[0m\u001b[1;33m\u001b[0m\u001b[0m\n\u001b[0m\u001b[0;32m   1345\u001b[0m \u001b[1;33m\u001b[0m\u001b[0m\n\u001b[0;32m   1346\u001b[0m         \u001b[1;32mif\u001b[0m \u001b[0mpath_or_buf\u001b[0m \u001b[1;32mis\u001b[0m \u001b[0mNone\u001b[0m\u001b[1;33m:\u001b[0m\u001b[1;33m\u001b[0m\u001b[0m\n",
      "\u001b[1;32mK:\\Anaconda\\lib\\site-packages\\pandas\\formats\\format.pyc\u001b[0m in \u001b[0;36msave\u001b[1;34m(self)\u001b[0m\n\u001b[0;32m   1524\u001b[0m             f = _get_handle(self.path_or_buf, self.mode,\n\u001b[0;32m   1525\u001b[0m                             \u001b[0mencoding\u001b[0m\u001b[1;33m=\u001b[0m\u001b[0mself\u001b[0m\u001b[1;33m.\u001b[0m\u001b[0mencoding\u001b[0m\u001b[1;33m,\u001b[0m\u001b[1;33m\u001b[0m\u001b[0m\n\u001b[1;32m-> 1526\u001b[1;33m                             compression=self.compression)\n\u001b[0m\u001b[0;32m   1527\u001b[0m             \u001b[0mclose\u001b[0m \u001b[1;33m=\u001b[0m \u001b[0mTrue\u001b[0m\u001b[1;33m\u001b[0m\u001b[0m\n\u001b[0;32m   1528\u001b[0m \u001b[1;33m\u001b[0m\u001b[0m\n",
      "\u001b[1;32mK:\\Anaconda\\lib\\site-packages\\pandas\\io\\common.pyc\u001b[0m in \u001b[0;36m_get_handle\u001b[1;34m(path, mode, encoding, compression)\u001b[0m\n\u001b[0;32m    424\u001b[0m                 \u001b[0mf\u001b[0m \u001b[1;33m=\u001b[0m \u001b[0mopen\u001b[0m\u001b[1;33m(\u001b[0m\u001b[0mpath\u001b[0m\u001b[1;33m,\u001b[0m \u001b[0mmode\u001b[0m\u001b[1;33m,\u001b[0m \u001b[0merrors\u001b[0m\u001b[1;33m=\u001b[0m\u001b[1;34m'replace'\u001b[0m\u001b[1;33m)\u001b[0m\u001b[1;33m\u001b[0m\u001b[0m\n\u001b[0;32m    425\u001b[0m         \u001b[1;32melse\u001b[0m\u001b[1;33m:\u001b[0m\u001b[1;33m\u001b[0m\u001b[0m\n\u001b[1;32m--> 426\u001b[1;33m             \u001b[0mf\u001b[0m \u001b[1;33m=\u001b[0m \u001b[0mopen\u001b[0m\u001b[1;33m(\u001b[0m\u001b[0mpath\u001b[0m\u001b[1;33m,\u001b[0m \u001b[0mmode\u001b[0m\u001b[1;33m)\u001b[0m\u001b[1;33m\u001b[0m\u001b[0m\n\u001b[0m\u001b[0;32m    427\u001b[0m \u001b[1;33m\u001b[0m\u001b[0m\n\u001b[0;32m    428\u001b[0m     \u001b[1;32mreturn\u001b[0m \u001b[0mf\u001b[0m\u001b[1;33m\u001b[0m\u001b[0m\n",
      "\u001b[1;31mIOError\u001b[0m: [Errno 13] Permission denied: './data/ztrzresult.txt'"
     ]
    }
   ],
   "source": [
    "z.to_csv('./data/ztrzresult.txt')"
   ]
  },
  {
   "cell_type": "code",
   "execution_count": 16,
   "metadata": {
    "collapsed": false
   },
   "outputs": [
    {
     "data": {
      "text/html": [
       "<div>\n",
       "<table border=\"1\" class=\"dataframe\">\n",
       "  <thead>\n",
       "    <tr style=\"text-align: right;\">\n",
       "      <th></th>\n",
       "      <th>file</th>\n",
       "      <th>16-09-30</th>\n",
       "      <th>16-07-08</th>\n",
       "      <th>16-06-30</th>\n",
       "      <th>16-03-31</th>\n",
       "      <th>15-12-31</th>\n",
       "      <th>15-09-30</th>\n",
       "      <th>15-06-30</th>\n",
       "      <th>15-04-14</th>\n",
       "      <th>15-03-31</th>\n",
       "      <th>...</th>\n",
       "      <th>14-11-04</th>\n",
       "      <th>16-07-30</th>\n",
       "      <th>15-08-15</th>\n",
       "      <th>15-02-27</th>\n",
       "      <th>15-12-22</th>\n",
       "      <th>16-07-19</th>\n",
       "      <th>15-03-03</th>\n",
       "      <th>16-08-13</th>\n",
       "      <th>16-05-09</th>\n",
       "      <th>15-06-29</th>\n",
       "    </tr>\n",
       "  </thead>\n",
       "  <tbody>\n",
       "    <tr>\n",
       "      <th>0</th>\n",
       "      <td>sh601789</td>\n",
       "      <td>-0.12</td>\n",
       "      <td>0.23</td>\n",
       "      <td>6.56</td>\n",
       "      <td>-19.01</td>\n",
       "      <td>-26.40</td>\n",
       "      <td>104.63</td>\n",
       "      <td>21.37</td>\n",
       "      <td>-4.18</td>\n",
       "      <td>4.94</td>\n",
       "      <td>...</td>\n",
       "      <td>NaN</td>\n",
       "      <td>NaN</td>\n",
       "      <td>NaN</td>\n",
       "      <td>NaN</td>\n",
       "      <td>NaN</td>\n",
       "      <td>NaN</td>\n",
       "      <td>NaN</td>\n",
       "      <td>NaN</td>\n",
       "      <td>NaN</td>\n",
       "      <td>NaN</td>\n",
       "    </tr>\n",
       "    <tr>\n",
       "      <th>1</th>\n",
       "      <td>sh601801</td>\n",
       "      <td>-6.85</td>\n",
       "      <td>NaN</td>\n",
       "      <td>7.39</td>\n",
       "      <td>15.12</td>\n",
       "      <td>0.12</td>\n",
       "      <td>-8.87</td>\n",
       "      <td>9.60</td>\n",
       "      <td>NaN</td>\n",
       "      <td>-34.46</td>\n",
       "      <td>...</td>\n",
       "      <td>NaN</td>\n",
       "      <td>NaN</td>\n",
       "      <td>NaN</td>\n",
       "      <td>NaN</td>\n",
       "      <td>NaN</td>\n",
       "      <td>NaN</td>\n",
       "      <td>NaN</td>\n",
       "      <td>NaN</td>\n",
       "      <td>NaN</td>\n",
       "      <td>NaN</td>\n",
       "    </tr>\n",
       "    <tr>\n",
       "      <th>2</th>\n",
       "      <td>sh603025</td>\n",
       "      <td>1.83</td>\n",
       "      <td>NaN</td>\n",
       "      <td>-7.13</td>\n",
       "      <td>-0.83</td>\n",
       "      <td>-3.99</td>\n",
       "      <td>-13.56</td>\n",
       "      <td>-27.66</td>\n",
       "      <td>NaN</td>\n",
       "      <td>--</td>\n",
       "      <td>...</td>\n",
       "      <td>NaN</td>\n",
       "      <td>NaN</td>\n",
       "      <td>NaN</td>\n",
       "      <td>NaN</td>\n",
       "      <td>NaN</td>\n",
       "      <td>NaN</td>\n",
       "      <td>NaN</td>\n",
       "      <td>NaN</td>\n",
       "      <td>NaN</td>\n",
       "      <td>NaN</td>\n",
       "    </tr>\n",
       "    <tr>\n",
       "      <th>3</th>\n",
       "      <td>sh603669</td>\n",
       "      <td>2.44</td>\n",
       "      <td>NaN</td>\n",
       "      <td>-9.68</td>\n",
       "      <td>-8.65</td>\n",
       "      <td>-8.63</td>\n",
       "      <td>-17.00</td>\n",
       "      <td>-36.80</td>\n",
       "      <td>NaN</td>\n",
       "      <td>NaN</td>\n",
       "      <td>...</td>\n",
       "      <td>NaN</td>\n",
       "      <td>NaN</td>\n",
       "      <td>NaN</td>\n",
       "      <td>NaN</td>\n",
       "      <td>NaN</td>\n",
       "      <td>NaN</td>\n",
       "      <td>NaN</td>\n",
       "      <td>NaN</td>\n",
       "      <td>NaN</td>\n",
       "      <td>NaN</td>\n",
       "    </tr>\n",
       "    <tr>\n",
       "      <th>4</th>\n",
       "      <td>sh603800</td>\n",
       "      <td>-13.96</td>\n",
       "      <td>NaN</td>\n",
       "      <td>-10.60</td>\n",
       "      <td>-38.39</td>\n",
       "      <td>5.10</td>\n",
       "      <td>NaN</td>\n",
       "      <td>NaN</td>\n",
       "      <td>NaN</td>\n",
       "      <td>NaN</td>\n",
       "      <td>...</td>\n",
       "      <td>NaN</td>\n",
       "      <td>NaN</td>\n",
       "      <td>NaN</td>\n",
       "      <td>NaN</td>\n",
       "      <td>NaN</td>\n",
       "      <td>NaN</td>\n",
       "      <td>NaN</td>\n",
       "      <td>NaN</td>\n",
       "      <td>NaN</td>\n",
       "      <td>NaN</td>\n",
       "    </tr>\n",
       "  </tbody>\n",
       "</table>\n",
       "<p>5 rows × 139 columns</p>\n",
       "</div>"
      ],
      "text/plain": [
       "       file 16-09-30 16-07-08 16-06-30 16-03-31 15-12-31 15-09-30 15-06-30  \\\n",
       "0  sh601789    -0.12     0.23     6.56   -19.01   -26.40   104.63    21.37   \n",
       "1  sh601801    -6.85      NaN     7.39    15.12     0.12    -8.87     9.60   \n",
       "2  sh603025     1.83      NaN    -7.13    -0.83    -3.99   -13.56   -27.66   \n",
       "3  sh603669     2.44      NaN    -9.68    -8.65    -8.63   -17.00   -36.80   \n",
       "4  sh603800   -13.96      NaN   -10.60   -38.39     5.10      NaN      NaN   \n",
       "\n",
       "  15-04-14 15-03-31   ...    14-11-04 16-07-30 15-08-15 15-02-27 15-12-22  \\\n",
       "0    -4.18     4.94   ...         NaN      NaN      NaN      NaN      NaN   \n",
       "1      NaN   -34.46   ...         NaN      NaN      NaN      NaN      NaN   \n",
       "2      NaN       --   ...         NaN      NaN      NaN      NaN      NaN   \n",
       "3      NaN      NaN   ...         NaN      NaN      NaN      NaN      NaN   \n",
       "4      NaN      NaN   ...         NaN      NaN      NaN      NaN      NaN   \n",
       "\n",
       "  16-07-19 15-03-03 16-08-13 16-05-09 15-06-29  \n",
       "0      NaN      NaN      NaN      NaN      NaN  \n",
       "1      NaN      NaN      NaN      NaN      NaN  \n",
       "2      NaN      NaN      NaN      NaN      NaN  \n",
       "3      NaN      NaN      NaN      NaN      NaN  \n",
       "4      NaN      NaN      NaN      NaN      NaN  \n",
       "\n",
       "[5 rows x 139 columns]"
      ]
     },
     "execution_count": 16,
     "metadata": {},
     "output_type": "execute_result"
    }
   ],
   "source": [
    "z.sort_index().head()"
   ]
  }
 ],
 "metadata": {
  "kernelspec": {
   "display_name": "Python 2",
   "language": "python",
   "name": "python2"
  },
  "language_info": {
   "codemirror_mode": {
    "name": "ipython",
    "version": 2
   },
   "file_extension": ".py",
   "mimetype": "text/x-python",
   "name": "python",
   "nbconvert_exporter": "python",
   "pygments_lexer": "ipython2",
   "version": "2.7.10"
  }
 },
 "nbformat": 4,
 "nbformat_minor": 0
}
