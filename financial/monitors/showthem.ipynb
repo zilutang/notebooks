{
 "cells": [
  {
   "cell_type": "code",
   "execution_count": 117,
   "metadata": {
    "collapsed": false,
    "scrolled": false
   },
   "outputs": [
    {
     "name": "stdout",
     "output_type": "stream",
     "text": [
      "---------------------------------------\n",
      "         id       name     cper\n",
      "2  sh601126  \u001b[39m四方股份   +1.49%\n",
      "4  sz002651  \u001b[39m利君股份  +10.00%\n",
      "Empty DataFrame\n",
      "Columns: [id, name, cper]\n",
      "Index: []\n",
      "-----------------------------------------\n",
      "---------------------------------------\n",
      "          id       name     cper\n",
      "2   sh601126  \u001b[39m四方股份   +1.49%\n",
      "3   sz002553  \u001b[39m南方轴承   +4.58%\n",
      "4   sz002651  \u001b[39m利君股份  +10.00%\n",
      "12  sz002143  \u001b[39m印纪传媒   +1.62%\n",
      "         id       name    cper\n",
      "1  sz000607  \u001b[90m华媒控股  -4.02%\n",
      "-----------------------------------------\n"
     ]
    }
   ],
   "source": [
    "import pandas as pd\n",
    "import numpy as np\n",
    "import seaborn as sns\n",
    "import urllib\n",
    "import urllib2\n",
    "import simplejson\n",
    "import json\n",
    "import ast\n",
    "import matplotlib.pyplot as plt\n",
    "import time\n",
    "import sys\n",
    "import re\n",
    "import time\n",
    "import string as S\n",
    "import getopt\n",
    "import platform\n",
    "import ConfigParser\n",
    "\n",
    "framereplus = pd.read_csv('resultplus.txt', encoding='GBK', names=['id', 'name', 'cper'])\n",
    "framereminer = pd.read_csv('resultminer.txt', encoding='GBK', names=['id', 'name', 'cper'])\n",
    "\n",
    "print '---------------------------------------'\n",
    "speciallist = ['sz002651', 'sh601126', 'sh002561']\n",
    "print framereplus[framereplus.id.isin(speciallist)]\n",
    "print framereminer[framereminer.id.isin(speciallist)]\n",
    "print '-----------------------------------------'\n",
    "\n",
    "print '---------------------------------------'\n",
    "todaylist = ['sz000607', 'sh601126', 'sz002553', 'sz002651', 'sz002143']\n",
    "print framereplus[framereplus.id.isin(todaylist)]\n",
    "print framereminer[framereminer.id.isin(todaylist)]\n",
    "print '-----------------------------------------'\n",
    "\n"
   ]
  },
  {
   "cell_type": "code",
   "execution_count": 64,
   "metadata": {
    "collapsed": false
   },
   "outputs": [
    {
     "name": "stdout",
     "output_type": "stream",
     "text": [
      "          id        name    cper\n",
      "0          0           1       2\n",
      "1   sh601126   \u001b[39m四方股份  +3.08%\n",
      "2   sz002553   \u001b[39m南方轴承  +5.26%\n",
      "3   sz002651   \u001b[39m利君股份  +0.22%\n",
      "4   sh600069   \u001b[39m银鸽投资  +0.75%\n",
      "5   sz000520   \u001b[39m长航凤凰  +1.19%\n",
      "6   sz002251  \u001b[39m步 步 高  +1.41%\n",
      "7   sh600722   \u001b[39m金牛化工  +0.93%\n",
      "8   sh600703   \u001b[39m三安光电  +0.21%\n",
      "9   sz002561    \u001b[39m徐家汇  +0.64%\n",
      "10  sh601801   \u001b[39m皖新传媒  +1.70%\n",
      "11  sz002143   \u001b[39m印纪传媒  +0.94%\n",
      "12  sh603333   \u001b[39m明星电缆  +1.75%\n",
      "13  sz002347   \u001b[39m泰尔股份  +0.49%\n",
      "14  sz300278    \u001b[39m华昌达  +0.38%\n",
      "15  sz000993   \u001b[39m闽东电力  +0.94%\n",
      "16  sh600758   \u001b[39m红阳能源  +2.06%\n",
      "17  sh600099   \u001b[39m林海股份  +0.54%\n",
      "18  sz300175   \u001b[39m朗源股份  +1.40%\n",
      "19  sz002486    \u001b[39m嘉麟杰  +1.71%\n",
      "20  sh600619   \u001b[39m海立股份  +0.39%\n",
      "21  sz002018   \u001b[39m华信国际  +1.36%\n",
      "22  sh600275    \u001b[39m武昌鱼  +2.57%\n",
      "23  sz002456    \u001b[39m欧菲光  +1.14%\n",
      "24  sz000672   \u001b[39m上峰水泥  +0.27%\n",
      "25  sz002408   \u001b[39m齐翔腾达  +2.47%\n",
      "26  sh600497   \u001b[39m驰宏锌锗  +0.93%\n",
      "27  sh600887   \u001b[39m伊利股份  +0.49%\n",
      "28  sz002114   \u001b[39m罗平锌电  +0.45%\n",
      "29  sz002110   \u001b[39m三钢闽光  +2.25%\n",
      "30  sz000726  \u001b[39m鲁  泰Ａ  +1.18%\n",
      "31  sz000651   \u001b[39m格力电器  +2.01%\n",
      "32  sz002102   \u001b[39m冠福股份  +0.21%\n",
      "33  sz000039   \u001b[39m中集集团  +0.51%\n",
      "34  sh601668   \u001b[39m中国建筑  +0.58%\n",
      "35  sh600528   \u001b[39m中铁二局  +1.50%\n",
      "36  sh600302   \u001b[39m标准股份  +2.07%\n",
      "37  sz000017   \u001b[39m深中华A  +1.06%\n",
      "------------------------------------\n",
      "         id       name    cper\n",
      "0         0          1       2\n",
      "1  sz000607  \u001b[90m华媒控股  -3.55%\n",
      "2  sz000759  \u001b[90m中百集团  -0.60%\n",
      "3  sh603300  \u001b[90m华铁科技  -1.18%\n",
      "4  sh600793  \u001b[90m宜宾纸业  -0.22%\n",
      "5  sz300174  \u001b[90m元力股份  -2.26%\n",
      "6  sz002694  \u001b[90m顾地科技  -0.74%\n"
     ]
    }
   ],
   "source": [
    "\n",
    "print framereplus\n",
    "\n",
    "print '------------------------------------'\n",
    "\n",
    "print framereminer\n"
   ]
  },
  {
   "cell_type": "code",
   "execution_count": null,
   "metadata": {
    "collapsed": true
   },
   "outputs": [],
   "source": []
  },
  {
   "cell_type": "code",
   "execution_count": null,
   "metadata": {
    "collapsed": true
   },
   "outputs": [],
   "source": []
  }
 ],
 "metadata": {
  "kernelspec": {
   "display_name": "Python 2",
   "language": "python",
   "name": "python2"
  },
  "language_info": {
   "codemirror_mode": {
    "name": "ipython",
    "version": 2
   },
   "file_extension": ".py",
   "mimetype": "text/x-python",
   "name": "python",
   "nbconvert_exporter": "python",
   "pygments_lexer": "ipython2",
   "version": "2.7.10"
  }
 },
 "nbformat": 4,
 "nbformat_minor": 0
}
