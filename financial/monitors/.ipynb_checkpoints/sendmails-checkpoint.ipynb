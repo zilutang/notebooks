{
 "cells": [
  {
   "cell_type": "code",
   "execution_count": 6,
   "metadata": {
    "collapsed": false
   },
   "outputs": [
    {
     "name": "stdout",
     "output_type": "stream",
     "text": [
      "done!\n",
      "done!\n"
     ]
    }
   ],
   "source": [
    "import smtplib\n",
    "from email.mime.text import MIMEText\n",
    "mailto_list=['zilu.tang@thomsonreuters.com']           #收件人(列表)\n",
    "mail_host=\"smtp.163.com\"            #使用的邮箱的smtp服务器地址\n",
    "mail_user=\"weiminghu1984\"                           #用户名\n",
    "mail_pass=\"uuru1gexnmima\"                             #密码\n",
    "mail_postfix=\"163.com\"                     #邮箱的后缀\n",
    "def send_mail(to_list,sub,content):\n",
    "    me=\"hello\"+\"<\"+mail_user+\"@\"+mail_postfix+\">\"\n",
    "    msg = MIMEText(content,_subtype='plain')\n",
    "    msg['Subject'] = sub\n",
    "    msg['From'] = me\n",
    "    msg['To'] = \";\".join(to_list)                #将收件人列表以‘；’分隔\n",
    "    try:\n",
    "        server = smtplib.SMTP()\n",
    "        server.connect(mail_host)                            #连接服务器\n",
    "        server.login(mail_user,mail_pass)               #登录操作\n",
    "        server.sendmail(me, to_list, msg.as_string())\n",
    "        server.close()\n",
    "        return True\n",
    "    except Exception, e:\n",
    "        print str(e)\n",
    "        return False\n",
    "for i in range(2):                             #发送五封，不过会被拦截的。。。\n",
    "    if send_mail(mailto_list,\"hello\",\"Good Morning\"):  #邮件主题和邮件内容\n",
    "        print \"done!\"\n",
    "    else:\n",
    "        print \"failed!\""
   ]
  }
 ],
 "metadata": {
  "kernelspec": {
   "display_name": "Python 2",
   "language": "python",
   "name": "python2"
  },
  "language_info": {
   "codemirror_mode": {
    "name": "ipython",
    "version": 2
   },
   "file_extension": ".py",
   "mimetype": "text/x-python",
   "name": "python",
   "nbconvert_exporter": "python",
   "pygments_lexer": "ipython2",
   "version": "2.7.10"
  }
 },
 "nbformat": 4,
 "nbformat_minor": 0
}
