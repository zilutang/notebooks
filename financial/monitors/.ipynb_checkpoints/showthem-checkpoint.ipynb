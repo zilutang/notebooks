{
 "cells": [
  {
   "cell_type": "code",
   "execution_count": 60,
   "metadata": {
    "collapsed": false,
    "scrolled": false
   },
   "outputs": [
    {
     "name": "stdout",
     "output_type": "stream",
     "text": [
      "---------------------------------------\n",
      "         id       name    cper\n",
      "1  sh601126  \u001b[39m四方股份  +2.99%\n",
      "3  sz002651  \u001b[39m利君股份  +0.15%\n",
      "Empty DataFrame\n",
      "Columns: [id, name, cper]\n",
      "Index: []\n",
      "-----------------------------------------\n",
      "---------------------------------------\n",
      "          id       name    cper\n",
      "1   sh601126  \u001b[39m四方股份  +2.99%\n",
      "2   sz002553  \u001b[39m南方轴承  +5.19%\n",
      "3   sz002651  \u001b[39m利君股份  +0.15%\n",
      "11  sz002143  \u001b[39m印纪传媒  +0.97%\n",
      "         id       name    cper\n",
      "1  sz000607  \u001b[90m华媒控股  -3.55%\n",
      "-----------------------------------------\n"
     ]
    }
   ],
   "source": [
    "import pandas as pd\n",
    "import numpy as np\n",
    "import seaborn as sns\n",
    "import urllib\n",
    "import urllib2\n",
    "import simplejson\n",
    "import json\n",
    "import ast\n",
    "import matplotlib.pyplot as plt\n",
    "import time\n",
    "import sys\n",
    "import re\n",
    "import time\n",
    "import string as S\n",
    "import getopt\n",
    "import platform\n",
    "import ConfigParser\n",
    "\n",
    "framereplus = pd.read_csv('resultplus.txt', encoding='GBK', names=['id', 'name', 'cper'])\n",
    "framereminer = pd.read_csv('resultminer.txt', encoding='GBK', names=['id', 'name', 'cper'])\n",
    "\n",
    "print '---------------------------------------'\n",
    "speciallist = ['sz002651', 'sh601126', 'sh002561']\n",
    "print framereplus[framereplus.id.isin(speciallist)]\n",
    "print framereminer[framereminer.id.isin(speciallist)]\n",
    "print '-----------------------------------------'\n",
    "\n",
    "print '---------------------------------------'\n",
    "todaylist = ['sz000607', 'sh601126', 'sz002553', 'sz002651', 'sz002143']\n",
    "print framereplus[framereplus.id.isin(todaylist)]\n",
    "print framereminer[framereminer.id.isin(todaylist)]\n",
    "print '-----------------------------------------'\n",
    "\n"
   ]
  },
  {
   "cell_type": "code",
   "execution_count": 100,
   "metadata": {
    "collapsed": false
   },
   "outputs": [
    {
     "name": "stdout",
     "output_type": "stream",
     "text": [
      "          id       name    cper\n",
      "0          0          1       2\n",
      "1   sz002651  \u001b[39m利君股份  +5.70%\n",
      "2   sz000520  \u001b[39m长航凤凰  +2.44%\n",
      "3   sh603300  \u001b[39m华铁科技  +1.67%\n",
      "4   sh600703  \u001b[39m三安光电  +0.07%\n",
      "5   sz002561   \u001b[39m徐家汇  +1.46%\n",
      "6   sz002143  \u001b[39m印纪传媒  +0.06%\n",
      "7   sz000993  \u001b[39m闽东电力  +4.45%\n",
      "8   sz300175  \u001b[39m朗源股份  +0.16%\n",
      "9   sh600275   \u001b[39m武昌鱼  +0.42%\n",
      "10  sh600793  \u001b[39m宜宾纸业  +1.12%\n",
      "11  sz002456   \u001b[39m欧菲光  +0.58%\n",
      "12  sz002408  \u001b[39m齐翔腾达  +5.10%\n",
      "13  sh600497  \u001b[39m驰宏锌锗  +0.93%\n",
      "14  sh600887  \u001b[39m伊利股份  +0.55%\n",
      "15  sz000651  \u001b[39m格力电器  +2.57%\n",
      "16  sz000039  \u001b[39m中集集团  +0.39%\n",
      "17  sh601668  \u001b[39m中国建筑  +0.93%\n",
      "18  sh600528  \u001b[39m中铁二局  +0.67%\n",
      "------------------------------------\n",
      "          id        name      cper\n",
      "0          0           1         2\n",
      "1   sz002553   \u001b[90m南方轴承    -1.40%\n",
      "2   sh600069   \u001b[90m银鸽投资    -0.76%\n",
      "3   sz000759   \u001b[90m中百集团    -2.44%\n",
      "4   sz002251  \u001b[90m步 步 高    -1.91%\n",
      "5   sh600722   \u001b[90m金牛化工    -2.14%\n",
      "6   sh601801   \u001b[90m皖新传媒    -0.59%\n",
      "7   sh603333   \u001b[90m明星电缆    -1.80%\n",
      "8   sz002347   \u001b[90m泰尔股份    -6.98%\n",
      "9   sz300278    \u001b[90m华昌达    -0.53%\n",
      "10  sh600758   \u001b[90m红阳能源    -1.25%\n",
      "11  sh600099   \u001b[90m林海股份    -2.03%\n",
      "12  sz002486    \u001b[90m嘉麟杰    -0.25%\n",
      "13  sh600619   \u001b[90m海立股份    -0.62%\n",
      "14  sz002018   \u001b[90m华信国际    -0.44%\n",
      "15  sz300174   \u001b[90m元力股份    -0.30%\n",
      "16  sz002694   \u001b[90m顾地科技  -100.00%\n",
      "17  sz000672   \u001b[90m上峰水泥    -1.23%\n",
      "18  sz002114   \u001b[90m罗平锌电    -0.97%\n",
      "19  sz002110   \u001b[90m三钢闽光    -1.52%\n",
      "20  sz000726  \u001b[90m鲁  泰Ａ    -0.50%\n",
      "21  sz002102   \u001b[90m冠福股份    -0.62%\n",
      "22  sh600302   \u001b[90m标准股份    -0.41%\n",
      "23  sz000017   \u001b[90m深中华A    -0.69%\n"
     ]
    }
   ],
   "source": [
    "\n",
    "print framereplus\n",
    "\n",
    "print '------------------------------------'\n",
    "\n",
    "print framereminer\n"
   ]
  },
  {
   "cell_type": "code",
   "execution_count": null,
   "metadata": {
    "collapsed": true
   },
   "outputs": [],
   "source": []
  },
  {
   "cell_type": "code",
   "execution_count": null,
   "metadata": {
    "collapsed": true
   },
   "outputs": [],
   "source": []
  }
 ],
 "metadata": {
  "kernelspec": {
   "display_name": "Python 2",
   "language": "python",
   "name": "python2"
  },
  "language_info": {
   "codemirror_mode": {
    "name": "ipython",
    "version": 2
   },
   "file_extension": ".py",
   "mimetype": "text/x-python",
   "name": "python",
   "nbconvert_exporter": "python",
   "pygments_lexer": "ipython2",
   "version": "2.7.10"
  }
 },
 "nbformat": 4,
 "nbformat_minor": 0
}
