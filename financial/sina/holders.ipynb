{
 "cells": [
  {
   "cell_type": "code",
   "execution_count": 1,
   "metadata": {
    "collapsed": true
   },
   "outputs": [],
   "source": [
    "import pandas as pd\n",
    "import numpy as np\n",
    "import seaborn as sns\n",
    "import os\n",
    "%matplotlib inline"
   ]
  },
  {
   "cell_type": "code",
   "execution_count": 2,
   "metadata": {
    "collapsed": false
   },
   "outputs": [],
   "source": [
    "listfile=os.listdir('./data/gdrs/')\n",
    "filename = listfile[0]\n",
    "gdrs = pd.read_html('./data/gdrs/' + filename, header=0)\n",
    "z = gdrs[0].ix[1:1, 1:]\n",
    "z.insert(0, 'file', filename, allow_duplicates=False)\n",
    "def mergefiles(arg):\n",
    "    global z\n",
    "    try:        \n",
    "        gdrs = pd.read_html('./data/gdrs/' + arg, header=0)\n",
    "        x = gdrs[0].ix[1:1, 1:]\n",
    "        x.insert(0, 'file', arg, allow_duplicates=False)\n",
    "        z = pd.merge(z, x, how='outer')\n",
    "    except Exception,ex:\n",
    "        print arg\n",
    "        print Exception,\":\",ex\n",
    "        pass"
   ]
  },
  {
   "cell_type": "markdown",
   "metadata": {},
   "source": [
    "## 生成合并后的z数据"
   ]
  },
  {
   "cell_type": "code",
   "execution_count": 3,
   "metadata": {
    "collapsed": false,
    "scrolled": true
   },
   "outputs": [
    {
     "name": "stdout",
     "output_type": "stream",
     "text": [
      "sz300060\n",
      "<type 'exceptions.Exception'> : No tables found\n"
     ]
    },
    {
     "data": {
      "text/plain": [
       "0       None\n",
       "1       None\n",
       "2       None\n",
       "3       None\n",
       "4       None\n",
       "5       None\n",
       "6       None\n",
       "7       None\n",
       "8       None\n",
       "9       None\n",
       "10      None\n",
       "11      None\n",
       "12      None\n",
       "13      None\n",
       "14      None\n",
       "15      None\n",
       "16      None\n",
       "17      None\n",
       "18      None\n",
       "19      None\n",
       "20      None\n",
       "21      None\n",
       "22      None\n",
       "23      None\n",
       "24      None\n",
       "25      None\n",
       "26      None\n",
       "27      None\n",
       "28      None\n",
       "29      None\n",
       "        ... \n",
       "2995    None\n",
       "2996    None\n",
       "2997    None\n",
       "2998    None\n",
       "2999    None\n",
       "3000    None\n",
       "3001    None\n",
       "3002    None\n",
       "3003    None\n",
       "3004    None\n",
       "3005    None\n",
       "3006    None\n",
       "3007    None\n",
       "3008    None\n",
       "3009    None\n",
       "3010    None\n",
       "3011    None\n",
       "3012    None\n",
       "3013    None\n",
       "3014    None\n",
       "3015    None\n",
       "3016    None\n",
       "3017    None\n",
       "3018    None\n",
       "3019    None\n",
       "3020    None\n",
       "3021    None\n",
       "3022    None\n",
       "3023    None\n",
       "3024    None\n",
       "Name: 0, dtype: object"
      ]
     },
     "execution_count": 3,
     "metadata": {},
     "output_type": "execute_result"
    }
   ],
   "source": [
    "pdfilelist = pd.DataFrame(listfile)[0]\n",
    "pdfilelist.apply(mergefiles)"
   ]
  },
  {
   "cell_type": "markdown",
   "metadata": {},
   "source": [
    "## 生成csv"
   ]
  },
  {
   "cell_type": "code",
   "execution_count": 4,
   "metadata": {
    "collapsed": false
   },
   "outputs": [],
   "source": [
    "ztt = z.T.sort_index(ascending=False).T.replace(np.nan, '--')\n",
    "ztt.to_csv('./data/ztt.csv')\n",
    "ztt.T.to_csv('./data/ztt0.csv')"
   ]
  },
  {
   "cell_type": "code",
   "execution_count": null,
   "metadata": {
    "collapsed": true
   },
   "outputs": [],
   "source": [
    "z.T.sort_index(ascending=False).T.replace(np.nan, '--').to_html('./data/ztt.html')"
   ]
  },
  {
   "cell_type": "code",
   "execution_count": 60,
   "metadata": {
    "collapsed": false,
    "scrolled": true
   },
   "outputs": [
    {
     "data": {
      "text/html": [
       "<div>\n",
       "<table border=\"1\" class=\"dataframe\">\n",
       "  <thead>\n",
       "    <tr style=\"text-align: right;\">\n",
       "      <th></th>\n",
       "      <th>file</th>\n",
       "      <th>16-11-30</th>\n",
       "      <th>16-11-15</th>\n",
       "      <th>16-11-04</th>\n",
       "      <th>16-10-31</th>\n",
       "      <th>16-10-15</th>\n",
       "      <th>16-10-14</th>\n",
       "      <th>16-09-30</th>\n",
       "      <th>16-09-15</th>\n",
       "      <th>16-09-14</th>\n",
       "      <th>...</th>\n",
       "      <th>15-03-03</th>\n",
       "      <th>15-02-10</th>\n",
       "      <th>15-02-09</th>\n",
       "      <th>15-02-03</th>\n",
       "      <th>15-01-26</th>\n",
       "      <th>15-01-23</th>\n",
       "      <th>14-12-31</th>\n",
       "      <th>14-12-30</th>\n",
       "      <th>14-11-05</th>\n",
       "      <th>14-09-30</th>\n",
       "    </tr>\n",
       "  </thead>\n",
       "  <tbody>\n",
       "    <tr>\n",
       "      <th>0</th>\n",
       "      <td>sh600016</td>\n",
       "      <td>--</td>\n",
       "      <td>--</td>\n",
       "      <td>--</td>\n",
       "      <td>--</td>\n",
       "      <td>--</td>\n",
       "      <td>--</td>\n",
       "      <td>--</td>\n",
       "      <td>--</td>\n",
       "      <td>--</td>\n",
       "      <td>...</td>\n",
       "      <td>--</td>\n",
       "      <td>--</td>\n",
       "      <td>--</td>\n",
       "      <td>--</td>\n",
       "      <td>--</td>\n",
       "      <td>--</td>\n",
       "      <td>--</td>\n",
       "      <td>--</td>\n",
       "      <td>--</td>\n",
       "      <td>--</td>\n",
       "    </tr>\n",
       "    <tr>\n",
       "      <th>1</th>\n",
       "      <td>sh600056</td>\n",
       "      <td>--</td>\n",
       "      <td>--</td>\n",
       "      <td>--</td>\n",
       "      <td>--</td>\n",
       "      <td>--</td>\n",
       "      <td>--</td>\n",
       "      <td>-22.64</td>\n",
       "      <td>--</td>\n",
       "      <td>--</td>\n",
       "      <td>...</td>\n",
       "      <td>--</td>\n",
       "      <td>--</td>\n",
       "      <td>--</td>\n",
       "      <td>--</td>\n",
       "      <td>--</td>\n",
       "      <td>--</td>\n",
       "      <td>-6.22</td>\n",
       "      <td>--</td>\n",
       "      <td>--</td>\n",
       "      <td>--</td>\n",
       "    </tr>\n",
       "    <tr>\n",
       "      <th>2</th>\n",
       "      <td>sh600062</td>\n",
       "      <td>--</td>\n",
       "      <td>--</td>\n",
       "      <td>--</td>\n",
       "      <td>--</td>\n",
       "      <td>--</td>\n",
       "      <td>--</td>\n",
       "      <td>-12.33</td>\n",
       "      <td>--</td>\n",
       "      <td>--</td>\n",
       "      <td>...</td>\n",
       "      <td>--</td>\n",
       "      <td>--</td>\n",
       "      <td>--</td>\n",
       "      <td>--</td>\n",
       "      <td>--</td>\n",
       "      <td>--</td>\n",
       "      <td>0.12</td>\n",
       "      <td>--</td>\n",
       "      <td>--</td>\n",
       "      <td>--</td>\n",
       "    </tr>\n",
       "    <tr>\n",
       "      <th>3</th>\n",
       "      <td>sh600069</td>\n",
       "      <td>--</td>\n",
       "      <td>--</td>\n",
       "      <td>--</td>\n",
       "      <td>--</td>\n",
       "      <td>--</td>\n",
       "      <td>--</td>\n",
       "      <td>-10.19</td>\n",
       "      <td>--</td>\n",
       "      <td>--</td>\n",
       "      <td>...</td>\n",
       "      <td>--</td>\n",
       "      <td>--</td>\n",
       "      <td>--</td>\n",
       "      <td>--</td>\n",
       "      <td>--</td>\n",
       "      <td>--</td>\n",
       "      <td>-2.12</td>\n",
       "      <td>--</td>\n",
       "      <td>--</td>\n",
       "      <td>--</td>\n",
       "    </tr>\n",
       "    <tr>\n",
       "      <th>4</th>\n",
       "      <td>sh600099</td>\n",
       "      <td>--</td>\n",
       "      <td>--</td>\n",
       "      <td>--</td>\n",
       "      <td>--</td>\n",
       "      <td>--</td>\n",
       "      <td>--</td>\n",
       "      <td>-8.25</td>\n",
       "      <td>--</td>\n",
       "      <td>--</td>\n",
       "      <td>...</td>\n",
       "      <td>--</td>\n",
       "      <td>--</td>\n",
       "      <td>--</td>\n",
       "      <td>--</td>\n",
       "      <td>--</td>\n",
       "      <td>--</td>\n",
       "      <td>11.35</td>\n",
       "      <td>--</td>\n",
       "      <td>--</td>\n",
       "      <td>--</td>\n",
       "    </tr>\n",
       "  </tbody>\n",
       "</table>\n",
       "<p>5 rows × 80 columns</p>\n",
       "</div>"
      ],
      "text/plain": [
       "       file 16-11-30 16-11-15 16-11-04 16-10-31 16-10-15 16-10-14 16-09-30  \\\n",
       "0  sh600016       --       --       --       --       --       --       --   \n",
       "1  sh600056       --       --       --       --       --       --   -22.64   \n",
       "2  sh600062       --       --       --       --       --       --   -12.33   \n",
       "3  sh600069       --       --       --       --       --       --   -10.19   \n",
       "4  sh600099       --       --       --       --       --       --    -8.25   \n",
       "\n",
       "  16-09-15 16-09-14   ...    15-03-03 15-02-10 15-02-09 15-02-03 15-01-26  \\\n",
       "0       --       --   ...          --       --       --       --       --   \n",
       "1       --       --   ...          --       --       --       --       --   \n",
       "2       --       --   ...          --       --       --       --       --   \n",
       "3       --       --   ...          --       --       --       --       --   \n",
       "4       --       --   ...          --       --       --       --       --   \n",
       "\n",
       "  15-01-23 14-12-31 14-12-30 14-11-05 14-09-30  \n",
       "0       --       --       --       --       --  \n",
       "1       --    -6.22       --       --       --  \n",
       "2       --     0.12       --       --       --  \n",
       "3       --    -2.12       --       --       --  \n",
       "4       --    11.35       --       --       --  \n",
       "\n",
       "[5 rows x 80 columns]"
      ]
     },
     "execution_count": 60,
     "metadata": {},
     "output_type": "execute_result"
    }
   ],
   "source": [
    "ztt.head()"
   ]
  },
  {
   "cell_type": "markdown",
   "metadata": {},
   "source": [
    "## 生成excel公式"
   ]
  },
  {
   "cell_type": "code",
   "execution_count": 26,
   "metadata": {
    "collapsed": false,
    "scrolled": true
   },
   "outputs": [
    {
     "name": "stdout",
     "output_type": "stream",
     "text": [
      "A3&\",\"&B3&\",\"&C3&\",\"&D3&\",\"&E3&\",\"&F3&\",\"&G3&\",\"&H3&\",\"&I3&\",\"&J3&\",\"&K3&\",\"&L3&\",\"&M3&\",\"&N3&\",\"&O3&\",\"&P3&\",\"&Q3&\",\"&R3&\",\"&S3&\",\"&T3&\",\"&U3&\",\"&V3&\",\"&W3&\",\"&X3&\",\"&Y3&\",\"&Z3&\",\"&AA3&\",\"&AB3&\",\"&AC3&\",\"&AD3&\",\"&AE3&\",\"&AF3&\",\"&AG3&\",\"&AH3&\",\"&AI3&\",\"&AJ3&\",\"&AK3&\",\"&AL3&\",\"&AM3&\",\"&AN3&\",\"&AO3&\",\"&AP3&\",\"&AQ3&\",\"&AR3&\",\"&AS3&\",\"&AT3&\",\"&AU3&\",\"&AV3&\",\"&AW3&\",\"&AX3&\",\"&AY3&\",\"&AZ3&\",\"&BA3&\",\"&BB3&\",\"&BC3&\",\"&BD3&\",\"&BE3&\",\"&BF3&\",\"&BG3&\",\"&BH3&\",\"&BI3&\",\"&BJ3&\",\"&BK3&\",\"&BL3&\",\"&BM3&\",\"&BN3&\",\"&BO3&\",\"&BP3&\",\"&BQ3&\",\"&BR3&\",\"&BS3&\",\"&BT3&\",\"&BU3&\",\"&BV3&\",\"&BW3&\",\"&BX3&\",\"&BY3&\",\"&BZ3&\",\"&CA3&\",\"&CB3&\",\"&CC3&\",\"&CD3&\",\"&CE3&\",\"&CF3&\",\"&CG3&\",\"&CH3&\",\"&CI3&\",\"&CJ3&\",\"&CK3&\",\"&CL3&\",\"&CM3&\",\"&CN3&\",\"&CO3&\",\"&CP3&\",\"&CQ3&\",\"&CR3&\",\"&CS3&\",\"&CT3&\",\"&CU3&\",\"&CV3&\",\"&CW3&\",\"&CX3&\",\"&CY3&\",\"&CZ3&\",\"&DA3&\",\"&DB3&\",\"&DC3&\",\"&DD3&\",\"&DE3&\",\"&DF3&\",\"&DG3&\",\"&DH3&\",\"&DI3&\",\"&DJ3&\",\"&DK3&\",\"&DL3&\",\"&DM3&\",\"&DN3&\",\"&DO3&\",\"&DP3&\",\"&DQ3&\",\"&DR3&\",\"&DS3&\",\"&DT3&\",\"&DU3&\",\"&DV3&\",\"&DW3&\",\"&DX3&\",\"&DY3&\",\"&DZ3&\",\"&EA3&\",\"&EB3&\",\"&EC3&\",\"&ED3&\",\"&EE3&\",\"&EF3&\",\"&EG3&\",\"&EH3&\",\"&EI3&\",\"&EJ3&\",\"&EK3&\",\"&EL3&\",\"&EM3&\",\"&EN3&\",\"&EO3&\",\"&EP3&\",\"&EQ3&\",\"&ER3&\",\"&ES3&\",\"&ET3&\",\"&EU3&\",\"&EV3&\",\"&EW3&\",\"&EX3&\",\"&EY3&\",\"&EZ3&\",\"&FA3&\",\"&FB3&\",\"&FC3&\",\"&FD3&\",\"&FE3&\",\"&FF3&\",\"&FG3&\",\"&FH3&\",\"&FI3&\",\"&FJ3&\",\"&FK3&\",\"&FL3&\",\"&FM3&\",\"&FN3&\",\"&FO3&\",\"&FP3&\",\"&FQ3&\",\"&FR3&\",\"&FS3&\",\"&FT3&\",\"&FU3&\",\"&FV3&\",\"&FW3&\",\"&FX3&\",\"&FY3&\",\"&FZ3&\",\"&GA3&\",\"&GB3&\",\"&GC3&\",\"&GD3&\",\"&GE3&\",\"&GF3&\",\"&GG3&\",\"&GH3&\",\"&GI3&\",\"&GJ3&\",\"&GK3&\",\"&GL3&\",\"&GM3&\",\"&GN3&\",\"&GO3&\",\"&GP3&\",\"&GQ3&\",\"&GR3&\",\"&GS3&\",\"&GT3&\",\"&GU3&\",\"&GV3&\",\"&GW3&\",\"&GX3&\",\"&GY3&\",\"&GZ3&\",\"&HA3&\",\"&HB3&\",\"&HC3&\",\"&HD3&\",\"&HE3&\",\"&HF3&\",\"&HG3&\",\"&HH3&\",\"&HI3&\",\"&HJ3&\",\"&HK3&\",\"&HL3&\",\"&HM3&\",\"&HN3&\",\"&HO3&\",\"&HP3&\",\"&HQ3&\",\"&HR3&\",\"&HS3&\",\"&HT3&\",\"&HU3&\",\"&HV3&\",\"&HW3&\",\"&HX3&\",\"&HY3&\",\"&HZ3&\",\"&IA3&\",\"&IB3&\",\"&IC3&\",\"&ID3&\",\"&IE3&\",\"&IF3&\",\"&IG3&\",\"&IH3&\",\"&II3&\",\"&IJ3&\",\"&IK3&\",\"&IL3&\",\"&IM3&\",\"&IN3&\",\"&IO3&\",\"&IP3&\",\"&IQ3&\",\"&IR3&\",\"&IS3&\",\"&IT3&\",\"&IU3&\",\"&IV3&\",\"&IW3&\",\"&IX3&\",\"&IY3&\",\"&IZ3&\",\"&JA3&\",\"&JB3&\",\"&JC3&\",\"&JD3&\",\"&JE3&\",\"&JF3&\",\"&JG3&\",\"&JH3&\",\"&JI3&\",\"&JJ3&\",\"&JK3&\",\"&JL3&\",\"&JM3&\",\"&JN3&\",\"&JO3&\",\"&JP3&\",\"&JQ3&\",\"&JR3&\",\"&JS3&\",\"&JT3&\",\"&JU3&\",\"&JV3&\",\"&JW3&\",\"&JX3&\",\"&JY3&\",\"&JZ3&\",\"&KA3&\",\"&KB3&\",\"&KC3&\",\"&KD3&\",\"&KE3&\",\"&KF3&\",\"&KG3&\",\"&KH3&\",\"&KI3&\",\"&KJ3&\",\"&KK3&\",\"&KL3&\",\"&KM3&\",\"&KN3&\",\"&KO3&\",\"&KP3&\",\"&KQ3&\",\"&KR3&\",\"&KS3&\",\"&KT3&\",\"&KU3&\",\"&KV3&\",\"&KW3&\",\"&KX3&\",\"&KY3&\",\"&KZ3&\",\"&LA3&\",\"&LB3&\",\"&LC3&\",\"&LD3&\",\"&LE3&\",\"&LF3&\",\"&LG3&\",\"&LH3&\",\"&LI3&\",\"&LJ3&\",\"&LK3&\",\"&LL3&\",\"&LM3&\",\"&LN3&\",\"&LO3&\",\"&LP3&\",\"&LQ3&\",\"&LR3&\",\"&LS3&\",\"&LT3&\",\"&LU3&\",\"&LV3&\",\"&LW3&\",\"&LX3&\",\"&LY3&\",\"&LZ3&\",\"&MA3&\",\"&MB3&\",\"&MC3&\",\"&MD3&\",\"&ME3&\",\"&MF3&\",\"&MG3&\",\"&MH3&\",\"&MI3&\",\"&MJ3&\",\"&MK3&\",\"&ML3&\",\"&MM3&\",\"&MN3&\",\"&MO3&\",\"&MP3&\",\"&MQ3&\",\"&MR3&\",\"&MS3&\",\"&MT3&\",\"&MU3&\",\"&MV3&\",\"&MW3&\",\"&MX3&\",\"&MY3&\",\"&MZ3&\",\"&NA3&\",\"&NB3&\",\"&NC3&\",\"&ND3&\",\"&NE3&\",\"&NF3&\",\"&NG3&\",\"&NH3&\",\"&NI3&\",\"&NJ3&\",\"&NK3&\",\"&NL3&\",\"&NM3&\",\"&NN3&\",\"&NO3&\",\"&NP3&\",\"&NQ3&\",\"&NR3&\",\"&NS3&\",\"&NT3&\",\"&NU3&\",\"&NV3&\",\"&NW3&\",\"&NX3&\",\"&NY3&\",\"&NZ3&\",\"&OA3&\",\"&OB3&\",\"&OC3&\",\"&OD3&\",\"&OE3&\",\"&OF3&\",\"&OG3&\",\"&OH3&\",\"&OI3&\",\"&OJ3&\",\"&OK3&\",\"&OL3&\",\"&OM3&\",\"&ON3&\",\"&OO3&\",\"&OP3&\",\"&OQ3&\",\"&OR3&\",\"&OS3&\",\"&OT3&\",\"&OU3&\",\"&OV3&\",\"&OW3&\",\"&OX3&\",\"&OY3&\",\"&OZ3&\",\"&PA3&\",\"&PB3&\",\"&PC3&\",\"&PD3&\",\"&PE3&\",\"&PF3&\",\"&PG3&\",\"&PH3&\",\"&PI3&\",\"&PJ3&\",\"&PK3&\",\"&PL3&\",\"&PM3&\",\"&PN3&\",\"&PO3&\",\"&PP3&\",\"&PQ3&\",\"&PR3&\",\"&PS3&\",\"&PT3&\",\"&PU3&\",\"&PV3&\",\"&PW3&\",\"&PX3&\",\"&PY3&\",\"&PZ3&\",\"&QA3&\",\"&QB3&\",\"&QC3&\",\"&QD3&\",\"&QE3&\",\"&QF3&\",\"&QG3&\",\"&QH3&\",\"&QI3&\",\"&QJ3&\",\"&QK3&\",\"&QL3&\",\"&QM3&\",\"&QN3&\",\"&QO3&\",\"&QP3&\",\"&QQ3&\",\"&QR3&\",\"&QS3&\",\"&QT3&\",\"&QU3&\",\"&QV3&\",\"&QW3&\",\"&QX3&\",\"&QY3&\",\"&QZ3&\",\"&RA3&\",\"&RB3&\",\"&RC3&\",\"&RD3&\",\"&RE3&\",\"&RF3&\",\"&RG3&\",\"&RH3&\",\"&RI3&\",\"&RJ3&\",\"&RK3&\",\"&RL3&\",\"&RM3&\",\"&RN3&\",\"&RO3&\",\"&RP3&\",\"&RQ3&\",\"&RR3&\",\"&RS3&\",\"&RT3&\",\"&RU3&\",\"&RV3&\",\"&RW3&\",\"&RX3&\",\"&RY3&\",\"&RZ3&\",\"&SA3&\",\"&SB3&\",\"&SC3&\",\"&SD3&\",\"&SE3&\",\"&SF3&\",\"&SG3&\",\"&SH3&\",\"&SI3&\",\"&SJ3&\",\"&SK3&\",\"&SL3&\",\"&SM3&\",\"&SN3&\",\"&SO3&\",\"&SP3&\",\"&SQ3&\",\"&SR3&\",\"&SS3&\",\"&ST3&\",\"&SU3&\",\"&SV3&\",\"&SW3&\",\"&SX3&\",\"&SY3&\",\"&SZ3&\",\"&TA3&\",\"&TB3&\",\"&TC3&\",\"&TD3&\",\"&TE3&\",\"&TF3&\",\"&TG3&\",\"&TH3&\",\"&TI3&\",\"&TJ3&\",\"&TK3&\",\"&TL3&\",\"&TM3&\",\"&TN3&\",\"&TO3&\",\"&TP3&\",\"&TQ3&\",\"&TR3&\",\"&TS3&\",\"&TT3&\",\"&TU3&\",\"&TV3&\",\"&TW3&\",\"&TX3&\",\"&TY3&\",\"&TZ3&\",\"&UA3&\",\"&UB3&\",\"&UC3&\",\"&UD3&\",\"&UE3&\",\"&UF3&\",\"&UG3&\",\"&UH3&\",\"&UI3&\",\"&UJ3&\",\"&UK3&\",\"&UL3&\",\"&UM3&\",\"&UN3&\",\"&UO3&\",\"&UP3&\",\"&UQ3&\",\"&UR3&\",\"&US3&\",\"&UT3&\",\"&UU3&\",\"&UV3&\",\"&UW3&\",\"&UX3&\",\"&UY3&\",\"&UZ3&\",\"&VA3&\",\"&VB3&\",\"&VC3&\",\"&VD3&\",\"&VE3&\",\"&VF3&\",\"&VG3&\",\"&VH3&\",\"&VI3&\",\"&VJ3&\",\"&VK3&\",\"&VL3&\",\"&VM3&\",\"&VN3&\",\"&VO3&\",\"&VP3&\",\"&VQ3&\",\"&VR3&\",\"&VS3&\",\"&VT3&\",\"&VU3&\",\"&VV3&\",\"&VW3&\",\"&VX3&\",\"&VY3&\",\"&VZ3&\",\"&WA3&\",\"&WB3&\",\"&WC3&\",\"&WD3&\",\"&WE3&\",\"&WF3&\",\"&WG3&\",\"&WH3&\",\"&WI3&\",\"&WJ3&\",\"&WK3&\",\"&WL3&\",\"&WM3&\",\"&WN3&\",\"&WO3&\",\"&WP3&\",\"&WQ3&\",\"&WR3&\",\"&WS3&\",\"&WT3&\",\"&WU3&\",\"&WV3&\",\"&WW3&\",\"&WX3&\",\"&WY3&\",\"&WZ3&\",\"&XA3&\",\"&XB3&\",\"&XC3&\",\"&XD3&\",\"&XE3&\",\"&XF3&\",\"&XG3&\",\"&XH3&\",\"&XI3&\",\"&XJ3&\",\"&XK3&\",\"&XL3&\",\"&XM3&\",\"&XN3&\",\"&XO3&\",\"&XP3&\",\"&XQ3&\",\"&XR3&\",\"&XS3&\",\"&XT3&\",\"&XU3&\",\"&XV3&\",\"&XW3&\",\"&XX3&\",\"&XY3&\",\"&XZ3&\",\"&YA3&\",\"&YB3&\",\"&YC3&\",\"&YD3&\",\"&YE3&\",\"&YF3&\",\"&YG3&\",\"&YH3&\",\"&YI3&\",\"&YJ3&\",\"&YK3&\",\"&YL3&\",\"&YM3&\",\"&YN3&\",\"&YO3&\",\"&YP3&\",\"&YQ3&\",\"&YR3&\",\"&YS3&\",\"&YT3&\",\"&YU3&\",\"&YV3&\",\"&YW3&\",\"&YX3&\",\"&YY3&\",\"&YZ3&\",\"&ZA3&\",\"&ZB3&\",\"&ZC3&\",\"&ZD3&\",\"&ZE3&\",\"&ZF3&\",\"&ZG3&\",\"&ZH3&\",\"&ZI3&\",\"&ZJ3&\",\"&ZK3&\",\"&ZL3&\",\"&ZM3&\",\"&ZN3&\",\"&ZO3&\",\"&ZP3&\",\"&ZQ3&\",\"&ZR3&\",\"&ZS3&\",\"&ZT3&\",\"&ZU3&\",\"&ZV3&\",\"&ZW3&\",\"&ZX3&\",\"&ZY3&\",\"&ZZ3&\",\"&\n"
     ]
    }
   ],
   "source": [
    "command1 = ''\n",
    "command2 = ''\n",
    "for i in range(26):\n",
    "    command1 += chr(65 + i) + '3&' + '\\\",\\\"' + '&'\n",
    "\n",
    "\n",
    "for i in range(26):\n",
    "    for j in range(26):\n",
    "        command2 += chr(65 + i) + chr(65 + j) + '3&' + '\\\",\\\"' + '&'\n",
    "print command1 + command2"
   ]
  },
  {
   "cell_type": "code",
   "execution_count": null,
   "metadata": {
    "collapsed": true
   },
   "outputs": [],
   "source": [
    "=D3&E3&F3&G3&H3&I3&J3&K3&L3&M3&N3&O3&P3&Q3&R3&S3&T3&U3&V3&W3&X3&Y3&Z3&AA3&AB3&AC3&AD3&AE3&AF3&AG3&AH3&AI3&AJ3&AK3&AL3&AM3&AN3&AO3&AP3&AQ3&AR3&AS3&AT3&AU3&"
   ]
  }
 ],
 "metadata": {
  "kernelspec": {
   "display_name": "Python 2",
   "language": "python",
   "name": "python2"
  },
  "language_info": {
   "codemirror_mode": {
    "name": "ipython",
    "version": 2
   },
   "file_extension": ".py",
   "mimetype": "text/x-python",
   "name": "python",
   "nbconvert_exporter": "python",
   "pygments_lexer": "ipython2",
   "version": "2.7.10"
  }
 },
 "nbformat": 4,
 "nbformat_minor": 0
}
