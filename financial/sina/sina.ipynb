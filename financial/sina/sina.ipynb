{
 "cells": [
  {
   "cell_type": "code",
   "execution_count": 1,
   "metadata": {
    "collapsed": true
   },
   "outputs": [],
   "source": [
    "import pandas as pd\n",
    "import numpy as np\n",
    "import seaborn as sns\n",
    "import urllib\n",
    "import urllib2"
   ]
  },
  {
   "cell_type": "code",
   "execution_count": 5,
   "metadata": {
    "collapsed": true
   },
   "outputs": [],
   "source": [
    "%matplotlib inline"
   ]
  },
  {
   "cell_type": "code",
   "execution_count": 22,
   "metadata": {
    "collapsed": false
   },
   "outputs": [],
   "source": [
    "import sys\n",
    "reload(sys)\n",
    "sys.setdefaultencoding('utf-8')"
   ]
  },
  {
   "cell_type": "code",
   "execution_count": 22,
   "metadata": {
    "collapsed": false
   },
   "outputs": [
    {
     "name": "stdout",
     "output_type": "stream",
     "text": [
      "[{category:\"gn_hjgn\",cate_type:\"1\",name:\"�ƽ����\",netamount_10:\"5813209062.2200\",ratioamount_10:\"0.0461325\",avg_changeratio_10:\"0.0798647\",r0x_ratio_10:\"0.685179\",netamount_3:\"4789323875.4700\",ratioamount_3:\"0.0812074\",avg_changeratio_3:\"0.0334509\",r0x_ratio_3:\"0.286126\",netamount_5:\"3632315285.5300\",ratioamount_5:\"0.0473153\",avg_changeratio_5:\"0.0140416\",r0x_ratio_5:\"0.196979\"},{category:\"gn_xqzy\",cate_type:\"1\",name:\"ϡȱ��Դ\",netamount_10:\"5957933521.4100\",ratioamount_10:\"0.0358409\",avg_changeratio_10:\"0.0602686\",r0x_ratio_10:\"0.637985\",netamount_5:\"5634390306.8200\",ratioamount_5:\"0.0540913\",avg_changeratio_5:\"0.0471206\",r0x_ratio_5:\"0.438468\",netamount_3:\"3875169577.1800\",ratioamount_3:\"0.0548746\",avg_changeratio_3:\"0.0253253\",r0x_ratio_3:\"0.238302\"},{category:\"gn_hHg\",cate_type:\"1\",name:\"��H��\",netamount_10:\"4106379083.7700\",ratioamount_10:\"0.0146523\",avg_changeratio_10:\"0.0147668\",r0x_ratio_10:\"0.326437\",netamount_3:\"3500732496.9500\",ratioamount_3:\"0.0312798\",avg_changeratio_3:\"0.00983757\",r0x_ratio_3:\"0.126492\",netamount_5:\"1664124259.6000\",ratioamount_5:\"0.0104165\",avg_changeratio_5:\"0.0104414\",r0x_ratio_5:\"0.192887\"},{category:\"gn_yjyj\",cate_type:\"1\",name:\"ҵ��Ԥ��\",netamount_10:\"4945152895.5700\",ratioamount_10:\"0.011497\",avg_changeratio_10:\"0.0257447\",r0x_ratio_10:\"0.561523\",netamount_5:\"3392214403.3800\",ratioamount_5:\"0.014461\",avg_changeratio_5:\"0.0164681\",r0x_ratio_5:\"0.370803\",netamount_3:\"3186927191.9100\",ratioamount_3:\"0.0220007\",avg_changeratio_3:\"0.0164392\",r0x_ratio_3:\"0.290569\"},{category:\"gn_zczr\",cate_type:\"1\",name:\"�ʲ�ע��\",netamount_3:\"2750194648.3000\",ratioamount_3:\"0.0652602\",avg_changeratio_3:\"0.0208549\",r0x_ratio_3:\"0.17761\",netamount_10:\"2282923355.9800\",ratioamount_10:\"0.0206377\",avg_changeratio_10:\"0.0288689\",r0x_ratio_10:\"0.498206\",netamount_5:\"2010376931.7100\",ratioamount_5:\"0.0326005\",avg_changeratio_5:\"0.0200575\",r0x_ratio_5:\"0.26367\"},{category:\"gn_sczl\",cate_type:\"1\",name:\"˿��֮·\",netamount_10:\"2775134167.1300\",ratioamount_10:\"0.0608942\",avg_changeratio_10:\"0.0413297\",r0x_ratio_10:\"0.386232\",netamount_3:\"2709708144.4400\",ratioamount_3:\"0.150928\",avg_changeratio_3:\"0.0432575\",r0x_ratio_3:\"0.210745\",netamount_5:\"2326892009.9200\",ratioamount_5:\"0.0921358\",avg_changeratio_5:\"0.0402687\",r0x_ratio_5:\"0.279692\"},{category:\"gn_cytq\",cate_type:\"1\",name:\"��������\",netamount_10:\"2939973915.7400\",ratioamount_10:\"0.0124706\",avg_changeratio_10:\"0.0304108\",r0x_ratio_10:\"0.551482\",netamount_3:\"2315731604.2300\",ratioamount_3:\"0.0292821\",avg_changeratio_3:\"0.0178852\",r0x_ratio_3:\"0.289211\",netamount_5:\"1473467247.7500\",ratioamount_5:\"0.0114595\",avg_changeratio_5:\"0.0103085\",r0x_ratio_5:\"0.266723\"},{category:\"gn_yqgg\",cate_type:\"1\",name:\"�����ĸ�\",netamount_3:\"2259977456.4200\",ratioamount_3:\"0.1483\",avg_changeratio_3:\"0.010665\",r0x_ratio_3:\"0.0495194\",netamount_5:\"2089267735.0700\",ratioamount_5:\"0.102791\",avg_changeratio_5:\"0.0119633\",r0x_ratio_5:\"0.0723108\",netamount_10:\"913780221.6900\",ratioamount_10:\"0.0273444\",avg_changeratio_10:\"-0.00310607\",r0x_ratio_10:\"-0.0387361\"},{category:\"gn_rzrq\",cate_type:\"1\",name:\"������ȯ\",netamount_10:\"6670790282.3300\",ratioamount_10:\"0.00517774\",avg_changeratio_10:\"0.014902\",r0x_ratio_10:\"0.403131\",netamount_3:\"2251559099.6500\",ratioamount_3:\"0.00495326\",avg_changeratio_3:\"0.0101775\",r0x_ratio_3:\"0.258975\",netamount_5:\"-2657508626.4500\",ratioamount_5:\"-0.00376326\",avg_changeratio_5:\"0.0103064\",r0x_ratio_5:\"0.348525\"},{category:\"gn_hkzz\",cate_type:\"1\",name:\"����תծ\",netamount_3:\"2206464015.3000\",ratioamount_3:\"0.141695\",avg_changeratio_3:\"0.0105102\",r0x_ratio_3:\"0.0504126\",netamount_5:\"2084881435.8200\",ratioamount_5:\"0.0959839\",avg_changeratio_5:\"0.0137936\",r0x_ratio_5:\"0.0903489\",netamount_10:\"1816342652.5100\",ratioamount_10:\"0.0476271\",avg_changeratio_10:\"0.0115395\",r0x_ratio_10:\"0.134132\"},{category:\"gn_ztss\",cate_type:\"1\",name:\"��������\",netamount_3:\"1988590843.8800\",ratioamount_3:\"0.0379008\",avg_changeratio_3:\"0.012781\",r0x_ratio_3:\"0.134309\",netamount_5:\"1768195026.1200\",ratioamount_5:\"0.0223155\",avg_changeratio_5:\"0.0112219\",r0x_ratio_5:\"0.157619\",netamount_10:\"-426638563.6100\",ratioamount_10:\"-0.00321146\",avg_changeratio_10:\"0.00978011\",r0x_ratio_10:\"0.254285\"},{category:\"gn_xtyc\",cate_type:\"1\",name:\"ϡ������\",netamount_5:\"3104482001.1200\",ratioamount_5:\"0.0499109\",avg_changeratio_5:\"0.0502886\",r0x_ratio_5:\"0.457662\",netamount_10:\"2477345117.4400\",ratioamount_10:\"0.026075\",avg_changeratio_10:\"0.0516685\",r0x_ratio_10:\"0.596963\",netamount_3:\"1821915022.7800\",ratioamount_3:\"0.0485236\",avg_changeratio_3:\"0.0235358\",r0x_ratio_3:\"0.227607\"},{category:\"gn_szbd\",cate_type:\"1\",name:\"���ڱ���\",netamount_3:\"1811177375.5800\",ratioamount_3:\"0.0347519\",avg_changeratio_3:\"0.0202629\",r0x_ratio_3:\"0.233582\",netamount_5:\"1563727924.1400\",ratioamount_5:\"0.0202516\",avg_changeratio_5:\"0.0154934\",r0x_ratio_5:\"0.229633\",netamount_10:\"1562215735.6500\",ratioamount_10:\"0.0110874\",avg_changeratio_10:\"0.0160099\",r0x_ratio_10:\"0.317266\"},{category:\"gn_bzf\",cate_type:\"1\",name:\"���Ϸ�\",netamount_10:\"4238112142.8200\",ratioamount_10:\"0.0249834\",avg_changeratio_10:\"0.0332125\",r0x_ratio_10:\"0.498091\",netamount_3:\"1744069438.9200\",ratioamount_3:\"0.0266287\",avg_changeratio_3:\"0.0180009\",r0x_ratio_3:\"0.274893\",netamount_5:\"-192844961.8500\",ratioamount_5:\"-0.00191725\",avg_changeratio_5:\"0.0251144\",r0x_ratio_5:\"0.677191\"},{category:\"gn_spaq\",cate_type:\"1\",name:\"ʳƷ��ȫ\",netamount_5:\"2113425970.1800\",ratioamount_5:\"0.100707\",avg_changeratio_5:\"0.0149507\",r0x_ratio_5:\"0.0937159\",netamount_3:\"1624778557.8100\",ratioamount_3:\"0.118605\",avg_changeratio_3:\"0.0135144\",r0x_ratio_3:\"0.0812089\",netamount_10:\"1592486018.4700\",ratioamount_10:\"0.0474745\",avg_changeratio_10:\"0.0101059\",r0x_ratio_10:\"0.111637\"},{category:\"gn_qhgn\",cate_type:\"1\",name:\"ǰ������\",netamount_3:\"1592243945.0000\",ratioamount_3:\"0.0418297\",avg_changeratio_3:\"0.0235516\",r0x_ratio_3:\"0.248373\",netamount_10:\"1125329838.7200\",ratioamount_10:\"0.010933\",avg_changeratio_10:\"0.0195455\",r0x_ratio_10:\"0.379238\",netamount_5:\"326411740.4600\",ratioamount_5:\"0.00602215\",avg_changeratio_5:\"0.0143739\",r0x_ratio_5:\"0.279526\"},{category:\"gn_QFIIzc\",cate_type:\"1\",name:\"QFII�ز�\",netamount_3:\"1569892776.9000\",ratioamount_3:\"0.0181184\",avg_changeratio_3:\"0.0215988\",r0x_ratio_3:\"0.323339\",netamount_5:\"-903995614.8500\",ratioamount_5:\"-0.0072191\",avg_changeratio_5:\"0.0159015\",r0x_ratio_5:\"0.377583\",netamount_10:\"-3165700359.5100\",ratioamount_10:\"-0.0139523\",avg_changeratio_10:\"0.0186729\",r0x_ratio_10:\"0.593092\"},{category:\"gn_cxg\",cate_type:\"1\",name:\"���¹�\",netamount_10:\"3923386797.3700\",ratioamount_10:\"0.0146867\",avg_changeratio_10:\"0.0362755\",r0x_ratio_10:\"0.653724\",netamount_5:\"1811157215.9800\",ratioamount_5:\"0.0124576\",avg_changeratio_5:\"0.0194589\",r0x_ratio_5:\"0.460702\",netamount_3:\"1549101865.3200\",ratioamount_3:\"0.0166436\",avg_changeratio_3:\"0.0127766\",r0x_ratio_3:\"0.315244\"},{category:\"gn_jrcg\",cate_type:\"1\",name:\"���ڲι�\",netamount_3:\"1518175289.7400\",ratioamount_3:\"0.00933812\",avg_changeratio_3:\"0.0126003\",r0x_ratio_3:\"0.321608\",netamount_10:\"1450837140.7800\",ratioamount_10:\"0.00310703\",avg_changeratio_10:\"0.0095157\",r0x_ratio_10:\"0.298834\",netamount_5:\"-1909807752.8300\",ratioamount_5:\"-0.00757617\",avg_changeratio_5:\"0.00900831\",r0x_ratio_5:\"0.438474\"},{category:\"gn_stbk\",cate_type:\"1\",name:\"ST���\",netamount_10:\"1734283170.5600\",ratioamount_10:\"0.0283255\",avg_changeratio_10:\"0.0198121\",r0x_ratio_10:\"0.312161\",netamount_5:\"1577635071.3000\",ratioamount_5:\"0.0411591\",avg_changeratio_5:\"0.0236101\",r0x_ratio_5:\"0.337335\",netamount_3:\"1432472625.0700\",ratioamount_3:\"0.0623186\",avg_changeratio_3:\"0.019329\",r0x_ratio_3:\"0.215216\"}]\n"
     ]
    },
    {
     "ename": "UnicodeDecodeError",
     "evalue": "'ascii' codec can't decode byte 0xbb in position 41: ordinal not in range(128)",
     "output_type": "error",
     "traceback": [
      "\u001b[1;31m---------------------------------------------------------------------------\u001b[0m",
      "\u001b[1;31mUnicodeDecodeError\u001b[0m                        Traceback (most recent call last)",
      "\u001b[1;32m<ipython-input-22-978c7e5a2b7c>\u001b[0m in \u001b[0;36m<module>\u001b[1;34m()\u001b[0m\n\u001b[0;32m      3\u001b[0m \u001b[0mres\u001b[0m \u001b[1;33m=\u001b[0m \u001b[0mres_data\u001b[0m\u001b[1;33m.\u001b[0m\u001b[0mread\u001b[0m\u001b[1;33m(\u001b[0m\u001b[1;33m)\u001b[0m\u001b[1;33m\u001b[0m\u001b[0m\n\u001b[0;32m      4\u001b[0m \u001b[1;32mprint\u001b[0m \u001b[0mres\u001b[0m\u001b[1;33m\u001b[0m\u001b[0m\n\u001b[1;32m----> 5\u001b[1;33m \u001b[0mres\u001b[0m\u001b[1;33m.\u001b[0m\u001b[0mencode\u001b[0m\u001b[1;33m(\u001b[0m\u001b[1;34m'utf-8'\u001b[0m\u001b[1;33m)\u001b[0m\u001b[1;33m\u001b[0m\u001b[0m\n\u001b[0m\u001b[0;32m      6\u001b[0m \u001b[0mres\u001b[0m\u001b[1;33m\u001b[0m\u001b[0m\n",
      "\u001b[1;31mUnicodeDecodeError\u001b[0m: 'ascii' codec can't decode byte 0xbb in position 41: ordinal not in range(128)"
     ]
    }
   ],
   "source": [
    "bkzjlxt=r'http://vip.stock.finance.sina.com.cn/quotes_service/api/json_v2.php/MoneyFlow.ssl_bkzjlxt?page=1&num=20&sort=netamount_3&asc=0&fenlei=1'\n",
    "res_data = urllib2.urlopen(urllib2.Request(bkzjlxt))\n",
    "res = res_data.read()\n",
    "print res\n",
    "res.encode('utf-8')\n",
    "res"
   ]
  },
  {
   "cell_type": "code",
   "execution_count": 28,
   "metadata": {
    "collapsed": false
   },
   "outputs": [],
   "source": [
    "x = res.title()\n",
    "x\n",
    "print x\n",
    "x"
   ]
  },
  {
   "cell_type": "code",
   "execution_count": 24,
   "metadata": {
    "collapsed": false,
    "scrolled": true
   },
   "outputs": [
    {
     "ename": "UnicodeDecodeError",
     "evalue": "'utf8' codec can't decode byte 0xbb in position 41: invalid start byte",
     "output_type": "error",
     "traceback": [
      "\u001b[1;31m---------------------------------------------------------------------------\u001b[0m",
      "\u001b[1;31mUnicodeDecodeError\u001b[0m                        Traceback (most recent call last)",
      "\u001b[1;32m<ipython-input-24-af95d722001f>\u001b[0m in \u001b[0;36m<module>\u001b[1;34m()\u001b[0m\n\u001b[0;32m      1\u001b[0m \u001b[1;32mimport\u001b[0m \u001b[0mjson\u001b[0m\u001b[1;33m\u001b[0m\u001b[0m\n\u001b[1;32m----> 2\u001b[1;33m \u001b[0mx\u001b[0m \u001b[1;33m=\u001b[0m \u001b[0mjson\u001b[0m\u001b[1;33m.\u001b[0m\u001b[0mdumps\u001b[0m\u001b[1;33m(\u001b[0m\u001b[0mres\u001b[0m\u001b[1;33m)\u001b[0m\u001b[1;33m\u001b[0m\u001b[0m\n\u001b[0m\u001b[0;32m      3\u001b[0m \u001b[1;32mprint\u001b[0m \u001b[0mtype\u001b[0m\u001b[1;33m(\u001b[0m\u001b[0mx\u001b[0m\u001b[1;33m)\u001b[0m\u001b[1;33m\u001b[0m\u001b[0m\n\u001b[0;32m      4\u001b[0m \u001b[0my\u001b[0m \u001b[1;33m=\u001b[0m \u001b[0municode\u001b[0m\u001b[1;33m(\u001b[0m\u001b[0mx\u001b[0m\u001b[1;33m)\u001b[0m\u001b[1;33m\u001b[0m\u001b[0m\n\u001b[0;32m      5\u001b[0m \u001b[1;31m#import simplejson\u001b[0m\u001b[1;33m\u001b[0m\u001b[1;33m\u001b[0m\u001b[0m\n",
      "\u001b[1;32mK:\\Anaconda\\lib\\json\\__init__.pyc\u001b[0m in \u001b[0;36mdumps\u001b[1;34m(obj, skipkeys, ensure_ascii, check_circular, allow_nan, cls, indent, separators, encoding, default, sort_keys, **kw)\u001b[0m\n\u001b[0;32m    241\u001b[0m         \u001b[0mcls\u001b[0m \u001b[1;32mis\u001b[0m \u001b[0mNone\u001b[0m \u001b[1;32mand\u001b[0m \u001b[0mindent\u001b[0m \u001b[1;32mis\u001b[0m \u001b[0mNone\u001b[0m \u001b[1;32mand\u001b[0m \u001b[0mseparators\u001b[0m \u001b[1;32mis\u001b[0m \u001b[0mNone\u001b[0m \u001b[1;32mand\u001b[0m\u001b[1;33m\u001b[0m\u001b[0m\n\u001b[0;32m    242\u001b[0m         encoding == 'utf-8' and default is None and not sort_keys and not kw):\n\u001b[1;32m--> 243\u001b[1;33m         \u001b[1;32mreturn\u001b[0m \u001b[0m_default_encoder\u001b[0m\u001b[1;33m.\u001b[0m\u001b[0mencode\u001b[0m\u001b[1;33m(\u001b[0m\u001b[0mobj\u001b[0m\u001b[1;33m)\u001b[0m\u001b[1;33m\u001b[0m\u001b[0m\n\u001b[0m\u001b[0;32m    244\u001b[0m     \u001b[1;32mif\u001b[0m \u001b[0mcls\u001b[0m \u001b[1;32mis\u001b[0m \u001b[0mNone\u001b[0m\u001b[1;33m:\u001b[0m\u001b[1;33m\u001b[0m\u001b[0m\n\u001b[0;32m    245\u001b[0m         \u001b[0mcls\u001b[0m \u001b[1;33m=\u001b[0m \u001b[0mJSONEncoder\u001b[0m\u001b[1;33m\u001b[0m\u001b[0m\n",
      "\u001b[1;32mK:\\Anaconda\\lib\\json\\encoder.pyc\u001b[0m in \u001b[0;36mencode\u001b[1;34m(self, o)\u001b[0m\n\u001b[0;32m    199\u001b[0m                     \u001b[0mo\u001b[0m \u001b[1;33m=\u001b[0m \u001b[0mo\u001b[0m\u001b[1;33m.\u001b[0m\u001b[0mdecode\u001b[0m\u001b[1;33m(\u001b[0m\u001b[0m_encoding\u001b[0m\u001b[1;33m)\u001b[0m\u001b[1;33m\u001b[0m\u001b[0m\n\u001b[0;32m    200\u001b[0m             \u001b[1;32mif\u001b[0m \u001b[0mself\u001b[0m\u001b[1;33m.\u001b[0m\u001b[0mensure_ascii\u001b[0m\u001b[1;33m:\u001b[0m\u001b[1;33m\u001b[0m\u001b[0m\n\u001b[1;32m--> 201\u001b[1;33m                 \u001b[1;32mreturn\u001b[0m \u001b[0mencode_basestring_ascii\u001b[0m\u001b[1;33m(\u001b[0m\u001b[0mo\u001b[0m\u001b[1;33m)\u001b[0m\u001b[1;33m\u001b[0m\u001b[0m\n\u001b[0m\u001b[0;32m    202\u001b[0m             \u001b[1;32melse\u001b[0m\u001b[1;33m:\u001b[0m\u001b[1;33m\u001b[0m\u001b[0m\n\u001b[0;32m    203\u001b[0m                 \u001b[1;32mreturn\u001b[0m \u001b[0mencode_basestring\u001b[0m\u001b[1;33m(\u001b[0m\u001b[0mo\u001b[0m\u001b[1;33m)\u001b[0m\u001b[1;33m\u001b[0m\u001b[0m\n",
      "\u001b[1;31mUnicodeDecodeError\u001b[0m: 'utf8' codec can't decode byte 0xbb in position 41: invalid start byte"
     ]
    }
   ],
   "source": [
    "import json\n",
    "x = json.dumps(res,ensure_ascii = False)\n",
    "print type(x)\n",
    "y = unicode(x)\n",
    "#import simplejson\n",
    "#simplejson.dumps(res,ensure_ascii=False)\n",
    "\n",
    "\n"
   ]
  },
  {
   "cell_type": "code",
   "execution_count": 9,
   "metadata": {
    "collapsed": false,
    "scrolled": true
   },
   "outputs": [
    {
     "name": "stdout",
     "output_type": "stream",
     "text": [
      "[{category:\"gn_hjgn\",cate_type:\"1\",name:\"�ƽ����\",netamount_10:\"5813209062.2200\",ratioamount_10:\"0.0461325\",avg_changeratio_10:\"0.0798647\",r0x_ratio_10:\"0.685179\",netamount_3:\"4789323875.4700\",ratioamount_3:\"0.0812074\",avg_changeratio_3:\"0.0334509\",r0x_ratio_3:\"0.286126\",netamount_5:\"3632315285.5300\",ratioamount_5:\"0.0473153\",avg_changeratio_5:\"0.0140416\",r0x_ratio_5:\"0.196979\"},{category:\"gn_xqzy\",cate_type:\"1\",name:\"ϡȱ��Դ\",netamount_10:\"5957933521.4100\",ratioamount_10:\"0.0358409\",avg_changeratio_10:\"0.0602686\",r0x_ratio_10:\"0.637985\",netamount_5:\"5634390306.8200\",ratioamount_5:\"0.0540913\",avg_changeratio_5:\"0.0471206\",r0x_ratio_5:\"0.438468\",netamount_3:\"3875169577.1800\",ratioamount_3:\"0.0548746\",avg_changeratio_3:\"0.0253253\",r0x_ratio_3:\"0.238302\"},{category:\"gn_hHg\",cate_type:\"1\",name:\"��H��\",netamount_10:\"4106379083.7700\",ratioamount_10:\"0.0146523\",avg_changeratio_10:\"0.0147668\",r0x_ratio_10:\"0.326437\",netamount_3:\"3500732496.9500\",ratioamount_3:\"0.0312798\",avg_changeratio_3:\"0.00983757\",r0x_ratio_3:\"0.126492\",netamount_5:\"1664124259.6000\",ratioamount_5:\"0.0104165\",avg_changeratio_5:\"0.0104414\",r0x_ratio_5:\"0.192887\"},{category:\"gn_yjyj\",cate_type:\"1\",name:\"ҵ��Ԥ��\",netamount_10:\"4945152895.5700\",ratioamount_10:\"0.011497\",avg_changeratio_10:\"0.0257447\",r0x_ratio_10:\"0.561523\",netamount_5:\"3392214403.3800\",ratioamount_5:\"0.014461\",avg_changeratio_5:\"0.0164681\",r0x_ratio_5:\"0.370803\",netamount_3:\"3186927191.9100\",ratioamount_3:\"0.0220007\",avg_changeratio_3:\"0.0164392\",r0x_ratio_3:\"0.290569\"},{category:\"gn_zczr\",cate_type:\"1\",name:\"�ʲ�ע��\",netamount_3:\"2750194648.3000\",ratioamount_3:\"0.0652602\",avg_changeratio_3:\"0.0208549\",r0x_ratio_3:\"0.17761\",netamount_10:\"2282923355.9800\",ratioamount_10:\"0.0206377\",avg_changeratio_10:\"0.0288689\",r0x_ratio_10:\"0.498206\",netamount_5:\"2010376931.7100\",ratioamount_5:\"0.0326005\",avg_changeratio_5:\"0.0200575\",r0x_ratio_5:\"0.26367\"},{category:\"gn_sczl\",cate_type:\"1\",name:\"˿��֮·\",netamount_10:\"2775134167.1300\",ratioamount_10:\"0.0608942\",avg_changeratio_10:\"0.0413297\",r0x_ratio_10:\"0.386232\",netamount_3:\"2709708144.4400\",ratioamount_3:\"0.150928\",avg_changeratio_3:\"0.0432575\",r0x_ratio_3:\"0.210745\",netamount_5:\"2326892009.9200\",ratioamount_5:\"0.0921358\",avg_changeratio_5:\"0.0402687\",r0x_ratio_5:\"0.279692\"},{category:\"gn_cytq\",cate_type:\"1\",name:\"��������\",netamount_10:\"2939973915.7400\",ratioamount_10:\"0.0124706\",avg_changeratio_10:\"0.0304108\",r0x_ratio_10:\"0.551482\",netamount_3:\"2315731604.2300\",ratioamount_3:\"0.0292821\",avg_changeratio_3:\"0.0178852\",r0x_ratio_3:\"0.289211\",netamount_5:\"1473467247.7500\",ratioamount_5:\"0.0114595\",avg_changeratio_5:\"0.0103085\",r0x_ratio_5:\"0.266723\"},{category:\"gn_yqgg\",cate_type:\"1\",name:\"�����ĸ�\",netamount_3:\"2259977456.4200\",ratioamount_3:\"0.1483\",avg_changeratio_3:\"0.010665\",r0x_ratio_3:\"0.0495194\",netamount_5:\"2089267735.0700\",ratioamount_5:\"0.102791\",avg_changeratio_5:\"0.0119633\",r0x_ratio_5:\"0.0723108\",netamount_10:\"913780221.6900\",ratioamount_10:\"0.0273444\",avg_changeratio_10:\"-0.00310607\",r0x_ratio_10:\"-0.0387361\"},{category:\"gn_rzrq\",cate_type:\"1\",name:\"������ȯ\",netamount_10:\"6670790282.3300\",ratioamount_10:\"0.00517774\",avg_changeratio_10:\"0.014902\",r0x_ratio_10:\"0.403131\",netamount_3:\"2251559099.6500\",ratioamount_3:\"0.00495326\",avg_changeratio_3:\"0.0101775\",r0x_ratio_3:\"0.258975\",netamount_5:\"-2657508626.4500\",ratioamount_5:\"-0.00376326\",avg_changeratio_5:\"0.0103064\",r0x_ratio_5:\"0.348525\"},{category:\"gn_hkzz\",cate_type:\"1\",name:\"����תծ\",netamount_3:\"2206464015.3000\",ratioamount_3:\"0.141695\",avg_changeratio_3:\"0.0105102\",r0x_ratio_3:\"0.0504126\",netamount_5:\"2084881435.8200\",ratioamount_5:\"0.0959839\",avg_changeratio_5:\"0.0137936\",r0x_ratio_5:\"0.0903489\",netamount_10:\"1816342652.5100\",ratioamount_10:\"0.0476271\",avg_changeratio_10:\"0.0115395\",r0x_ratio_10:\"0.134132\"},{category:\"gn_ztss\",cate_type:\"1\",name:\"��������\",netamount_3:\"1988590843.8800\",ratioamount_3:\"0.0379008\",avg_changeratio_3:\"0.012781\",r0x_ratio_3:\"0.134309\",netamount_5:\"1768195026.1200\",ratioamount_5:\"0.0223155\",avg_changeratio_5:\"0.0112219\",r0x_ratio_5:\"0.157619\",netamount_10:\"-426638563.6100\",ratioamount_10:\"-0.00321146\",avg_changeratio_10:\"0.00978011\",r0x_ratio_10:\"0.254285\"},{category:\"gn_xtyc\",cate_type:\"1\",name:\"ϡ������\",netamount_5:\"3104482001.1200\",ratioamount_5:\"0.0499109\",avg_changeratio_5:\"0.0502886\",r0x_ratio_5:\"0.457662\",netamount_10:\"2477345117.4400\",ratioamount_10:\"0.026075\",avg_changeratio_10:\"0.0516685\",r0x_ratio_10:\"0.596963\",netamount_3:\"1821915022.7800\",ratioamount_3:\"0.0485236\",avg_changeratio_3:\"0.0235358\",r0x_ratio_3:\"0.227607\"},{category:\"gn_szbd\",cate_type:\"1\",name:\"���ڱ���\",netamount_3:\"1811177375.5800\",ratioamount_3:\"0.0347519\",avg_changeratio_3:\"0.0202629\",r0x_ratio_3:\"0.233582\",netamount_5:\"1563727924.1400\",ratioamount_5:\"0.0202516\",avg_changeratio_5:\"0.0154934\",r0x_ratio_5:\"0.229633\",netamount_10:\"1562215735.6500\",ratioamount_10:\"0.0110874\",avg_changeratio_10:\"0.0160099\",r0x_ratio_10:\"0.317266\"},{category:\"gn_bzf\",cate_type:\"1\",name:\"���Ϸ�\",netamount_10:\"4238112142.8200\",ratioamount_10:\"0.0249834\",avg_changeratio_10:\"0.0332125\",r0x_ratio_10:\"0.498091\",netamount_3:\"1744069438.9200\",ratioamount_3:\"0.0266287\",avg_changeratio_3:\"0.0180009\",r0x_ratio_3:\"0.274893\",netamount_5:\"-192844961.8500\",ratioamount_5:\"-0.00191725\",avg_changeratio_5:\"0.0251144\",r0x_ratio_5:\"0.677191\"},{category:\"gn_spaq\",cate_type:\"1\",name:\"ʳƷ��ȫ\",netamount_5:\"2113425970.1800\",ratioamount_5:\"0.100707\",avg_changeratio_5:\"0.0149507\",r0x_ratio_5:\"0.0937159\",netamount_3:\"1624778557.8100\",ratioamount_3:\"0.118605\",avg_changeratio_3:\"0.0135144\",r0x_ratio_3:\"0.0812089\",netamount_10:\"1592486018.4700\",ratioamount_10:\"0.0474745\",avg_changeratio_10:\"0.0101059\",r0x_ratio_10:\"0.111637\"},{category:\"gn_qhgn\",cate_type:\"1\",name:\"ǰ������\",netamount_3:\"1592243945.0000\",ratioamount_3:\"0.0418297\",avg_changeratio_3:\"0.0235516\",r0x_ratio_3:\"0.248373\",netamount_10:\"1125329838.7200\",ratioamount_10:\"0.010933\",avg_changeratio_10:\"0.0195455\",r0x_ratio_10:\"0.379238\",netamount_5:\"326411740.4600\",ratioamount_5:\"0.00602215\",avg_changeratio_5:\"0.0143739\",r0x_ratio_5:\"0.279526\"},{category:\"gn_QFIIzc\",cate_type:\"1\",name:\"QFII�ز�\",netamount_3:\"1569892776.9000\",ratioamount_3:\"0.0181184\",avg_changeratio_3:\"0.0215988\",r0x_ratio_3:\"0.323339\",netamount_5:\"-903995614.8500\",ratioamount_5:\"-0.0072191\",avg_changeratio_5:\"0.0159015\",r0x_ratio_5:\"0.377583\",netamount_10:\"-3165700359.5100\",ratioamount_10:\"-0.0139523\",avg_changeratio_10:\"0.0186729\",r0x_ratio_10:\"0.593092\"},{category:\"gn_cxg\",cate_type:\"1\",name:\"���¹�\",netamount_10:\"3923386797.3700\",ratioamount_10:\"0.0146867\",avg_changeratio_10:\"0.0362755\",r0x_ratio_10:\"0.653724\",netamount_5:\"1811157215.9800\",ratioamount_5:\"0.0124576\",avg_changeratio_5:\"0.0194589\",r0x_ratio_5:\"0.460702\",netamount_3:\"1549101865.3200\",ratioamount_3:\"0.0166436\",avg_changeratio_3:\"0.0127766\",r0x_ratio_3:\"0.315244\"},{category:\"gn_jrcg\",cate_type:\"1\",name:\"���ڲι�\",netamount_3:\"1518175289.7400\",ratioamount_3:\"0.00933812\",avg_changeratio_3:\"0.0126003\",r0x_ratio_3:\"0.321608\",netamount_10:\"1450837140.7800\",ratioamount_10:\"0.00310703\",avg_changeratio_10:\"0.0095157\",r0x_ratio_10:\"0.298834\",netamount_5:\"-1909807752.8300\",ratioamount_5:\"-0.00757617\",avg_changeratio_5:\"0.00900831\",r0x_ratio_5:\"0.438474\"},{category:\"gn_stbk\",cate_type:\"1\",name:\"ST���\",netamount_10:\"1734283170.5600\",ratioamount_10:\"0.0283255\",avg_changeratio_10:\"0.0198121\",r0x_ratio_10:\"0.312161\",netamount_5:\"1577635071.3000\",ratioamount_5:\"0.0411591\",avg_changeratio_5:\"0.0236101\",r0x_ratio_5:\"0.337335\",netamount_3:\"1432472625.0700\",ratioamount_3:\"0.0623186\",avg_changeratio_3:\"0.019329\",r0x_ratio_3:\"0.215216\"}]\n"
     ]
    }
   ],
   "source": []
  }
 ],
 "metadata": {
  "kernelspec": {
   "display_name": "Python 2",
   "language": "python",
   "name": "python2"
  },
  "language_info": {
   "codemirror_mode": {
    "name": "ipython",
    "version": 2
   },
   "file_extension": ".py",
   "mimetype": "text/x-python",
   "name": "python",
   "nbconvert_exporter": "python",
   "pygments_lexer": "ipython2",
   "version": "2.7.10"
  }
 },
 "nbformat": 4,
 "nbformat_minor": 0
}
