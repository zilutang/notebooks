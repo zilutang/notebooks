{
 "cells": [
  {
   "cell_type": "code",
   "execution_count": 189,
   "metadata": {
    "collapsed": false
   },
   "outputs": [],
   "source": [
    "%matplotlib inline\n",
    "import pandas as pd\n",
    "import numpy as np\n",
    "import seaborn as sns\n",
    "import urllib\n",
    "import urllib2\n",
    "import simplejson\n",
    "import json\n",
    "import string\n",
    "import h5py\n",
    "import string\n",
    "\n",
    "monlist = pd.read_csv('monitorlist.txt', header=None)[0].tolist()"
   ]
  },
  {
   "cell_type": "code",
   "execution_count": 201,
   "metadata": {
    "collapsed": false,
    "scrolled": true
   },
   "outputs": [
    {
     "data": {
      "text/plain": [
       "[None,\n",
       " None,\n",
       " None,\n",
       " None,\n",
       " None,\n",
       " None,\n",
       " None,\n",
       " None,\n",
       " None,\n",
       " None,\n",
       " None,\n",
       " None,\n",
       " None,\n",
       " None,\n",
       " None,\n",
       " None,\n",
       " None,\n",
       " None,\n",
       " None,\n",
       " None,\n",
       " None,\n",
       " None,\n",
       " None,\n",
       " None,\n",
       " None,\n",
       " None,\n",
       " None,\n",
       " None,\n",
       " None,\n",
       " None]"
      ]
     },
     "execution_count": 201,
     "metadata": {},
     "output_type": "execute_result"
    }
   ],
   "source": [
    "opendate=lambda x: x['opendate']\n",
    "netamount=lambda x: x['netamount']\n",
    "r0_net=lambda x: x['r0_net']\n",
    "\n",
    "jsonloadfun = lambda x: json.loads(x)\n",
    "ggzjl = r'http://vip.stock.finance.sina.com.cn/quotes_service/api/json_v2.php/MoneyFlow.ssl_qsfx_lscjfb?page=1&num=400&sort=opendate&asc=0&daima='\n",
    "\n",
    "replacestr = lambda strbad: strbad.replace('{', '{\\\"').replace(':\\\"', '\\\":\\\"').replace(',', ',\\\"').replace('\\\"{', '{')\n",
    "getdata = lambda stockid: urllib2.urlopen(urllib2.Request(ggzjl+str(stockid))).read()\n",
    "\n",
    "frame0 = pd.DataFrame()\n",
    "frame1 = pd.DataFrame()\n",
    "frame2 = pd.DataFrame()\n",
    "def gentable(id):\n",
    "    #global framenet\n",
    "    global frame0\n",
    "    global frame1\n",
    "    global frame2\n",
    "    tmpresult = map(getdata, [id])\n",
    "    mapedresult = map(replacestr,tmpresult)\n",
    "    jsonresult = map(jsonloadfun, mapedresult)\n",
    "    frame = pd.DataFrame(jsonresult)\n",
    "    s1 = frame.ix[0]\n",
    "    s1opendate = s1.apply(opendate)\n",
    "    frame.applymap(opendate)\n",
    "    frame.index=[id]\n",
    "    frame.columns=[s1opendate]\n",
    "    frame.columns.names = ['opendate']\n",
    "    \n",
    "    framenetamount = frame.applymap(netamount).applymap(string.atof)\n",
    "    framenetamount.index=['netamount']\n",
    "    framenetamount.columns=[s1opendate]\n",
    "    framenetamount.columns.names = ['opendate']\n",
    "    \n",
    "    \n",
    "    framer0_net = frame.applymap(r0_net).applymap(string.atof).applymap(lambda x: int(x / 10 ** 4))\n",
    "    #framer0_net.index=['r0_net']\n",
    "    framer0_net.index=[id]\n",
    "    framer0_net.columns=[s1opendate]\n",
    "    framer0_net.columns.names = ['opendate']\n",
    "    \n",
    "    frameall = framer0_net.append(framenetamount)\n",
    "    frame1 = framenetamount\n",
    "    frame2 = framer0_net\n",
    "    \n",
    "    #print frameall\n",
    "    if frame0.empty == True:\n",
    "        frame0 = framer0_net\n",
    "    else:\n",
    "        frame0 = frame0.append(framer0_net)\n",
    "    frame0.T.sort_index(ascending=False).to_csv('monitor' + '.csv')\n",
    "\n",
    "map(gentable, monlist)"
   ]
  },
  {
   "cell_type": "code",
   "execution_count": 191,
   "metadata": {
    "collapsed": false
   },
   "outputs": [
    {
     "data": {
      "text/html": [
       "<div>\n",
       "<table border=\"1\" class=\"dataframe\">\n",
       "  <thead>\n",
       "    <tr style=\"text-align: right;\">\n",
       "      <th>opendate</th>\n",
       "      <th>2016-12-02</th>\n",
       "      <th>2016-12-01</th>\n",
       "      <th>2016-11-30</th>\n",
       "      <th>2016-11-29</th>\n",
       "      <th>2016-11-28</th>\n",
       "      <th>2016-11-25</th>\n",
       "      <th>2016-11-24</th>\n",
       "      <th>2016-11-23</th>\n",
       "      <th>2016-11-22</th>\n",
       "      <th>2016-11-21</th>\n",
       "      <th>...</th>\n",
       "      <th>2015-04-30</th>\n",
       "      <th>2015-04-29</th>\n",
       "      <th>2015-04-28</th>\n",
       "      <th>2015-04-27</th>\n",
       "      <th>2015-04-24</th>\n",
       "      <th>2015-04-23</th>\n",
       "      <th>2015-04-22</th>\n",
       "      <th>2015-04-21</th>\n",
       "      <th>2015-04-20</th>\n",
       "      <th>2015-04-17</th>\n",
       "    </tr>\n",
       "  </thead>\n",
       "  <tbody>\n",
       "    <tr>\n",
       "      <th>netamount</th>\n",
       "      <td>-2.786657e+08</td>\n",
       "      <td>-782776991.0</td>\n",
       "      <td>-6.060348e+08</td>\n",
       "      <td>4.315116e+09</td>\n",
       "      <td>5.654660e+09</td>\n",
       "      <td>6.398898e+08</td>\n",
       "      <td>-8.103764e+08</td>\n",
       "      <td>-9.973003e+08</td>\n",
       "      <td>-7.417949e+08</td>\n",
       "      <td>1.601062e+09</td>\n",
       "      <td>...</td>\n",
       "      <td>8.759091e+09</td>\n",
       "      <td>-3.055708e+08</td>\n",
       "      <td>1.697797e+09</td>\n",
       "      <td>3.158913e+09</td>\n",
       "      <td>1.389315e+09</td>\n",
       "      <td>1.070767e+08</td>\n",
       "      <td>6.016281e+08</td>\n",
       "      <td>1.304635e+09</td>\n",
       "      <td>5.813191e+09</td>\n",
       "      <td>2.105308e+09</td>\n",
       "    </tr>\n",
       "  </tbody>\n",
       "</table>\n",
       "<p>1 rows × 400 columns</p>\n",
       "</div>"
      ],
      "text/plain": [
       "opendate     2016-12-02   2016-12-01    2016-11-30    2016-11-29  \\\n",
       "netamount -2.786657e+08 -782776991.0 -6.060348e+08  4.315116e+09   \n",
       "\n",
       "opendate     2016-11-28    2016-11-25    2016-11-24    2016-11-23  \\\n",
       "netamount  5.654660e+09  6.398898e+08 -8.103764e+08 -9.973003e+08   \n",
       "\n",
       "opendate     2016-11-22    2016-11-21      ...         2015-04-30  \\\n",
       "netamount -7.417949e+08  1.601062e+09      ...       8.759091e+09   \n",
       "\n",
       "opendate     2015-04-29    2015-04-28    2015-04-27    2015-04-24  \\\n",
       "netamount -3.055708e+08  1.697797e+09  3.158913e+09  1.389315e+09   \n",
       "\n",
       "opendate     2015-04-23    2015-04-22    2015-04-21    2015-04-20  \\\n",
       "netamount  1.070767e+08  6.016281e+08  1.304635e+09  5.813191e+09   \n",
       "\n",
       "opendate     2015-04-17  \n",
       "netamount  2.105308e+09  \n",
       "\n",
       "[1 rows x 400 columns]"
      ]
     },
     "execution_count": 191,
     "metadata": {},
     "output_type": "execute_result"
    }
   ],
   "source": [
    "frame1"
   ]
  },
  {
   "cell_type": "code",
   "execution_count": 192,
   "metadata": {
    "collapsed": false
   },
   "outputs": [
    {
     "data": {
      "text/html": [
       "<div>\n",
       "<table border=\"1\" class=\"dataframe\">\n",
       "  <thead>\n",
       "    <tr style=\"text-align: right;\">\n",
       "      <th>opendate</th>\n",
       "      <th>2016-12-02</th>\n",
       "      <th>2016-12-01</th>\n",
       "      <th>2016-11-30</th>\n",
       "      <th>2016-11-29</th>\n",
       "      <th>2016-11-28</th>\n",
       "      <th>2016-11-25</th>\n",
       "      <th>2016-11-24</th>\n",
       "      <th>2016-11-23</th>\n",
       "      <th>2016-11-22</th>\n",
       "      <th>2016-11-21</th>\n",
       "      <th>...</th>\n",
       "      <th>2015-04-30</th>\n",
       "      <th>2015-04-29</th>\n",
       "      <th>2015-04-28</th>\n",
       "      <th>2015-04-27</th>\n",
       "      <th>2015-04-24</th>\n",
       "      <th>2015-04-23</th>\n",
       "      <th>2015-04-22</th>\n",
       "      <th>2015-04-21</th>\n",
       "      <th>2015-04-20</th>\n",
       "      <th>2015-04-17</th>\n",
       "    </tr>\n",
       "  </thead>\n",
       "  <tbody>\n",
       "    <tr>\n",
       "      <th>sh601668</th>\n",
       "      <td>-30874.653664</td>\n",
       "      <td>-73166.753083</td>\n",
       "      <td>-59211.596797</td>\n",
       "      <td>425303.801705</td>\n",
       "      <td>553512.46748</td>\n",
       "      <td>59169.157663</td>\n",
       "      <td>-70409.957785</td>\n",
       "      <td>-89360.80544</td>\n",
       "      <td>-74201.207741</td>\n",
       "      <td>156406.132118</td>\n",
       "      <td>...</td>\n",
       "      <td>822698.502414</td>\n",
       "      <td>-30669.730624</td>\n",
       "      <td>169709.502328</td>\n",
       "      <td>314896.275802</td>\n",
       "      <td>134362.847324</td>\n",
       "      <td>11661.031596</td>\n",
       "      <td>58632.485788</td>\n",
       "      <td>128587.149824</td>\n",
       "      <td>581504.974472</td>\n",
       "      <td>210448.60137</td>\n",
       "    </tr>\n",
       "  </tbody>\n",
       "</table>\n",
       "<p>1 rows × 400 columns</p>\n",
       "</div>"
      ],
      "text/plain": [
       "opendate    2016-12-02    2016-12-01    2016-11-30     2016-11-29  \\\n",
       "sh601668 -30874.653664 -73166.753083 -59211.596797  425303.801705   \n",
       "\n",
       "opendate    2016-11-28    2016-11-25    2016-11-24   2016-11-23    2016-11-22  \\\n",
       "sh601668  553512.46748  59169.157663 -70409.957785 -89360.80544 -74201.207741   \n",
       "\n",
       "opendate     2016-11-21      ...          2015-04-30    2015-04-29  \\\n",
       "sh601668  156406.132118      ...       822698.502414 -30669.730624   \n",
       "\n",
       "opendate     2015-04-28     2015-04-27     2015-04-24    2015-04-23  \\\n",
       "sh601668  169709.502328  314896.275802  134362.847324  11661.031596   \n",
       "\n",
       "opendate    2015-04-22     2015-04-21     2015-04-20    2015-04-17  \n",
       "sh601668  58632.485788  128587.149824  581504.974472  210448.60137  \n",
       "\n",
       "[1 rows x 400 columns]"
      ]
     },
     "execution_count": 192,
     "metadata": {},
     "output_type": "execute_result"
    }
   ],
   "source": [
    "frame2"
   ]
  },
  {
   "cell_type": "code",
   "execution_count": 194,
   "metadata": {
    "collapsed": false
   },
   "outputs": [],
   "source": [
    "framecheck = (frame1.T.netamount==frame2.T.sh601668)"
   ]
  },
  {
   "cell_type": "code",
   "execution_count": 198,
   "metadata": {
    "collapsed": false
   },
   "outputs": [
    {
     "data": {
      "text/plain": [
       "pandas.core.series.Series"
      ]
     },
     "execution_count": 198,
     "metadata": {},
     "output_type": "execute_result"
    }
   ],
   "source": [
    "framecheck"
   ]
  },
  {
   "cell_type": "code",
   "execution_count": 176,
   "metadata": {
    "collapsed": true
   },
   "outputs": [],
   "source": [
    "frame1t = frame1.T"
   ]
  },
  {
   "cell_type": "code",
   "execution_count": 178,
   "metadata": {
    "collapsed": false
   },
   "outputs": [
    {
     "ename": "TypeError",
     "evalue": "(\"'Series' object is not callable\", u'occurred at index netamount')",
     "output_type": "error",
     "traceback": [
      "\u001b[1;31m---------------------------------------------------------------------------\u001b[0m",
      "\u001b[1;31mTypeError\u001b[0m                                 Traceback (most recent call last)",
      "\u001b[1;32m<ipython-input-178-3ff16b50dec8>\u001b[0m in \u001b[0;36m<module>\u001b[1;34m()\u001b[0m\n\u001b[1;32m----> 1\u001b[1;33m \u001b[0mframe1t\u001b[0m\u001b[1;33m.\u001b[0m\u001b[0mapply\u001b[0m\u001b[1;33m(\u001b[0m\u001b[0mframecheck\u001b[0m\u001b[1;33m)\u001b[0m\u001b[1;33m\u001b[0m\u001b[0m\n\u001b[0m",
      "\u001b[1;32mK:\\Anaconda\\lib\\site-packages\\pandas\\core\\frame.pyc\u001b[0m in \u001b[0;36mapply\u001b[1;34m(self, func, axis, broadcast, raw, reduce, args, **kwds)\u001b[0m\n\u001b[0;32m   4059\u001b[0m                     \u001b[1;32mif\u001b[0m \u001b[0mreduce\u001b[0m \u001b[1;32mis\u001b[0m \u001b[0mNone\u001b[0m\u001b[1;33m:\u001b[0m\u001b[1;33m\u001b[0m\u001b[0m\n\u001b[0;32m   4060\u001b[0m                         \u001b[0mreduce\u001b[0m \u001b[1;33m=\u001b[0m \u001b[0mTrue\u001b[0m\u001b[1;33m\u001b[0m\u001b[0m\n\u001b[1;32m-> 4061\u001b[1;33m                     \u001b[1;32mreturn\u001b[0m \u001b[0mself\u001b[0m\u001b[1;33m.\u001b[0m\u001b[0m_apply_standard\u001b[0m\u001b[1;33m(\u001b[0m\u001b[0mf\u001b[0m\u001b[1;33m,\u001b[0m \u001b[0maxis\u001b[0m\u001b[1;33m,\u001b[0m \u001b[0mreduce\u001b[0m\u001b[1;33m=\u001b[0m\u001b[0mreduce\u001b[0m\u001b[1;33m)\u001b[0m\u001b[1;33m\u001b[0m\u001b[0m\n\u001b[0m\u001b[0;32m   4062\u001b[0m             \u001b[1;32melse\u001b[0m\u001b[1;33m:\u001b[0m\u001b[1;33m\u001b[0m\u001b[0m\n\u001b[0;32m   4063\u001b[0m                 \u001b[1;32mreturn\u001b[0m \u001b[0mself\u001b[0m\u001b[1;33m.\u001b[0m\u001b[0m_apply_broadcast\u001b[0m\u001b[1;33m(\u001b[0m\u001b[0mf\u001b[0m\u001b[1;33m,\u001b[0m \u001b[0maxis\u001b[0m\u001b[1;33m)\u001b[0m\u001b[1;33m\u001b[0m\u001b[0m\n",
      "\u001b[1;32mK:\\Anaconda\\lib\\site-packages\\pandas\\core\\frame.pyc\u001b[0m in \u001b[0;36m_apply_standard\u001b[1;34m(self, func, axis, ignore_failures, reduce)\u001b[0m\n\u001b[0;32m   4155\u001b[0m             \u001b[1;32mtry\u001b[0m\u001b[1;33m:\u001b[0m\u001b[1;33m\u001b[0m\u001b[0m\n\u001b[0;32m   4156\u001b[0m                 \u001b[1;32mfor\u001b[0m \u001b[0mi\u001b[0m\u001b[1;33m,\u001b[0m \u001b[0mv\u001b[0m \u001b[1;32min\u001b[0m \u001b[0menumerate\u001b[0m\u001b[1;33m(\u001b[0m\u001b[0mseries_gen\u001b[0m\u001b[1;33m)\u001b[0m\u001b[1;33m:\u001b[0m\u001b[1;33m\u001b[0m\u001b[0m\n\u001b[1;32m-> 4157\u001b[1;33m                     \u001b[0mresults\u001b[0m\u001b[1;33m[\u001b[0m\u001b[0mi\u001b[0m\u001b[1;33m]\u001b[0m \u001b[1;33m=\u001b[0m \u001b[0mfunc\u001b[0m\u001b[1;33m(\u001b[0m\u001b[0mv\u001b[0m\u001b[1;33m)\u001b[0m\u001b[1;33m\u001b[0m\u001b[0m\n\u001b[0m\u001b[0;32m   4158\u001b[0m                     \u001b[0mkeys\u001b[0m\u001b[1;33m.\u001b[0m\u001b[0mappend\u001b[0m\u001b[1;33m(\u001b[0m\u001b[0mv\u001b[0m\u001b[1;33m.\u001b[0m\u001b[0mname\u001b[0m\u001b[1;33m)\u001b[0m\u001b[1;33m\u001b[0m\u001b[0m\n\u001b[0;32m   4159\u001b[0m             \u001b[1;32mexcept\u001b[0m \u001b[0mException\u001b[0m \u001b[1;32mas\u001b[0m \u001b[0me\u001b[0m\u001b[1;33m:\u001b[0m\u001b[1;33m\u001b[0m\u001b[0m\n",
      "\u001b[1;31mTypeError\u001b[0m: (\"'Series' object is not callable\", u'occurred at index netamount')"
     ]
    }
   ],
   "source": [
    "frame1t.apply(framecheck)"
   ]
  },
  {
   "cell_type": "code",
   "execution_count": 147,
   "metadata": {
    "collapsed": false
   },
   "outputs": [
    {
     "data": {
      "text/html": [
       "<div>\n",
       "<table border=\"1\" class=\"dataframe\">\n",
       "  <thead>\n",
       "    <tr style=\"text-align: right;\">\n",
       "      <th>opendate</th>\n",
       "      <th>2016-12-02</th>\n",
       "      <th>2016-12-01</th>\n",
       "    </tr>\n",
       "  </thead>\n",
       "  <tbody>\n",
       "    <tr>\n",
       "      <th>0</th>\n",
       "      <td>570.449968</td>\n",
       "      <td>413.915600</td>\n",
       "    </tr>\n",
       "    <tr>\n",
       "      <th>1</th>\n",
       "      <td>-124.450400</td>\n",
       "      <td>-362.566368</td>\n",
       "    </tr>\n",
       "  </tbody>\n",
       "</table>\n",
       "</div>"
      ],
      "text/plain": [
       "opendate  2016-12-02  2016-12-01\n",
       "0         570.449968  413.915600\n",
       "1        -124.450400 -362.566368"
      ]
     },
     "execution_count": 147,
     "metadata": {},
     "output_type": "execute_result"
    }
   ],
   "source": [
    "pd.merge(frame0.T, frame1.T, how='outer')"
   ]
  },
  {
   "cell_type": "code",
   "execution_count": 149,
   "metadata": {
    "collapsed": false
   },
   "outputs": [
    {
     "data": {
      "text/html": [
       "<div>\n",
       "<table border=\"1\" class=\"dataframe\">\n",
       "  <thead>\n",
       "    <tr style=\"text-align: right;\">\n",
       "      <th>opendate</th>\n",
       "      <th>2016-12-02</th>\n",
       "      <th>2016-12-01</th>\n",
       "    </tr>\n",
       "  </thead>\n",
       "  <tbody>\n",
       "    <tr>\n",
       "      <th>sz002676</th>\n",
       "      <td>570.449968</td>\n",
       "      <td>413.915600</td>\n",
       "    </tr>\n",
       "    <tr>\n",
       "      <th>sh600452</th>\n",
       "      <td>-124.450400</td>\n",
       "      <td>-362.566368</td>\n",
       "    </tr>\n",
       "  </tbody>\n",
       "</table>\n",
       "</div>"
      ],
      "text/plain": [
       "opendate  2016-12-02  2016-12-01\n",
       "sz002676  570.449968  413.915600\n",
       "sh600452 -124.450400 -362.566368"
      ]
     },
     "execution_count": 149,
     "metadata": {},
     "output_type": "execute_result"
    }
   ],
   "source": [
    "frame0.T.append(frame1.T)"
   ]
  }
 ],
 "metadata": {
  "kernelspec": {
   "display_name": "Python 2",
   "language": "python",
   "name": "python2"
  },
  "language_info": {
   "codemirror_mode": {
    "name": "ipython",
    "version": 2
   },
   "file_extension": ".py",
   "mimetype": "text/x-python",
   "name": "python",
   "nbconvert_exporter": "python",
   "pygments_lexer": "ipython2",
   "version": "2.7.10"
  }
 },
 "nbformat": 4,
 "nbformat_minor": 0
}
