{
 "cells": [
  {
   "cell_type": "markdown",
   "metadata": {},
   "source": [
    "# 处理缺失数据"
   ]
  },
  {
   "cell_type": "code",
   "execution_count": 6,
   "metadata": {
    "collapsed": true
   },
   "outputs": [],
   "source": [
    "from pandas import Series, DataFrame\n",
    "import pandas as pd\n",
    "import numpy as np\n",
    "from numpy import nan as NA"
   ]
  },
  {
   "cell_type": "code",
   "execution_count": 4,
   "metadata": {
    "collapsed": false
   },
   "outputs": [
    {
     "name": "stdout",
     "output_type": "stream",
     "text": [
      "0     aardvark\n",
      "1    artichoke\n",
      "2          NaN\n",
      "3      avocado\n",
      "dtype: object\n",
      "0    False\n",
      "1    False\n",
      "2     True\n",
      "3    False\n",
      "dtype: bool\n",
      "0     True\n",
      "1    False\n",
      "2     True\n",
      "3    False\n",
      "dtype: bool\n"
     ]
    }
   ],
   "source": [
    "string_data = Series(['aardvark', 'artichoke', np.nan, 'avocado'])\n",
    "print string_data\n",
    "print string_data.isnull()\n",
    "string_data[0] = None\n",
    "print string_data.isnull()"
   ]
  },
  {
   "cell_type": "markdown",
   "metadata": {},
   "source": [
    "## 滤除缺失数据"
   ]
  },
  {
   "cell_type": "code",
   "execution_count": 12,
   "metadata": {
    "collapsed": false
   },
   "outputs": [
    {
     "name": "stdout",
     "output_type": "stream",
     "text": [
      "0    1.0\n",
      "2    3.5\n",
      "4    7.0\n",
      "dtype: float64\n",
      "0    1.0\n",
      "2    3.5\n",
      "4    7.0\n",
      "dtype: float64\n",
      "0     True\n",
      "1    False\n",
      "2     True\n",
      "3    False\n",
      "4     True\n",
      "dtype: bool\n"
     ]
    }
   ],
   "source": [
    "data = Series([1, NA, 3.5, NA, 7])\n",
    "print data.dropna()\n",
    "print data[data.notnull()]\n",
    "print data.notnull()"
   ]
  },
  {
   "cell_type": "code",
   "execution_count": 19,
   "metadata": {
    "collapsed": false
   },
   "outputs": [
    {
     "name": "stdout",
     "output_type": "stream",
     "text": [
      "     0    1    2\n",
      "0  1.0  6.5  3.0\n",
      "1  1.0  NaN  NaN\n",
      "2  NaN  NaN  NaN\n",
      "3  NaN  6.5  3.0\n",
      "----\n",
      "     0    1    2\n",
      "0  1.0  6.5  3.0\n",
      "     0    1    2\n",
      "0  1.0  6.5  3.0\n",
      "1  1.0  NaN  NaN\n",
      "3  NaN  6.5  3.0\n",
      "----\n",
      "     0    1    2   4\n",
      "0  1.0  6.5  3.0 NaN\n",
      "1  1.0  NaN  NaN NaN\n",
      "3  NaN  6.5  3.0 NaN\n"
     ]
    }
   ],
   "source": [
    "data = DataFrame([[1., 6.5, 3.], [1., NA, NA],\n",
    "                 [NA, NA, NA], [NA, 6.5, 3.]])\n",
    "cleaned = data.dropna()\n",
    "print data\n",
    "print '----'\n",
    "print cleaned\n",
    "print data.dropna(how = 'all')\n",
    "print '----'\n",
    "data[4] = NA\n",
    "print data.dropna(axis = 0, how = 'all')"
   ]
  },
  {
   "cell_type": "code",
   "execution_count": 26,
   "metadata": {
    "collapsed": false
   },
   "outputs": [
    {
     "name": "stdout",
     "output_type": "stream",
     "text": [
      "          0         1         2\n",
      "0  0.924487       NaN       NaN\n",
      "1 -0.063235       NaN       NaN\n",
      "2 -0.159001       NaN       NaN\n",
      "3 -1.943630       NaN  1.572597\n",
      "4 -0.109353       NaN  0.510923\n",
      "5 -1.214197  0.675242  1.258993\n",
      "6 -0.258135 -0.066050  2.532439\n",
      "          0         1         2\n",
      "5 -1.214197  0.675242  1.258993\n",
      "6 -0.258135 -0.066050  2.532439\n"
     ]
    }
   ],
   "source": [
    "df = DataFrame(np.random.randn(7, 3))\n",
    "df.ix[:4, 1] = NA\n",
    "df.ix[:2, 2] = NA\n",
    "print df\n",
    "print df.dropna(thresh = 3)"
   ]
  },
  {
   "cell_type": "markdown",
   "metadata": {},
   "source": [
    "## 填充缺失数据"
   ]
  },
  {
   "cell_type": "code",
   "execution_count": 31,
   "metadata": {
    "collapsed": false
   },
   "outputs": [
    {
     "name": "stdout",
     "output_type": "stream",
     "text": [
      "          0         1         2\n",
      "0  0.924487  0.000000  0.000000\n",
      "1 -0.063235  0.000000  0.000000\n",
      "2 -0.159001  0.000000  0.000000\n",
      "3 -1.943630  0.000000  1.572597\n",
      "4 -0.109353  0.000000  0.510923\n",
      "5 -1.214197  0.675242  1.258993\n",
      "6 -0.258135 -0.066050  2.532439\n",
      "          0         1         2\n",
      "0  0.924487  0.000000  0.000000\n",
      "1 -0.063235  0.000000  0.000000\n",
      "2 -0.159001  0.000000  0.000000\n",
      "3 -1.943630  0.000000  1.572597\n",
      "4 -0.109353  0.000000  0.510923\n",
      "5 -1.214197  0.675242  1.258993\n",
      "6 -0.258135 -0.066050  2.532439\n",
      "None\n"
     ]
    }
   ],
   "source": [
    "print df.fillna(0)\n",
    "print df.fillna({1: 0.5, 2: -1})\n",
    "_ = df.fillna(0, inplace = True) #总是返回被填充对象的引用\n",
    "print _"
   ]
  },
  {
   "cell_type": "code",
   "execution_count": 35,
   "metadata": {
    "collapsed": false
   },
   "outputs": [
    {
     "name": "stdout",
     "output_type": "stream",
     "text": [
      "          0         1         2\n",
      "0 -1.172572  0.521980 -0.119164\n",
      "1  2.595734  0.016958  1.923812\n",
      "2  1.372027       NaN -1.648235\n",
      "3  0.716543       NaN -0.437028\n",
      "4 -0.510810       NaN       NaN\n",
      "5  0.647002       NaN       NaN\n",
      "          0         1         2\n",
      "0 -1.172572  0.521980 -0.119164\n",
      "1  2.595734  0.016958  1.923812\n",
      "2  1.372027  0.016958 -1.648235\n",
      "3  0.716543  0.016958 -0.437028\n",
      "4 -0.510810  0.016958 -0.437028\n",
      "5  0.647002  0.016958 -0.437028\n",
      "          0         1         2\n",
      "0 -1.172572  0.521980 -0.119164\n",
      "1  2.595734  0.016958  1.923812\n",
      "2  1.372027  0.016958 -1.648235\n",
      "3  0.716543  0.016958 -0.437028\n",
      "4 -0.510810       NaN -0.437028\n",
      "5  0.647002       NaN -0.437028\n",
      "0    1.000000\n",
      "1    3.833333\n",
      "2    3.500000\n",
      "3    3.833333\n",
      "4    7.000000\n",
      "dtype: float64\n"
     ]
    }
   ],
   "source": [
    "df = DataFrame(np.random.randn(6, 3))\n",
    "df.ix[2:, 1] = NA #从第2行开始，第1列置为NA\n",
    "df.ix[4:, 2] = NA #从第4行开始，第2列置为NA\n",
    "print df\n",
    "print df.fillna(method = 'ffill') #广播填充\n",
    "print df.fillna(method = 'ffill', limit = 2)\n",
    "data = Series([1., NA, 3.5, NA, 7])\n",
    "print data.fillna(data.mean())"
   ]
  }
 ],
 "metadata": {
  "kernelspec": {
   "display_name": "Python 2",
   "language": "python",
   "name": "python2"
  },
  "language_info": {
   "codemirror_mode": {
    "name": "ipython",
    "version": 2
   },
   "file_extension": ".py",
   "mimetype": "text/x-python",
   "name": "python",
   "nbconvert_exporter": "python",
   "pygments_lexer": "ipython2",
   "version": "2.7.10"
  }
 },
 "nbformat": 4,
 "nbformat_minor": 0
}
