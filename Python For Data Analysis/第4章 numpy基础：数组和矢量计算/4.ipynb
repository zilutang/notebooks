{
 "cells": [
  {
   "cell_type": "markdown",
   "metadata": {},
   "source": [
    "# 范例：随机漫步"
   ]
  },
  {
   "cell_type": "code",
   "execution_count": 1,
   "metadata": {
    "collapsed": true
   },
   "outputs": [],
   "source": [
    "import random\n",
    "position = 0\n",
    "walk = [position]\n",
    "steps = 1000\n",
    "for i in xrange(steps):\n",
    "    step = 1 if random.randint(0, 1) else -1\n",
    "    position += step\n",
    "    walk.append(position)"
   ]
  },
  {
   "cell_type": "code",
   "execution_count": 4,
   "metadata": {
    "collapsed": false
   },
   "outputs": [
    {
     "name": "stdout",
     "output_type": "stream",
     "text": [
      "-16\n",
      "36\n",
      "188\n"
     ]
    }
   ],
   "source": [
    "import numpy as np\n",
    "nsteps = 1000\n",
    "draws = np.random.randint(0, 2, size=nsteps)\n",
    "steps = np.where(draws > 0, 1, -1)\n",
    "walk = steps.cumsum()\n",
    "print walk.min()\n",
    "print walk.max()\n",
    "print (np.abs(walk) > 10).argmax()"
   ]
  },
  {
   "cell_type": "code",
   "execution_count": 10,
   "metadata": {
    "collapsed": false
   },
   "outputs": [
    {
     "name": "stdout",
     "output_type": "stream",
     "text": [
      "[[ -1   0   1 ...,  32  31  30]\n",
      " [  1   2   3 ...,  -2  -3  -4]\n",
      " [ -1  -2  -3 ..., -30 -31 -30]\n",
      " ..., \n",
      " [ -1   0  -1 ..., -18 -17 -18]\n",
      " [  1   2   3 ..., -38 -37 -38]\n",
      " [ -1  -2  -3 ...,  36  37  38]]\n",
      "114\n",
      "-119\n",
      "[ True False  True ...,  True  True  True]\n",
      "3355\n",
      "498.869448584\n",
      "[[ 0.35576358  0.09731642 -0.00235545 ...,  0.04661703 -0.14667575\n",
      "   0.18484923]\n",
      " [ 0.05151628 -0.22126165  0.34945478 ..., -0.24720291  0.18336965\n",
      "   0.15156239]\n",
      " [ 0.30136223  0.28982002 -0.12811097 ...,  0.18773586 -0.35680853\n",
      "   0.05363099]\n",
      " ..., \n",
      " [-0.16671411  0.06347954  0.06835099 ..., -0.01241925 -0.21365826\n",
      "  -0.14249903]\n",
      " [ 0.12555308  0.14401698 -0.27777447 ...,  0.05945923 -0.03293101\n",
      "   0.10941961]\n",
      " [-0.48694162 -0.10913206 -0.11709741 ...,  0.05370068 -0.32661794\n",
      "  -0.22148098]]\n"
     ]
    }
   ],
   "source": [
    "nwalks = 5000\n",
    "nsteps = 1000\n",
    "draws = np.random.randint(0, 2, size=(nwalks, nsteps)) #0或1\n",
    "steps = np.where(draws > 0, 1, -1)\n",
    "walks = steps.cumsum(1)\n",
    "print walks\n",
    "print walks.max()\n",
    "print walks.min()\n",
    "hits30 = (np.abs(walks) >= 30).any(1)\n",
    "print hits30\n",
    "print hits30.sum()\n",
    "crossing_times = (np.abs(walks[hits30]) >= 30).argmax(1)\n",
    "print crossing_times.mean()\n",
    "steps = np.random.normal(loc = 0, scale = 0.25, size = (nwalks, nsteps))\n",
    "print steps"
   ]
  }
 ],
 "metadata": {
  "kernelspec": {
   "display_name": "Python 2",
   "language": "python",
   "name": "python2"
  },
  "language_info": {
   "codemirror_mode": {
    "name": "ipython",
    "version": 2
   },
   "file_extension": ".py",
   "mimetype": "text/x-python",
   "name": "python",
   "nbconvert_exporter": "python",
   "pygments_lexer": "ipython2",
   "version": "2.7.10"
  }
 },
 "nbformat": 4,
 "nbformat_minor": 0
}
