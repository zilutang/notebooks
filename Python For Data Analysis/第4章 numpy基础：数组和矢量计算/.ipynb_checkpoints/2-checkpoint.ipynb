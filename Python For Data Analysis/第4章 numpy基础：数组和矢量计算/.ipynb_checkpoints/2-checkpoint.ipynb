{
 "cells": [
  {
   "cell_type": "markdown",
   "metadata": {},
   "source": [
    "# 通用函数：快速的元素级数组函数"
   ]
  },
  {
   "cell_type": "code",
   "execution_count": null,
   "metadata": {
    "collapsed": true
   },
   "outputs": [],
   "source": [
    "import numpy as np\n",
    "arr = np.arange(10)\n",
    "print arr\n",
    "print np.sqrt(arr)\n",
    "print np.exp(arr)\n",
    "x = np.random.randn(8)\n",
    "y = np.random.randn(8)\n",
    "print x\n",
    "print y\n",
    "print np.maximum(x,y)\n",
    "print np.random.randn(7) * 5\n",
    "print np.modf(arr)"
   ]
  },
  {
   "cell_type": "markdown",
   "metadata": {},
   "source": [
    "# 利用数组进行数据处理"
   ]
  },
  {
   "cell_type": "code",
   "execution_count": null,
   "metadata": {
    "collapsed": false
   },
   "outputs": [],
   "source": [
    "#用数组表达式代替循环的做法，通常被成为矢量化\n",
    "points = np.arange(-5, 5, 0.01)\n",
    "xs, ys = np.meshgrid(points, points) #生成两个二维矩阵\n",
    "print xs\n",
    "print ys\n",
    "import matplotlib.pyplot as plt\n",
    "z = np.sqrt(xs ** 2 + ys ** 2)\n",
    "print z\n",
    "plt.imshow(z, cmap=plt.cm.gray);\n",
    "plt.colorbar()\n",
    "plt.title(\"Image plot of $\\sqrt{x^2 + y^2}$ for a grid of values\")\n",
    "plt.show()"
   ]
  },
  {
   "cell_type": "markdown",
   "metadata": {},
   "source": [
    "## 将条件逻辑表述为数组运算"
   ]
  },
  {
   "cell_type": "code",
   "execution_count": null,
   "metadata": {
    "collapsed": false
   },
   "outputs": [],
   "source": [
    "xarr = np.array([1.1, 1.2, 1.3, 1.4, 1.5])\n",
    "yarr = np.array([2.1, 2.2, 2.3, 2.4, 2.5])\n",
    "cond = np.array([True, False, True, True, False])\n",
    "result = [(x if c else y) for x, y, c in zip(xarr, yarr, cond)]\n",
    "print result\n",
    "print np.where(cond, xarr, yarr)"
   ]
  },
  {
   "cell_type": "code",
   "execution_count": null,
   "metadata": {
    "collapsed": false
   },
   "outputs": [],
   "source": [
    "arr = np.random.randn(4, 4)\n",
    "print arr\n",
    "print np.where(arr > 0, 2, -2)\n",
    "print np.where(arr > 0, 2, arr)"
   ]
  },
  {
   "cell_type": "markdown",
   "metadata": {},
   "source": [
    "## 数学和统计方法"
   ]
  },
  {
   "cell_type": "code",
   "execution_count": null,
   "metadata": {
    "collapsed": false
   },
   "outputs": [],
   "source": [
    "arr = np.random.randn(5, 4) #5行4列\n",
    "print arr\n",
    "print arr.mean()\n",
    "print np.mean(arr)\n",
    "print arr.sum()\n",
    "print arr.sum(axis=0)\n",
    "print arr.sum(0)\n",
    "print arr.sum(axis=1)\n",
    "print arr.mean(axis=1) #按行加和，5个结果\n",
    "print arr.mean(axis=0) #按列加和，4个结果\n",
    "print '--------'\n",
    "arr = np.array([[0, 1, 2], [3, 4, 5], [6, 7, 8]])\n",
    "print arr\n",
    "print arr.cumsum(0)\n",
    "print arr.cumsum(1)"
   ]
  },
  {
   "cell_type": "markdown",
   "metadata": {},
   "source": [
    "## 用于布尔型数组的方法"
   ]
  },
  {
   "cell_type": "code",
   "execution_count": 67,
   "metadata": {
    "collapsed": false
   },
   "outputs": [
    {
     "name": "stdout",
     "output_type": "stream",
     "text": [
      "[ 0.73051645  0.92992334  1.7645364  -1.87409149  0.12782107 -1.22644943\n",
      " -1.44232826  1.10510476  0.02322891  0.2268137   0.60614833  0.51311081\n",
      "  0.43270498  0.62309265  1.00872214  0.50574132  0.44612093 -0.39071576\n",
      "  0.41737732  0.36596668 -0.48875082  0.33760915 -0.25869266 -1.28083557\n",
      " -0.89768833  0.95149569 -0.33602959 -1.10630653  0.40965763 -0.27459487\n",
      " -1.57992721  1.27591209  0.19056055 -1.51294066  2.14542003 -0.00272209\n",
      "  0.42278093  0.99904676  0.69543506 -1.06722525  1.35609082  0.7013816\n",
      "  0.1383583  -1.58059866 -0.07134744  0.77400314 -0.22202885  0.66970201\n",
      " -1.00292993  1.63006733 -1.00128779 -0.11705363 -0.12176851 -1.42556453\n",
      " -1.27197656  1.14242053 -2.31481357 -0.93773619  0.24437688 -0.08993593\n",
      "  2.54701678  1.12041489 -0.93499766 -0.41569094  0.80971283 -0.79845419\n",
      " -1.01707449 -0.38247502  2.4616463   0.28290608 -0.80910161 -0.11598742\n",
      "  2.17932777 -1.5303551   1.91826387 -0.91756345  0.01670833  0.90487959\n",
      " -0.98436781  1.11998196 -0.87992409 -1.67519661  1.50878408 -1.72014276\n",
      "  1.17545813  0.84840495 -1.71229421  0.15363205  0.41150934 -0.48737216\n",
      " -0.97737958  0.22343866  2.40355215  0.97364731  0.23399503  0.09143758\n",
      " -0.76575795  0.20572119 -0.05487099  2.42873259]\n",
      "55\n",
      "True\n",
      "False\n"
     ]
    }
   ],
   "source": [
    "arr = np.random.randn(100)\n",
    "print arr\n",
    "print (arr > 0).sum()\n",
    "\n",
    "bools = np.array([False, False, True, False])\n",
    "print bools.any()\n",
    "print bools.all()"
   ]
  },
  {
   "cell_type": "markdown",
   "metadata": {},
   "source": [
    "## 排序"
   ]
  },
  {
   "cell_type": "code",
   "execution_count": 70,
   "metadata": {
    "collapsed": false
   },
   "outputs": [
    {
     "name": "stdout",
     "output_type": "stream",
     "text": [
      "[ 0.73179012 -0.78815061 -1.51784709 -0.06220716  0.15357371 -0.38041275\n",
      " -1.01350706 -0.4711308 ]\n",
      "[-1.51784709 -1.01350706 -0.78815061 -0.4711308  -0.38041275 -0.06220716\n",
      "  0.15357371  0.73179012]\n",
      "[[ 0.6206073   1.6198288   1.42455963]\n",
      " [ 0.8245512  -0.72833018  0.32483001]\n",
      " [-1.7324239  -0.87436763  0.26439046]\n",
      " [ 0.76064074  0.08165849  1.14183296]\n",
      " [-0.45852959  0.54947277 -1.67862049]]\n",
      "[[ 0.6206073   1.42455963  1.6198288 ]\n",
      " [-0.72833018  0.32483001  0.8245512 ]\n",
      " [-1.7324239  -0.87436763  0.26439046]\n",
      " [ 0.08165849  0.76064074  1.14183296]\n",
      " [-1.67862049 -0.45852959  0.54947277]]\n",
      "[[-1.7324239  -0.87436763  0.26439046]\n",
      " [-1.67862049 -0.45852959  0.54947277]\n",
      " [-0.72833018  0.32483001  0.8245512 ]\n",
      " [ 0.08165849  0.76064074  1.14183296]\n",
      " [ 0.6206073   1.42455963  1.6198288 ]]\n",
      "[[-1.7324239  -0.87436763  0.26439046]\n",
      " [-1.67862049 -0.45852959  0.54947277]\n",
      " [-0.72833018  0.32483001  0.8245512 ]\n",
      " [ 0.08165849  0.76064074  1.14183296]\n",
      " [ 0.6206073   1.42455963  1.6198288 ]]\n"
     ]
    }
   ],
   "source": [
    "arr = np.random.randn(8)\n",
    "print arr\n",
    "arr.sort()\n",
    "print arr\n",
    "\n",
    "arr = np.random.randn(5, 3)\n",
    "print arr\n",
    "arr.sort(1)\n",
    "print arr\n",
    "arr.sort(0)\n",
    "print arr\n",
    "arr.sort() #整体排序\n",
    "print arr"
   ]
  }
 ],
 "metadata": {
  "kernelspec": {
   "display_name": "Python 2",
   "language": "python",
   "name": "python2"
  },
  "language_info": {
   "codemirror_mode": {
    "name": "ipython",
    "version": 2
   },
   "file_extension": ".py",
   "mimetype": "text/x-python",
   "name": "python",
   "nbconvert_exporter": "python",
   "pygments_lexer": "ipython2",
   "version": "2.7.10"
  }
 },
 "nbformat": 4,
 "nbformat_minor": 0
}
