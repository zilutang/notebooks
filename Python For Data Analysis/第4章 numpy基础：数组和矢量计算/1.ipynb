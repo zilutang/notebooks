{
 "cells": [
  {
   "cell_type": "markdown",
   "metadata": {},
   "source": [
    "# NumPy的ndarray: 一种多维数组对象"
   ]
  },
  {
   "cell_type": "markdown",
   "metadata": {},
   "source": [
    "## 创建ndarray"
   ]
  },
  {
   "cell_type": "code",
   "execution_count": 1,
   "metadata": {
    "collapsed": true,
    "scrolled": true
   },
   "outputs": [],
   "source": [
    "import numpy as np"
   ]
  },
  {
   "cell_type": "code",
   "execution_count": 2,
   "metadata": {
    "collapsed": false,
    "scrolled": true
   },
   "outputs": [
    {
     "name": "stdout",
     "output_type": "stream",
     "text": [
      "arr1:\n",
      "[[ 0.9526 -0.246  -0.8856]\n",
      " [ 0.5639  0.2379  0.9104]]\n",
      "arr1 * 10\n",
      "[[ 9.526 -2.46  -8.856]\n",
      " [ 5.639  2.379  9.104]]\n",
      "arr1.shape\n",
      "(2L, 3L)\n",
      "arr1.dtype\n",
      "float64\n"
     ]
    }
   ],
   "source": [
    "data = [[0.9526, -0.246, -0.8856],[0.5639, 0.2379, 0.9104]]\n",
    "arr1 = np.array(data)\n",
    "print 'arr1:'\n",
    "print arr1\n",
    "print 'arr1 * 10'\n",
    "print arr1 * 10\n",
    "print 'arr1.shape'\n",
    "print arr1.shape\n",
    "print 'arr1.dtype'\n",
    "print arr1.dtype"
   ]
  },
  {
   "cell_type": "markdown",
   "metadata": {
    "collapsed": true
   },
   "source": [
    "数组， Numpy数组，ndarray都是指ndarray"
   ]
  },
  {
   "cell_type": "code",
   "execution_count": null,
   "metadata": {
    "collapsed": false,
    "scrolled": true
   },
   "outputs": [],
   "source": [
    "data1 = [6, 7.5, 8, 0, 1]\n",
    "arr1 = np.array(data1)\n",
    "print 'arr1.dtype:'\n",
    "print arr1.dtype"
   ]
  },
  {
   "cell_type": "code",
   "execution_count": null,
   "metadata": {
    "collapsed": true,
    "scrolled": true
   },
   "outputs": [],
   "source": [
    "data2 = [[1, 2, 3, 4], [5, 6, 7, 8]]"
   ]
  },
  {
   "cell_type": "markdown",
   "metadata": {},
   "source": [
    "嵌套序列（比如由一组等长列表组成的列表）将会被转换为一个多维数组"
   ]
  },
  {
   "cell_type": "code",
   "execution_count": null,
   "metadata": {
    "collapsed": true
   },
   "outputs": [],
   "source": [
    "arr2 = np.array(data2)\n",
    "print 'np.array(data2):'\n",
    "print arr2\n",
    "print 'arr2.ndim:'\n",
    "print arr2.ndim\n",
    "print 'arr2.shape:'\n",
    "print arr2.shape\n",
    "print 'arr2.dtype:' \n",
    "print arr2.dtype"
   ]
  },
  {
   "cell_type": "code",
   "execution_count": null,
   "metadata": {
    "collapsed": false,
    "scrolled": true
   },
   "outputs": [],
   "source": [
    "np.zeros(10)\n",
    "np.zeros((3,6))\n",
    "np.empty((2,3,2)) #np.empty认为返回全0数组是不安全的，所以会返回一些未初始化的垃圾值"
   ]
  },
  {
   "cell_type": "code",
   "execution_count": null,
   "metadata": {
    "collapsed": false,
    "scrolled": true
   },
   "outputs": [],
   "source": [
    "x = np.arange(15)\n",
    "print x\n",
    "x.dtype"
   ]
  },
  {
   "cell_type": "code",
   "execution_count": 5,
   "metadata": {
    "collapsed": false
   },
   "outputs": [
    {
     "name": "stdout",
     "output_type": "stream",
     "text": [
      "[ 6.   7.5  8.   0.   1. ]\n",
      "[ 1.  1.  1.  1.  1.  1.  1.  1.  1.  1.]\n",
      "10\n",
      "[0 1 2 3 4 5 6 7 8 9]\n",
      "[ 1.  1.  1.  1.  1.  1.  1.  1.  1.  1.]\n",
      "[1 1 1]\n",
      "[ 0.  0.  0.  0.  0.  0.  0.  0.  0.  0.]\n",
      "[0 0 0 0]\n",
      "[[[  2.14026347e-316   2.99695636e-316   1.73985415e-316   2.99695636e-316]\n",
      "  [  2.26520680e-316   1.55303251e-316   1.73985415e-316   1.76760838e-316]\n",
      "  [  2.99695636e-316   1.76981073e-316   1.55303251e-316   1.76760838e-316]]\n",
      "\n",
      " [[  1.77096566e-316   2.99695636e-316   3.30956750e-316   1.55303251e-316]\n",
      "  [  1.77096566e-316   1.74692917e-316   2.99695636e-316   3.30102372e-316]\n",
      "  [  1.55303251e-316   1.74692917e-316   1.75294491e-316   2.99695636e-316]]]\n",
      "[[[  2.14026347e-316   2.99695636e-316   1.73985415e-316   2.99695636e-316]\n",
      "  [  2.26520680e-316   1.55303251e-316   1.73985415e-316   1.76760838e-316]\n",
      "  [  2.99695636e-316   1.76981073e-316   1.55303251e-316   1.76760838e-316]]\n",
      "\n",
      " [[  1.77096566e-316   2.99695636e-316   3.30956750e-316   1.55303251e-316]\n",
      "  [  1.77096566e-316   1.74692917e-316   2.99695636e-316   3.30102372e-316]\n",
      "  [  1.55303251e-316   1.74692917e-316   1.75294491e-316   2.99695636e-316]]]\n",
      "[0 0 0]\n",
      "[[ 1.  0.  0.  0.  0.  0.  0.  0.  0.  0.]\n",
      " [ 0.  1.  0.  0.  0.  0.  0.  0.  0.  0.]\n",
      " [ 0.  0.  1.  0.  0.  0.  0.  0.  0.  0.]\n",
      " [ 0.  0.  0.  1.  0.  0.  0.  0.  0.  0.]\n",
      " [ 0.  0.  0.  0.  1.  0.  0.  0.  0.  0.]\n",
      " [ 0.  0.  0.  0.  0.  1.  0.  0.  0.  0.]\n",
      " [ 0.  0.  0.  0.  0.  0.  1.  0.  0.  0.]\n",
      " [ 0.  0.  0.  0.  0.  0.  0.  1.  0.  0.]\n",
      " [ 0.  0.  0.  0.  0.  0.  0.  0.  1.  0.]\n",
      " [ 0.  0.  0.  0.  0.  0.  0.  0.  0.  1.]]\n",
      "[[ 1.  0.  0.  0.  0.  0.  0.  0.  0.  0.]\n",
      " [ 0.  1.  0.  0.  0.  0.  0.  0.  0.  0.]\n",
      " [ 0.  0.  1.  0.  0.  0.  0.  0.  0.  0.]\n",
      " [ 0.  0.  0.  1.  0.  0.  0.  0.  0.  0.]\n",
      " [ 0.  0.  0.  0.  1.  0.  0.  0.  0.  0.]\n",
      " [ 0.  0.  0.  0.  0.  1.  0.  0.  0.  0.]\n",
      " [ 0.  0.  0.  0.  0.  0.  1.  0.  0.  0.]\n",
      " [ 0.  0.  0.  0.  0.  0.  0.  1.  0.  0.]\n",
      " [ 0.  0.  0.  0.  0.  0.  0.  0.  1.  0.]\n",
      " [ 0.  0.  0.  0.  0.  0.  0.  0.  0.  1.]]\n"
     ]
    }
   ],
   "source": [
    "import numpy as np\n",
    "k = np.array([6, 7.5, 8, 0, 1]) # [ 6.   7.5  8.   0.   1. ] 将输入的序列（列表、元组、数组等）变成ndarray类型\n",
    "print k\n",
    "x = np.ndarray(10) # [ 1.  1.  1.  1.  1.  1.  1.  1.  1.  1.]\n",
    "print x\n",
    "y = np.array(10) # 10\n",
    "print y\n",
    "z = np.arange(10) # [0 1 2 3 4 5 6 7 8 9]\n",
    "print z\n",
    "a = np.ones(10) # [ 1.  1.  1.  1.  1.  1.  1.  1.  1.  1.]\n",
    "print a\n",
    "b = np.ones_like([10,11,12]) #[1 1 1]\n",
    "print b\n",
    "print np.zeros(10)\n",
    "print np.zeros_like([1,2,3,4])\n",
    "print np.empty([2,3,4])\n",
    "print np.empty((2,3,4))\n",
    "print np.empty_like([1,2,3])\n",
    "print np.eye(10)\n",
    "print np.identity(10)"
   ]
  },
  {
   "cell_type": "markdown",
   "metadata": {},
   "source": [
    "## ndarray的数据类型"
   ]
  },
  {
   "cell_type": "code",
   "execution_count": null,
   "metadata": {
    "collapsed": false
   },
   "outputs": [],
   "source": [
    "arr1 = np.array([1,2,3], dtype=np.float64)\n",
    "print arr1\n",
    "arr2 = np.array([1,2,3], dtype=np.int32)\n",
    "print arr2"
   ]
  },
  {
   "cell_type": "code",
   "execution_count": null,
   "metadata": {
    "collapsed": false
   },
   "outputs": [],
   "source": [
    "arr = np.array([1,2,3,4,5])\n",
    "print arr\n",
    "print arr.dtype\n",
    "float_arr = arr.astype(np.float64)\n",
    "print float_arr.dtype\n",
    "numeric_strings = np.array(['1.25', '-9.6', '42'], dtype=np.string_)\n",
    "print numeric_strings\n",
    "print numeric_strings.astype(float)"
   ]
  },
  {
   "cell_type": "code",
   "execution_count": null,
   "metadata": {
    "collapsed": false
   },
   "outputs": [],
   "source": [
    "int_array = np.arange(10)\n",
    "print int_array\n",
    "calibers = np.array([.22, .270, .357, .380, .44, .50], dtype=np.float64)\n",
    "print calibers\n",
    "print int_array.astype(calibers.dtype)"
   ]
  },
  {
   "cell_type": "markdown",
   "metadata": {},
   "source": [
    "## 数组和标量之间的运算"
   ]
  },
  {
   "cell_type": "code",
   "execution_count": null,
   "metadata": {
    "collapsed": false
   },
   "outputs": [],
   "source": [
    "arr = np.array([[1., 2., 3.], [4., 5., 6.]])\n",
    "print arr\n",
    "print arr * arr\n",
    "#arr1 = np.array([[1.,2.], [3., 4.], [5., 6.]])\n",
    "#print arr * arr1\n",
    "print 1/arr\n",
    "print arr ** 0.5 #平方根"
   ]
  },
  {
   "cell_type": "markdown",
   "metadata": {},
   "source": [
    "# 基本的索引和切片 "
   ]
  },
  {
   "cell_type": "code",
   "execution_count": null,
   "metadata": {
    "collapsed": false
   },
   "outputs": [],
   "source": [
    "arr = np.arange(10)\n",
    "print arr\n",
    "print arr[5]\n",
    "print arr[5:8]\n",
    "arr[5:8] = 12\n",
    "print arr\n",
    "print arr.dtype"
   ]
  },
  {
   "cell_type": "markdown",
   "metadata": {},
   "source": [
    "数组切片直接在原数组上修改，不会被复制，可以用arr[5:8].copy()进行复制"
   ]
  },
  {
   "cell_type": "code",
   "execution_count": null,
   "metadata": {
    "collapsed": false
   },
   "outputs": [],
   "source": [
    "arr_slice = arr[5:8]\n",
    "arr_slice[1] = 12345\n",
    "print arr\n",
    "arr_slice[:] = 64\n",
    "print arr"
   ]
  },
  {
   "cell_type": "code",
   "execution_count": null,
   "metadata": {
    "collapsed": false
   },
   "outputs": [],
   "source": [
    "arr2d = np.array([[1,2,3], [4,5,6], [7,8,9]])\n",
    "print arr2d\n",
    "print arr2d[2]\n",
    "print arr2d[0][2]\n",
    "print arr2d[0,0]\n",
    "print arr2d[2,2]"
   ]
  },
  {
   "cell_type": "code",
   "execution_count": null,
   "metadata": {
    "collapsed": false
   },
   "outputs": [],
   "source": [
    "arr3d = np.array([[1,2,3], [4,5,6], [7,8,9], [10, 11, 12]])\n",
    "print arr3d\n",
    "print arr3d[0]\n",
    "old_values = arr3d[0].copy()\n",
    "arr3d[0] = 42\n",
    "print arr3d\n",
    "arr3d[0] = old_values\n",
    "print arr3d\n",
    "print arr3d[1,0]"
   ]
  },
  {
   "cell_type": "markdown",
   "metadata": {},
   "source": [
    "## 切片索引（切片相当于局部选取，对切片的修改将影响原来的整体）"
   ]
  },
  {
   "cell_type": "code",
   "execution_count": null,
   "metadata": {
    "collapsed": false
   },
   "outputs": [],
   "source": [
    "arr = np.array([[1,2,3], [4,5,6], [7,8,9]])\n",
    "arr1 = np.arange(10)\n",
    "print arr\n",
    "print arr1\n",
    "print arr1[1:6]\n",
    "print arr[1:2]\n",
    "print arr[:2] #选取纵轴0到1\n",
    "print arr[2:] #选取纵轴2\n",
    "print arr[:,:2] #选取横轴0到1\n",
    "print arr[:,2:] #选取横轴2\n",
    "print arr[:2, 1:] #选取纵轴0到1，横轴1到2"
   ]
  },
  {
   "cell_type": "markdown",
   "metadata": {},
   "source": [
    "## 布尔型索引"
   ]
  },
  {
   "cell_type": "code",
   "execution_count": null,
   "metadata": {
    "collapsed": false
   },
   "outputs": [],
   "source": [
    "names = np.array(['Bob', 'Joe', 'Will', 'Bob', 'Will', 'Joe', 'Joe'])\n",
    "#array 用array函数加中括号生成，array的切片也用中括号，多维array用中括号括起来\n",
    "data = np.random.randn(7, 4)\n",
    "print names\n",
    "print data\n",
    "print names == 'Bob'\n",
    "print data[names == 'Bob'] #按纵轴选取为true的行\n",
    "print data[names == 'Bob', 2:] #按纵轴选取为true的行，并按横轴选2到3列\n",
    "print data[names == 'Bob', 3]\n",
    "print data[-(names == 'Bob')] #用-号选取非true条件\n",
    "mask = (names == 'Bob') | (names == 'Will')\n",
    "print mask\n",
    "print data[mask]"
   ]
  },
  {
   "cell_type": "markdown",
   "metadata": {},
   "source": [
    "### 通过布尔型索引选取数组中的数据，总是创建数据的副本，这是一种常用的手段"
   ]
  },
  {
   "cell_type": "code",
   "execution_count": null,
   "metadata": {
    "collapsed": false
   },
   "outputs": [],
   "source": [
    "print data[data < 0] #将多维数组中满足条件的值提取出来成一维数组\n",
    "data[data < 0] = 0\n",
    "print data\n",
    "data[names != 'Joe'] = 7 #把整个满足条件的行赋值\n",
    "print data\n",
    "names1 = np.array(['Bob', 'Joe', 'Will', 'Bob'])\n",
    "data[:, names1 != 'Joe'] = 8 #把整个满足条件的列赋值\n",
    "print data"
   ]
  },
  {
   "cell_type": "markdown",
   "metadata": {},
   "source": [
    "## 花式索引"
   ]
  },
  {
   "cell_type": "code",
   "execution_count": null,
   "metadata": {
    "collapsed": false
   },
   "outputs": [],
   "source": [
    "arr = np.empty((8, 4)) #带括号（int or tuple）而不是方括号的元组传递范围参数，而不是具体数值，传递具体array数值要用方括号\n",
    "print arr\n",
    "for i in range(8):\n",
    "    arr[i] = i #对整行赋值\n",
    "print arr\n",
    "#选取子行，要用方括号列举所取得行号\n",
    "print arr[[4,3,0,6]]\n",
    "print arr[[-3, -5, -7]]\n",
    "\n",
    "arr = np.arange(32).reshape((8, 4))\n",
    "print arr\n",
    "print arr[[1, 5, 7, 2], [0, 3, 1, 2]] #选取指定元素\n",
    "print arr[[1, 5, 7, 2]][:, [0, 3, 1, 2]] #相当于对arr先取行，再取列，和上面的一次性选取不同\n",
    "#或者使用np.ix_函数选取方形区域\n",
    "#此方法将复制数据到新数组，而不是切片\n",
    "print arr[np.ix_([1, 5, 7, 2], [0, 3, 1, 2])]"
   ]
  },
  {
   "cell_type": "markdown",
   "metadata": {},
   "source": [
    "## 数组转置和轴兑换"
   ]
  },
  {
   "cell_type": "code",
   "execution_count": null,
   "metadata": {
    "collapsed": false
   },
   "outputs": [],
   "source": [
    "arr = np.arange(15).reshape((3, 5))\n",
    "print arr\n",
    "print arr.T\n",
    "\n",
    "arr = np.random.randn(6, 3)\n",
    "print arr\n",
    "print np.dot(arr.T, arr) #计算矩阵内积\n",
    "\n",
    "#高维数组的转置函数transpose, 需要用轴编号组成的元组才能转置\n",
    "arr = np.arange(16).reshape((2, 2, 4))\n",
    "print arr\n",
    "print arr.transpose((1, 0, 2))\n",
    "print arr.T\n",
    "#swapaxes接受一对轴编号来计算转置\n",
    "print arr.swapaxes(1, 2)"
   ]
  }
 ],
 "metadata": {
  "kernelspec": {
   "display_name": "Python 2",
   "language": "python",
   "name": "python2"
  },
  "language_info": {
   "codemirror_mode": {
    "name": "ipython",
    "version": 2
   },
   "file_extension": ".py",
   "mimetype": "text/x-python",
   "name": "python",
   "nbconvert_exporter": "python",
   "pygments_lexer": "ipython2",
   "version": "2.7.10"
  }
 },
 "nbformat": 4,
 "nbformat_minor": 0
}
