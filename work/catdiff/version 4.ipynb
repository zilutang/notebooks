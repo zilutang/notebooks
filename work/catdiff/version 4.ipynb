{
 "cells": [
  {
   "cell_type": "code",
   "execution_count": 1,
   "metadata": {
    "collapsed": true
   },
   "outputs": [],
   "source": [
    "from pandas import Series, DataFrame\n",
    "import pandas as pd\n",
    "import numpy as np\n",
    "import matplotlib.pyplot as plt\n",
    "\n",
    "root_path = r'K:\\Learn\\ADC\\phase3\\hbasecompare\\testing-data'\n",
    "vw_file = root_path + '\\\\' + r'tabletest40org.ingres'\n",
    "hbase_file = root_path + '\\\\' + r'part-00000.csv'\n",
    "header = Series(['fundamentalid','organizationid','gaapcodeid','gaapcode','isusedforanalytics','fundamentalseriesid','fundamentalseriesviewtype','fundamentalseriesviewtypeid','fundamentalseriesconsolidationbasis','fundamentalseriesconsolidationbasisid','periodenddate','periodtype','periodtypeid','statementcurrencyid','ispreliminary','updatetypecode','updatetypeid','statementsystemderivedtypecode','statementsystemderivedtypecodeid','statementtypecode','statementtypecodeid','financialperiodid','financialsourceid','sourcetypecode','sourcetypeid','thirdpartysourcecode','thirdpartysourcecodeid','cumulativetype','cumulativetypeid','interimnumber','interimperiodfiscalyear','financialconceptglobal','financialconceptglobalid','financialconceptcodeglobalsecondary','financialconceptcodeglobalsecondaryid','financialconceptlocal','financialconceptlocalid','asriscredit','lineitemlineitemid','locallanguagelabel','locallanguagelabellanguageid','lineitemname','lineitemnamelanguageid','physicalmeasureid','orglineitemsequence','asradjustedforcorporateactionvalue','lineitemvalue','asreportedlineitemname','asreportedlineitemnamelanguageid','lineitemlocallanguagelabel','lineitemlocallanguagelabellanguageid','asrlineitemsequence','asreportedlineitemsource','capitalchangeadjustmentdate','estimatemethodcode','estimatemethodid','estimatemethodnote','estimatemethodnotelanguageid','isasreportedcurrencysetmanually','iscombineditem','isderived','isfinal','istotal','editeddescription','editeddescriptionlanguageid','reporteddescription','reporteddescriptionlanguageid','bookmark','docbytelength','docbyteoffset','itemdisplayednegativeflag','itemdisplayedvalue','itemscalingfactor','reportedvalue','parentlineitemid','asreportedphysicalmeasureid','reportedcurrencyid','statementsectioniscredit','statementsectioncode','statementsectionid','systemderivedtypecode','systemderivedtypecodeid','unit','unitenumerationid','parentlineitemname','parentlineitemnamelanguageid','parentlinelocallanguagelabel','parentlinelocallanguagelabellanguageid'])\n",
    "header_index = Series(['rowkey_logicalfield','fundamentalid','organizationid','gaapcodeid','gaapcode','isusedforanalytics','fundamentalseriesid','fundamentalseriesviewtype','fundamentalseriesviewtypeid','fundamentalseriesconsolidationbasis','fundamentalseriesconsolidationbasisid','periodenddate','periodtype','periodtypeid','statementcurrencyid','ispreliminary','updatetypecode','updatetypeid','statementsystemderivedtypecode','statementsystemderivedtypecodeid','statementtypecode','statementtypecodeid','financialperiodid','financialsourceid','sourcetypecode','sourcetypeid','thirdpartysourcecode','thirdpartysourcecodeid','cumulativetype','cumulativetypeid','interimnumber','interimperiodfiscalyear','financialconceptglobal','financialconceptglobalid','financialconceptcodeglobalsecondary','financialconceptcodeglobalsecondaryid','financialconceptlocal','financialconceptlocalid','asriscredit','lineitemlineitemid','locallanguagelabel','locallanguagelabellanguageid','lineitemname','lineitemnamelanguageid','physicalmeasureid','orglineitemsequence','asradjustedforcorporateactionvalue','lineitemvalue','asreportedlineitemname','asreportedlineitemnamelanguageid','lineitemlocallanguagelabel','lineitemlocallanguagelabellanguageid','asrlineitemsequence','asreportedlineitemsource','capitalchangeadjustmentdate','estimatemethodcode','estimatemethodid','estimatemethodnote','estimatemethodnotelanguageid','isasreportedcurrencysetmanually','iscombineditem','isderived','isfinal','istotal','editeddescription','editeddescriptionlanguageid','reporteddescription','reporteddescriptionlanguageid','bookmark','docbytelength','docbyteoffset','itemdisplayednegativeflag','itemdisplayedvalue','itemscalingfactor','reportedvalue','parentlineitemid','asreportedphysicalmeasureid','reportedcurrencyid','statementsectioniscredit','statementsectioncode','statementsectionid','systemderivedtypecode','systemderivedtypecodeid','unit','unitenumerationid','parentlineitemname','parentlineitemnamelanguageid','parentlinelocallanguagelabel','parentlinelocallanguagelabellanguageid'])\n",
    "rowkey_logicalfield = ['fundamentalseriesid', 'statementtypecode' ,'financialconceptlocalid', 'periodenddate', 'financialsourceid', 'financialperiodid', 'lineitemlineitemid']"
   ]
  },
  {
   "cell_type": "code",
   "execution_count": 2,
   "metadata": {
    "collapsed": false
   },
   "outputs": [
    {
     "name": "stderr",
     "output_type": "stream",
     "text": [
      "K:\\Anaconda\\lib\\site-packages\\IPython\\core\\interactiveshell.py:2871: DtypeWarning: Columns (33,35,49,63,65,67,84,86) have mixed types. Specify dtype option on import or set low_memory=False.\n",
      "  interactivity=interactivity, compiler=compiler, result=result)\n"
     ]
    }
   ],
   "source": [
    "vw_data = pd.read_csv(vw_file, header = None, skiprows = 1, delimiter=',', names=header, keep_default_na=False, na_values='')"
   ]
  },
  {
   "cell_type": "code",
   "execution_count": 4,
   "metadata": {
    "collapsed": false
   },
   "outputs": [
    {
     "name": "stdout",
     "output_type": "stream",
     "text": [
      "False    1821073\n",
      "dtype: int64\n"
     ]
    },
    {
     "data": {
      "text/html": [
       "<div>\n",
       "<table border=\"1\" class=\"dataframe\">\n",
       "  <thead>\n",
       "    <tr style=\"text-align: right;\">\n",
       "      <th></th>\n",
       "      <th>rowkey_logicalfield</th>\n",
       "      <th>fundamentalid</th>\n",
       "      <th>organizationid</th>\n",
       "      <th>gaapcodeid</th>\n",
       "      <th>gaapcode</th>\n",
       "      <th>isusedforanalytics</th>\n",
       "      <th>fundamentalseriesid</th>\n",
       "      <th>fundamentalseriesviewtype</th>\n",
       "      <th>fundamentalseriesviewtypeid</th>\n",
       "      <th>fundamentalseriesconsolidationbasis</th>\n",
       "      <th>...</th>\n",
       "      <th>statementsectioncode</th>\n",
       "      <th>statementsectionid</th>\n",
       "      <th>systemderivedtypecode</th>\n",
       "      <th>systemderivedtypecodeid</th>\n",
       "      <th>unit</th>\n",
       "      <th>unitenumerationid</th>\n",
       "      <th>parentlineitemname</th>\n",
       "      <th>parentlineitemnamelanguageid</th>\n",
       "      <th>parentlinelocallanguagelabel</th>\n",
       "      <th>parentlinelocallanguagelabellanguageid</th>\n",
       "    </tr>\n",
       "  </thead>\n",
       "  <tbody>\n",
       "    <tr>\n",
       "      <th>0</th>\n",
       "      <td>NaN</td>\n",
       "      <td>48434098578</td>\n",
       "      <td>4295869694</td>\n",
       "      <td>3011566</td>\n",
       "      <td>IAS</td>\n",
       "      <td>1</td>\n",
       "      <td>48433151341</td>\n",
       "      <td>2</td>\n",
       "      <td>1000190359</td>\n",
       "      <td>2</td>\n",
       "      <td>...</td>\n",
       "      <td>C</td>\n",
       "      <td>3013637</td>\n",
       "      <td>MP</td>\n",
       "      <td>3019677</td>\n",
       "      <td>1000000.0</td>\n",
       "      <td>1010068</td>\n",
       "      <td>NaN</td>\n",
       "      <td>NaN</td>\n",
       "      <td>NaN</td>\n",
       "      <td>NaN</td>\n",
       "    </tr>\n",
       "    <tr>\n",
       "      <th>1</th>\n",
       "      <td>NaN</td>\n",
       "      <td>48434098578</td>\n",
       "      <td>4295869694</td>\n",
       "      <td>3011566</td>\n",
       "      <td>IAS</td>\n",
       "      <td>1</td>\n",
       "      <td>48433151341</td>\n",
       "      <td>2</td>\n",
       "      <td>1000190359</td>\n",
       "      <td>2</td>\n",
       "      <td>...</td>\n",
       "      <td>R</td>\n",
       "      <td>3013735</td>\n",
       "      <td>MP</td>\n",
       "      <td>3019677</td>\n",
       "      <td>1000000.0</td>\n",
       "      <td>1010068</td>\n",
       "      <td>NaN</td>\n",
       "      <td>NaN</td>\n",
       "      <td>NaN</td>\n",
       "      <td>NaN</td>\n",
       "    </tr>\n",
       "    <tr>\n",
       "      <th>2</th>\n",
       "      <td>NaN</td>\n",
       "      <td>48434098578</td>\n",
       "      <td>4295869694</td>\n",
       "      <td>3011566</td>\n",
       "      <td>IAS</td>\n",
       "      <td>1</td>\n",
       "      <td>48433151341</td>\n",
       "      <td>2</td>\n",
       "      <td>1000190359</td>\n",
       "      <td>2</td>\n",
       "      <td>...</td>\n",
       "      <td>R</td>\n",
       "      <td>3013735</td>\n",
       "      <td>MP</td>\n",
       "      <td>3019677</td>\n",
       "      <td>1000000.0</td>\n",
       "      <td>1010068</td>\n",
       "      <td>NaN</td>\n",
       "      <td>NaN</td>\n",
       "      <td>NaN</td>\n",
       "      <td>NaN</td>\n",
       "    </tr>\n",
       "    <tr>\n",
       "      <th>3</th>\n",
       "      <td>NaN</td>\n",
       "      <td>48434098578</td>\n",
       "      <td>4295869694</td>\n",
       "      <td>3011566</td>\n",
       "      <td>IAS</td>\n",
       "      <td>1</td>\n",
       "      <td>48433151341</td>\n",
       "      <td>2</td>\n",
       "      <td>1000190359</td>\n",
       "      <td>2</td>\n",
       "      <td>...</td>\n",
       "      <td>O</td>\n",
       "      <td>3013709</td>\n",
       "      <td>MP</td>\n",
       "      <td>3019677</td>\n",
       "      <td>1000000.0</td>\n",
       "      <td>1010068</td>\n",
       "      <td>NaN</td>\n",
       "      <td>NaN</td>\n",
       "      <td>NaN</td>\n",
       "      <td>NaN</td>\n",
       "    </tr>\n",
       "    <tr>\n",
       "      <th>4</th>\n",
       "      <td>NaN</td>\n",
       "      <td>48434098578</td>\n",
       "      <td>4295869694</td>\n",
       "      <td>3011566</td>\n",
       "      <td>IAS</td>\n",
       "      <td>1</td>\n",
       "      <td>48433151341</td>\n",
       "      <td>2</td>\n",
       "      <td>1000190359</td>\n",
       "      <td>2</td>\n",
       "      <td>...</td>\n",
       "      <td>O</td>\n",
       "      <td>3013709</td>\n",
       "      <td>MP</td>\n",
       "      <td>3019677</td>\n",
       "      <td>1000000.0</td>\n",
       "      <td>1010068</td>\n",
       "      <td>NaN</td>\n",
       "      <td>NaN</td>\n",
       "      <td>NaN</td>\n",
       "      <td>NaN</td>\n",
       "    </tr>\n",
       "  </tbody>\n",
       "</table>\n",
       "<p>5 rows × 89 columns</p>\n",
       "</div>"
      ],
      "text/plain": [
       "   rowkey_logicalfield  fundamentalid  organizationid  gaapcodeid gaapcode  \\\n",
       "0                  NaN    48434098578      4295869694     3011566      IAS   \n",
       "1                  NaN    48434098578      4295869694     3011566      IAS   \n",
       "2                  NaN    48434098578      4295869694     3011566      IAS   \n",
       "3                  NaN    48434098578      4295869694     3011566      IAS   \n",
       "4                  NaN    48434098578      4295869694     3011566      IAS   \n",
       "\n",
       "   isusedforanalytics  fundamentalseriesid  fundamentalseriesviewtype  \\\n",
       "0                   1          48433151341                          2   \n",
       "1                   1          48433151341                          2   \n",
       "2                   1          48433151341                          2   \n",
       "3                   1          48433151341                          2   \n",
       "4                   1          48433151341                          2   \n",
       "\n",
       "   fundamentalseriesviewtypeid  fundamentalseriesconsolidationbasis  \\\n",
       "0                   1000190359                                    2   \n",
       "1                   1000190359                                    2   \n",
       "2                   1000190359                                    2   \n",
       "3                   1000190359                                    2   \n",
       "4                   1000190359                                    2   \n",
       "\n",
       "                    ...                    statementsectioncode  \\\n",
       "0                   ...                                       C   \n",
       "1                   ...                                       R   \n",
       "2                   ...                                       R   \n",
       "3                   ...                                       O   \n",
       "4                   ...                                       O   \n",
       "\n",
       "   statementsectionid systemderivedtypecode  systemderivedtypecodeid  \\\n",
       "0             3013637                    MP                  3019677   \n",
       "1             3013735                    MP                  3019677   \n",
       "2             3013735                    MP                  3019677   \n",
       "3             3013709                    MP                  3019677   \n",
       "4             3013709                    MP                  3019677   \n",
       "\n",
       "        unit  unitenumerationid parentlineitemname  \\\n",
       "0  1000000.0            1010068                NaN   \n",
       "1  1000000.0            1010068                NaN   \n",
       "2  1000000.0            1010068                NaN   \n",
       "3  1000000.0            1010068                NaN   \n",
       "4  1000000.0            1010068                NaN   \n",
       "\n",
       "   parentlineitemnamelanguageid parentlinelocallanguagelabel  \\\n",
       "0                           NaN                          NaN   \n",
       "1                           NaN                          NaN   \n",
       "2                           NaN                          NaN   \n",
       "3                           NaN                          NaN   \n",
       "4                           NaN                          NaN   \n",
       "\n",
       "   parentlinelocallanguagelabellanguageid  \n",
       "0                                     NaN  \n",
       "1                                     NaN  \n",
       "2                                     NaN  \n",
       "3                                     NaN  \n",
       "4                                     NaN  \n",
       "\n",
       "[5 rows x 89 columns]"
      ]
     },
     "execution_count": 4,
     "metadata": {},
     "output_type": "execute_result"
    }
   ],
   "source": [
    "vw_data.insert(0, 'rowkey_logicalfield', np.NAN, allow_duplicates=False)\n",
    "\n",
    "vw_data.rowkey_logicalfield = vw_data.fundamentalseriesid.apply(str).replace(np.NAN, 'NAN') + '~' + \\\n",
    "                                vw_data.statementtypecode.apply(str).replace(np.NAN, 'NAN')  + '~' + \\\n",
    "                                vw_data.financialconceptlocalid.apply(str).replace(['nan', np.NAN, ''], 'NAN')  + '~' + \\\n",
    "                                vw_data.periodenddate.apply(str).replace(np.NAN, 'NAN')  + '~' + \\\n",
    "                                vw_data.financialsourceid.apply(str).replace(np.NAN, 'NAN')  + '~' + \\\n",
    "                                vw_data.financialperiodid.apply(str).replace(np.NAN, 'NAN')  + '~' + \\\n",
    "                                vw_data.lineitemlineitemid.apply(str).replace(np.NAN, 'NAN') \n",
    "print vw_data.rowkey_logicalfield.duplicated().value_counts()\n",
    "vw_data.head()"
   ]
  },
  {
   "cell_type": "code",
   "execution_count": 5,
   "metadata": {
    "collapsed": true
   },
   "outputs": [],
   "source": [
    "hbase_data = pd.read_table(hbase_file, header=None, delimiter='|', names=header, dtype='string')"
   ]
  },
  {
   "cell_type": "code",
   "execution_count": 28,
   "metadata": {
    "collapsed": false
   },
   "outputs": [
    {
     "name": "stdout",
     "output_type": "stream",
     "text": [
      "False    1816659\n",
      "Name: rowkey_logicalfield, dtype: int64\n"
     ]
    },
    {
     "data": {
      "text/html": [
       "<div>\n",
       "<table border=\"1\" class=\"dataframe\">\n",
       "  <thead>\n",
       "    <tr style=\"text-align: right;\">\n",
       "      <th></th>\n",
       "      <th>rowkey_logicalfield</th>\n",
       "      <th>fundamentalid</th>\n",
       "      <th>organizationid</th>\n",
       "      <th>gaapcodeid</th>\n",
       "      <th>gaapcode</th>\n",
       "      <th>isusedforanalytics</th>\n",
       "      <th>fundamentalseriesid</th>\n",
       "      <th>fundamentalseriesviewtype</th>\n",
       "      <th>fundamentalseriesviewtypeid</th>\n",
       "      <th>fundamentalseriesconsolidationbasis</th>\n",
       "      <th>...</th>\n",
       "      <th>statementsectioncode</th>\n",
       "      <th>statementsectionid</th>\n",
       "      <th>systemderivedtypecode</th>\n",
       "      <th>systemderivedtypecodeid</th>\n",
       "      <th>unit</th>\n",
       "      <th>unitenumerationid</th>\n",
       "      <th>parentlineitemname</th>\n",
       "      <th>parentlineitemnamelanguageid</th>\n",
       "      <th>parentlinelocallanguagelabel</th>\n",
       "      <th>parentlinelocallanguagelabellanguageid</th>\n",
       "    </tr>\n",
       "  </thead>\n",
       "  <tbody>\n",
       "    <tr>\n",
       "      <th>0</th>\n",
       "      <td>48433349353~INC~NAN~20150630~48~142~1414</td>\n",
       "      <td>48435944139</td>\n",
       "      <td>4295882444</td>\n",
       "      <td>3011566</td>\n",
       "      <td>IAS</td>\n",
       "      <td>True</td>\n",
       "      <td>48433349353</td>\n",
       "      <td>RecentToRecent</td>\n",
       "      <td>1000190359</td>\n",
       "      <td>Blended</td>\n",
       "      <td>...</td>\n",
       "      <td>FTI</td>\n",
       "      <td>3013666</td>\n",
       "      <td>NaN</td>\n",
       "      <td>3019679</td>\n",
       "      <td>1.0</td>\n",
       "      <td>1010066</td>\n",
       "      <td>nil</td>\n",
       "      <td>nil</td>\n",
       "      <td>nil</td>\n",
       "      <td>nil</td>\n",
       "    </tr>\n",
       "    <tr>\n",
       "      <th>1</th>\n",
       "      <td>48433349353~INC~NAN~20150630~48~142~1541</td>\n",
       "      <td>48435944139</td>\n",
       "      <td>4295882444</td>\n",
       "      <td>3011566</td>\n",
       "      <td>IAS</td>\n",
       "      <td>True</td>\n",
       "      <td>48433349353</td>\n",
       "      <td>RecentToRecent</td>\n",
       "      <td>1000190359</td>\n",
       "      <td>Blended</td>\n",
       "      <td>...</td>\n",
       "      <td>REV</td>\n",
       "      <td>3013735</td>\n",
       "      <td>NaN</td>\n",
       "      <td>3019679</td>\n",
       "      <td>1.0</td>\n",
       "      <td>1010066</td>\n",
       "      <td>nil</td>\n",
       "      <td>nil</td>\n",
       "      <td>nil</td>\n",
       "      <td>nil</td>\n",
       "    </tr>\n",
       "    <tr>\n",
       "      <th>2</th>\n",
       "      <td>48433349353~INC~NAN~20150630~48~142~1542</td>\n",
       "      <td>48435944139</td>\n",
       "      <td>4295882444</td>\n",
       "      <td>3011566</td>\n",
       "      <td>IAS</td>\n",
       "      <td>True</td>\n",
       "      <td>48433349353</td>\n",
       "      <td>RecentToRecent</td>\n",
       "      <td>1000190359</td>\n",
       "      <td>Blended</td>\n",
       "      <td>...</td>\n",
       "      <td>FIB</td>\n",
       "      <td>3013659</td>\n",
       "      <td>NaN</td>\n",
       "      <td>3019679</td>\n",
       "      <td>1.0</td>\n",
       "      <td>1010066</td>\n",
       "      <td>Finance Expense</td>\n",
       "      <td>505139</td>\n",
       "      <td>금융비용</td>\n",
       "      <td>505074</td>\n",
       "    </tr>\n",
       "    <tr>\n",
       "      <th>3</th>\n",
       "      <td>48433349353~INC~NAN~20150630~48~142~1546</td>\n",
       "      <td>48435944139</td>\n",
       "      <td>4295882444</td>\n",
       "      <td>3011566</td>\n",
       "      <td>IAS</td>\n",
       "      <td>True</td>\n",
       "      <td>48433349353</td>\n",
       "      <td>RecentToRecent</td>\n",
       "      <td>1000190359</td>\n",
       "      <td>Blended</td>\n",
       "      <td>...</td>\n",
       "      <td>REV</td>\n",
       "      <td>3013735</td>\n",
       "      <td>NaN</td>\n",
       "      <td>3019679</td>\n",
       "      <td>1.0</td>\n",
       "      <td>1010066</td>\n",
       "      <td>nil</td>\n",
       "      <td>nil</td>\n",
       "      <td>nil</td>\n",
       "      <td>nil</td>\n",
       "    </tr>\n",
       "    <tr>\n",
       "      <th>4</th>\n",
       "      <td>48433349353~INC~NAN~20150630~48~142~1624</td>\n",
       "      <td>48435944139</td>\n",
       "      <td>4295882444</td>\n",
       "      <td>3011566</td>\n",
       "      <td>IAS</td>\n",
       "      <td>True</td>\n",
       "      <td>48433349353</td>\n",
       "      <td>RecentToRecent</td>\n",
       "      <td>1000190359</td>\n",
       "      <td>Blended</td>\n",
       "      <td>...</td>\n",
       "      <td>PSI</td>\n",
       "      <td>3013729</td>\n",
       "      <td>NaN</td>\n",
       "      <td>3019679</td>\n",
       "      <td>1.0</td>\n",
       "      <td>1010066</td>\n",
       "      <td>nil</td>\n",
       "      <td>nil</td>\n",
       "      <td>nil</td>\n",
       "      <td>nil</td>\n",
       "    </tr>\n",
       "  </tbody>\n",
       "</table>\n",
       "<p>5 rows × 89 columns</p>\n",
       "</div>"
      ],
      "text/plain": [
       "                        rowkey_logicalfield fundamentalid organizationid  \\\n",
       "0  48433349353~INC~NAN~20150630~48~142~1414   48435944139     4295882444   \n",
       "1  48433349353~INC~NAN~20150630~48~142~1541   48435944139     4295882444   \n",
       "2  48433349353~INC~NAN~20150630~48~142~1542   48435944139     4295882444   \n",
       "3  48433349353~INC~NAN~20150630~48~142~1546   48435944139     4295882444   \n",
       "4  48433349353~INC~NAN~20150630~48~142~1624   48435944139     4295882444   \n",
       "\n",
       "  gaapcodeid gaapcode isusedforanalytics fundamentalseriesid  \\\n",
       "0    3011566      IAS               True         48433349353   \n",
       "1    3011566      IAS               True         48433349353   \n",
       "2    3011566      IAS               True         48433349353   \n",
       "3    3011566      IAS               True         48433349353   \n",
       "4    3011566      IAS               True         48433349353   \n",
       "\n",
       "  fundamentalseriesviewtype fundamentalseriesviewtypeid  \\\n",
       "0            RecentToRecent                  1000190359   \n",
       "1            RecentToRecent                  1000190359   \n",
       "2            RecentToRecent                  1000190359   \n",
       "3            RecentToRecent                  1000190359   \n",
       "4            RecentToRecent                  1000190359   \n",
       "\n",
       "  fundamentalseriesconsolidationbasis                  ...                    \\\n",
       "0                             Blended                  ...                     \n",
       "1                             Blended                  ...                     \n",
       "2                             Blended                  ...                     \n",
       "3                             Blended                  ...                     \n",
       "4                             Blended                  ...                     \n",
       "\n",
       "  statementsectioncode statementsectionid systemderivedtypecode  \\\n",
       "0                  FTI            3013666                   NaN   \n",
       "1                  REV            3013735                   NaN   \n",
       "2                  FIB            3013659                   NaN   \n",
       "3                  REV            3013735                   NaN   \n",
       "4                  PSI            3013729                   NaN   \n",
       "\n",
       "  systemderivedtypecodeid unit unitenumerationid parentlineitemname  \\\n",
       "0                 3019679  1.0           1010066                nil   \n",
       "1                 3019679  1.0           1010066                nil   \n",
       "2                 3019679  1.0           1010066    Finance Expense   \n",
       "3                 3019679  1.0           1010066                nil   \n",
       "4                 3019679  1.0           1010066                nil   \n",
       "\n",
       "  parentlineitemnamelanguageid parentlinelocallanguagelabel  \\\n",
       "0                          nil                          nil   \n",
       "1                          nil                          nil   \n",
       "2                       505139                         금융비용   \n",
       "3                          nil                          nil   \n",
       "4                          nil                          nil   \n",
       "\n",
       "  parentlinelocallanguagelabellanguageid  \n",
       "0                                    nil  \n",
       "1                                    nil  \n",
       "2                                 505074  \n",
       "3                                    nil  \n",
       "4                                    nil  \n",
       "\n",
       "[5 rows x 89 columns]"
      ]
     },
     "execution_count": 28,
     "metadata": {},
     "output_type": "execute_result"
    }
   ],
   "source": [
    "try:\n",
    "    hbase_data.insert(0, 'rowkey_logicalfield', np.NAN, allow_duplicates=False)\n",
    "except:\n",
    "    pass\n",
    "\n",
    "import datetime\n",
    "hbase_data.rowkey_logicalfield = hbase_data.fundamentalseriesid.apply(str).replace(np.NAN, 'NAN') + '~' + \\\n",
    "                                hbase_data.statementtypecode.apply(str).replace(np.NAN, 'NAN')  + '~' + \\\n",
    "                                hbase_data.financialconceptlocalid.apply(str).replace(['nan', np.NAN, '', 'nil'], 'NAN')  + '~' + \\\n",
    "                                hbase_data.periodenddate.apply(lambda val: datetime.datetime.fromtimestamp(float(val[:-3])).strftime('%Y%m%d')).replace(np.NAN, 'NAN')  + '~' + \\\n",
    "                                hbase_data.financialsourceid.apply(str).replace(np.NAN, 'NAN')  + '~' + \\\n",
    "                                hbase_data.financialperiodid.apply(str).replace(np.NAN, 'NAN')  + '~' + \\\n",
    "                                hbase_data.lineitemlineitemid.apply(str).replace(np.NAN, 'NAN') \n",
    "print hbase_data.rowkey_logicalfield.duplicated().value_counts()\n",
    "hbase_data.head()"
   ]
  },
  {
   "cell_type": "code",
   "execution_count": 29,
   "metadata": {
    "collapsed": false
   },
   "outputs": [
    {
     "data": {
      "text/html": [
       "<div>\n",
       "<table border=\"1\" class=\"dataframe\">\n",
       "  <thead>\n",
       "    <tr style=\"text-align: right;\">\n",
       "      <th></th>\n",
       "      <th>rowkey_logicalfield</th>\n",
       "    </tr>\n",
       "  </thead>\n",
       "  <tbody>\n",
       "    <tr>\n",
       "      <th>0</th>\n",
       "      <td>48433349353~INC~NAN~20150630~48~142~1414</td>\n",
       "    </tr>\n",
       "  </tbody>\n",
       "</table>\n",
       "</div>"
      ],
      "text/plain": [
       "                        rowkey_logicalfield\n",
       "0  48433349353~INC~NAN~20150630~48~142~1414"
      ]
     },
     "execution_count": 29,
     "metadata": {},
     "output_type": "execute_result"
    }
   ],
   "source": [
    "hbase_index = pd.DataFrame(hbase_data.rowkey_logicalfield, columns=['rowkey_logicalfield'])\n",
    "hbase_index.head(1)"
   ]
  },
  {
   "cell_type": "code",
   "execution_count": 61,
   "metadata": {
    "collapsed": false
   },
   "outputs": [
    {
     "data": {
      "text/html": [
       "<div>\n",
       "<table border=\"1\" class=\"dataframe\">\n",
       "  <thead>\n",
       "    <tr style=\"text-align: right;\">\n",
       "      <th></th>\n",
       "      <th>rowkey_logicalfield</th>\n",
       "      <th>hb_marked</th>\n",
       "    </tr>\n",
       "  </thead>\n",
       "  <tbody>\n",
       "    <tr>\n",
       "      <th>0</th>\n",
       "      <td>48433349353~INC~NAN~20150630~48~142~1414</td>\n",
       "      <td>hb</td>\n",
       "    </tr>\n",
       "    <tr>\n",
       "      <th>1</th>\n",
       "      <td>48433349353~INC~NAN~20150630~48~142~1541</td>\n",
       "      <td>hb</td>\n",
       "    </tr>\n",
       "  </tbody>\n",
       "</table>\n",
       "</div>"
      ],
      "text/plain": [
       "                        rowkey_logicalfield hb_marked\n",
       "0  48433349353~INC~NAN~20150630~48~142~1414        hb\n",
       "1  48433349353~INC~NAN~20150630~48~142~1541        hb"
      ]
     },
     "execution_count": 61,
     "metadata": {},
     "output_type": "execute_result"
    }
   ],
   "source": [
    "hbase_index.insert(1, 'hb_marked', 'hb', allow_duplicates=False)\n",
    "hbase_index.head(2)"
   ]
  },
  {
   "cell_type": "code",
   "execution_count": 53,
   "metadata": {
    "collapsed": false
   },
   "outputs": [
    {
     "data": {
      "text/html": [
       "<div>\n",
       "<table border=\"1\" class=\"dataframe\">\n",
       "  <thead>\n",
       "    <tr style=\"text-align: right;\">\n",
       "      <th></th>\n",
       "      <th>rowkey_logicalfield</th>\n",
       "    </tr>\n",
       "  </thead>\n",
       "  <tbody>\n",
       "    <tr>\n",
       "      <th>0</th>\n",
       "      <td>48433151341~INC~NAN~20141231~186~361~198</td>\n",
       "    </tr>\n",
       "  </tbody>\n",
       "</table>\n",
       "</div>"
      ],
      "text/plain": [
       "                        rowkey_logicalfield\n",
       "0  48433151341~INC~NAN~20141231~186~361~198"
      ]
     },
     "execution_count": 53,
     "metadata": {},
     "output_type": "execute_result"
    }
   ],
   "source": [
    "vw_index = pd.DataFrame(vw_data.rowkey_logicalfield, columns=['rowkey_logicalfield'])\n",
    "vw_index.head(1)"
   ]
  },
  {
   "cell_type": "code",
   "execution_count": 54,
   "metadata": {
    "collapsed": false
   },
   "outputs": [
    {
     "data": {
      "text/html": [
       "<div>\n",
       "<table border=\"1\" class=\"dataframe\">\n",
       "  <thead>\n",
       "    <tr style=\"text-align: right;\">\n",
       "      <th></th>\n",
       "      <th>rowkey_logicalfield</th>\n",
       "      <th>vw_marked</th>\n",
       "    </tr>\n",
       "  </thead>\n",
       "  <tbody>\n",
       "    <tr>\n",
       "      <th>0</th>\n",
       "      <td>48433151341~INC~NAN~20141231~186~361~198</td>\n",
       "      <td>vw</td>\n",
       "    </tr>\n",
       "    <tr>\n",
       "      <th>1</th>\n",
       "      <td>48433151341~INC~NAN~20141231~186~361~197</td>\n",
       "      <td>vw</td>\n",
       "    </tr>\n",
       "  </tbody>\n",
       "</table>\n",
       "</div>"
      ],
      "text/plain": [
       "                        rowkey_logicalfield vw_marked\n",
       "0  48433151341~INC~NAN~20141231~186~361~198        vw\n",
       "1  48433151341~INC~NAN~20141231~186~361~197        vw"
      ]
     },
     "execution_count": 54,
     "metadata": {},
     "output_type": "execute_result"
    }
   ],
   "source": [
    "#vw_index.insert(1, 'vw_marked', 'vw', allow_duplicates=False)\n",
    "vw_index.head(2)"
   ]
  },
  {
   "cell_type": "code",
   "execution_count": 62,
   "metadata": {
    "collapsed": false
   },
   "outputs": [
    {
     "name": "stdout",
     "output_type": "stream",
     "text": [
      "<class 'pandas.core.frame.DataFrame'>\n",
      "Int64Index: 2029385 entries, 0 to 2029384\n",
      "Data columns (total 3 columns):\n",
      "rowkey_logicalfield    object\n",
      "vw_marked              object\n",
      "hb_marked              object\n",
      "dtypes: object(3)\n",
      "memory usage: 61.9+ MB\n",
      "1821073\n",
      "2029385\n"
     ]
    }
   ],
   "source": [
    "merge_data_out = pd.merge(vw_index, hbase_index, how='outer')\n",
    "merge_data_out.info()\n",
    "print merge_data_out.vw_marked.count()\n",
    "print merge_data_out.rowkey_logicalfield.count()\n",
    "merge_data_out.to_csv(root_path + '\\\\' + 'merge-out.csv')"
   ]
  },
  {
   "cell_type": "code",
   "execution_count": 57,
   "metadata": {
    "collapsed": false
   },
   "outputs": [
    {
     "name": "stdout",
     "output_type": "stream",
     "text": [
      "<class 'pandas.core.frame.DataFrame'>\n",
      "Int64Index: 1608347 entries, 0 to 1608346\n",
      "Data columns (total 2 columns):\n",
      "rowkey_logicalfield    1608347 non-null object\n",
      "vw_marked              1608347 non-null object\n",
      "dtypes: object(2)\n",
      "memory usage: 36.8+ MB\n",
      "1608347\n",
      "1608347\n"
     ]
    }
   ],
   "source": [
    "merge_data_in = pd.merge(hbase_index, vw_index, how='inner')\n",
    "merge_data_in.info()\n",
    "print merge_data_in.vw_marked.count()\n",
    "print merge_data_in.rowkey_logicalfield.count()\n",
    "merge_data_in.to_csv(root_path + '\\\\' + 'merge-in.csv')"
   ]
  },
  {
   "cell_type": "code",
   "execution_count": 60,
   "metadata": {
    "collapsed": false
   },
   "outputs": [
    {
     "name": "stdout",
     "output_type": "stream",
     "text": [
      "<class 'pandas.core.frame.DataFrame'>\n",
      "Int64Index: 1608347 entries, 0 to 1608346\n",
      "Data columns (total 2 columns):\n",
      "rowkey_logicalfield    1608347 non-null object\n",
      "vw_marked              1608347 non-null object\n",
      "dtypes: object(2)\n",
      "memory usage: 36.8+ MB\n",
      "None\n"
     ]
    }
   ],
   "source": [
    "merge_hbase_data_in = pd.merge(merge_data_in, hbase_index,  how='inner')\n",
    "print merge_hbase_data_in.info()\n",
    "merge_hbase_data_in.to_csv(root_path + '\\\\' + 'merge-hbase-in.csv')"
   ]
  },
  {
   "cell_type": "markdown",
   "metadata": {
    "collapsed": true
   },
   "source": [
    "# statistic 'merge-out.csv'"
   ]
  },
  {
   "cell_type": "code",
   "execution_count": 133,
   "metadata": {
    "collapsed": false
   },
   "outputs": [
    {
     "data": {
      "text/html": [
       "<div>\n",
       "<table border=\"1\" class=\"dataframe\">\n",
       "  <thead>\n",
       "    <tr style=\"text-align: right;\">\n",
       "      <th></th>\n",
       "      <th>rowkey_logicalfield</th>\n",
       "      <th>vw_marked</th>\n",
       "      <th>hb_marked</th>\n",
       "    </tr>\n",
       "  </thead>\n",
       "  <tbody>\n",
       "    <tr>\n",
       "      <th>0</th>\n",
       "      <td>48433151341~INC~NAN~20141231~186~361~198</td>\n",
       "      <td>vw</td>\n",
       "      <td>hb</td>\n",
       "    </tr>\n",
       "    <tr>\n",
       "      <th>1</th>\n",
       "      <td>48433151341~INC~NAN~20141231~186~361~197</td>\n",
       "      <td>vw</td>\n",
       "      <td>hb</td>\n",
       "    </tr>\n",
       "    <tr>\n",
       "      <th>2</th>\n",
       "      <td>48433151341~INC~NAN~20141231~186~361~196</td>\n",
       "      <td>vw</td>\n",
       "      <td>hb</td>\n",
       "    </tr>\n",
       "    <tr>\n",
       "      <th>3</th>\n",
       "      <td>48433151341~INC~NAN~20141231~186~361~614</td>\n",
       "      <td>vw</td>\n",
       "      <td>hb</td>\n",
       "    </tr>\n",
       "    <tr>\n",
       "      <th>4</th>\n",
       "      <td>48433151341~INC~NAN~20141231~186~361~613</td>\n",
       "      <td>vw</td>\n",
       "      <td>hb</td>\n",
       "    </tr>\n",
       "  </tbody>\n",
       "</table>\n",
       "</div>"
      ],
      "text/plain": [
       "                        rowkey_logicalfield vw_marked hb_marked\n",
       "0  48433151341~INC~NAN~20141231~186~361~198        vw        hb\n",
       "1  48433151341~INC~NAN~20141231~186~361~197        vw        hb\n",
       "2  48433151341~INC~NAN~20141231~186~361~196        vw        hb\n",
       "3  48433151341~INC~NAN~20141231~186~361~614        vw        hb\n",
       "4  48433151341~INC~NAN~20141231~186~361~613        vw        hb"
      ]
     },
     "execution_count": 133,
     "metadata": {},
     "output_type": "execute_result"
    }
   ],
   "source": [
    "merge_out = pd.read_csv(root_path + '\\\\' + 'merge-out.csv').fillna('na')\n",
    "del merge_out['Unnamed: 0']\n",
    "merge_out.head()"
   ]
  },
  {
   "cell_type": "code",
   "execution_count": 134,
   "metadata": {
    "collapsed": false,
    "scrolled": true
   },
   "outputs": [
    {
     "data": {
      "text/html": [
       "<div>\n",
       "<table border=\"1\" class=\"dataframe\">\n",
       "  <thead>\n",
       "    <tr style=\"text-align: right;\">\n",
       "      <th></th>\n",
       "      <th>rowkey_logicalfield</th>\n",
       "      <th>vw_marked</th>\n",
       "      <th>hb_marked</th>\n",
       "    </tr>\n",
       "  </thead>\n",
       "  <tbody>\n",
       "    <tr>\n",
       "      <th>count</th>\n",
       "      <td>2029385</td>\n",
       "      <td>2029385</td>\n",
       "      <td>2029385</td>\n",
       "    </tr>\n",
       "    <tr>\n",
       "      <th>unique</th>\n",
       "      <td>2029385</td>\n",
       "      <td>2</td>\n",
       "      <td>2</td>\n",
       "    </tr>\n",
       "    <tr>\n",
       "      <th>top</th>\n",
       "      <td>48433170132~INC~NAN~19960930~110~172~489</td>\n",
       "      <td>vw</td>\n",
       "      <td>hb</td>\n",
       "    </tr>\n",
       "    <tr>\n",
       "      <th>freq</th>\n",
       "      <td>1</td>\n",
       "      <td>1821073</td>\n",
       "      <td>1816659</td>\n",
       "    </tr>\n",
       "  </tbody>\n",
       "</table>\n",
       "</div>"
      ],
      "text/plain": [
       "                             rowkey_logicalfield vw_marked hb_marked\n",
       "count                                    2029385   2029385   2029385\n",
       "unique                                   2029385         2         2\n",
       "top     48433170132~INC~NAN~19960930~110~172~489        vw        hb\n",
       "freq                                           1   1821073   1816659"
      ]
     },
     "execution_count": 134,
     "metadata": {},
     "output_type": "execute_result"
    }
   ],
   "source": [
    "merge_out.describe()"
   ]
  },
  {
   "cell_type": "code",
   "execution_count": 135,
   "metadata": {
    "collapsed": false
   },
   "outputs": [
    {
     "data": {
      "text/html": [
       "<div>\n",
       "<table border=\"1\" class=\"dataframe\">\n",
       "  <thead>\n",
       "    <tr style=\"text-align: right;\">\n",
       "      <th></th>\n",
       "      <th>rowkey_logicalfield</th>\n",
       "      <th>vw_marked</th>\n",
       "      <th>hb_marked</th>\n",
       "    </tr>\n",
       "  </thead>\n",
       "  <tbody>\n",
       "    <tr>\n",
       "      <th>count</th>\n",
       "      <td>1821073</td>\n",
       "      <td>1821073</td>\n",
       "      <td>1821073</td>\n",
       "    </tr>\n",
       "    <tr>\n",
       "      <th>unique</th>\n",
       "      <td>1821073</td>\n",
       "      <td>1</td>\n",
       "      <td>2</td>\n",
       "    </tr>\n",
       "    <tr>\n",
       "      <th>top</th>\n",
       "      <td>48433170132~INC~NAN~19960930~110~172~489</td>\n",
       "      <td>vw</td>\n",
       "      <td>hb</td>\n",
       "    </tr>\n",
       "    <tr>\n",
       "      <th>freq</th>\n",
       "      <td>1</td>\n",
       "      <td>1821073</td>\n",
       "      <td>1608347</td>\n",
       "    </tr>\n",
       "  </tbody>\n",
       "</table>\n",
       "</div>"
      ],
      "text/plain": [
       "                             rowkey_logicalfield vw_marked hb_marked\n",
       "count                                    1821073   1821073   1821073\n",
       "unique                                   1821073         1         2\n",
       "top     48433170132~INC~NAN~19960930~110~172~489        vw        hb\n",
       "freq                                           1   1821073   1608347"
      ]
     },
     "execution_count": 135,
     "metadata": {},
     "output_type": "execute_result"
    }
   ],
   "source": [
    "merge_out[merge_out['vw_marked'] == 'vw'].describe()"
   ]
  },
  {
   "cell_type": "code",
   "execution_count": null,
   "metadata": {
    "collapsed": true
   },
   "outputs": [],
   "source": []
  },
  {
   "cell_type": "code",
   "execution_count": null,
   "metadata": {
    "collapsed": true
   },
   "outputs": [],
   "source": []
  },
  {
   "cell_type": "code",
   "execution_count": null,
   "metadata": {
    "collapsed": true
   },
   "outputs": [],
   "source": []
  },
  {
   "cell_type": "code",
   "execution_count": null,
   "metadata": {
    "collapsed": true
   },
   "outputs": [],
   "source": []
  },
  {
   "cell_type": "code",
   "execution_count": 39,
   "metadata": {
    "collapsed": false
   },
   "outputs": [
    {
     "name": "stdout",
     "output_type": "stream",
     "text": [
      "212726\n"
     ]
    }
   ],
   "source": [
    "print 1821073-1608347"
   ]
  },
  {
   "cell_type": "code",
   "execution_count": 28,
   "metadata": {
    "collapsed": false
   },
   "outputs": [
    {
     "data": {
      "text/html": [
       "<div>\n",
       "<table border=\"1\" class=\"dataframe\">\n",
       "  <thead>\n",
       "    <tr style=\"text-align: right;\">\n",
       "      <th></th>\n",
       "      <th>rowkey_logicalfield</th>\n",
       "      <th>vw_marked</th>\n",
       "      <th>hb_marked</th>\n",
       "    </tr>\n",
       "  </thead>\n",
       "  <tbody>\n",
       "    <tr>\n",
       "      <th>count</th>\n",
       "      <td>1816659</td>\n",
       "      <td>1608347</td>\n",
       "      <td>1816659</td>\n",
       "    </tr>\n",
       "    <tr>\n",
       "      <th>unique</th>\n",
       "      <td>1816659</td>\n",
       "      <td>1</td>\n",
       "      <td>1</td>\n",
       "    </tr>\n",
       "    <tr>\n",
       "      <th>top</th>\n",
       "      <td>48433197419~INC~3018255~20151231~170~273~193</td>\n",
       "      <td>vw</td>\n",
       "      <td>hb</td>\n",
       "    </tr>\n",
       "    <tr>\n",
       "      <th>freq</th>\n",
       "      <td>1</td>\n",
       "      <td>1608347</td>\n",
       "      <td>1816659</td>\n",
       "    </tr>\n",
       "  </tbody>\n",
       "</table>\n",
       "</div>"
      ],
      "text/plain": [
       "                                 rowkey_logicalfield vw_marked hb_marked\n",
       "count                                        1816659   1608347   1816659\n",
       "unique                                       1816659         1         1\n",
       "top     48433197419~INC~3018255~20151231~170~273~193        vw        hb\n",
       "freq                                               1   1608347   1816659"
      ]
     },
     "execution_count": 28,
     "metadata": {},
     "output_type": "execute_result"
    }
   ],
   "source": [
    "merge_out[merge_out['hb_marked'] == 'hb'].describe()"
   ]
  },
  {
   "cell_type": "code",
   "execution_count": 40,
   "metadata": {
    "collapsed": false
   },
   "outputs": [
    {
     "name": "stdout",
     "output_type": "stream",
     "text": [
      "208312\n"
     ]
    }
   ],
   "source": [
    "print 1816659 - 1608347"
   ]
  },
  {
   "cell_type": "code",
   "execution_count": 43,
   "metadata": {
    "collapsed": false
   },
   "outputs": [
    {
     "data": {
      "text/plain": [
       "vw-only     212726\n",
       "hb-only     208312\n",
       "vw-hb      1608347\n",
       "dtype: int64"
      ]
     },
     "execution_count": 43,
     "metadata": {},
     "output_type": "execute_result"
    }
   ],
   "source": [
    "pie_data = pd.Series([212726, 208312, 1608347], ['vw-only', 'hb-only', 'vw-hb'])\n",
    "pie_data"
   ]
  },
  {
   "cell_type": "code",
   "execution_count": 140,
   "metadata": {
    "collapsed": false
   },
   "outputs": [
    {
     "data": {
      "text/html": [
       "<div>\n",
       "<table border=\"1\" class=\"dataframe\">\n",
       "  <thead>\n",
       "    <tr style=\"text-align: right;\">\n",
       "      <th></th>\n",
       "      <th>rowkey_logicalfield</th>\n",
       "      <th>vw_marked</th>\n",
       "      <th>hb_marked</th>\n",
       "    </tr>\n",
       "  </thead>\n",
       "  <tbody>\n",
       "    <tr>\n",
       "      <th>count</th>\n",
       "      <td>208312</td>\n",
       "      <td>208312</td>\n",
       "      <td>208312</td>\n",
       "    </tr>\n",
       "    <tr>\n",
       "      <th>unique</th>\n",
       "      <td>208312</td>\n",
       "      <td>1</td>\n",
       "      <td>1</td>\n",
       "    </tr>\n",
       "    <tr>\n",
       "      <th>top</th>\n",
       "      <td>48433197419~INC~3018255~20151231~170~273~193</td>\n",
       "      <td>na</td>\n",
       "      <td>hb</td>\n",
       "    </tr>\n",
       "    <tr>\n",
       "      <th>freq</th>\n",
       "      <td>1</td>\n",
       "      <td>208312</td>\n",
       "      <td>208312</td>\n",
       "    </tr>\n",
       "  </tbody>\n",
       "</table>\n",
       "</div>"
      ],
      "text/plain": [
       "                                 rowkey_logicalfield vw_marked hb_marked\n",
       "count                                         208312    208312    208312\n",
       "unique                                        208312         1         1\n",
       "top     48433197419~INC~3018255~20151231~170~273~193        na        hb\n",
       "freq                                               1    208312    208312"
      ]
     },
     "execution_count": 140,
     "metadata": {},
     "output_type": "execute_result"
    }
   ],
   "source": [
    "merge_out[(merge_out['hb_marked'] == 'hb') & (merge_out['vw_marked'] == 'na')].to_csv(root_path + '\\\\' + 'hb-no-vw.csv')\n",
    "merge_out[(merge_out['hb_marked'] == 'hb') & (merge_out['vw_marked'] == 'na')].describe()"
   ]
  },
  {
   "cell_type": "code",
   "execution_count": 141,
   "metadata": {
    "collapsed": false
   },
   "outputs": [
    {
     "data": {
      "text/html": [
       "<div>\n",
       "<table border=\"1\" class=\"dataframe\">\n",
       "  <thead>\n",
       "    <tr style=\"text-align: right;\">\n",
       "      <th></th>\n",
       "      <th>rowkey_logicalfield</th>\n",
       "      <th>vw_marked</th>\n",
       "      <th>hb_marked</th>\n",
       "    </tr>\n",
       "  </thead>\n",
       "  <tbody>\n",
       "    <tr>\n",
       "      <th>count</th>\n",
       "      <td>212726</td>\n",
       "      <td>212726</td>\n",
       "      <td>212726</td>\n",
       "    </tr>\n",
       "    <tr>\n",
       "      <th>unique</th>\n",
       "      <td>212726</td>\n",
       "      <td>1</td>\n",
       "      <td>1</td>\n",
       "    </tr>\n",
       "    <tr>\n",
       "      <th>top</th>\n",
       "      <td>48433190885~BAL~3016622.0~20070930~33~116~40</td>\n",
       "      <td>vw</td>\n",
       "      <td>na</td>\n",
       "    </tr>\n",
       "    <tr>\n",
       "      <th>freq</th>\n",
       "      <td>1</td>\n",
       "      <td>212726</td>\n",
       "      <td>212726</td>\n",
       "    </tr>\n",
       "  </tbody>\n",
       "</table>\n",
       "</div>"
      ],
      "text/plain": [
       "                                 rowkey_logicalfield vw_marked hb_marked\n",
       "count                                         212726    212726    212726\n",
       "unique                                        212726         1         1\n",
       "top     48433190885~BAL~3016622.0~20070930~33~116~40        vw        na\n",
       "freq                                               1    212726    212726"
      ]
     },
     "execution_count": 141,
     "metadata": {},
     "output_type": "execute_result"
    }
   ],
   "source": [
    "merge_out[(merge_out['hb_marked'] == 'na') & (merge_out['vw_marked'] == 'vw')].to_csv(root_path + '\\\\' + 'vw-no-hb.csv')\n",
    "merge_out[(merge_out['hb_marked'] == 'na') & (merge_out['vw_marked'] == 'vw')].describe()"
   ]
  },
  {
   "cell_type": "code",
   "execution_count": 142,
   "metadata": {
    "collapsed": false
   },
   "outputs": [
    {
     "data": {
      "text/html": [
       "<div>\n",
       "<table border=\"1\" class=\"dataframe\">\n",
       "  <thead>\n",
       "    <tr style=\"text-align: right;\">\n",
       "      <th></th>\n",
       "      <th>rowkey_logicalfield</th>\n",
       "      <th>vw_marked</th>\n",
       "      <th>hb_marked</th>\n",
       "    </tr>\n",
       "  </thead>\n",
       "  <tbody>\n",
       "    <tr>\n",
       "      <th>count</th>\n",
       "      <td>1608347</td>\n",
       "      <td>1608347</td>\n",
       "      <td>1608347</td>\n",
       "    </tr>\n",
       "    <tr>\n",
       "      <th>unique</th>\n",
       "      <td>1608347</td>\n",
       "      <td>1</td>\n",
       "      <td>1</td>\n",
       "    </tr>\n",
       "    <tr>\n",
       "      <th>top</th>\n",
       "      <td>48433341882~BAL~NAN~20080331~30~127~29</td>\n",
       "      <td>vw</td>\n",
       "      <td>hb</td>\n",
       "    </tr>\n",
       "    <tr>\n",
       "      <th>freq</th>\n",
       "      <td>1</td>\n",
       "      <td>1608347</td>\n",
       "      <td>1608347</td>\n",
       "    </tr>\n",
       "  </tbody>\n",
       "</table>\n",
       "</div>"
      ],
      "text/plain": [
       "                           rowkey_logicalfield vw_marked hb_marked\n",
       "count                                  1608347   1608347   1608347\n",
       "unique                                 1608347         1         1\n",
       "top     48433341882~BAL~NAN~20080331~30~127~29        vw        hb\n",
       "freq                                         1   1608347   1608347"
      ]
     },
     "execution_count": 142,
     "metadata": {},
     "output_type": "execute_result"
    }
   ],
   "source": [
    "merge_out[(merge_out['hb_marked'] == 'hb') & (merge_out['vw_marked'] == 'vw')].to_csv(root_path + '\\\\' + 'hbvw.csv')\n",
    "merge_out[(merge_out['hb_marked'] == 'hb') & (merge_out['vw_marked'] == 'vw')].describe()"
   ]
  },
  {
   "cell_type": "code",
   "execution_count": 45,
   "metadata": {
    "collapsed": false
   },
   "outputs": [],
   "source": [
    "import matplotlib.pyplot as plt \n",
    "plt.figure(figsize=(10,10));\n",
    "x = [212726, 208312, 1608347]\n",
    "labels = ['vw-only', 'hb-only', 'vw-hb']\n",
    "explode = [0.2, 0.1, 0.1] \n",
    "plt.pie(x, labels=labels, explode=explode, autopct='%1.1f%%'); \n",
    "plt.show()"
   ]
  },
  {
   "cell_type": "code",
   "execution_count": 125,
   "metadata": {
    "collapsed": false
   },
   "outputs": [
    {
     "name": "stdout",
     "output_type": "stream",
     "text": [
      "                                 rowkey_logicalfield vw_marked hb_marked\n",
      "count                                        1816659   1816659   1816659\n",
      "unique                                       1816659         2         1\n",
      "top     48433197419~INC~3018255~20151231~170~273~193        vw        hb\n",
      "freq                                               1   1608347   1816659\n"
     ]
    },
    {
     "data": {
      "text/html": [
       "<div>\n",
       "<table border=\"1\" class=\"dataframe\">\n",
       "  <thead>\n",
       "    <tr style=\"text-align: right;\">\n",
       "      <th></th>\n",
       "      <th>rowkey_logicalfield</th>\n",
       "      <th>vw_marked</th>\n",
       "      <th>hb_marked</th>\n",
       "    </tr>\n",
       "  </thead>\n",
       "  <tbody>\n",
       "    <tr>\n",
       "      <th>2029380</th>\n",
       "      <td>48433190882~BAL~3018212~20111231~67~133~72</td>\n",
       "      <td>na</td>\n",
       "      <td>hb</td>\n",
       "    </tr>\n",
       "    <tr>\n",
       "      <th>2029381</th>\n",
       "      <td>48433186509~INC~3018263~20160131~97~192~180</td>\n",
       "      <td>na</td>\n",
       "      <td>hb</td>\n",
       "    </tr>\n",
       "    <tr>\n",
       "      <th>2029382</th>\n",
       "      <td>48433186509~INC~3018263~20160131~97~193~180</td>\n",
       "      <td>na</td>\n",
       "      <td>hb</td>\n",
       "    </tr>\n",
       "    <tr>\n",
       "      <th>2029383</th>\n",
       "      <td>48433186509~INC~3018263~20160131~98~192~180</td>\n",
       "      <td>na</td>\n",
       "      <td>hb</td>\n",
       "    </tr>\n",
       "    <tr>\n",
       "      <th>2029384</th>\n",
       "      <td>48433186509~INC~3018263~20160131~98~193~180</td>\n",
       "      <td>na</td>\n",
       "      <td>hb</td>\n",
       "    </tr>\n",
       "  </tbody>\n",
       "</table>\n",
       "</div>"
      ],
      "text/plain": [
       "                                 rowkey_logicalfield vw_marked hb_marked\n",
       "2029380   48433190882~BAL~3018212~20111231~67~133~72        na        hb\n",
       "2029381  48433186509~INC~3018263~20160131~97~192~180        na        hb\n",
       "2029382  48433186509~INC~3018263~20160131~97~193~180        na        hb\n",
       "2029383  48433186509~INC~3018263~20160131~98~192~180        na        hb\n",
       "2029384  48433186509~INC~3018263~20160131~98~193~180        na        hb"
      ]
     },
     "execution_count": 125,
     "metadata": {},
     "output_type": "execute_result"
    }
   ],
   "source": [
    "merge_out_hb = merge_out[merge_out['hb_marked'] == 'hb'].fillna('na')\n",
    "print merge_out_hb.describe()\n",
    "merge_out_hb.tail()"
   ]
  },
  {
   "cell_type": "code",
   "execution_count": 130,
   "metadata": {
    "collapsed": false
   },
   "outputs": [
    {
     "data": {
      "text/html": [
       "<div>\n",
       "<table border=\"1\" class=\"dataframe\">\n",
       "  <thead>\n",
       "    <tr style=\"text-align: right;\">\n",
       "      <th></th>\n",
       "      <th>rowkey_logicalfield</th>\n",
       "      <th>vw_marked</th>\n",
       "      <th>hb_marked</th>\n",
       "    </tr>\n",
       "  </thead>\n",
       "  <tbody>\n",
       "    <tr>\n",
       "      <th>1821068</th>\n",
       "      <td>48433198264~CAS~NAN~20141231~55~159~137</td>\n",
       "      <td>vw</td>\n",
       "      <td>hb</td>\n",
       "    </tr>\n",
       "    <tr>\n",
       "      <th>1821069</th>\n",
       "      <td>48433198264~CAS~NAN~20141231~55~159~136</td>\n",
       "      <td>vw</td>\n",
       "      <td>hb</td>\n",
       "    </tr>\n",
       "    <tr>\n",
       "      <th>1821070</th>\n",
       "      <td>48433198264~CAS~NAN~20141231~55~159~171</td>\n",
       "      <td>vw</td>\n",
       "      <td>hb</td>\n",
       "    </tr>\n",
       "    <tr>\n",
       "      <th>1821071</th>\n",
       "      <td>48433198264~CAS~NAN~20141231~55~159~170</td>\n",
       "      <td>vw</td>\n",
       "      <td>hb</td>\n",
       "    </tr>\n",
       "    <tr>\n",
       "      <th>1821072</th>\n",
       "      <td>48433198264~CAS~NAN~20141231~55~159~134</td>\n",
       "      <td>vw</td>\n",
       "      <td>hb</td>\n",
       "    </tr>\n",
       "  </tbody>\n",
       "</table>\n",
       "</div>"
      ],
      "text/plain": [
       "                             rowkey_logicalfield vw_marked hb_marked\n",
       "1821068  48433198264~CAS~NAN~20141231~55~159~137        vw        hb\n",
       "1821069  48433198264~CAS~NAN~20141231~55~159~136        vw        hb\n",
       "1821070  48433198264~CAS~NAN~20141231~55~159~171        vw        hb\n",
       "1821071  48433198264~CAS~NAN~20141231~55~159~170        vw        hb\n",
       "1821072  48433198264~CAS~NAN~20141231~55~159~134        vw        hb"
      ]
     },
     "execution_count": 130,
     "metadata": {},
     "output_type": "execute_result"
    }
   ],
   "source": [
    "merge_out_vw = merge_out[merge_out['vw_marked'] == 'vw'].fillna('na')\n",
    "merge_out_vw.tail()"
   ]
  },
  {
   "cell_type": "code",
   "execution_count": 80,
   "metadata": {
    "collapsed": false
   },
   "outputs": [
    {
     "name": "stdout",
     "output_type": "stream",
     "text": [
      "                           rowkey_logicalfield vw_marked hb_marked\n",
      "count                                  1608347   1608347   1608347\n",
      "unique                                 1608347         1         1\n",
      "top     48433341882~BAL~NAN~20080331~30~127~29        vw        hb\n",
      "freq                                         1   1608347   1608347\n"
     ]
    },
    {
     "data": {
      "text/html": [
       "<div>\n",
       "<table border=\"1\" class=\"dataframe\">\n",
       "  <thead>\n",
       "    <tr style=\"text-align: right;\">\n",
       "      <th></th>\n",
       "      <th>rowkey_logicalfield</th>\n",
       "      <th>vw_marked</th>\n",
       "      <th>hb_marked</th>\n",
       "    </tr>\n",
       "  </thead>\n",
       "  <tbody>\n",
       "    <tr>\n",
       "      <th>0</th>\n",
       "      <td>48433151341~INC~NAN~20141231~186~361~198</td>\n",
       "      <td>vw</td>\n",
       "      <td>hb</td>\n",
       "    </tr>\n",
       "    <tr>\n",
       "      <th>1</th>\n",
       "      <td>48433151341~INC~NAN~20141231~186~361~197</td>\n",
       "      <td>vw</td>\n",
       "      <td>hb</td>\n",
       "    </tr>\n",
       "    <tr>\n",
       "      <th>2</th>\n",
       "      <td>48433151341~INC~NAN~20141231~186~361~196</td>\n",
       "      <td>vw</td>\n",
       "      <td>hb</td>\n",
       "    </tr>\n",
       "    <tr>\n",
       "      <th>3</th>\n",
       "      <td>48433151341~INC~NAN~20141231~186~361~614</td>\n",
       "      <td>vw</td>\n",
       "      <td>hb</td>\n",
       "    </tr>\n",
       "    <tr>\n",
       "      <th>4</th>\n",
       "      <td>48433151341~INC~NAN~20141231~186~361~613</td>\n",
       "      <td>vw</td>\n",
       "      <td>hb</td>\n",
       "    </tr>\n",
       "  </tbody>\n",
       "</table>\n",
       "</div>"
      ],
      "text/plain": [
       "                        rowkey_logicalfield vw_marked hb_marked\n",
       "0  48433151341~INC~NAN~20141231~186~361~198        vw        hb\n",
       "1  48433151341~INC~NAN~20141231~186~361~197        vw        hb\n",
       "2  48433151341~INC~NAN~20141231~186~361~196        vw        hb\n",
       "3  48433151341~INC~NAN~20141231~186~361~614        vw        hb\n",
       "4  48433151341~INC~NAN~20141231~186~361~613        vw        hb"
      ]
     },
     "execution_count": 80,
     "metadata": {},
     "output_type": "execute_result"
    }
   ],
   "source": [
    "merge_out_hb_vw = merge_out[(merge_out['vw_marked'] == 'vw') & (merge_out['hb_marked'] == 'hb')]\n",
    "print merge_out_hb_vw.describe()\n",
    "merge_out_hb_vw.head()"
   ]
  },
  {
   "cell_type": "code",
   "execution_count": 131,
   "metadata": {
    "collapsed": false
   },
   "outputs": [
    {
     "name": "stdout",
     "output_type": "stream",
     "text": [
      "                                 rowkey_logicalfield vw_marked hb_marked\n",
      "count                                         208312    208312    208312\n",
      "unique                                        208312         1         1\n",
      "top     48433197419~INC~3018255~20151231~170~273~193        na        hb\n",
      "freq                                               1    208312    208312\n"
     ]
    },
    {
     "data": {
      "text/html": [
       "<div>\n",
       "<table border=\"1\" class=\"dataframe\">\n",
       "  <thead>\n",
       "    <tr style=\"text-align: right;\">\n",
       "      <th></th>\n",
       "      <th>rowkey_logicalfield</th>\n",
       "      <th>vw_marked</th>\n",
       "      <th>hb_marked</th>\n",
       "    </tr>\n",
       "  </thead>\n",
       "  <tbody>\n",
       "    <tr>\n",
       "      <th>1821073</th>\n",
       "      <td>48433197419~INC~3018881~20040331~65~113~294</td>\n",
       "      <td>na</td>\n",
       "      <td>hb</td>\n",
       "    </tr>\n",
       "    <tr>\n",
       "      <th>1821074</th>\n",
       "      <td>48433197419~INC~3018881~20040331~65~114~294</td>\n",
       "      <td>na</td>\n",
       "      <td>hb</td>\n",
       "    </tr>\n",
       "    <tr>\n",
       "      <th>1821075</th>\n",
       "      <td>48433197419~INC~3018881~20040331~66~113~294</td>\n",
       "      <td>na</td>\n",
       "      <td>hb</td>\n",
       "    </tr>\n",
       "    <tr>\n",
       "      <th>1821076</th>\n",
       "      <td>48433197419~INC~3018881~20040331~66~114~294</td>\n",
       "      <td>na</td>\n",
       "      <td>hb</td>\n",
       "    </tr>\n",
       "    <tr>\n",
       "      <th>1821077</th>\n",
       "      <td>48433197418~SHE~3017576~20071231~88~104~287</td>\n",
       "      <td>na</td>\n",
       "      <td>hb</td>\n",
       "    </tr>\n",
       "  </tbody>\n",
       "</table>\n",
       "</div>"
      ],
      "text/plain": [
       "                                 rowkey_logicalfield vw_marked hb_marked\n",
       "1821073  48433197419~INC~3018881~20040331~65~113~294        na        hb\n",
       "1821074  48433197419~INC~3018881~20040331~65~114~294        na        hb\n",
       "1821075  48433197419~INC~3018881~20040331~66~113~294        na        hb\n",
       "1821076  48433197419~INC~3018881~20040331~66~114~294        na        hb\n",
       "1821077  48433197418~SHE~3017576~20071231~88~104~287        na        hb"
      ]
     },
     "execution_count": 131,
     "metadata": {},
     "output_type": "execute_result"
    }
   ],
   "source": [
    "merge_out_hb_no_vw = merge_out_hb[merge_out_hb['vw_marked'] == 'na']\n",
    "print merge_out_hb_no_vw.describe()\n",
    "merge_out_hb_no_vw.head()"
   ]
  },
  {
   "cell_type": "code",
   "execution_count": 132,
   "metadata": {
    "collapsed": false
   },
   "outputs": [
    {
     "name": "stdout",
     "output_type": "stream",
     "text": [
      "        rowkey_logicalfield  vw_marked  hb_marked\n",
      "count                     0          0          0\n",
      "unique                    0          0          0\n"
     ]
    },
    {
     "name": "stderr",
     "output_type": "stream",
     "text": [
      "K:\\Anaconda\\lib\\site-packages\\IPython\\kernel\\__main__.py:1: UserWarning: Boolean Series key will be reindexed to match DataFrame index.\n",
      "  if __name__ == '__main__':\n"
     ]
    },
    {
     "data": {
      "text/html": [
       "<div>\n",
       "<table border=\"1\" class=\"dataframe\">\n",
       "  <thead>\n",
       "    <tr style=\"text-align: right;\">\n",
       "      <th></th>\n",
       "      <th>rowkey_logicalfield</th>\n",
       "      <th>vw_marked</th>\n",
       "      <th>hb_marked</th>\n",
       "    </tr>\n",
       "  </thead>\n",
       "  <tbody>\n",
       "  </tbody>\n",
       "</table>\n",
       "</div>"
      ],
      "text/plain": [
       "Empty DataFrame\n",
       "Columns: [rowkey_logicalfield, vw_marked, hb_marked]\n",
       "Index: []"
      ]
     },
     "execution_count": 132,
     "metadata": {},
     "output_type": "execute_result"
    }
   ],
   "source": [
    "merge_out_vw_no_hb = merge_out_vw[merge_out['hb_marked'] == 'na']\n",
    "print merge_out_vw_no_hb.describe()\n",
    "merge_out_vw_no_hb.head()"
   ]
  },
  {
   "cell_type": "code",
   "execution_count": 166,
   "metadata": {
    "collapsed": false
   },
   "outputs": [
    {
     "data": {
      "text/html": [
       "<div>\n",
       "<table border=\"1\" class=\"dataframe\">\n",
       "  <thead>\n",
       "    <tr style=\"text-align: right;\">\n",
       "      <th></th>\n",
       "      <th>rowkey_logicalfield</th>\n",
       "      <th>vw_marked</th>\n",
       "    </tr>\n",
       "  </thead>\n",
       "  <tbody>\n",
       "    <tr>\n",
       "      <th>0</th>\n",
       "      <td>48433190885~INC~3020474~20101231~55~44~295</td>\n",
       "      <td>vw</td>\n",
       "    </tr>\n",
       "    <tr>\n",
       "      <th>1</th>\n",
       "      <td>48433190885~INC~3018506~20101231~55~44~277</td>\n",
       "      <td>vw</td>\n",
       "    </tr>\n",
       "    <tr>\n",
       "      <th>2</th>\n",
       "      <td>48433190885~INC~3018526~20101231~55~44~276</td>\n",
       "      <td>vw</td>\n",
       "    </tr>\n",
       "    <tr>\n",
       "      <th>3</th>\n",
       "      <td>48433190885~INC~3018509~20101231~55~44~275</td>\n",
       "      <td>vw</td>\n",
       "    </tr>\n",
       "    <tr>\n",
       "      <th>4</th>\n",
       "      <td>48433190885~INC~3018511~20101231~55~44~274</td>\n",
       "      <td>vw</td>\n",
       "    </tr>\n",
       "  </tbody>\n",
       "</table>\n",
       "</div>"
      ],
      "text/plain": [
       "                          rowkey_logicalfield vw_marked\n",
       "0  48433190885~INC~3020474~20101231~55~44~295        vw\n",
       "1  48433190885~INC~3018506~20101231~55~44~277        vw\n",
       "2  48433190885~INC~3018526~20101231~55~44~276        vw\n",
       "3  48433190885~INC~3018509~20101231~55~44~275        vw\n",
       "4  48433190885~INC~3018511~20101231~55~44~274        vw"
      ]
     },
     "execution_count": 166,
     "metadata": {},
     "output_type": "execute_result"
    }
   ],
   "source": [
    "vw_no_hb1 = pd.read_csv(root_path + '\\\\' + 'vw-no-hb - Copy.csv')\n",
    "del vw_no_hb1['Unnamed: 0']\n",
    "del vw_no_hb1['hb_marked']\n",
    "vw_no_hb1.head()"
   ]
  },
  {
   "cell_type": "code",
   "execution_count": 159,
   "metadata": {
    "collapsed": false
   },
   "outputs": [
    {
     "data": {
      "text/html": [
       "<div>\n",
       "<table border=\"1\" class=\"dataframe\">\n",
       "  <thead>\n",
       "    <tr style=\"text-align: right;\">\n",
       "      <th></th>\n",
       "      <th>rowkey_logicalfield</th>\n",
       "      <th>hb_marked</th>\n",
       "    </tr>\n",
       "  </thead>\n",
       "  <tbody>\n",
       "    <tr>\n",
       "      <th>0</th>\n",
       "      <td>48433197419~INC~3018881~20040331~65~113~294</td>\n",
       "      <td>hb</td>\n",
       "    </tr>\n",
       "    <tr>\n",
       "      <th>1</th>\n",
       "      <td>48433197419~INC~3018881~20040331~65~114~294</td>\n",
       "      <td>hb</td>\n",
       "    </tr>\n",
       "    <tr>\n",
       "      <th>2</th>\n",
       "      <td>48433197419~INC~3018881~20040331~66~113~294</td>\n",
       "      <td>hb</td>\n",
       "    </tr>\n",
       "    <tr>\n",
       "      <th>3</th>\n",
       "      <td>48433197419~INC~3018881~20040331~66~114~294</td>\n",
       "      <td>hb</td>\n",
       "    </tr>\n",
       "    <tr>\n",
       "      <th>4</th>\n",
       "      <td>48433197418~SHE~3017576~20071231~88~104~287</td>\n",
       "      <td>hb</td>\n",
       "    </tr>\n",
       "  </tbody>\n",
       "</table>\n",
       "</div>"
      ],
      "text/plain": [
       "                           rowkey_logicalfield hb_marked\n",
       "0  48433197419~INC~3018881~20040331~65~113~294        hb\n",
       "1  48433197419~INC~3018881~20040331~65~114~294        hb\n",
       "2  48433197419~INC~3018881~20040331~66~113~294        hb\n",
       "3  48433197419~INC~3018881~20040331~66~114~294        hb\n",
       "4  48433197418~SHE~3017576~20071231~88~104~287        hb"
      ]
     },
     "execution_count": 159,
     "metadata": {},
     "output_type": "execute_result"
    }
   ],
   "source": [
    "hb_no_vw1 = pd.read_csv(root_path + '\\\\' + 'hb-no-vw.csv')\n",
    "del hb_no_vw1['Unnamed: 0']\n",
    "del hb_no_vw1['vw_marked']\n",
    "hb_no_vw1.head()"
   ]
  },
  {
   "cell_type": "code",
   "execution_count": 167,
   "metadata": {
    "collapsed": false
   },
   "outputs": [
    {
     "name": "stdout",
     "output_type": "stream",
     "text": [
      "                                 rowkey_logicalfield vw_marked hb_marked\n",
      "count                                         218811    218811    218811\n",
      "unique                                        218811         2         2\n",
      "top     48433197419~INC~3018255~20151231~170~273~193        vw        hb\n",
      "freq                                               1    212726    208312\n"
     ]
    },
    {
     "data": {
      "text/html": [
       "<div>\n",
       "<table border=\"1\" class=\"dataframe\">\n",
       "  <thead>\n",
       "    <tr style=\"text-align: right;\">\n",
       "      <th></th>\n",
       "      <th>rowkey_logicalfield</th>\n",
       "      <th>vw_marked</th>\n",
       "      <th>hb_marked</th>\n",
       "    </tr>\n",
       "  </thead>\n",
       "  <tbody>\n",
       "    <tr>\n",
       "      <th>0</th>\n",
       "      <td>48433190885~INC~3020474~20101231~55~44~295</td>\n",
       "      <td>vw</td>\n",
       "      <td>hb</td>\n",
       "    </tr>\n",
       "    <tr>\n",
       "      <th>1</th>\n",
       "      <td>48433190885~INC~3018506~20101231~55~44~277</td>\n",
       "      <td>vw</td>\n",
       "      <td>hb</td>\n",
       "    </tr>\n",
       "    <tr>\n",
       "      <th>2</th>\n",
       "      <td>48433190885~INC~3018526~20101231~55~44~276</td>\n",
       "      <td>vw</td>\n",
       "      <td>hb</td>\n",
       "    </tr>\n",
       "    <tr>\n",
       "      <th>3</th>\n",
       "      <td>48433190885~INC~3018509~20101231~55~44~275</td>\n",
       "      <td>vw</td>\n",
       "      <td>hb</td>\n",
       "    </tr>\n",
       "    <tr>\n",
       "      <th>4</th>\n",
       "      <td>48433190885~INC~3018511~20101231~55~44~274</td>\n",
       "      <td>vw</td>\n",
       "      <td>hb</td>\n",
       "    </tr>\n",
       "  </tbody>\n",
       "</table>\n",
       "</div>"
      ],
      "text/plain": [
       "                          rowkey_logicalfield vw_marked hb_marked\n",
       "0  48433190885~INC~3020474~20101231~55~44~295        vw        hb\n",
       "1  48433190885~INC~3018506~20101231~55~44~277        vw        hb\n",
       "2  48433190885~INC~3018526~20101231~55~44~276        vw        hb\n",
       "3  48433190885~INC~3018509~20101231~55~44~275        vw        hb\n",
       "4  48433190885~INC~3018511~20101231~55~44~274        vw        hb"
      ]
     },
     "execution_count": 167,
     "metadata": {},
     "output_type": "execute_result"
    }
   ],
   "source": [
    "hbvw1 = pd.merge(vw_no_hb1, hb_no_vw1, how='outer').fillna('na')\n",
    "print hbvw1.describe()\n",
    "hbvw1.to_csv(root_path + '\\\\' + 'hbvw1.csv')\n",
    "hbvw1.head()"
   ]
  },
  {
   "cell_type": "code",
   "execution_count": 169,
   "metadata": {
    "collapsed": false
   },
   "outputs": [
    {
     "name": "stdout",
     "output_type": "stream",
     "text": [
      "1810574\n",
      "6085\n",
      "10499\n"
     ]
    }
   ],
   "source": [
    "print 202227 + 1608347\n",
    "print 208312 - 202227\n",
    "print 212726 - 202227"
   ]
  },
  {
   "cell_type": "code",
   "execution_count": null,
   "metadata": {
    "collapsed": true
   },
   "outputs": [],
   "source": []
  },
  {
   "cell_type": "code",
   "execution_count": 51,
   "metadata": {
    "collapsed": false
   },
   "outputs": [
    {
     "ename": "ValueError",
     "evalue": "The truth value of a DataFrame is ambiguous. Use a.empty, a.bool(), a.item(), a.any() or a.all().",
     "output_type": "error",
     "traceback": [
      "\u001b[1;31m---------------------------------------------------------------------------\u001b[0m",
      "\u001b[1;31mValueError\u001b[0m                                Traceback (most recent call last)",
      "\u001b[1;32m<ipython-input-51-1a1747232d4b>\u001b[0m in \u001b[0;36m<module>\u001b[1;34m()\u001b[0m\n\u001b[1;32m----> 1\u001b[1;33m \u001b[0mmerge_out_hb_vw\u001b[0m \u001b[1;33m=\u001b[0m \u001b[0mmerge_out_hb\u001b[0m\u001b[1;33m.\u001b[0m\u001b[0mmerge\u001b[0m\u001b[1;33m(\u001b[0m\u001b[0mmerge_out_vw\u001b[0m\u001b[1;33m,\u001b[0m \u001b[0mmerge_out_hb\u001b[0m\u001b[1;33m)\u001b[0m\u001b[1;33m\u001b[0m\u001b[0m\n\u001b[0m",
      "\u001b[1;32mK:\\Anaconda\\lib\\site-packages\\pandas\\core\\frame.pyc\u001b[0m in \u001b[0;36mmerge\u001b[1;34m(self, right, how, on, left_on, right_on, left_index, right_index, sort, suffixes, copy, indicator)\u001b[0m\n\u001b[0;32m   4435\u001b[0m                      \u001b[0mright_on\u001b[0m\u001b[1;33m=\u001b[0m\u001b[0mright_on\u001b[0m\u001b[1;33m,\u001b[0m \u001b[0mleft_index\u001b[0m\u001b[1;33m=\u001b[0m\u001b[0mleft_index\u001b[0m\u001b[1;33m,\u001b[0m\u001b[1;33m\u001b[0m\u001b[0m\n\u001b[0;32m   4436\u001b[0m                      \u001b[0mright_index\u001b[0m\u001b[1;33m=\u001b[0m\u001b[0mright_index\u001b[0m\u001b[1;33m,\u001b[0m \u001b[0msort\u001b[0m\u001b[1;33m=\u001b[0m\u001b[0msort\u001b[0m\u001b[1;33m,\u001b[0m \u001b[0msuffixes\u001b[0m\u001b[1;33m=\u001b[0m\u001b[0msuffixes\u001b[0m\u001b[1;33m,\u001b[0m\u001b[1;33m\u001b[0m\u001b[0m\n\u001b[1;32m-> 4437\u001b[1;33m                      copy=copy, indicator=indicator)\n\u001b[0m\u001b[0;32m   4438\u001b[0m \u001b[1;33m\u001b[0m\u001b[0m\n\u001b[0;32m   4439\u001b[0m     \u001b[1;32mdef\u001b[0m \u001b[0mround\u001b[0m\u001b[1;33m(\u001b[0m\u001b[0mself\u001b[0m\u001b[1;33m,\u001b[0m \u001b[0mdecimals\u001b[0m\u001b[1;33m=\u001b[0m\u001b[1;36m0\u001b[0m\u001b[1;33m,\u001b[0m \u001b[1;33m*\u001b[0m\u001b[0margs\u001b[0m\u001b[1;33m,\u001b[0m \u001b[1;33m**\u001b[0m\u001b[0mkwargs\u001b[0m\u001b[1;33m)\u001b[0m\u001b[1;33m:\u001b[0m\u001b[1;33m\u001b[0m\u001b[0m\n",
      "\u001b[1;32mK:\\Anaconda\\lib\\site-packages\\pandas\\tools\\merge.pyc\u001b[0m in \u001b[0;36mmerge\u001b[1;34m(left, right, how, on, left_on, right_on, left_index, right_index, sort, suffixes, copy, indicator)\u001b[0m\n\u001b[0;32m     37\u001b[0m                          \u001b[0mright_index\u001b[0m\u001b[1;33m=\u001b[0m\u001b[0mright_index\u001b[0m\u001b[1;33m,\u001b[0m \u001b[0msort\u001b[0m\u001b[1;33m=\u001b[0m\u001b[0msort\u001b[0m\u001b[1;33m,\u001b[0m \u001b[0msuffixes\u001b[0m\u001b[1;33m=\u001b[0m\u001b[0msuffixes\u001b[0m\u001b[1;33m,\u001b[0m\u001b[1;33m\u001b[0m\u001b[0m\n\u001b[0;32m     38\u001b[0m                          copy=copy, indicator=indicator)\n\u001b[1;32m---> 39\u001b[1;33m     \u001b[1;32mreturn\u001b[0m \u001b[0mop\u001b[0m\u001b[1;33m.\u001b[0m\u001b[0mget_result\u001b[0m\u001b[1;33m(\u001b[0m\u001b[1;33m)\u001b[0m\u001b[1;33m\u001b[0m\u001b[0m\n\u001b[0m\u001b[0;32m     40\u001b[0m \u001b[1;32mif\u001b[0m \u001b[0m__debug__\u001b[0m\u001b[1;33m:\u001b[0m\u001b[1;33m\u001b[0m\u001b[0m\n\u001b[0;32m     41\u001b[0m     \u001b[0mmerge\u001b[0m\u001b[1;33m.\u001b[0m\u001b[0m__doc__\u001b[0m \u001b[1;33m=\u001b[0m \u001b[0m_merge_doc\u001b[0m \u001b[1;33m%\u001b[0m \u001b[1;34m'\\nleft : DataFrame'\u001b[0m\u001b[1;33m\u001b[0m\u001b[0m\n",
      "\u001b[1;32mK:\\Anaconda\\lib\\site-packages\\pandas\\tools\\merge.pyc\u001b[0m in \u001b[0;36mget_result\u001b[1;34m(self)\u001b[0m\n\u001b[0;32m    215\u001b[0m                 self.left, self.right)\n\u001b[0;32m    216\u001b[0m \u001b[1;33m\u001b[0m\u001b[0m\n\u001b[1;32m--> 217\u001b[1;33m         \u001b[0mjoin_index\u001b[0m\u001b[1;33m,\u001b[0m \u001b[0mleft_indexer\u001b[0m\u001b[1;33m,\u001b[0m \u001b[0mright_indexer\u001b[0m \u001b[1;33m=\u001b[0m \u001b[0mself\u001b[0m\u001b[1;33m.\u001b[0m\u001b[0m_get_join_info\u001b[0m\u001b[1;33m(\u001b[0m\u001b[1;33m)\u001b[0m\u001b[1;33m\u001b[0m\u001b[0m\n\u001b[0m\u001b[0;32m    218\u001b[0m \u001b[1;33m\u001b[0m\u001b[0m\n\u001b[0;32m    219\u001b[0m         \u001b[0mldata\u001b[0m\u001b[1;33m,\u001b[0m \u001b[0mrdata\u001b[0m \u001b[1;33m=\u001b[0m \u001b[0mself\u001b[0m\u001b[1;33m.\u001b[0m\u001b[0mleft\u001b[0m\u001b[1;33m.\u001b[0m\u001b[0m_data\u001b[0m\u001b[1;33m,\u001b[0m \u001b[0mself\u001b[0m\u001b[1;33m.\u001b[0m\u001b[0mright\u001b[0m\u001b[1;33m.\u001b[0m\u001b[0m_data\u001b[0m\u001b[1;33m\u001b[0m\u001b[0m\n",
      "\u001b[1;32mK:\\Anaconda\\lib\\site-packages\\pandas\\tools\\merge.pyc\u001b[0m in \u001b[0;36m_get_join_info\u001b[1;34m(self)\u001b[0m\n\u001b[0;32m    351\u001b[0m              \u001b[0mright_indexer\u001b[0m\u001b[1;33m)\u001b[0m \u001b[1;33m=\u001b[0m \u001b[0m_get_join_indexers\u001b[0m\u001b[1;33m(\u001b[0m\u001b[0mself\u001b[0m\u001b[1;33m.\u001b[0m\u001b[0mleft_join_keys\u001b[0m\u001b[1;33m,\u001b[0m\u001b[1;33m\u001b[0m\u001b[0m\n\u001b[0;32m    352\u001b[0m                                                  \u001b[0mself\u001b[0m\u001b[1;33m.\u001b[0m\u001b[0mright_join_keys\u001b[0m\u001b[1;33m,\u001b[0m\u001b[1;33m\u001b[0m\u001b[0m\n\u001b[1;32m--> 353\u001b[1;33m                                                  sort=self.sort, how=self.how)\n\u001b[0m\u001b[0;32m    354\u001b[0m             \u001b[1;32mif\u001b[0m \u001b[0mself\u001b[0m\u001b[1;33m.\u001b[0m\u001b[0mright_index\u001b[0m\u001b[1;33m:\u001b[0m\u001b[1;33m\u001b[0m\u001b[0m\n\u001b[0;32m    355\u001b[0m                 \u001b[1;32mif\u001b[0m \u001b[0mlen\u001b[0m\u001b[1;33m(\u001b[0m\u001b[0mself\u001b[0m\u001b[1;33m.\u001b[0m\u001b[0mleft\u001b[0m\u001b[1;33m)\u001b[0m \u001b[1;33m>\u001b[0m \u001b[1;36m0\u001b[0m\u001b[1;33m:\u001b[0m\u001b[1;33m\u001b[0m\u001b[0m\n",
      "\u001b[1;32mK:\\Anaconda\\lib\\site-packages\\pandas\\tools\\merge.pyc\u001b[0m in \u001b[0;36m_get_join_indexers\u001b[1;34m(left_keys, right_keys, sort, how)\u001b[0m\n\u001b[0;32m    555\u001b[0m \u001b[1;33m\u001b[0m\u001b[0m\n\u001b[0;32m    556\u001b[0m     \u001b[1;31m# preserve left frame order if how == 'left' and sort == False\u001b[0m\u001b[1;33m\u001b[0m\u001b[1;33m\u001b[0m\u001b[0m\n\u001b[1;32m--> 557\u001b[1;33m     \u001b[0mkwargs\u001b[0m \u001b[1;33m=\u001b[0m \u001b[1;33m{\u001b[0m\u001b[1;34m'sort'\u001b[0m\u001b[1;33m:\u001b[0m \u001b[0msort\u001b[0m\u001b[1;33m}\u001b[0m \u001b[1;32mif\u001b[0m \u001b[0mhow\u001b[0m \u001b[1;33m==\u001b[0m \u001b[1;34m'left'\u001b[0m \u001b[1;32melse\u001b[0m \u001b[1;33m{\u001b[0m\u001b[1;33m}\u001b[0m\u001b[1;33m\u001b[0m\u001b[0m\n\u001b[0m\u001b[0;32m    558\u001b[0m     \u001b[0mjoin_func\u001b[0m \u001b[1;33m=\u001b[0m \u001b[0m_join_functions\u001b[0m\u001b[1;33m[\u001b[0m\u001b[0mhow\u001b[0m\u001b[1;33m]\u001b[0m\u001b[1;33m\u001b[0m\u001b[0m\n\u001b[0;32m    559\u001b[0m     \u001b[1;32mreturn\u001b[0m \u001b[0mjoin_func\u001b[0m\u001b[1;33m(\u001b[0m\u001b[0mlkey\u001b[0m\u001b[1;33m,\u001b[0m \u001b[0mrkey\u001b[0m\u001b[1;33m,\u001b[0m \u001b[0mcount\u001b[0m\u001b[1;33m,\u001b[0m \u001b[1;33m**\u001b[0m\u001b[0mkwargs\u001b[0m\u001b[1;33m)\u001b[0m\u001b[1;33m\u001b[0m\u001b[0m\n",
      "\u001b[1;32mK:\\Anaconda\\lib\\site-packages\\pandas\\core\\generic.pyc\u001b[0m in \u001b[0;36m__nonzero__\u001b[1;34m(self)\u001b[0m\n\u001b[0;32m    890\u001b[0m         raise ValueError(\"The truth value of a {0} is ambiguous. \"\n\u001b[0;32m    891\u001b[0m                          \u001b[1;34m\"Use a.empty, a.bool(), a.item(), a.any() or a.all().\"\u001b[0m\u001b[1;33m\u001b[0m\u001b[0m\n\u001b[1;32m--> 892\u001b[1;33m                          .format(self.__class__.__name__))\n\u001b[0m\u001b[0;32m    893\u001b[0m \u001b[1;33m\u001b[0m\u001b[0m\n\u001b[0;32m    894\u001b[0m     \u001b[0m__bool__\u001b[0m \u001b[1;33m=\u001b[0m \u001b[0m__nonzero__\u001b[0m\u001b[1;33m\u001b[0m\u001b[0m\n",
      "\u001b[1;31mValueError\u001b[0m: The truth value of a DataFrame is ambiguous. Use a.empty, a.bool(), a.item(), a.any() or a.all()."
     ]
    }
   ],
   "source": [
    "merge_out_hb_vw = merge_out_hb.merge(merge_out_vw, merge_out_hb)"
   ]
  },
  {
   "cell_type": "code",
   "execution_count": null,
   "metadata": {
    "collapsed": false
   },
   "outputs": [],
   "source": [
    "vw_data = pd.read_csv(vw_file, header = None, skiprows = 1, delimiter='|', names=header, keep_default_na=False, na_values='').fillna('').applymap(str)\n",
    "vw_data.reportedcurrencyid = vw_data.reportedcurrencyid.apply(lambda x: x.split('.')[0])\n",
    "vw_data.asrlineitemsequence = vw_data.asrlineitemsequence.apply(lambda x: x.split('.')[0])\n",
    "vw_data.asreportedlineitemsource = vw_data.asreportedlineitemsource.apply(lambda x: x.split('.')[0])\n",
    "vw_data.capitalchangeadjustmentdate = vw_data.capitalchangeadjustmentdate.apply(lambda x: x.split('.')[0])\n",
    "vw_data.parentlinelocallanguagelabellanguageid = vw_data.parentlinelocallanguagelabellanguageid.apply(lambda x: x.split('.')[0])\n",
    "vw_data.parentlineitemnamelanguageid = vw_data.parentlineitemnamelanguageid.apply(lambda x: x.split('.')[0])\n",
    "vw_data.docbytelength = vw_data.docbytelength.apply(lambda x: x.split('.')[0])\n",
    "vw_data.docbyteoffset = vw_data.docbyteoffset.apply(lambda x: x.split('.')[0])\n",
    "vw_data.insert(0, 'rowkey_logicalfield', np.NAN, allow_duplicates=False)\n",
    "\n",
    "vw_data.rowkey_logicalfield = vw_data.fundamentalseriesid.replace(np.NAN, 'NAN') + '~' + \\\n",
    "                                vw_data.statementtypecode.replace(np.NAN, 'NAN')  + '~' + \\\n",
    "                                vw_data.financialconceptlocalid.replace(['nan', np.NAN, ''], 'NAN')  + '~' + \\\n",
    "                                vw_data.periodenddate.replace(np.NAN, 'NAN')  + '~' + \\\n",
    "                                vw_data.financialsourceid.replace(np.NAN, 'NAN')  + '~' + \\\n",
    "                                vw_data.financialperiodid.replace(np.NAN, 'NAN')  + '~' + \\\n",
    "                                vw_data.lineitemlineitemid.replace(np.NAN, 'NAN') \n",
    "print vw_data.rowkey_logicalfield.duplicated().value_counts()\n",
    "vw_data.head()"
   ]
  },
  {
   "cell_type": "code",
   "execution_count": 3,
   "metadata": {
    "collapsed": false
   },
   "outputs": [
    {
     "ename": "KeyboardInterrupt",
     "evalue": "",
     "output_type": "error",
     "traceback": [
      "\u001b[1;31m---------------------------------------------------------------------------\u001b[0m",
      "\u001b[1;31mKeyboardInterrupt\u001b[0m                         Traceback (most recent call last)",
      "\u001b[1;32m<ipython-input-3-27b38bff1726>\u001b[0m in \u001b[0;36m<module>\u001b[1;34m()\u001b[0m\n\u001b[0;32m     10\u001b[0m \u001b[0mhbase_data\u001b[0m\u001b[1;33m.\u001b[0m\u001b[0mreplace\u001b[0m\u001b[1;33m(\u001b[0m\u001b[1;34m'nil'\u001b[0m\u001b[1;33m,\u001b[0m \u001b[1;34m''\u001b[0m\u001b[1;33m,\u001b[0m \u001b[0minplace\u001b[0m\u001b[1;33m=\u001b[0m\u001b[0mTrue\u001b[0m\u001b[1;33m)\u001b[0m\u001b[1;33m\u001b[0m\u001b[0m\n\u001b[0;32m     11\u001b[0m \u001b[0mhbase_data\u001b[0m\u001b[1;33m.\u001b[0m\u001b[0mreplace\u001b[0m\u001b[1;33m(\u001b[0m\u001b[1;34m'True'\u001b[0m\u001b[1;33m,\u001b[0m \u001b[1;34m'1'\u001b[0m\u001b[1;33m,\u001b[0m \u001b[0minplace\u001b[0m\u001b[1;33m=\u001b[0m\u001b[0mTrue\u001b[0m\u001b[1;33m)\u001b[0m\u001b[1;33m\u001b[0m\u001b[0m\n\u001b[1;32m---> 12\u001b[1;33m \u001b[0mhbase_data\u001b[0m\u001b[1;33m.\u001b[0m\u001b[0mreplace\u001b[0m\u001b[1;33m(\u001b[0m\u001b[1;34m'False'\u001b[0m\u001b[1;33m,\u001b[0m \u001b[1;34m'0'\u001b[0m\u001b[1;33m,\u001b[0m \u001b[0minplace\u001b[0m\u001b[1;33m=\u001b[0m\u001b[0mTrue\u001b[0m\u001b[1;33m)\u001b[0m\u001b[1;33m\u001b[0m\u001b[0m\n\u001b[0m\u001b[0;32m     13\u001b[0m \u001b[0mhbase_data\u001b[0m\u001b[1;33m.\u001b[0m\u001b[0mreplace\u001b[0m\u001b[1;33m(\u001b[0m\u001b[1;34m'OriginalToOriginal'\u001b[0m\u001b[1;33m,\u001b[0m \u001b[1;34m'1'\u001b[0m\u001b[1;33m,\u001b[0m \u001b[0minplace\u001b[0m\u001b[1;33m=\u001b[0m\u001b[0mTrue\u001b[0m\u001b[1;33m)\u001b[0m\u001b[1;33m\u001b[0m\u001b[0m\n\u001b[0;32m     14\u001b[0m \u001b[0mhbase_data\u001b[0m\u001b[1;33m.\u001b[0m\u001b[0mreplace\u001b[0m\u001b[1;33m(\u001b[0m\u001b[1;34m'RecentToRecent'\u001b[0m\u001b[1;33m,\u001b[0m \u001b[1;34m'2'\u001b[0m\u001b[1;33m,\u001b[0m \u001b[0minplace\u001b[0m\u001b[1;33m=\u001b[0m\u001b[0mTrue\u001b[0m\u001b[1;33m)\u001b[0m\u001b[1;33m\u001b[0m\u001b[0m\n",
      "\u001b[1;32mK:\\Anaconda\\lib\\site-packages\\pandas\\core\\generic.pyc\u001b[0m in \u001b[0;36mreplace\u001b[1;34m(self, to_replace, value, inplace, limit, regex, method, axis)\u001b[0m\n\u001b[0;32m   3434\u001b[0m                     new_data = self._data.replace(to_replace=to_replace,\n\u001b[0;32m   3435\u001b[0m                                                   \u001b[0mvalue\u001b[0m\u001b[1;33m=\u001b[0m\u001b[0mvalue\u001b[0m\u001b[1;33m,\u001b[0m \u001b[0minplace\u001b[0m\u001b[1;33m=\u001b[0m\u001b[0minplace\u001b[0m\u001b[1;33m,\u001b[0m\u001b[1;33m\u001b[0m\u001b[0m\n\u001b[1;32m-> 3436\u001b[1;33m                                                   regex=regex)\n\u001b[0m\u001b[0;32m   3437\u001b[0m                 \u001b[1;32melse\u001b[0m\u001b[1;33m:\u001b[0m\u001b[1;33m\u001b[0m\u001b[0m\n\u001b[0;32m   3438\u001b[0m                     msg = ('Invalid \"to_replace\" type: '\n",
      "\u001b[1;32mK:\\Anaconda\\lib\\site-packages\\pandas\\core\\internals.pyc\u001b[0m in \u001b[0;36mreplace\u001b[1;34m(self, **kwargs)\u001b[0m\n\u001b[0;32m   2942\u001b[0m \u001b[1;33m\u001b[0m\u001b[0m\n\u001b[0;32m   2943\u001b[0m     \u001b[1;32mdef\u001b[0m \u001b[0mreplace\u001b[0m\u001b[1;33m(\u001b[0m\u001b[0mself\u001b[0m\u001b[1;33m,\u001b[0m \u001b[1;33m**\u001b[0m\u001b[0mkwargs\u001b[0m\u001b[1;33m)\u001b[0m\u001b[1;33m:\u001b[0m\u001b[1;33m\u001b[0m\u001b[0m\n\u001b[1;32m-> 2944\u001b[1;33m         \u001b[1;32mreturn\u001b[0m \u001b[0mself\u001b[0m\u001b[1;33m.\u001b[0m\u001b[0mapply\u001b[0m\u001b[1;33m(\u001b[0m\u001b[1;34m'replace'\u001b[0m\u001b[1;33m,\u001b[0m \u001b[1;33m**\u001b[0m\u001b[0mkwargs\u001b[0m\u001b[1;33m)\u001b[0m\u001b[1;33m\u001b[0m\u001b[0m\n\u001b[0m\u001b[0;32m   2945\u001b[0m \u001b[1;33m\u001b[0m\u001b[0m\n\u001b[0;32m   2946\u001b[0m     def replace_list(self, src_list, dest_list, inplace=False, regex=False,\n",
      "\u001b[1;32mK:\\Anaconda\\lib\\site-packages\\pandas\\core\\internals.pyc\u001b[0m in \u001b[0;36mapply\u001b[1;34m(self, f, axes, filter, do_integrity_check, consolidate, raw, **kwargs)\u001b[0m\n\u001b[0;32m   2899\u001b[0m         bm = self.__class__(result_blocks, axes or self.axes,\n\u001b[0;32m   2900\u001b[0m                             do_integrity_check=do_integrity_check)\n\u001b[1;32m-> 2901\u001b[1;33m         \u001b[0mbm\u001b[0m\u001b[1;33m.\u001b[0m\u001b[0m_consolidate_inplace\u001b[0m\u001b[1;33m(\u001b[0m\u001b[1;33m)\u001b[0m\u001b[1;33m\u001b[0m\u001b[0m\n\u001b[0m\u001b[0;32m   2902\u001b[0m         \u001b[1;32mreturn\u001b[0m \u001b[0mbm\u001b[0m\u001b[1;33m\u001b[0m\u001b[0m\n\u001b[0;32m   2903\u001b[0m \u001b[1;33m\u001b[0m\u001b[0m\n",
      "\u001b[1;32mK:\\Anaconda\\lib\\site-packages\\pandas\\core\\internals.pyc\u001b[0m in \u001b[0;36m_consolidate_inplace\u001b[1;34m(self)\u001b[0m\n\u001b[0;32m   3276\u001b[0m     \u001b[1;32mdef\u001b[0m \u001b[0m_consolidate_inplace\u001b[0m\u001b[1;33m(\u001b[0m\u001b[0mself\u001b[0m\u001b[1;33m)\u001b[0m\u001b[1;33m:\u001b[0m\u001b[1;33m\u001b[0m\u001b[0m\n\u001b[0;32m   3277\u001b[0m         \u001b[1;32mif\u001b[0m \u001b[1;32mnot\u001b[0m \u001b[0mself\u001b[0m\u001b[1;33m.\u001b[0m\u001b[0mis_consolidated\u001b[0m\u001b[1;33m(\u001b[0m\u001b[1;33m)\u001b[0m\u001b[1;33m:\u001b[0m\u001b[1;33m\u001b[0m\u001b[0m\n\u001b[1;32m-> 3278\u001b[1;33m             \u001b[0mself\u001b[0m\u001b[1;33m.\u001b[0m\u001b[0mblocks\u001b[0m \u001b[1;33m=\u001b[0m \u001b[0mtuple\u001b[0m\u001b[1;33m(\u001b[0m\u001b[0m_consolidate\u001b[0m\u001b[1;33m(\u001b[0m\u001b[0mself\u001b[0m\u001b[1;33m.\u001b[0m\u001b[0mblocks\u001b[0m\u001b[1;33m)\u001b[0m\u001b[1;33m)\u001b[0m\u001b[1;33m\u001b[0m\u001b[0m\n\u001b[0m\u001b[0;32m   3279\u001b[0m             \u001b[0mself\u001b[0m\u001b[1;33m.\u001b[0m\u001b[0m_is_consolidated\u001b[0m \u001b[1;33m=\u001b[0m \u001b[0mTrue\u001b[0m\u001b[1;33m\u001b[0m\u001b[0m\n\u001b[0;32m   3280\u001b[0m             \u001b[0mself\u001b[0m\u001b[1;33m.\u001b[0m\u001b[0m_known_consolidated\u001b[0m \u001b[1;33m=\u001b[0m \u001b[0mTrue\u001b[0m\u001b[1;33m\u001b[0m\u001b[0m\n",
      "\u001b[1;32mK:\\Anaconda\\lib\\site-packages\\pandas\\core\\internals.pyc\u001b[0m in \u001b[0;36m_consolidate\u001b[1;34m(blocks)\u001b[0m\n\u001b[0;32m   4267\u001b[0m     \u001b[1;32mfor\u001b[0m \u001b[1;33m(\u001b[0m\u001b[0m_can_consolidate\u001b[0m\u001b[1;33m,\u001b[0m \u001b[0mdtype\u001b[0m\u001b[1;33m)\u001b[0m\u001b[1;33m,\u001b[0m \u001b[0mgroup_blocks\u001b[0m \u001b[1;32min\u001b[0m \u001b[0mgrouper\u001b[0m\u001b[1;33m:\u001b[0m\u001b[1;33m\u001b[0m\u001b[0m\n\u001b[0;32m   4268\u001b[0m         merged_blocks = _merge_blocks(list(group_blocks), dtype=dtype,\n\u001b[1;32m-> 4269\u001b[1;33m                                       _can_consolidate=_can_consolidate)\n\u001b[0m\u001b[0;32m   4270\u001b[0m         \u001b[0mnew_blocks\u001b[0m \u001b[1;33m=\u001b[0m \u001b[0m_extend_blocks\u001b[0m\u001b[1;33m(\u001b[0m\u001b[0mmerged_blocks\u001b[0m\u001b[1;33m,\u001b[0m \u001b[0mnew_blocks\u001b[0m\u001b[1;33m)\u001b[0m\u001b[1;33m\u001b[0m\u001b[0m\n\u001b[0;32m   4271\u001b[0m     \u001b[1;32mreturn\u001b[0m \u001b[0mnew_blocks\u001b[0m\u001b[1;33m\u001b[0m\u001b[0m\n",
      "\u001b[1;32mK:\\Anaconda\\lib\\site-packages\\pandas\\core\\internals.pyc\u001b[0m in \u001b[0;36m_merge_blocks\u001b[1;34m(blocks, dtype, _can_consolidate)\u001b[0m\n\u001b[0;32m   4293\u001b[0m         \u001b[0mnew_mgr_locs\u001b[0m \u001b[1;33m=\u001b[0m \u001b[0mnew_mgr_locs\u001b[0m\u001b[1;33m[\u001b[0m\u001b[0margsort\u001b[0m\u001b[1;33m]\u001b[0m\u001b[1;33m\u001b[0m\u001b[0m\n\u001b[0;32m   4294\u001b[0m \u001b[1;33m\u001b[0m\u001b[0m\n\u001b[1;32m-> 4295\u001b[1;33m         \u001b[1;32mreturn\u001b[0m \u001b[0mmake_block\u001b[0m\u001b[1;33m(\u001b[0m\u001b[0mnew_values\u001b[0m\u001b[1;33m,\u001b[0m \u001b[0mfastpath\u001b[0m\u001b[1;33m=\u001b[0m\u001b[0mTrue\u001b[0m\u001b[1;33m,\u001b[0m \u001b[0mplacement\u001b[0m\u001b[1;33m=\u001b[0m\u001b[0mnew_mgr_locs\u001b[0m\u001b[1;33m)\u001b[0m\u001b[1;33m\u001b[0m\u001b[0m\n\u001b[0m\u001b[0;32m   4296\u001b[0m \u001b[1;33m\u001b[0m\u001b[0m\n\u001b[0;32m   4297\u001b[0m     \u001b[1;31m# no merge\u001b[0m\u001b[1;33m\u001b[0m\u001b[1;33m\u001b[0m\u001b[0m\n",
      "\u001b[1;32mK:\\Anaconda\\lib\\site-packages\\pandas\\core\\internals.pyc\u001b[0m in \u001b[0;36mmake_block\u001b[1;34m(values, placement, klass, ndim, dtype, fastpath)\u001b[0m\n\u001b[0;32m   2486\u001b[0m         \u001b[0mvtype\u001b[0m \u001b[1;33m=\u001b[0m \u001b[0mdtype\u001b[0m\u001b[1;33m.\u001b[0m\u001b[0mtype\u001b[0m\u001b[1;33m\u001b[0m\u001b[0m\n\u001b[0;32m   2487\u001b[0m \u001b[1;33m\u001b[0m\u001b[0m\n\u001b[1;32m-> 2488\u001b[1;33m         \u001b[1;32mif\u001b[0m \u001b[0misinstance\u001b[0m\u001b[1;33m(\u001b[0m\u001b[0mvalues\u001b[0m\u001b[1;33m,\u001b[0m \u001b[0mSparseArray\u001b[0m\u001b[1;33m)\u001b[0m\u001b[1;33m:\u001b[0m\u001b[1;33m\u001b[0m\u001b[0m\n\u001b[0m\u001b[0;32m   2489\u001b[0m             \u001b[0mklass\u001b[0m \u001b[1;33m=\u001b[0m \u001b[0mSparseBlock\u001b[0m\u001b[1;33m\u001b[0m\u001b[0m\n\u001b[0;32m   2490\u001b[0m         \u001b[1;32melif\u001b[0m \u001b[0missubclass\u001b[0m\u001b[1;33m(\u001b[0m\u001b[0mvtype\u001b[0m\u001b[1;33m,\u001b[0m \u001b[0mnp\u001b[0m\u001b[1;33m.\u001b[0m\u001b[0mfloating\u001b[0m\u001b[1;33m)\u001b[0m\u001b[1;33m:\u001b[0m\u001b[1;33m\u001b[0m\u001b[0m\n",
      "\u001b[1;31mKeyboardInterrupt\u001b[0m: "
     ]
    }
   ],
   "source": [
    "# format hbase data\n",
    "hbase_data = pd.read_table(hbase_file, header=None, delimiter='|', names=header, dtype='string').fillna('').applymap(str)\n",
    "import datetime\n",
    "def dataconvert(val):\n",
    "    if val != '':\n",
    "        return datetime.datetime.fromtimestamp(float(val[:-3])).strftime('%Y%m%d')\n",
    "    else:\n",
    "        return np.NAN\n",
    "\n",
    "hbase_data.replace('nil', '', inplace=True)\n",
    "hbase_data.replace('True', '1', inplace=True)\n",
    "hbase_data.replace('False', '0', inplace=True)\n",
    "hbase_data.replace('OriginalToOriginal', '1', inplace=True)\n",
    "hbase_data.replace('RecentToRecent', '2', inplace=True)\n",
    "hbase_data.replace('ParentOnly', '3', inplace=True)\n",
    "hbase_data.replace('Blended', '1', inplace=True)\n",
    "hbase_data.replace('ConsolidatedOnly', '2', inplace=True)\n",
    "hbase_data.locallanguagelabellanguageid.replace('505074', '505205', inplace=True)\n",
    "hbase_data.lineitemnamelanguageid.replace('505205', '505074', inplace=True)\n",
    "#hbase_data.periodenddate = hbase_data.periodenddate.apply(lambda val: datetime.datetime.fromtimestamp(float(val[:-3])).strftime('%Y%m%d'))\n",
    "#hbase_data.capitalchangeadjustmentdate = hbase_data.capitalchangeadjustmentdate.apply(dataconvert)\n",
    "\n",
    "hbase_data.insert(0, 'rowkey_logicalfield', np.NAN, allow_duplicates=False)\n",
    "\n",
    "hbase_data.rowkey_logicalfield = hbase_data.fundamentalseriesid.replace(np.NAN, 'NAN') + '~' + \\\n",
    "                                hbase_data.statementtypecode.replace(np.NAN, 'NAN')  + '~' + \\\n",
    "                                hbase_data.financialconceptlocalid.replace('', 'NAN')  + '~' + \\\n",
    "                                hbase_data.periodenddate.replace(np.NAN, 'NAN')  + '~' + \\\n",
    "                                hbase_data.financialsourceid.replace(np.NAN, 'NAN')  + '~' + \\\n",
    "                                hbase_data.financialperiodid.replace(np.NAN, 'NAN')  + '~' + \\\n",
    "                                hbase_data.lineitemlineitemid.replace(np.NAN, 'NAN') \n",
    "print hbase_data.rowkey_logicalfield.duplicated().value_counts()\n",
    "hbase_data.head()"
   ]
  },
  {
   "cell_type": "code",
   "execution_count": null,
   "metadata": {
    "collapsed": true
   },
   "outputs": [],
   "source": [
    "hbase_index = pd.DataFrame(vw_data.rowkey_logicalfield, columns=['rowkey_logicalfield'])\n",
    "#print hbase_index.head(2)\n",
    "hbase_sorted_vw = pd.merge(hbase_index, hbase_data)\n",
    "#print hbase_sorted_vw.head(2)\n",
    "compare_matrix = pd.DataFrame(vw_data.values == hbase_sorted_vw.values, columns=header_index)\n",
    "compare_matrix.head()"
   ]
  },
  {
   "cell_type": "code",
   "execution_count": null,
   "metadata": {
    "collapsed": true
   },
   "outputs": [],
   "source": [
    "compare_sum = compare_matrix.sum()\n",
    "compare_sum.plot(kind='barh', rot=0, fontsize=8)\n",
    "my_dpi=1200\n",
    "plt.figure(figsize=(10, 8), dpi=my_dpi)\n",
    "plt.show()"
   ]
  },
  {
   "cell_type": "code",
   "execution_count": null,
   "metadata": {
    "collapsed": true
   },
   "outputs": [],
   "source": []
  }
 ],
 "metadata": {
  "kernelspec": {
   "display_name": "Python 2",
   "language": "python",
   "name": "python2"
  },
  "language_info": {
   "codemirror_mode": {
    "name": "ipython",
    "version": 2
   },
   "file_extension": ".py",
   "mimetype": "text/x-python",
   "name": "python",
   "nbconvert_exporter": "python",
   "pygments_lexer": "ipython2",
   "version": "2.7.10"
  }
 },
 "nbformat": 4,
 "nbformat_minor": 0
}
