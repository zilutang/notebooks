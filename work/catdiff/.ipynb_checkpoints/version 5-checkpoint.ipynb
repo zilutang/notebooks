{
 "cells": [
  {
   "cell_type": "markdown",
   "metadata": {},
   "source": [
    "# Handle vw data"
   ]
  },
  {
   "cell_type": "code",
   "execution_count": 114,
   "metadata": {
    "collapsed": true
   },
   "outputs": [],
   "source": [
    "from pandas import Series, DataFrame\n",
    "import pandas as pd\n",
    "import numpy as np\n",
    "import matplotlib.pyplot as plt\n",
    "\n",
    "root_path = r'K:\\Learn\\ADC\\phase3\\hbasecompare\\testing-data'\n",
    "vw_file = root_path + '\\\\' + r'tabletest40org.ingres'\n",
    "hbase_file = root_path + '\\\\' + r'part-00000.csv'\n",
    "header = Series(['fundamentalid','organizationid','gaapcodeid','gaapcode','isusedforanalytics','fundamentalseriesid','fundamentalseriesviewtype','fundamentalseriesviewtypeid','fundamentalseriesconsolidationbasis','fundamentalseriesconsolidationbasisid','periodenddate','periodtype','periodtypeid','statementcurrencyid','ispreliminary','updatetypecode','updatetypeid','statementsystemderivedtypecode','statementsystemderivedtypecodeid','statementtypecode','statementtypecodeid','financialperiodid','financialsourceid','sourcetypecode','sourcetypeid','thirdpartysourcecode','thirdpartysourcecodeid','cumulativetype','cumulativetypeid','interimnumber','interimperiodfiscalyear','financialconceptglobal','financialconceptglobalid','financialconceptcodeglobalsecondary','financialconceptcodeglobalsecondaryid','financialconceptlocal','financialconceptlocalid','asriscredit','lineitemlineitemid','locallanguagelabel','locallanguagelabellanguageid','lineitemname','lineitemnamelanguageid','physicalmeasureid','orglineitemsequence','asradjustedforcorporateactionvalue','lineitemvalue','asreportedlineitemname','asreportedlineitemnamelanguageid','lineitemlocallanguagelabel','lineitemlocallanguagelabellanguageid','asrlineitemsequence','asreportedlineitemsource','capitalchangeadjustmentdate','estimatemethodcode','estimatemethodid','estimatemethodnote','estimatemethodnotelanguageid','isasreportedcurrencysetmanually','iscombineditem','isderived','isfinal','istotal','editeddescription','editeddescriptionlanguageid','reporteddescription','reporteddescriptionlanguageid','bookmark','docbytelength','docbyteoffset','itemdisplayednegativeflag','itemdisplayedvalue','itemscalingfactor','reportedvalue','parentlineitemid','asreportedphysicalmeasureid','reportedcurrencyid','statementsectioniscredit','statementsectioncode','statementsectionid','systemderivedtypecode','systemderivedtypecodeid','unit','unitenumerationid','parentlineitemname','parentlineitemnamelanguageid','parentlinelocallanguagelabel','parentlinelocallanguagelabellanguageid'])\n",
    "header_index = Series(['rowkey_logicalfield','fundamentalid','organizationid','gaapcodeid','gaapcode','isusedforanalytics','fundamentalseriesid','fundamentalseriesviewtype','fundamentalseriesviewtypeid','fundamentalseriesconsolidationbasis','fundamentalseriesconsolidationbasisid','periodenddate','periodtype','periodtypeid','statementcurrencyid','ispreliminary','updatetypecode','updatetypeid','statementsystemderivedtypecode','statementsystemderivedtypecodeid','statementtypecode','statementtypecodeid','financialperiodid','financialsourceid','sourcetypecode','sourcetypeid','thirdpartysourcecode','thirdpartysourcecodeid','cumulativetype','cumulativetypeid','interimnumber','interimperiodfiscalyear','financialconceptglobal','financialconceptglobalid','financialconceptcodeglobalsecondary','financialconceptcodeglobalsecondaryid','financialconceptlocal','financialconceptlocalid','asriscredit','lineitemlineitemid','locallanguagelabel','locallanguagelabellanguageid','lineitemname','lineitemnamelanguageid','physicalmeasureid','orglineitemsequence','asradjustedforcorporateactionvalue','lineitemvalue','asreportedlineitemname','asreportedlineitemnamelanguageid','lineitemlocallanguagelabel','lineitemlocallanguagelabellanguageid','asrlineitemsequence','asreportedlineitemsource','capitalchangeadjustmentdate','estimatemethodcode','estimatemethodid','estimatemethodnote','estimatemethodnotelanguageid','isasreportedcurrencysetmanually','iscombineditem','isderived','isfinal','istotal','editeddescription','editeddescriptionlanguageid','reporteddescription','reporteddescriptionlanguageid','bookmark','docbytelength','docbyteoffset','itemdisplayednegativeflag','itemdisplayedvalue','itemscalingfactor','reportedvalue','parentlineitemid','asreportedphysicalmeasureid','reportedcurrencyid','statementsectioniscredit','statementsectioncode','statementsectionid','systemderivedtypecode','systemderivedtypecodeid','unit','unitenumerationid','parentlineitemname','parentlineitemnamelanguageid','parentlinelocallanguagelabel','parentlinelocallanguagelabellanguageid'])\n",
    "rowkey_logicalfield = ['fundamentalseriesid', 'statementtypecode' ,'financialconceptlocalid', 'periodenddate', 'financialsourceid', 'financialperiodid', 'lineitemlineitemid']"
   ]
  },
  {
   "cell_type": "code",
   "execution_count": 2,
   "metadata": {
    "collapsed": false
   },
   "outputs": [
    {
     "name": "stderr",
     "output_type": "stream",
     "text": [
      "K:\\Anaconda\\lib\\site-packages\\IPython\\core\\interactiveshell.py:2871: DtypeWarning: Columns (32,36,76) have mixed types. Specify dtype option on import or set low_memory=False.\n",
      "  interactivity=interactivity, compiler=compiler, result=result)\n"
     ]
    }
   ],
   "source": [
    "vw_data = pd.read_csv(vw_file, header = None, skiprows = 1, delimiter=',', names=header, keep_default_na=False, na_values='NAN', dtype='string').applymap(str)"
   ]
  },
  {
   "cell_type": "code",
   "execution_count": 16,
   "metadata": {
    "collapsed": false,
    "scrolled": true
   },
   "outputs": [
    {
     "name": "stdout",
     "output_type": "stream",
     "text": [
      "insert already\n",
      "False    1821073\n",
      "Name: rowkey_logicalfield, dtype: int64\n"
     ]
    },
    {
     "data": {
      "text/html": [
       "<div>\n",
       "<table border=\"1\" class=\"dataframe\">\n",
       "  <thead>\n",
       "    <tr style=\"text-align: right;\">\n",
       "      <th></th>\n",
       "      <th>rowkey_logicalfield</th>\n",
       "      <th>fundamentalid</th>\n",
       "      <th>organizationid</th>\n",
       "      <th>gaapcodeid</th>\n",
       "      <th>gaapcode</th>\n",
       "      <th>isusedforanalytics</th>\n",
       "      <th>fundamentalseriesid</th>\n",
       "      <th>fundamentalseriesviewtype</th>\n",
       "      <th>fundamentalseriesviewtypeid</th>\n",
       "      <th>fundamentalseriesconsolidationbasis</th>\n",
       "      <th>...</th>\n",
       "      <th>statementsectioncode</th>\n",
       "      <th>statementsectionid</th>\n",
       "      <th>systemderivedtypecode</th>\n",
       "      <th>systemderivedtypecodeid</th>\n",
       "      <th>unit</th>\n",
       "      <th>unitenumerationid</th>\n",
       "      <th>parentlineitemname</th>\n",
       "      <th>parentlineitemnamelanguageid</th>\n",
       "      <th>parentlinelocallanguagelabel</th>\n",
       "      <th>parentlinelocallanguagelabellanguageid</th>\n",
       "    </tr>\n",
       "  </thead>\n",
       "  <tbody>\n",
       "    <tr>\n",
       "      <th>0</th>\n",
       "      <td>48433151341~INC~NAN~20141231~186~361~198</td>\n",
       "      <td>48434098578</td>\n",
       "      <td>4295869694</td>\n",
       "      <td>3011566</td>\n",
       "      <td>IAS</td>\n",
       "      <td>1</td>\n",
       "      <td>48433151341</td>\n",
       "      <td>2</td>\n",
       "      <td>1000190359</td>\n",
       "      <td>2</td>\n",
       "      <td>...</td>\n",
       "      <td>C</td>\n",
       "      <td>3013637</td>\n",
       "      <td>MP</td>\n",
       "      <td>3019677</td>\n",
       "      <td>1000000.0</td>\n",
       "      <td>1010068</td>\n",
       "      <td></td>\n",
       "      <td></td>\n",
       "      <td></td>\n",
       "      <td></td>\n",
       "    </tr>\n",
       "    <tr>\n",
       "      <th>1</th>\n",
       "      <td>48433151341~INC~NAN~20141231~186~361~197</td>\n",
       "      <td>48434098578</td>\n",
       "      <td>4295869694</td>\n",
       "      <td>3011566</td>\n",
       "      <td>IAS</td>\n",
       "      <td>1</td>\n",
       "      <td>48433151341</td>\n",
       "      <td>2</td>\n",
       "      <td>1000190359</td>\n",
       "      <td>2</td>\n",
       "      <td>...</td>\n",
       "      <td>R</td>\n",
       "      <td>3013735</td>\n",
       "      <td>MP</td>\n",
       "      <td>3019677</td>\n",
       "      <td>1000000.0</td>\n",
       "      <td>1010068</td>\n",
       "      <td></td>\n",
       "      <td></td>\n",
       "      <td></td>\n",
       "      <td></td>\n",
       "    </tr>\n",
       "    <tr>\n",
       "      <th>2</th>\n",
       "      <td>48433151341~INC~NAN~20141231~186~361~196</td>\n",
       "      <td>48434098578</td>\n",
       "      <td>4295869694</td>\n",
       "      <td>3011566</td>\n",
       "      <td>IAS</td>\n",
       "      <td>1</td>\n",
       "      <td>48433151341</td>\n",
       "      <td>2</td>\n",
       "      <td>1000190359</td>\n",
       "      <td>2</td>\n",
       "      <td>...</td>\n",
       "      <td>R</td>\n",
       "      <td>3013735</td>\n",
       "      <td>MP</td>\n",
       "      <td>3019677</td>\n",
       "      <td>1000000.0</td>\n",
       "      <td>1010068</td>\n",
       "      <td></td>\n",
       "      <td></td>\n",
       "      <td></td>\n",
       "      <td></td>\n",
       "    </tr>\n",
       "    <tr>\n",
       "      <th>3</th>\n",
       "      <td>48433151341~INC~NAN~20141231~186~361~614</td>\n",
       "      <td>48434098578</td>\n",
       "      <td>4295869694</td>\n",
       "      <td>3011566</td>\n",
       "      <td>IAS</td>\n",
       "      <td>1</td>\n",
       "      <td>48433151341</td>\n",
       "      <td>2</td>\n",
       "      <td>1000190359</td>\n",
       "      <td>2</td>\n",
       "      <td>...</td>\n",
       "      <td>O</td>\n",
       "      <td>3013709</td>\n",
       "      <td>MP</td>\n",
       "      <td>3019677</td>\n",
       "      <td>1000000.0</td>\n",
       "      <td>1010068</td>\n",
       "      <td></td>\n",
       "      <td></td>\n",
       "      <td></td>\n",
       "      <td></td>\n",
       "    </tr>\n",
       "    <tr>\n",
       "      <th>4</th>\n",
       "      <td>48433151341~INC~NAN~20141231~186~361~613</td>\n",
       "      <td>48434098578</td>\n",
       "      <td>4295869694</td>\n",
       "      <td>3011566</td>\n",
       "      <td>IAS</td>\n",
       "      <td>1</td>\n",
       "      <td>48433151341</td>\n",
       "      <td>2</td>\n",
       "      <td>1000190359</td>\n",
       "      <td>2</td>\n",
       "      <td>...</td>\n",
       "      <td>O</td>\n",
       "      <td>3013709</td>\n",
       "      <td>MP</td>\n",
       "      <td>3019677</td>\n",
       "      <td>1000000.0</td>\n",
       "      <td>1010068</td>\n",
       "      <td></td>\n",
       "      <td></td>\n",
       "      <td></td>\n",
       "      <td></td>\n",
       "    </tr>\n",
       "  </tbody>\n",
       "</table>\n",
       "<p>5 rows × 89 columns</p>\n",
       "</div>"
      ],
      "text/plain": [
       "                        rowkey_logicalfield fundamentalid organizationid  \\\n",
       "0  48433151341~INC~NAN~20141231~186~361~198   48434098578     4295869694   \n",
       "1  48433151341~INC~NAN~20141231~186~361~197   48434098578     4295869694   \n",
       "2  48433151341~INC~NAN~20141231~186~361~196   48434098578     4295869694   \n",
       "3  48433151341~INC~NAN~20141231~186~361~614   48434098578     4295869694   \n",
       "4  48433151341~INC~NAN~20141231~186~361~613   48434098578     4295869694   \n",
       "\n",
       "  gaapcodeid gaapcode isusedforanalytics fundamentalseriesid  \\\n",
       "0    3011566      IAS                  1         48433151341   \n",
       "1    3011566      IAS                  1         48433151341   \n",
       "2    3011566      IAS                  1         48433151341   \n",
       "3    3011566      IAS                  1         48433151341   \n",
       "4    3011566      IAS                  1         48433151341   \n",
       "\n",
       "  fundamentalseriesviewtype fundamentalseriesviewtypeid  \\\n",
       "0                         2                  1000190359   \n",
       "1                         2                  1000190359   \n",
       "2                         2                  1000190359   \n",
       "3                         2                  1000190359   \n",
       "4                         2                  1000190359   \n",
       "\n",
       "  fundamentalseriesconsolidationbasis                  ...                    \\\n",
       "0                                   2                  ...                     \n",
       "1                                   2                  ...                     \n",
       "2                                   2                  ...                     \n",
       "3                                   2                  ...                     \n",
       "4                                   2                  ...                     \n",
       "\n",
       "  statementsectioncode statementsectionid systemderivedtypecode  \\\n",
       "0                    C            3013637                    MP   \n",
       "1                    R            3013735                    MP   \n",
       "2                    R            3013735                    MP   \n",
       "3                    O            3013709                    MP   \n",
       "4                    O            3013709                    MP   \n",
       "\n",
       "  systemderivedtypecodeid       unit unitenumerationid parentlineitemname  \\\n",
       "0                 3019677  1000000.0           1010068                      \n",
       "1                 3019677  1000000.0           1010068                      \n",
       "2                 3019677  1000000.0           1010068                      \n",
       "3                 3019677  1000000.0           1010068                      \n",
       "4                 3019677  1000000.0           1010068                      \n",
       "\n",
       "  parentlineitemnamelanguageid parentlinelocallanguagelabel  \\\n",
       "0                                                             \n",
       "1                                                             \n",
       "2                                                             \n",
       "3                                                             \n",
       "4                                                             \n",
       "\n",
       "  parentlinelocallanguagelabellanguageid  \n",
       "0                                         \n",
       "1                                         \n",
       "2                                         \n",
       "3                                         \n",
       "4                                         \n",
       "\n",
       "[5 rows x 89 columns]"
      ]
     },
     "execution_count": 16,
     "metadata": {},
     "output_type": "execute_result"
    }
   ],
   "source": [
    "vw_data.reportedcurrencyid = vw_data.reportedcurrencyid.apply(lambda x: x.split('.')[0])\n",
    "vw_data.asrlineitemsequence = vw_data.asrlineitemsequence.apply(lambda x: x.split('.')[0])\n",
    "vw_data.asreportedlineitemsource = vw_data.asreportedlineitemsource.apply(lambda x: x.split('.')[0])\n",
    "vw_data.capitalchangeadjustmentdate = vw_data.capitalchangeadjustmentdate.apply(lambda x: x.split('.')[0])\n",
    "vw_data.parentlinelocallanguagelabellanguageid = vw_data.parentlinelocallanguagelabellanguageid.apply(lambda x: x.split('.')[0])\n",
    "vw_data.parentlineitemnamelanguageid = vw_data.parentlineitemnamelanguageid.apply(lambda x: x.split('.')[0])\n",
    "vw_data.docbytelength = vw_data.docbytelength.apply(lambda x: x.split('.')[0])\n",
    "vw_data.docbyteoffset = vw_data.docbyteoffset.apply(lambda x: x.split('.')[0])\n",
    "\n",
    "try:\n",
    "    vw_data.insert(0, 'rowkey_logicalfield', np.NAN, allow_duplicates=False)\n",
    "except:\n",
    "    print 'insert already'\n",
    "\n",
    "\n",
    "vw_data.rowkey_logicalfield = vw_data.fundamentalseriesid.apply(str) + '~' + \\\n",
    "                                vw_data.statementtypecode.apply(str)  + '~' + \\\n",
    "                                vw_data.financialconceptlocalid.apply(str).replace(['nan', np.NAN, ''], 'NAN')  + '~' + \\\n",
    "                                vw_data.periodenddate.apply(str)  + '~' + \\\n",
    "                                vw_data.financialsourceid.apply(str)  + '~' + \\\n",
    "                                vw_data.financialperiodid.apply(str)  + '~' + \\\n",
    "                                vw_data.lineitemlineitemid.apply(str)\n",
    "print vw_data.rowkey_logicalfield.duplicated().value_counts()\n",
    "vw_data.head()"
   ]
  },
  {
   "cell_type": "code",
   "execution_count": null,
   "metadata": {
    "collapsed": true
   },
   "outputs": [],
   "source": []
  },
  {
   "cell_type": "markdown",
   "metadata": {},
   "source": [
    "# Handle hbase data"
   ]
  },
  {
   "cell_type": "code",
   "execution_count": 115,
   "metadata": {
    "collapsed": false
   },
   "outputs": [
    {
     "ename": "IOError",
     "evalue": "File K:\\Learn\\ADC\\phase3\\hbasecompare\\testing-data\\part-00000.csv does not exist",
     "output_type": "error",
     "traceback": [
      "\u001b[1;31m---------------------------------------------------------------------------\u001b[0m",
      "\u001b[1;31mIOError\u001b[0m                                   Traceback (most recent call last)",
      "\u001b[1;32m<ipython-input-115-eab7411c2b97>\u001b[0m in \u001b[0;36m<module>\u001b[1;34m()\u001b[0m\n\u001b[1;32m----> 1\u001b[1;33m \u001b[0mhbase_data\u001b[0m \u001b[1;33m=\u001b[0m \u001b[0mpd\u001b[0m\u001b[1;33m.\u001b[0m\u001b[0mread_table\u001b[0m\u001b[1;33m(\u001b[0m\u001b[0mhbase_file\u001b[0m\u001b[1;33m,\u001b[0m \u001b[0mheader\u001b[0m\u001b[1;33m=\u001b[0m\u001b[0mNone\u001b[0m\u001b[1;33m,\u001b[0m \u001b[0mdelimiter\u001b[0m\u001b[1;33m=\u001b[0m\u001b[1;34m'|'\u001b[0m\u001b[1;33m,\u001b[0m \u001b[0mnames\u001b[0m\u001b[1;33m=\u001b[0m\u001b[0mheader\u001b[0m\u001b[1;33m,\u001b[0m \u001b[0mdtype\u001b[0m\u001b[1;33m=\u001b[0m\u001b[1;34m'string'\u001b[0m\u001b[1;33m,\u001b[0m \u001b[0mkeep_default_na\u001b[0m\u001b[1;33m=\u001b[0m\u001b[0mFalse\u001b[0m\u001b[1;33m,\u001b[0m \u001b[0mna_values\u001b[0m\u001b[1;33m=\u001b[0m\u001b[1;34m'NAN'\u001b[0m\u001b[1;33m)\u001b[0m\u001b[1;33m.\u001b[0m\u001b[0mreplace\u001b[0m\u001b[1;33m(\u001b[0m\u001b[1;34m'nil'\u001b[0m\u001b[1;33m,\u001b[0m \u001b[1;34m'NAN'\u001b[0m\u001b[1;33m)\u001b[0m\u001b[1;33m\u001b[0m\u001b[0m\n\u001b[0m",
      "\u001b[1;32mK:\\Anaconda\\lib\\site-packages\\pandas\\io\\parsers.pyc\u001b[0m in \u001b[0;36mparser_f\u001b[1;34m(filepath_or_buffer, sep, delimiter, header, names, index_col, usecols, squeeze, prefix, mangle_dupe_cols, dtype, engine, converters, true_values, false_values, skipinitialspace, skiprows, skipfooter, nrows, na_values, keep_default_na, na_filter, verbose, skip_blank_lines, parse_dates, infer_datetime_format, keep_date_col, date_parser, dayfirst, iterator, chunksize, compression, thousands, decimal, lineterminator, quotechar, quoting, escapechar, comment, encoding, dialect, tupleize_cols, error_bad_lines, warn_bad_lines, skip_footer, doublequote, delim_whitespace, as_recarray, compact_ints, use_unsigned, low_memory, buffer_lines, memory_map, float_precision)\u001b[0m\n\u001b[0;32m    560\u001b[0m                     skip_blank_lines=skip_blank_lines)\n\u001b[0;32m    561\u001b[0m \u001b[1;33m\u001b[0m\u001b[0m\n\u001b[1;32m--> 562\u001b[1;33m         \u001b[1;32mreturn\u001b[0m \u001b[0m_read\u001b[0m\u001b[1;33m(\u001b[0m\u001b[0mfilepath_or_buffer\u001b[0m\u001b[1;33m,\u001b[0m \u001b[0mkwds\u001b[0m\u001b[1;33m)\u001b[0m\u001b[1;33m\u001b[0m\u001b[0m\n\u001b[0m\u001b[0;32m    563\u001b[0m \u001b[1;33m\u001b[0m\u001b[0m\n\u001b[0;32m    564\u001b[0m     \u001b[0mparser_f\u001b[0m\u001b[1;33m.\u001b[0m\u001b[0m__name__\u001b[0m \u001b[1;33m=\u001b[0m \u001b[0mname\u001b[0m\u001b[1;33m\u001b[0m\u001b[0m\n",
      "\u001b[1;32mK:\\Anaconda\\lib\\site-packages\\pandas\\io\\parsers.pyc\u001b[0m in \u001b[0;36m_read\u001b[1;34m(filepath_or_buffer, kwds)\u001b[0m\n\u001b[0;32m    313\u001b[0m \u001b[1;33m\u001b[0m\u001b[0m\n\u001b[0;32m    314\u001b[0m     \u001b[1;31m# Create the parser.\u001b[0m\u001b[1;33m\u001b[0m\u001b[1;33m\u001b[0m\u001b[0m\n\u001b[1;32m--> 315\u001b[1;33m     \u001b[0mparser\u001b[0m \u001b[1;33m=\u001b[0m \u001b[0mTextFileReader\u001b[0m\u001b[1;33m(\u001b[0m\u001b[0mfilepath_or_buffer\u001b[0m\u001b[1;33m,\u001b[0m \u001b[1;33m**\u001b[0m\u001b[0mkwds\u001b[0m\u001b[1;33m)\u001b[0m\u001b[1;33m\u001b[0m\u001b[0m\n\u001b[0m\u001b[0;32m    316\u001b[0m \u001b[1;33m\u001b[0m\u001b[0m\n\u001b[0;32m    317\u001b[0m     \u001b[1;32mif\u001b[0m \u001b[1;33m(\u001b[0m\u001b[0mnrows\u001b[0m \u001b[1;32mis\u001b[0m \u001b[1;32mnot\u001b[0m \u001b[0mNone\u001b[0m\u001b[1;33m)\u001b[0m \u001b[1;32mand\u001b[0m \u001b[1;33m(\u001b[0m\u001b[0mchunksize\u001b[0m \u001b[1;32mis\u001b[0m \u001b[1;32mnot\u001b[0m \u001b[0mNone\u001b[0m\u001b[1;33m)\u001b[0m\u001b[1;33m:\u001b[0m\u001b[1;33m\u001b[0m\u001b[0m\n",
      "\u001b[1;32mK:\\Anaconda\\lib\\site-packages\\pandas\\io\\parsers.pyc\u001b[0m in \u001b[0;36m__init__\u001b[1;34m(self, f, engine, **kwds)\u001b[0m\n\u001b[0;32m    643\u001b[0m             \u001b[0mself\u001b[0m\u001b[1;33m.\u001b[0m\u001b[0moptions\u001b[0m\u001b[1;33m[\u001b[0m\u001b[1;34m'has_index_names'\u001b[0m\u001b[1;33m]\u001b[0m \u001b[1;33m=\u001b[0m \u001b[0mkwds\u001b[0m\u001b[1;33m[\u001b[0m\u001b[1;34m'has_index_names'\u001b[0m\u001b[1;33m]\u001b[0m\u001b[1;33m\u001b[0m\u001b[0m\n\u001b[0;32m    644\u001b[0m \u001b[1;33m\u001b[0m\u001b[0m\n\u001b[1;32m--> 645\u001b[1;33m         \u001b[0mself\u001b[0m\u001b[1;33m.\u001b[0m\u001b[0m_make_engine\u001b[0m\u001b[1;33m(\u001b[0m\u001b[0mself\u001b[0m\u001b[1;33m.\u001b[0m\u001b[0mengine\u001b[0m\u001b[1;33m)\u001b[0m\u001b[1;33m\u001b[0m\u001b[0m\n\u001b[0m\u001b[0;32m    646\u001b[0m \u001b[1;33m\u001b[0m\u001b[0m\n\u001b[0;32m    647\u001b[0m     \u001b[1;32mdef\u001b[0m \u001b[0mclose\u001b[0m\u001b[1;33m(\u001b[0m\u001b[0mself\u001b[0m\u001b[1;33m)\u001b[0m\u001b[1;33m:\u001b[0m\u001b[1;33m\u001b[0m\u001b[0m\n",
      "\u001b[1;32mK:\\Anaconda\\lib\\site-packages\\pandas\\io\\parsers.pyc\u001b[0m in \u001b[0;36m_make_engine\u001b[1;34m(self, engine)\u001b[0m\n\u001b[0;32m    797\u001b[0m     \u001b[1;32mdef\u001b[0m \u001b[0m_make_engine\u001b[0m\u001b[1;33m(\u001b[0m\u001b[0mself\u001b[0m\u001b[1;33m,\u001b[0m \u001b[0mengine\u001b[0m\u001b[1;33m=\u001b[0m\u001b[1;34m'c'\u001b[0m\u001b[1;33m)\u001b[0m\u001b[1;33m:\u001b[0m\u001b[1;33m\u001b[0m\u001b[0m\n\u001b[0;32m    798\u001b[0m         \u001b[1;32mif\u001b[0m \u001b[0mengine\u001b[0m \u001b[1;33m==\u001b[0m \u001b[1;34m'c'\u001b[0m\u001b[1;33m:\u001b[0m\u001b[1;33m\u001b[0m\u001b[0m\n\u001b[1;32m--> 799\u001b[1;33m             \u001b[0mself\u001b[0m\u001b[1;33m.\u001b[0m\u001b[0m_engine\u001b[0m \u001b[1;33m=\u001b[0m \u001b[0mCParserWrapper\u001b[0m\u001b[1;33m(\u001b[0m\u001b[0mself\u001b[0m\u001b[1;33m.\u001b[0m\u001b[0mf\u001b[0m\u001b[1;33m,\u001b[0m \u001b[1;33m**\u001b[0m\u001b[0mself\u001b[0m\u001b[1;33m.\u001b[0m\u001b[0moptions\u001b[0m\u001b[1;33m)\u001b[0m\u001b[1;33m\u001b[0m\u001b[0m\n\u001b[0m\u001b[0;32m    800\u001b[0m         \u001b[1;32melse\u001b[0m\u001b[1;33m:\u001b[0m\u001b[1;33m\u001b[0m\u001b[0m\n\u001b[0;32m    801\u001b[0m             \u001b[1;32mif\u001b[0m \u001b[0mengine\u001b[0m \u001b[1;33m==\u001b[0m \u001b[1;34m'python'\u001b[0m\u001b[1;33m:\u001b[0m\u001b[1;33m\u001b[0m\u001b[0m\n",
      "\u001b[1;32mK:\\Anaconda\\lib\\site-packages\\pandas\\io\\parsers.pyc\u001b[0m in \u001b[0;36m__init__\u001b[1;34m(self, src, **kwds)\u001b[0m\n\u001b[0;32m   1211\u001b[0m         \u001b[0mkwds\u001b[0m\u001b[1;33m[\u001b[0m\u001b[1;34m'allow_leading_cols'\u001b[0m\u001b[1;33m]\u001b[0m \u001b[1;33m=\u001b[0m \u001b[0mself\u001b[0m\u001b[1;33m.\u001b[0m\u001b[0mindex_col\u001b[0m \u001b[1;32mis\u001b[0m \u001b[1;32mnot\u001b[0m \u001b[0mFalse\u001b[0m\u001b[1;33m\u001b[0m\u001b[0m\n\u001b[0;32m   1212\u001b[0m \u001b[1;33m\u001b[0m\u001b[0m\n\u001b[1;32m-> 1213\u001b[1;33m         \u001b[0mself\u001b[0m\u001b[1;33m.\u001b[0m\u001b[0m_reader\u001b[0m \u001b[1;33m=\u001b[0m \u001b[0m_parser\u001b[0m\u001b[1;33m.\u001b[0m\u001b[0mTextReader\u001b[0m\u001b[1;33m(\u001b[0m\u001b[0msrc\u001b[0m\u001b[1;33m,\u001b[0m \u001b[1;33m**\u001b[0m\u001b[0mkwds\u001b[0m\u001b[1;33m)\u001b[0m\u001b[1;33m\u001b[0m\u001b[0m\n\u001b[0m\u001b[0;32m   1214\u001b[0m \u001b[1;33m\u001b[0m\u001b[0m\n\u001b[0;32m   1215\u001b[0m         \u001b[1;31m# XXX\u001b[0m\u001b[1;33m\u001b[0m\u001b[1;33m\u001b[0m\u001b[0m\n",
      "\u001b[1;32mpandas\\parser.pyx\u001b[0m in \u001b[0;36mpandas.parser.TextReader.__cinit__ (pandas\\parser.c:3282)\u001b[1;34m()\u001b[0m\n",
      "\u001b[1;32mpandas\\parser.pyx\u001b[0m in \u001b[0;36mpandas.parser.TextReader._setup_parser_source (pandas\\parser.c:6724)\u001b[1;34m()\u001b[0m\n",
      "\u001b[1;31mIOError\u001b[0m: File K:\\Learn\\ADC\\phase3\\hbasecompare\\testing-data\\part-00000.csv does not exist"
     ]
    }
   ],
   "source": [
    "hbase_data = pd.read_table(hbase_file, header=None, delimiter='|', names=header, dtype='string', keep_default_na=False, na_values='NAN').replace('nil', 'NAN')"
   ]
  },
  {
   "cell_type": "code",
   "execution_count": 112,
   "metadata": {
    "collapsed": false
   },
   "outputs": [
    {
     "ename": "NameError",
     "evalue": "name 'hbase_data' is not defined",
     "output_type": "error",
     "traceback": [
      "\u001b[1;31m---------------------------------------------------------------------------\u001b[0m",
      "\u001b[1;31mNameError\u001b[0m                                 Traceback (most recent call last)",
      "\u001b[1;32m<ipython-input-112-5b3fb2ae81d2>\u001b[0m in \u001b[0;36m<module>\u001b[1;34m()\u001b[0m\n\u001b[0;32m     12\u001b[0m \u001b[1;33m\u001b[0m\u001b[0m\n\u001b[0;32m     13\u001b[0m \u001b[1;33m\u001b[0m\u001b[0m\n\u001b[1;32m---> 14\u001b[1;33m \u001b[0mhbase_data\u001b[0m\u001b[1;33m.\u001b[0m\u001b[0mreplace\u001b[0m\u001b[1;33m(\u001b[0m\u001b[1;34m'True'\u001b[0m\u001b[1;33m,\u001b[0m \u001b[1;34m'1'\u001b[0m\u001b[1;33m,\u001b[0m \u001b[0minplace\u001b[0m\u001b[1;33m=\u001b[0m\u001b[0mTrue\u001b[0m\u001b[1;33m)\u001b[0m\u001b[1;33m\u001b[0m\u001b[0m\n\u001b[0m\u001b[0;32m     15\u001b[0m \u001b[0mhbase_data\u001b[0m\u001b[1;33m.\u001b[0m\u001b[0mreplace\u001b[0m\u001b[1;33m(\u001b[0m\u001b[1;34m'False'\u001b[0m\u001b[1;33m,\u001b[0m \u001b[1;34m'0'\u001b[0m\u001b[1;33m,\u001b[0m \u001b[0minplace\u001b[0m\u001b[1;33m=\u001b[0m\u001b[0mTrue\u001b[0m\u001b[1;33m)\u001b[0m\u001b[1;33m\u001b[0m\u001b[0m\n\u001b[0;32m     16\u001b[0m \u001b[0mhbase_data\u001b[0m\u001b[1;33m.\u001b[0m\u001b[0mreplace\u001b[0m\u001b[1;33m(\u001b[0m\u001b[1;34m'OriginalToOriginal'\u001b[0m\u001b[1;33m,\u001b[0m \u001b[1;34m'1'\u001b[0m\u001b[1;33m,\u001b[0m \u001b[0minplace\u001b[0m\u001b[1;33m=\u001b[0m\u001b[0mTrue\u001b[0m\u001b[1;33m)\u001b[0m\u001b[1;33m\u001b[0m\u001b[0m\n",
      "\u001b[1;31mNameError\u001b[0m: name 'hbase_data' is not defined"
     ]
    }
   ],
   "source": [
    "try:\n",
    "    hbase_data.insert(0, 'rowkey_logicalfield', np.NAN, allow_duplicates=False)\n",
    "except:\n",
    "    pass\n",
    "\n",
    "import datetime\n",
    "def dataconvert(val):\n",
    "    if val != '' and val != 'NAN':\n",
    "        return datetime.datetime.fromtimestamp(float(val[:-3])).strftime('%Y%m%d')\n",
    "    else:\n",
    "        return np.NAN\n",
    "\n",
    "\n",
    "hbase_data.replace('True', '1', inplace=True)\n",
    "hbase_data.replace('False', '0', inplace=True)\n",
    "hbase_data.replace('OriginalToOriginal', '1', inplace=True)\n",
    "hbase_data.replace('RecentToRecent', '2', inplace=True)\n",
    "hbase_data.replace('ParentOnly', '3', inplace=True)\n",
    "hbase_data.replace('Blended', '1', inplace=True)\n",
    "hbase_data.replace('ConsolidatedOnly', '2', inplace=True)\n",
    "hbase_data.locallanguagelabellanguageid.replace('505074', '505205', inplace=True)\n",
    "hbase_data.lineitemnamelanguageid.replace('505205', '505074', inplace=True)\n",
    "hbase_data.periodenddate = hbase_data.periodenddate.apply(lambda val: datetime.datetime.fromtimestamp(float(val[:-3])).strftime('%Y%m%d'))\n",
    "hbase_data.capitalchangeadjustmentdate = hbase_data.capitalchangeadjustmentdate.apply(dataconvert)\n",
    "hbase_data.fillna('NAN', inplace=True)\n",
    "hbase_data.replace(np.nan, 'NAN', inplace=True)\n",
    "#print hbase_data.head()\n",
    "#hbase_data.info()\n",
    "hbase_data.rowkey_logicalfield = hbase_data.fundamentalseriesid + '~' + \\\n",
    "                                hbase_data.statementtypecode  + '~' + \\\n",
    "                                hbase_data.financialconceptlocalid  + '~' + \\\n",
    "                                hbase_data.periodenddate + '~' + \\\n",
    "                                hbase_data.financialsourceid + '~' + \\\n",
    "                                hbase_data.financialperiodid + '~' + \\\n",
    "                                hbase_data.lineitemlineitemid\n",
    "print hbase_data.rowkey_logicalfield.duplicated().value_counts()\n",
    "hbase_data.head()"
   ]
  },
  {
   "cell_type": "markdown",
   "metadata": {},
   "source": [
    "# Format Index"
   ]
  },
  {
   "cell_type": "code",
   "execution_count": 17,
   "metadata": {
    "collapsed": false,
    "scrolled": true
   },
   "outputs": [
    {
     "name": "stdout",
     "output_type": "stream",
     "text": [
      "                        rowkey_logicalfield\n",
      "0  48433349353~INC~NAN~20150630~48~142~1414\n",
      "                        rowkey_logicalfield\n",
      "0  48433151341~INC~NAN~20141231~186~361~198\n"
     ]
    }
   ],
   "source": [
    "hbase_index = pd.DataFrame(hbase_data.rowkey_logicalfield, columns=['rowkey_logicalfield'])\n",
    "print hbase_index.head(1)\n",
    "vw_index = pd.DataFrame(vw_data.rowkey_logicalfield, columns=['rowkey_logicalfield'])\n",
    "print vw_index.head(1)"
   ]
  },
  {
   "cell_type": "markdown",
   "metadata": {},
   "source": [
    "# Merge Data as vw out"
   ]
  },
  {
   "cell_type": "code",
   "execution_count": 23,
   "metadata": {
    "collapsed": false
   },
   "outputs": [
    {
     "name": "stdout",
     "output_type": "stream",
     "text": [
      "<class 'pandas.core.frame.DataFrame'>\n",
      "Int64Index: 1827158 entries, 0 to 1827157\n",
      "Data columns (total 1 columns):\n",
      "rowkey_logicalfield    object\n",
      "dtypes: object(1)\n",
      "memory usage: 27.9+ MB\n"
     ]
    }
   ],
   "source": [
    "merge_data_out = pd.merge(vw_index, hbase_index, how='outer', on='rowkey_logicalfield')\n",
    "merge_data_out.info()"
   ]
  },
  {
   "cell_type": "code",
   "execution_count": 21,
   "metadata": {
    "collapsed": false
   },
   "outputs": [
    {
     "name": "stdout",
     "output_type": "stream",
     "text": [
      "<class 'pandas.core.frame.DataFrame'>\n",
      "Int64Index: 1810574 entries, 0 to 1810573\n",
      "Data columns (total 1 columns):\n",
      "rowkey_logicalfield    object\n",
      "dtypes: object(1)\n",
      "memory usage: 27.6+ MB\n"
     ]
    }
   ],
   "source": [
    "merge_data_in = pd.merge(vw_index, hbase_index, how='inner', on='rowkey_logicalfield')\n",
    "merge_data_in.info()"
   ]
  },
  {
   "cell_type": "code",
   "execution_count": 32,
   "metadata": {
    "collapsed": false
   },
   "outputs": [],
   "source": [
    "hbase_data_as_vw_out = pd.merge(merge_data_out, hbase_data, on='rowkey_logicalfield', how='outer')"
   ]
  },
  {
   "cell_type": "code",
   "execution_count": null,
   "metadata": {
    "collapsed": false,
    "scrolled": true
   },
   "outputs": [],
   "source": [
    "hbase_data_as_vw_out.replace('NAN', '', inplace=True)\n",
    "print hbase_data_as_vw_out.info()\n",
    "hbase_data_as_vw_out.head()"
   ]
  },
  {
   "cell_type": "code",
   "execution_count": 38,
   "metadata": {
    "collapsed": false,
    "scrolled": true
   },
   "outputs": [],
   "source": [
    "hbase_data_as_vw_out.to_csv(root_path + '\\\\' + r'hbase_data_as_vw_out.csv')"
   ]
  },
  {
   "cell_type": "code",
   "execution_count": 41,
   "metadata": {
    "collapsed": false
   },
   "outputs": [],
   "source": [
    "vw_data_as_vw_out = pd.merge(merge_data_out, vw_data, on='rowkey_logicalfield', how='outer')"
   ]
  },
  {
   "cell_type": "code",
   "execution_count": 44,
   "metadata": {
    "collapsed": false
   },
   "outputs": [],
   "source": [
    "vw_data_as_vw_out.to_csv(root_path + '\\\\' + r'vw_data_as_vw_out.csv')"
   ]
  },
  {
   "cell_type": "markdown",
   "metadata": {},
   "source": [
    "# Get Compare Result Matrix"
   ]
  },
  {
   "cell_type": "code",
   "execution_count": 45,
   "metadata": {
    "collapsed": true
   },
   "outputs": [],
   "source": [
    "hb_vw_out_compare = (hbase_data_as_vw_out == vw_data_as_vw_out)"
   ]
  },
  {
   "cell_type": "code",
   "execution_count": 49,
   "metadata": {
    "collapsed": false
   },
   "outputs": [],
   "source": [
    "hb_vw_out_compare.to_csv(root_path + '\\\\' + r'hb_vw_out_compare.csv')"
   ]
  },
  {
   "cell_type": "code",
   "execution_count": 51,
   "metadata": {
    "collapsed": false
   },
   "outputs": [
    {
     "data": {
      "text/html": [
       "<div>\n",
       "<table border=\"1\" class=\"dataframe\">\n",
       "  <thead>\n",
       "    <tr style=\"text-align: right;\">\n",
       "      <th></th>\n",
       "      <th>rowkey_logicalfield</th>\n",
       "      <th>fundamentalid</th>\n",
       "      <th>organizationid</th>\n",
       "      <th>gaapcodeid</th>\n",
       "      <th>gaapcode</th>\n",
       "      <th>isusedforanalytics</th>\n",
       "      <th>fundamentalseriesid</th>\n",
       "      <th>fundamentalseriesviewtype</th>\n",
       "      <th>fundamentalseriesviewtypeid</th>\n",
       "      <th>fundamentalseriesconsolidationbasis</th>\n",
       "      <th>...</th>\n",
       "      <th>statementsectioncode</th>\n",
       "      <th>statementsectionid</th>\n",
       "      <th>systemderivedtypecode</th>\n",
       "      <th>systemderivedtypecodeid</th>\n",
       "      <th>unit</th>\n",
       "      <th>unitenumerationid</th>\n",
       "      <th>parentlineitemname</th>\n",
       "      <th>parentlineitemnamelanguageid</th>\n",
       "      <th>parentlinelocallanguagelabel</th>\n",
       "      <th>parentlinelocallanguagelabellanguageid</th>\n",
       "    </tr>\n",
       "  </thead>\n",
       "  <tbody>\n",
       "    <tr>\n",
       "      <th>0</th>\n",
       "      <td>True</td>\n",
       "      <td>True</td>\n",
       "      <td>True</td>\n",
       "      <td>True</td>\n",
       "      <td>True</td>\n",
       "      <td>True</td>\n",
       "      <td>True</td>\n",
       "      <td>True</td>\n",
       "      <td>True</td>\n",
       "      <td>True</td>\n",
       "      <td>...</td>\n",
       "      <td>False</td>\n",
       "      <td>True</td>\n",
       "      <td>True</td>\n",
       "      <td>True</td>\n",
       "      <td>True</td>\n",
       "      <td>True</td>\n",
       "      <td>True</td>\n",
       "      <td>True</td>\n",
       "      <td>True</td>\n",
       "      <td>True</td>\n",
       "    </tr>\n",
       "    <tr>\n",
       "      <th>1</th>\n",
       "      <td>True</td>\n",
       "      <td>True</td>\n",
       "      <td>True</td>\n",
       "      <td>True</td>\n",
       "      <td>True</td>\n",
       "      <td>True</td>\n",
       "      <td>True</td>\n",
       "      <td>True</td>\n",
       "      <td>True</td>\n",
       "      <td>True</td>\n",
       "      <td>...</td>\n",
       "      <td>False</td>\n",
       "      <td>True</td>\n",
       "      <td>True</td>\n",
       "      <td>True</td>\n",
       "      <td>True</td>\n",
       "      <td>True</td>\n",
       "      <td>True</td>\n",
       "      <td>True</td>\n",
       "      <td>True</td>\n",
       "      <td>True</td>\n",
       "    </tr>\n",
       "    <tr>\n",
       "      <th>2</th>\n",
       "      <td>True</td>\n",
       "      <td>True</td>\n",
       "      <td>True</td>\n",
       "      <td>True</td>\n",
       "      <td>True</td>\n",
       "      <td>True</td>\n",
       "      <td>True</td>\n",
       "      <td>True</td>\n",
       "      <td>True</td>\n",
       "      <td>True</td>\n",
       "      <td>...</td>\n",
       "      <td>False</td>\n",
       "      <td>True</td>\n",
       "      <td>True</td>\n",
       "      <td>True</td>\n",
       "      <td>True</td>\n",
       "      <td>True</td>\n",
       "      <td>True</td>\n",
       "      <td>True</td>\n",
       "      <td>True</td>\n",
       "      <td>True</td>\n",
       "    </tr>\n",
       "    <tr>\n",
       "      <th>3</th>\n",
       "      <td>True</td>\n",
       "      <td>True</td>\n",
       "      <td>True</td>\n",
       "      <td>True</td>\n",
       "      <td>True</td>\n",
       "      <td>True</td>\n",
       "      <td>True</td>\n",
       "      <td>True</td>\n",
       "      <td>True</td>\n",
       "      <td>True</td>\n",
       "      <td>...</td>\n",
       "      <td>False</td>\n",
       "      <td>True</td>\n",
       "      <td>True</td>\n",
       "      <td>True</td>\n",
       "      <td>True</td>\n",
       "      <td>True</td>\n",
       "      <td>True</td>\n",
       "      <td>True</td>\n",
       "      <td>True</td>\n",
       "      <td>True</td>\n",
       "    </tr>\n",
       "    <tr>\n",
       "      <th>4</th>\n",
       "      <td>True</td>\n",
       "      <td>True</td>\n",
       "      <td>True</td>\n",
       "      <td>True</td>\n",
       "      <td>True</td>\n",
       "      <td>True</td>\n",
       "      <td>True</td>\n",
       "      <td>True</td>\n",
       "      <td>True</td>\n",
       "      <td>True</td>\n",
       "      <td>...</td>\n",
       "      <td>False</td>\n",
       "      <td>True</td>\n",
       "      <td>True</td>\n",
       "      <td>True</td>\n",
       "      <td>True</td>\n",
       "      <td>True</td>\n",
       "      <td>True</td>\n",
       "      <td>True</td>\n",
       "      <td>True</td>\n",
       "      <td>True</td>\n",
       "    </tr>\n",
       "  </tbody>\n",
       "</table>\n",
       "<p>5 rows × 89 columns</p>\n",
       "</div>"
      ],
      "text/plain": [
       "  rowkey_logicalfield fundamentalid organizationid gaapcodeid gaapcode  \\\n",
       "0                True          True           True       True     True   \n",
       "1                True          True           True       True     True   \n",
       "2                True          True           True       True     True   \n",
       "3                True          True           True       True     True   \n",
       "4                True          True           True       True     True   \n",
       "\n",
       "  isusedforanalytics fundamentalseriesid fundamentalseriesviewtype  \\\n",
       "0               True                True                      True   \n",
       "1               True                True                      True   \n",
       "2               True                True                      True   \n",
       "3               True                True                      True   \n",
       "4               True                True                      True   \n",
       "\n",
       "  fundamentalseriesviewtypeid fundamentalseriesconsolidationbasis  \\\n",
       "0                        True                                True   \n",
       "1                        True                                True   \n",
       "2                        True                                True   \n",
       "3                        True                                True   \n",
       "4                        True                                True   \n",
       "\n",
       "                   ...                   statementsectioncode  \\\n",
       "0                  ...                                  False   \n",
       "1                  ...                                  False   \n",
       "2                  ...                                  False   \n",
       "3                  ...                                  False   \n",
       "4                  ...                                  False   \n",
       "\n",
       "  statementsectionid systemderivedtypecode systemderivedtypecodeid  unit  \\\n",
       "0               True                  True                    True  True   \n",
       "1               True                  True                    True  True   \n",
       "2               True                  True                    True  True   \n",
       "3               True                  True                    True  True   \n",
       "4               True                  True                    True  True   \n",
       "\n",
       "  unitenumerationid parentlineitemname parentlineitemnamelanguageid  \\\n",
       "0              True               True                         True   \n",
       "1              True               True                         True   \n",
       "2              True               True                         True   \n",
       "3              True               True                         True   \n",
       "4              True               True                         True   \n",
       "\n",
       "  parentlinelocallanguagelabel parentlinelocallanguagelabellanguageid  \n",
       "0                         True                                   True  \n",
       "1                         True                                   True  \n",
       "2                         True                                   True  \n",
       "3                         True                                   True  \n",
       "4                         True                                   True  \n",
       "\n",
       "[5 rows x 89 columns]"
      ]
     },
     "execution_count": 51,
     "metadata": {},
     "output_type": "execute_result"
    }
   ],
   "source": [
    "hb_vw_out_compare.head()"
   ]
  },
  {
   "cell_type": "code",
   "execution_count": null,
   "metadata": {
    "collapsed": true
   },
   "outputs": [],
   "source": [
    "hb_vw_out_compare.from_csv(root_path + '\\\\' + r'hb_vw_out_compare.csv')\n",
    "hb_vw_out_compare.head()"
   ]
  },
  {
   "cell_type": "markdown",
   "metadata": {},
   "source": [
    "# Analistic Compare Result"
   ]
  },
  {
   "cell_type": "code",
   "execution_count": 57,
   "metadata": {
    "collapsed": false
   },
   "outputs": [],
   "source": [
    "compare_sum = hb_vw_out_compare.sum()\n",
    "compare_sum.plot(kind='barh', rot=0, fontsize=8)\n",
    "my_dpi=2000\n",
    "plt.figure(figsize=(10, 8), dpi=my_dpi)\n",
    "plt.show()"
   ]
  },
  {
   "cell_type": "code",
   "execution_count": null,
   "metadata": {
    "collapsed": false
   },
   "outputs": [],
   "source": [
    "print hbase_data_as_vw_out.interimperiodfiscalyear.value_counts\n",
    "print vw_data_as_vw_out.interimperiodfiscalyear.value_counts"
   ]
  },
  {
   "cell_type": "code",
   "execution_count": 89,
   "metadata": {
    "collapsed": false
   },
   "outputs": [],
   "source": [
    "x = vw_data_as_vw_out.interimnumber.copy()"
   ]
  },
  {
   "cell_type": "code",
   "execution_count": 90,
   "metadata": {
    "collapsed": false
   },
   "outputs": [
    {
     "data": {
      "text/plain": [
       "0            4\n",
       "429          1\n",
       "523          3\n",
       "1209         2\n",
       "1821073    NaN\n",
       "Name: interimnumber, dtype: object"
      ]
     },
     "execution_count": 90,
     "metadata": {},
     "output_type": "execute_result"
    }
   ],
   "source": [
    "x.drop_duplicates()"
   ]
  },
  {
   "cell_type": "code",
   "execution_count": 71,
   "metadata": {
    "collapsed": false
   },
   "outputs": [
    {
     "data": {
      "text/plain": [
       "0            4\n",
       "429          1\n",
       "523          3\n",
       "1209         2\n",
       "1821073    NaN\n",
       "Name: interimnumber, dtype: object"
      ]
     },
     "execution_count": 71,
     "metadata": {},
     "output_type": "execute_result"
    }
   ],
   "source": [
    "y = vw_data_as_vw_out.interimnumber.drop_duplicates()\n",
    "y"
   ]
  },
  {
   "cell_type": "code",
   "execution_count": null,
   "metadata": {
    "collapsed": false
   },
   "outputs": [],
   "source": [
    "z = pd.DataFrame(data={'interimnumber':vw_data_as_vw_out.interimnumber, 'interimperiodfiscalyear':vw_data_as_vw_out.interimperiodfiscalyear})\n",
    "z.drop_duplicates()"
   ]
  },
  {
   "cell_type": "code",
   "execution_count": 93,
   "metadata": {
    "collapsed": false
   },
   "outputs": [
    {
     "data": {
      "text/plain": [
       "0            4\n",
       "429          1\n",
       "523          3\n",
       "1209         2\n",
       "1821073    NaN\n",
       "Name: interimnumber, dtype: object"
      ]
     },
     "execution_count": 93,
     "metadata": {},
     "output_type": "execute_result"
    }
   ],
   "source": [
    "vw_data_as_vw_out.interimnumber.drop_duplicates()"
   ]
  },
  {
   "cell_type": "code",
   "execution_count": 98,
   "metadata": {
    "collapsed": false
   },
   "outputs": [],
   "source": [
    "statementsectioncode = hbase_data_as_vw_out.statementsectioncode.drop_duplicates()"
   ]
  },
  {
   "cell_type": "code",
   "execution_count": 105,
   "metadata": {
    "collapsed": false
   },
   "outputs": [
    {
     "data": {
      "text/plain": [
       "'IAL'"
      ]
     },
     "execution_count": 105,
     "metadata": {},
     "output_type": "execute_result"
    }
   ],
   "source": [
    "statementsectioncode.iloc[41]"
   ]
  },
  {
   "cell_type": "code",
   "execution_count": 88,
   "metadata": {
    "collapsed": false
   },
   "outputs": [],
   "source": [
    "hb_vw_out_compare.sum().to_csv(root_path + '\\\\' + r'compare.csv')"
   ]
  },
  {
   "cell_type": "code",
   "execution_count": 154,
   "metadata": {
    "collapsed": false
   },
   "outputs": [
    {
     "name": "stdout",
     "output_type": "stream",
     "text": [
      "0               \n",
      "15        505074\n",
      "1142      505043\n",
      "3657      505126\n",
      "12002     505258\n",
      "22763     505205\n",
      "28041     505176\n",
      "58595     505139\n",
      "906671    505239\n",
      "Name: parentlinelocallanguagelabellanguageid, dtype: object\n",
      "0                \n",
      "2          505074\n",
      "306294    1010068\n",
      "Name: parentlinelocallanguagelabellanguageid, dtype: object\n"
     ]
    }
   ],
   "source": [
    "print vw_data.parentlinelocallanguagelabellanguageid.drop_duplicates()\n",
    "print hbase_data_as_hb.parentlinelocallanguagelabellanguageid.drop_duplicates()"
   ]
  },
  {
   "cell_type": "code",
   "execution_count": 157,
   "metadata": {
    "collapsed": false
   },
   "outputs": [
    {
     "name": "stdout",
     "output_type": "stream",
     "text": [
      "0             1000000.0\n",
      "6                   1.0\n",
      "295              1000.0\n",
      "531          10000000.0\n",
      "1115               0.01\n",
      "2998           100000.0\n",
      "20837           10000.0\n",
      "916345     1000000000.0\n",
      "1325991           100.0\n",
      "Name: unit, dtype: object\n",
      "0                1.0\n",
      "54            1000.0\n",
      "330        1000000.0\n",
      "995            100.0\n",
      "1649           1.0E9\n",
      "2989           1.0E7\n",
      "4637        100000.0\n",
      "17571           0.01\n",
      "250006       10000.0\n",
      "306294           OTH\n",
      "1306586          CRA\n",
      "1667694          PFN\n",
      "Name: unit, dtype: object\n"
     ]
    }
   ],
   "source": [
    "print vw_data.unit.drop_duplicates()\n",
    "print hbase_data_as_hb.unit.drop_duplicates()"
   ]
  },
  {
   "cell_type": "code",
   "execution_count": 161,
   "metadata": {
    "collapsed": false
   },
   "outputs": [
    {
     "name": "stdout",
     "output_type": "stream",
     "text": [
      "0                                               Umsatzkosten\n",
      "1                                               Umsatzerlöse\n",
      "3                                         Entwicklungskosten\n",
      "4          Allgemeine Verwaltungskosten Forschungs- und n...\n",
      "5                                            Vertriebskosten\n",
      "6                                                           \n",
      "22         Daimler AG am Konzernergebnis Ergebnis je Akti...\n",
      "23         Income - thereof profit attributable to non-co...\n",
      "25                                              Unverwässert\n",
      "30                                          Zinsaufwendungen\n",
      "31                                               Zinserträge\n",
      "33         Sonstige betriebliche Erträge gestartet, 800 S...\n",
      "45                                 Bruttoergebnis vom Umsatz\n",
      "47         Konzernergebnis davon auf nicht beherrschende ...\n",
      "57                                              Income taxes\n",
      "60                               Ergebnis vor Ertragsteuern2\n",
      "63                  aus leistungsbasierten Versorgungsplänen\n",
      "64         Entwicklungskosten bereichen bei Daimler Truck...\n",
      "65         Allgemeine Verwaltungskosten Forschungs­ und n...\n",
      "66         Umsatzkosten produktiven Bereich. Diese Person...\n",
      "67                          Zinsen und ähnliche Aufwendungen\n",
      "68                                    Übriges Finanzergebnis\n",
      "69                                       Finanzinvestitionen\n",
      "70                        Sonstige betriebliche Aufwendungen\n",
      "71                             Sonstige betriebliche Erträge\n",
      "72         Sonstige betriebliche Aufwendungen liches frei...\n",
      "1023                                    Umsatz, in Millionen\n",
      "1025                                      EBIT, in Millionen\n",
      "1026                             Ergebnis je Aktie (EPS), in\n",
      "1030                           Konzernergebnis, in Millionen\n",
      "                                 ...                        \n",
      "1714183                                            Preferred\n",
      "1714482                   Netchangein cashandcashequivalents\n",
      "1714877                Issuance of preferred shares (Note 5)\n",
      "1714892    Mutual fund acquisition costs capitalized, net...\n",
      "1714896                         Issuance of senior debenture\n",
      "1714902                                     Net income taxes\n",
      "1714913    Cashflowsprovidedby(usedin)financingactivities...\n",
      "1714916    Cashflowsprovidedby(usedin)investingactivities...\n",
      "1714919                           Income taxes (paid) refund\n",
      "1714930    Cashflowsprovidedby(usedin)operatingactivities...\n",
      "1714943                   Purchase of property and equipment\n",
      "1714998                Issuance of senior unsecured financin\n",
      "1715382    Issuance of common shares on exercise of stock...\n",
      "1717179    Dividends received from associates and joint v...\n",
      "1717208    Issuance of preferred shares Issuance of commo...\n",
      "1717209                                        stock options\n",
      "1717210    subordinated debentures Redemption of senior f...\n",
      "1717227                                and subordinated debt\n",
      "1717341                Issuance of preferred shares (Note 6)\n",
      "1717349               Issuance of subordinated debt (Note 6)\n",
      "1717362                    Payments to underwriters (Note 6)\n",
      "1717363                Issuance of senior debenture (Note 7)\n",
      "1717365                               stocks and real estate\n",
      "1721979                  Discontinued Operations - Investing\n",
      "1721980              P/L from Discontinued Operations to Rec\n",
      "1723933    Dividends received from associates and joint v...\n",
      "1724068    CASHFLOWS PROVIDEDBY(USEDIN) FINANCINGACTIVITI...\n",
      "1724076    Net cash paid on the sale of reinsurance business\n",
      "1724102    CASHFLOWS PROVIDEDBY(USEDIN) OPERATINGACTIVITI...\n",
      "1725118    Cash proceeds from sale of discontinued operat...\n",
      "Name: editeddescription, dtype: object\n",
      "0                                                           \n",
      "275                        Preference Shares and tax thereon\n",
      "276        Add: Dividends on convertible preference share...\n",
      "397        III. Efectivo y otros activos líquidos equival...\n",
      "398                                III. Deudas a corto plazo\n",
      "399                                 VIII. Dividendo a cuenta\n",
      "400                  VI. Resultados de ejercicios anteriores\n",
      "404                      II. Activos por impuestos diferidos\n",
      "405                                       TOTAL ACTIVO (A+B)\n",
      "409                                      C) PASIVO CORRIENTE\n",
      "414                                 II. Deudas a largo plazo\n",
      "416                     I. Activos financieros no corrientes\n",
      "417         I. Deudores comerciales y otras cuentas a cobrar\n",
      "418                                               I. Capital\n",
      "419                                            III. Reservas\n",
      "420        V. Acreedores comerciales y otras cuentas a pagar\n",
      "421                                     II. Prima de emisión\n",
      "422        IV. Acciones y participaciones en patrimonio p...\n",
      "423        VII. Resultado del ejercicio atribuido a la en...\n",
      "424         I. Activos financieros disponibles para la venta\n",
      "425        PATRIM. NETO ATRIBUIDO A LA ENTIDAD DOMINANTE ...\n",
      "426                   TOTAL PASIVO Y PATRIMONIO NETO (A+B+C)\n",
      "430                                    B) ACTIVOS CORRIENTES\n",
      "642                                            Daimler Group\n",
      "951                         Finance income and expenses, net\n",
      "952                     Foreign exchange losses/(gains), net\n",
      "953                                            Interest paid\n",
      "954                                        Income taxes paid\n",
      "955             Net cash generated from operating activities\n",
      "956                         Acquisition of intangible assets\n",
      "                                 ...                        \n",
      "1727058                      Derivative liabilities (Note 5)\n",
      "1727060                           Senior unsecured financing\n",
      "1727062                          Subordinated debt (Note 12)\n",
      "1729772    million for the third quarter of 2010, compare...\n",
      "1734592    adequacy, liquidity or any other regulatory di...\n",
      "1734598    Total (1) Geographic segmentationisbased upon ...\n",
      "1739000             in Net Income of Unconsolidated Entities\n",
      "1739003    Equity in Net Income of Unconsolidated Entitie...\n",
      "1739009    Net Income Available to Common Stockholders - ...\n",
      "1739011                       Plus Preferred Stock Dividends\n",
      "1739014    Net Income Available to Common Stockholders - ...\n",
      "1742347                 Carrying amount at December 31, 2008\n",
      "1751639        Shares Held in a Subsidiary Company [Note 15]\n",
      "1761065                Issuance of senior unsecured financin\n",
      "1769453                                  As of June 30, 2008\n",
      "1769456                          Short-term cash investments\n",
      "1769471                                      invested shares\n",
      "1769472                               Total number of shares\n",
      "1777107    ...The Bank's net interest margin was 1.53% in...\n",
      "1777325              Total Non-Current Assets Current Assets\n",
      "1777326                           Investment in Subsidiaries\n",
      "1777327    ThAem SoigunnitfiDcuaentt oAcRceoluantetidngP ...\n",
      "1777335    Immovable Estate Assets on Finance Lease (Othe...\n",
      "1777373                                 Right to Use of Land\n",
      "1777569                     Unitholders’ deficiency (note 5)\n",
      "1777572                           Balance September 30, 2010\n",
      "1777580    NOTES TO THE INTERIM CONSOLIDATED FINANCIAL ST...\n",
      "1785407    Total net cash flows from (used by) financing ...\n",
      "1785410    NET INCREASE/ (DECREASE) IN CASH & CASH EQUIVA...\n",
      "1804785                                                March\n",
      "Name: editeddescription, dtype: object\n"
     ]
    }
   ],
   "source": [
    "print vw_data.editeddescription.drop_duplicates()\n",
    "print hbase_data_as_hb.editeddescription.drop_duplicates()"
   ]
  },
  {
   "cell_type": "code",
   "execution_count": 122,
   "metadata": {
    "collapsed": true
   },
   "outputs": [],
   "source": [
    "hbase_index_as_vw = pd.merge(hbase_index, vw_index, how='outer')"
   ]
  },
  {
   "cell_type": "code",
   "execution_count": 129,
   "metadata": {
    "collapsed": false
   },
   "outputs": [],
   "source": [
    "hbase_data_as_hb = pd.merge(hbase_index, hbase_data_as_vw_out)"
   ]
  },
  {
   "cell_type": "code",
   "execution_count": 130,
   "metadata": {
    "collapsed": false
   },
   "outputs": [
    {
     "name": "stdout",
     "output_type": "stream",
     "text": [
      "<class 'pandas.core.frame.DataFrame'>\n",
      "Int64Index: 1816659 entries, 0 to 1816658\n",
      "Data columns (total 89 columns):\n",
      "rowkey_logicalfield                       object\n",
      "fundamentalid                             object\n",
      "organizationid                            object\n",
      "gaapcodeid                                object\n",
      "gaapcode                                  object\n",
      "isusedforanalytics                        object\n",
      "fundamentalseriesid                       object\n",
      "fundamentalseriesviewtype                 object\n",
      "fundamentalseriesviewtypeid               object\n",
      "fundamentalseriesconsolidationbasis       object\n",
      "fundamentalseriesconsolidationbasisid     object\n",
      "periodenddate                             object\n",
      "periodtype                                object\n",
      "periodtypeid                              object\n",
      "statementcurrencyid                       object\n",
      "ispreliminary                             object\n",
      "updatetypecode                            object\n",
      "updatetypeid                              object\n",
      "statementsystemderivedtypecode            object\n",
      "statementsystemderivedtypecodeid          object\n",
      "statementtypecode                         object\n",
      "statementtypecodeid                       object\n",
      "financialperiodid                         object\n",
      "financialsourceid                         object\n",
      "sourcetypecode                            object\n",
      "sourcetypeid                              object\n",
      "thirdpartysourcecode                      object\n",
      "thirdpartysourcecodeid                    object\n",
      "cumulativetype                            object\n",
      "cumulativetypeid                          object\n",
      "interimnumber                             object\n",
      "interimperiodfiscalyear                   object\n",
      "financialconceptglobal                    object\n",
      "financialconceptglobalid                  object\n",
      "financialconceptcodeglobalsecondary       object\n",
      "financialconceptcodeglobalsecondaryid     object\n",
      "financialconceptlocal                     object\n",
      "financialconceptlocalid                   object\n",
      "asriscredit                               object\n",
      "lineitemlineitemid                        object\n",
      "locallanguagelabel                        object\n",
      "locallanguagelabellanguageid              object\n",
      "lineitemname                              object\n",
      "lineitemnamelanguageid                    object\n",
      "physicalmeasureid                         object\n",
      "orglineitemsequence                       object\n",
      "asradjustedforcorporateactionvalue        object\n",
      "lineitemvalue                             object\n",
      "asreportedlineitemname                    object\n",
      "asreportedlineitemnamelanguageid          object\n",
      "lineitemlocallanguagelabel                object\n",
      "lineitemlocallanguagelabellanguageid      object\n",
      "asrlineitemsequence                       object\n",
      "asreportedlineitemsource                  object\n",
      "capitalchangeadjustmentdate               object\n",
      "estimatemethodcode                        object\n",
      "estimatemethodid                          object\n",
      "estimatemethodnote                        object\n",
      "estimatemethodnotelanguageid              object\n",
      "isasreportedcurrencysetmanually           object\n",
      "iscombineditem                            object\n",
      "isderived                                 object\n",
      "isfinal                                   object\n",
      "istotal                                   object\n",
      "editeddescription                         object\n",
      "editeddescriptionlanguageid               object\n",
      "reporteddescription                       object\n",
      "reporteddescriptionlanguageid             object\n",
      "bookmark                                  object\n",
      "docbytelength                             object\n",
      "docbyteoffset                             object\n",
      "itemdisplayednegativeflag                 object\n",
      "itemdisplayedvalue                        object\n",
      "itemscalingfactor                         object\n",
      "reportedvalue                             object\n",
      "parentlineitemid                          object\n",
      "asreportedphysicalmeasureid               object\n",
      "reportedcurrencyid                        object\n",
      "statementsectioniscredit                  object\n",
      "statementsectioncode                      object\n",
      "statementsectionid                        object\n",
      "systemderivedtypecode                     object\n",
      "systemderivedtypecodeid                   object\n",
      "unit                                      object\n",
      "unitenumerationid                         object\n",
      "parentlineitemname                        object\n",
      "parentlineitemnamelanguageid              object\n",
      "parentlinelocallanguagelabel              object\n",
      "parentlinelocallanguagelabellanguageid    object\n",
      "dtypes: object(89)\n",
      "memory usage: 1.2+ GB\n"
     ]
    }
   ],
   "source": [
    "hbase_data_as_hb.info()"
   ]
  }
 ],
 "metadata": {
  "kernelspec": {
   "display_name": "Python 2",
   "language": "python",
   "name": "python2"
  },
  "language_info": {
   "codemirror_mode": {
    "name": "ipython",
    "version": 2
   },
   "file_extension": ".py",
   "mimetype": "text/x-python",
   "name": "python",
   "nbconvert_exporter": "python",
   "pygments_lexer": "ipython2",
   "version": "2.7.10"
  }
 },
 "nbformat": 4,
 "nbformat_minor": 0
}
