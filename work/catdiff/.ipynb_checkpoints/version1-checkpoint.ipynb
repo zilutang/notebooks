{
 "cells": [
  {
   "cell_type": "markdown",
   "metadata": {},
   "source": [
    "# Purpose to compare data of asr-interim of 40 orgs."
   ]
  },
  {
   "cell_type": "markdown",
   "metadata": {},
   "source": [
    "## problems:\n",
    "1.interimnumber: dump数据没有值\n",
    "2.interimperiodfiscalyear：dump数据没有值\n",
    "3.时间日期： VM里面是显式日期（20011231）, dump数据是绝对秒数（1009756800000）(periodenddate, capitalchangeadjustmentdate) \n",
    "4.0,1值没有转换\n",
    "5.locallanguagelabellanguageid和lineitemnamelanguageid值颠倒"
   ]
  },
  {
   "cell_type": "markdown",
   "metadata": {},
   "source": [
    "### columns to be replaced:\n",
    "{\n",
    "    'TRUE,FALSE':{\n",
    "    isusedforanalytics,\n",
    "    ispreliminary,\n",
    "    asriscredit,\n",
    "    isasreportedcurrencysetmanually,\n",
    "    iscombineditem,\n",
    "    isderived,\n",
    "    isfinal,\n",
    "    istotal,\n",
    "    statementsectioniscredit,\n",
    "    }\n",
    "    'fundamentalseriesviewtype':{\n",
    "        'OriginalToOriginal':1\n",
    "        'RecentToRecent':2\n",
    "    }\n",
    "    'fundamentalseriesconsolidationbasis':{\n",
    "        'Blended':1\n",
    "        'ConsolidatedOnly':0\n",
    "    }\n",
    "    'periodenddate': 'to caculate'\n",
    "}"
   ]
  },
  {
   "cell_type": "markdown",
   "metadata": {},
   "source": [
    "### row-key in header according to out 'auto-pilot-qa\\qualified_rules\\EnrichRules\\asr_interim\\output.json':\n",
    "fundamentalseriesid\n",
    "statementtypecode\n",
    "financialconceptlocalid\n",
    "periodenddate\n",
    "\n",
    "financialsourceid\n",
    "financialperiodid\n",
    "lineitemlineitemid"
   ]
  },
  {
   "cell_type": "code",
   "execution_count": null,
   "metadata": {
    "collapsed": true
   },
   "outputs": [],
   "source": [
    "from pandas import Series, DataFrame\n",
    "import pandas as pd\n",
    "import numpy as np"
   ]
  },
  {
   "cell_type": "code",
   "execution_count": null,
   "metadata": {
    "collapsed": false
   },
   "outputs": [],
   "source": [
    "root_path = r'K:\\Learn\\ADC\\phase3\\hbasecompare\\testing-data'\n",
    "vw_file = root_path + '\\\\' + r'4295889557inc.csv'\n",
    "hbase_file = root_path + '\\\\' + r'4295889557-INC.csv'\n",
    "header = Series(['fundamentalid','organizationid','gaapcodeid','gaapcode','isusedforanalytics','fundamentalseriesid','fundamentalseriesviewtype','fundamentalseriesviewtypeid','fundamentalseriesconsolidationbasis','fundamentalseriesconsolidationbasisid','periodenddate','periodtype','periodtypeid','statementcurrencyid','ispreliminary','updatetypecode','updatetypeid','statementsystemderivedtypecode','statementsystemderivedtypecodeid','statementtypecode','statementtypecodeid','financialperiodid','financialsourceid','sourcetypecode','sourcetypeid','thirdpartysourcecode','thirdpartysourcecodeid','cumulativetype','cumulativetypeid','interimnumber','interimperiodfiscalyear','financialconceptglobal','financialconceptglobalid','financialconceptcodeglobalsecondary','financialconceptcodeglobalsecondaryid','financialconceptlocal','financialconceptlocalid','asriscredit','lineitemlineitemid','locallanguagelabel','locallanguagelabellanguageid','lineitemname','lineitemnamelanguageid','physicalmeasureid','orglineitemsequence','asradjustedforcorporateactionvalue','lineitemvalue','asreportedlineitemname','asreportedlineitemnamelanguageid','lineitemlocallanguagelabel','lineitemlocallanguagelabellanguageid','asrlineitemsequence','asreportedlineitemsource','capitalchangeadjustmentdate','estimatemethodcode','estimatemethodid','estimatemethodnote','estimatemethodnotelanguageid','isasreportedcurrencysetmanually','iscombineditem','isderived','isfinal','istotal','editeddescription','editeddescriptionlanguageid','reporteddescription','reporteddescriptionlanguageid','bookmark','docbytelength','docbyteoffset','itemdisplayednegativeflag','itemdisplayedvalue','itemscalingfactor','reportedvalue','parentlineitemid','asreportedphysicalmeasureid','reportedcurrencyid','statementsectioniscredit','statementsectioncode','statementsectionid','systemderivedtypecode','systemderivedtypecodeid','unit','unitenumerationid','parentlineitemname','parentlineitemnamelanguageid','parentlinelocallanguagelabel','parentlinelocallanguagelabellanguageid'])\n",
    "rowkey_logicalfield = ['fundamentalseriesid', 'statementtypecode' ,'financialconceptlocalid', 'periodenddate', 'financialsourceid', 'financialperiodid', 'lineitemlineitemid']"
   ]
  },
  {
   "cell_type": "markdown",
   "metadata": {},
   "source": [
    "# rowkey-logicalfield version"
   ]
  },
  {
   "cell_type": "code",
   "execution_count": null,
   "metadata": {
    "collapsed": true
   },
   "outputs": [],
   "source": [
    "vw_data = pd.read_csv(vw_file, header = None, skiprows = 1, delimiter='|', names=header)\n",
    "hbase_data = pd.read_csv(hbase_file, header=None, delimiter='|', names=header)"
   ]
  },
  {
   "cell_type": "markdown",
   "metadata": {},
   "source": [
    "# md5 versioin"
   ]
  },
  {
   "cell_type": "code",
   "execution_count": 145,
   "metadata": {
    "collapsed": false
   },
   "outputs": [],
   "source": [
    "vw_data = pd.read_csv(vw_file, header = None, skiprows = 1, delimiter='\\n', names=['valstring'])\n",
    "hbase_data = pd.read_csv(hbase_file, header=None, delimiter='\\n', names=['valstring'])"
   ]
  },
  {
   "cell_type": "code",
   "execution_count": 146,
   "metadata": {
    "collapsed": false
   },
   "outputs": [
    {
     "name": "stdout",
     "output_type": "stream",
     "text": [
      "<class 'pandas.core.frame.DataFrame'>\n",
      "RangeIndex: 17828 entries, 0 to 17827\n",
      "Data columns (total 1 columns):\n",
      "valstring    17828 non-null object\n",
      "dtypes: object(1)\n",
      "memory usage: 139.4+ KB\n",
      "None\n"
     ]
    },
    {
     "data": {
      "text/html": [
       "<div>\n",
       "<table border=\"1\" class=\"dataframe\">\n",
       "  <thead>\n",
       "    <tr style=\"text-align: right;\">\n",
       "      <th></th>\n",
       "      <th>valstring</th>\n",
       "    </tr>\n",
       "  </thead>\n",
       "  <tbody>\n",
       "    <tr>\n",
       "      <th>0</th>\n",
       "      <td>48435720524|4295889557|3011624|SPG|True|484333...</td>\n",
       "    </tr>\n",
       "    <tr>\n",
       "      <th>1</th>\n",
       "      <td>48435720433|4295889557|3011566|IAS|1|484333503...</td>\n",
       "    </tr>\n",
       "    <tr>\n",
       "      <th>2</th>\n",
       "      <td>48435720433|4295889557|3011566|IAS|1|484331415...</td>\n",
       "    </tr>\n",
       "    <tr>\n",
       "      <th>3</th>\n",
       "      <td>48435720433|4295889557|3011566|IAS|1|484331415...</td>\n",
       "    </tr>\n",
       "    <tr>\n",
       "      <th>4</th>\n",
       "      <td>48435720433|4295889557|3011566|IAS|1|484333503...</td>\n",
       "    </tr>\n",
       "  </tbody>\n",
       "</table>\n",
       "</div>"
      ],
      "text/plain": [
       "                                           valstring\n",
       "0  48435720524|4295889557|3011624|SPG|True|484333...\n",
       "1  48435720433|4295889557|3011566|IAS|1|484333503...\n",
       "2  48435720433|4295889557|3011566|IAS|1|484331415...\n",
       "3  48435720433|4295889557|3011566|IAS|1|484331415...\n",
       "4  48435720433|4295889557|3011566|IAS|1|484333503..."
      ]
     },
     "execution_count": 146,
     "metadata": {},
     "output_type": "execute_result"
    }
   ],
   "source": [
    "print vw_data.info()\n",
    "vw_data.head()"
   ]
  },
  {
   "cell_type": "code",
   "execution_count": 147,
   "metadata": {
    "collapsed": false
   },
   "outputs": [
    {
     "name": "stdout",
     "output_type": "stream",
     "text": [
      "<class 'pandas.core.frame.DataFrame'>\n",
      "RangeIndex: 17828 entries, 0 to 17827\n",
      "Data columns (total 1 columns):\n",
      "valstring    17828 non-null object\n",
      "dtypes: object(1)\n",
      "memory usage: 139.4+ KB\n",
      "None\n"
     ]
    },
    {
     "data": {
      "text/html": [
       "<div>\n",
       "<table border=\"1\" class=\"dataframe\">\n",
       "  <thead>\n",
       "    <tr style=\"text-align: right;\">\n",
       "      <th></th>\n",
       "      <th>valstring</th>\n",
       "    </tr>\n",
       "  </thead>\n",
       "  <tbody>\n",
       "    <tr>\n",
       "      <th>0</th>\n",
       "      <td>48435720524|4295889557|3011624|SPG|True|484333...</td>\n",
       "    </tr>\n",
       "    <tr>\n",
       "      <th>1</th>\n",
       "      <td>48435720524|4295889557|3011624|SPG|True|484333...</td>\n",
       "    </tr>\n",
       "    <tr>\n",
       "      <th>2</th>\n",
       "      <td>48435720524|4295889557|3011624|SPG|True|484333...</td>\n",
       "    </tr>\n",
       "    <tr>\n",
       "      <th>3</th>\n",
       "      <td>48435720524|4295889557|3011624|SPG|True|484333...</td>\n",
       "    </tr>\n",
       "    <tr>\n",
       "      <th>4</th>\n",
       "      <td>48435720524|4295889557|3011624|SPG|True|484333...</td>\n",
       "    </tr>\n",
       "  </tbody>\n",
       "</table>\n",
       "</div>"
      ],
      "text/plain": [
       "                                           valstring\n",
       "0  48435720524|4295889557|3011624|SPG|True|484333...\n",
       "1  48435720524|4295889557|3011624|SPG|True|484333...\n",
       "2  48435720524|4295889557|3011624|SPG|True|484333...\n",
       "3  48435720524|4295889557|3011624|SPG|True|484333...\n",
       "4  48435720524|4295889557|3011624|SPG|True|484333..."
      ]
     },
     "execution_count": 147,
     "metadata": {},
     "output_type": "execute_result"
    }
   ],
   "source": [
    "print hbase_data.info()\n",
    "hbase_data.head()"
   ]
  },
  {
   "cell_type": "code",
   "execution_count": 148,
   "metadata": {
    "collapsed": false
   },
   "outputs": [],
   "source": [
    "import hashlib\n",
    "def hashmd5code(str):\n",
    "    return hashlib.md5(str).hexdigest()"
   ]
  },
  {
   "cell_type": "code",
   "execution_count": 149,
   "metadata": {
    "collapsed": false
   },
   "outputs": [
    {
     "data": {
      "text/plain": [
       "'9390f4022c31320114073a0ef9a89d79'"
      ]
     },
     "execution_count": 149,
     "metadata": {},
     "output_type": "execute_result"
    }
   ],
   "source": [
    "hashmd5code('48435720433|4295889557|3011566|IAS|1|48433350305|2|1000190359|1|1000190363|20141231|HalfYear|3011647|500111|0|ORG|3013560|MP|3019677|INC|3011683|236|63|ESPARS|3012178|SS|1000716240|D|3013563|2|2014|XBINCI|3016251|||||1|287|RESULTADO DEL EJERCICIO BENEFICIO POR ACCION|505205|Allocated Net Income incl Extra Items applicable to Common - (Instrument Level)|505074||||-28381204.59|Allocated Net Income incl Extra Items applicable to Common - (Instrument Level)|505074||505205|188095|||ARV|3019656||505074|1|0|1|0|0||505074||505074||||0||0||||500111|1|PSI|3013729|MP|3019677|1|1010066||||')\n",
    "\n"
   ]
  },
  {
   "cell_type": "code",
   "execution_count": 150,
   "metadata": {
    "collapsed": false
   },
   "outputs": [
    {
     "data": {
      "text/plain": [
       "'2b133086d0613a49c1310ee0809292c5'"
      ]
     },
     "execution_count": 150,
     "metadata": {},
     "output_type": "execute_result"
    }
   ],
   "source": [
    "hashmd5code('48435720524|4295889557|3011624|SPG|True|48433350304|OriginalToOriginal|1000190358|Blended|1000190363|1009756800000|HalfYear|3011647|500111|False|ORG|3013560|NA|3019679|INC|3011683|36|14|ESPARS|3012178|SS|1000716240|D|3013563|nil|nil|CDNI|3018735|nil|nil|nil|nil|True|100|nil|505074|Diluted Net Income|505205|nil|nil|nil|2752000.0|Diluted Net Income|505074|Diluted Net Income|505205|147472|nil|nil|ARV|3019656|nil|505074|False|False|False|True|False|nil|505074|nil|505074|nil|nil|nil|nil|nil|3|nil|nil|nil|500111|True|PSI|3013729|NA|3019679|1000.0|1010067|nil|nil|nil|nil')"
   ]
  },
  {
   "cell_type": "code",
   "execution_count": 151,
   "metadata": {
    "collapsed": false
   },
   "outputs": [],
   "source": [
    "vw_data.insert(0, 'md5', np.NAN, allow_duplicates=False)\n",
    "hbase_data.insert(0, 'md5', np.NAN, allow_duplicates=False)"
   ]
  },
  {
   "cell_type": "code",
   "execution_count": 152,
   "metadata": {
    "collapsed": false
   },
   "outputs": [
    {
     "data": {
      "text/html": [
       "<div>\n",
       "<table border=\"1\" class=\"dataframe\">\n",
       "  <thead>\n",
       "    <tr style=\"text-align: right;\">\n",
       "      <th></th>\n",
       "      <th>md5</th>\n",
       "      <th>valstring</th>\n",
       "    </tr>\n",
       "  </thead>\n",
       "  <tbody>\n",
       "    <tr>\n",
       "      <th>0</th>\n",
       "      <td>2b133086d0613a49c1310ee0809292c5</td>\n",
       "      <td>48435720524|4295889557|3011624|SPG|True|484333...</td>\n",
       "    </tr>\n",
       "    <tr>\n",
       "      <th>1</th>\n",
       "      <td>b2cd131045f9250b0cbe7ee4130c875a</td>\n",
       "      <td>48435720433|4295889557|3011566|IAS|1|484333503...</td>\n",
       "    </tr>\n",
       "    <tr>\n",
       "      <th>2</th>\n",
       "      <td>4478ab7a9ee1b037172136d80bb24dcb</td>\n",
       "      <td>48435720433|4295889557|3011566|IAS|1|484331415...</td>\n",
       "    </tr>\n",
       "    <tr>\n",
       "      <th>3</th>\n",
       "      <td>cd04d7eefcf825332c47cd2569fa22ef</td>\n",
       "      <td>48435720433|4295889557|3011566|IAS|1|484331415...</td>\n",
       "    </tr>\n",
       "    <tr>\n",
       "      <th>4</th>\n",
       "      <td>49c314f982114a48789daed063655648</td>\n",
       "      <td>48435720433|4295889557|3011566|IAS|1|484333503...</td>\n",
       "    </tr>\n",
       "  </tbody>\n",
       "</table>\n",
       "</div>"
      ],
      "text/plain": [
       "                                md5  \\\n",
       "0  2b133086d0613a49c1310ee0809292c5   \n",
       "1  b2cd131045f9250b0cbe7ee4130c875a   \n",
       "2  4478ab7a9ee1b037172136d80bb24dcb   \n",
       "3  cd04d7eefcf825332c47cd2569fa22ef   \n",
       "4  49c314f982114a48789daed063655648   \n",
       "\n",
       "                                           valstring  \n",
       "0  48435720524|4295889557|3011624|SPG|True|484333...  \n",
       "1  48435720433|4295889557|3011566|IAS|1|484333503...  \n",
       "2  48435720433|4295889557|3011566|IAS|1|484331415...  \n",
       "3  48435720433|4295889557|3011566|IAS|1|484331415...  \n",
       "4  48435720433|4295889557|3011566|IAS|1|484333503...  "
      ]
     },
     "execution_count": 152,
     "metadata": {},
     "output_type": "execute_result"
    }
   ],
   "source": [
    "vw_data.md5 = vw_data.ix[:,'valstring'].apply(hashmd5code)\n",
    "vw_data.head()"
   ]
  },
  {
   "cell_type": "code",
   "execution_count": 153,
   "metadata": {
    "collapsed": false
   },
   "outputs": [
    {
     "data": {
      "text/html": [
       "<div>\n",
       "<table border=\"1\" class=\"dataframe\">\n",
       "  <thead>\n",
       "    <tr style=\"text-align: right;\">\n",
       "      <th></th>\n",
       "      <th>md5</th>\n",
       "      <th>valstring</th>\n",
       "    </tr>\n",
       "  </thead>\n",
       "  <tbody>\n",
       "    <tr>\n",
       "      <th>0</th>\n",
       "      <td>2b133086d0613a49c1310ee0809292c5</td>\n",
       "      <td>48435720524|4295889557|3011624|SPG|True|484333...</td>\n",
       "    </tr>\n",
       "    <tr>\n",
       "      <th>1</th>\n",
       "      <td>7498b28673578019f37b59733c609d42</td>\n",
       "      <td>48435720524|4295889557|3011624|SPG|True|484333...</td>\n",
       "    </tr>\n",
       "    <tr>\n",
       "      <th>2</th>\n",
       "      <td>0aa5e5231a051e095aa28dc26330f897</td>\n",
       "      <td>48435720524|4295889557|3011624|SPG|True|484333...</td>\n",
       "    </tr>\n",
       "    <tr>\n",
       "      <th>3</th>\n",
       "      <td>7062471403fec018b6096695c84ed0bc</td>\n",
       "      <td>48435720524|4295889557|3011624|SPG|True|484333...</td>\n",
       "    </tr>\n",
       "    <tr>\n",
       "      <th>4</th>\n",
       "      <td>3c7795538258e86b362d02c7d2caac44</td>\n",
       "      <td>48435720524|4295889557|3011624|SPG|True|484333...</td>\n",
       "    </tr>\n",
       "  </tbody>\n",
       "</table>\n",
       "</div>"
      ],
      "text/plain": [
       "                                md5  \\\n",
       "0  2b133086d0613a49c1310ee0809292c5   \n",
       "1  7498b28673578019f37b59733c609d42   \n",
       "2  0aa5e5231a051e095aa28dc26330f897   \n",
       "3  7062471403fec018b6096695c84ed0bc   \n",
       "4  3c7795538258e86b362d02c7d2caac44   \n",
       "\n",
       "                                           valstring  \n",
       "0  48435720524|4295889557|3011624|SPG|True|484333...  \n",
       "1  48435720524|4295889557|3011624|SPG|True|484333...  \n",
       "2  48435720524|4295889557|3011624|SPG|True|484333...  \n",
       "3  48435720524|4295889557|3011624|SPG|True|484333...  \n",
       "4  48435720524|4295889557|3011624|SPG|True|484333...  "
      ]
     },
     "execution_count": 153,
     "metadata": {},
     "output_type": "execute_result"
    }
   ],
   "source": [
    "hbase_data.md5 = hbase_data.ix[:,'valstring'].apply(hashmd5code)\n",
    "hbase_data.head()"
   ]
  },
  {
   "cell_type": "code",
   "execution_count": 154,
   "metadata": {
    "collapsed": false
   },
   "outputs": [
    {
     "data": {
      "text/html": [
       "<div>\n",
       "<table border=\"1\" class=\"dataframe\">\n",
       "  <thead>\n",
       "    <tr style=\"text-align: right;\">\n",
       "      <th></th>\n",
       "      <th>md5</th>\n",
       "      <th>valstring</th>\n",
       "    </tr>\n",
       "  </thead>\n",
       "  <tbody>\n",
       "    <tr>\n",
       "      <th>11838</th>\n",
       "      <td>000700e3c35f967e57f2b0bdb1ba1a82</td>\n",
       "      <td>48435720433|4295889557|3011566|IAS|1|484333503...</td>\n",
       "    </tr>\n",
       "    <tr>\n",
       "      <th>14553</th>\n",
       "      <td>0009ca889ac49256afc254526f8e78a6</td>\n",
       "      <td>48435720433|4295889557|3011566|IAS|1|484333503...</td>\n",
       "    </tr>\n",
       "    <tr>\n",
       "      <th>9714</th>\n",
       "      <td>000d692811709464b518a635d7bc54c9</td>\n",
       "      <td>48435720433|4295889557|3011566|IAS|1|484333503...</td>\n",
       "    </tr>\n",
       "    <tr>\n",
       "      <th>8014</th>\n",
       "      <td>0012bf57ff151d2e67b1e43654272d6d</td>\n",
       "      <td>48435720433|4295889557|3011566|IAS|1|484331415...</td>\n",
       "    </tr>\n",
       "    <tr>\n",
       "      <th>15621</th>\n",
       "      <td>0013bfcbe282218ab46aaafec4e273c0</td>\n",
       "      <td>48435720455|4295889557|3011566|IAS|1|484331415...</td>\n",
       "    </tr>\n",
       "  </tbody>\n",
       "</table>\n",
       "</div>"
      ],
      "text/plain": [
       "                                    md5  \\\n",
       "11838  000700e3c35f967e57f2b0bdb1ba1a82   \n",
       "14553  0009ca889ac49256afc254526f8e78a6   \n",
       "9714   000d692811709464b518a635d7bc54c9   \n",
       "8014   0012bf57ff151d2e67b1e43654272d6d   \n",
       "15621  0013bfcbe282218ab46aaafec4e273c0   \n",
       "\n",
       "                                               valstring  \n",
       "11838  48435720433|4295889557|3011566|IAS|1|484333503...  \n",
       "14553  48435720433|4295889557|3011566|IAS|1|484333503...  \n",
       "9714   48435720433|4295889557|3011566|IAS|1|484333503...  \n",
       "8014   48435720433|4295889557|3011566|IAS|1|484331415...  \n",
       "15621  48435720455|4295889557|3011566|IAS|1|484331415...  "
      ]
     },
     "execution_count": 154,
     "metadata": {},
     "output_type": "execute_result"
    }
   ],
   "source": [
    "vw_data_md5 = vw_data.sort_values('md5')\n",
    "vw_data.sort_values('md5').head()"
   ]
  },
  {
   "cell_type": "code",
   "execution_count": 155,
   "metadata": {
    "collapsed": false
   },
   "outputs": [
    {
     "data": {
      "text/html": [
       "<div>\n",
       "<table border=\"1\" class=\"dataframe\">\n",
       "  <thead>\n",
       "    <tr style=\"text-align: right;\">\n",
       "      <th></th>\n",
       "      <th>md5</th>\n",
       "      <th>valstring</th>\n",
       "    </tr>\n",
       "  </thead>\n",
       "  <tbody>\n",
       "    <tr>\n",
       "      <th>14055</th>\n",
       "      <td>00097cd4f5034a417d5b8b8cf088ca01</td>\n",
       "      <td>48435720433|4295889557|3011566|IAS|True|484333...</td>\n",
       "    </tr>\n",
       "    <tr>\n",
       "      <th>15625</th>\n",
       "      <td>000bb42b833fd4cfc13dc21cca5b9aac</td>\n",
       "      <td>48435720455|4295889557|3011566|IAS|True|484331...</td>\n",
       "    </tr>\n",
       "    <tr>\n",
       "      <th>8605</th>\n",
       "      <td>00138fb4dd66f117d13adeef22d54a88</td>\n",
       "      <td>48435720433|4295889557|3011566|IAS|True|484333...</td>\n",
       "    </tr>\n",
       "    <tr>\n",
       "      <th>12188</th>\n",
       "      <td>0014582318082135a7400ba9f0aa95fb</td>\n",
       "      <td>48435720455|4295889557|3011566|IAS|True|484333...</td>\n",
       "    </tr>\n",
       "    <tr>\n",
       "      <th>16874</th>\n",
       "      <td>00165f2d4367f5867b934fd4e37b6fab</td>\n",
       "      <td>48435720524|4295889557|3011624|SPG|True|484333...</td>\n",
       "    </tr>\n",
       "  </tbody>\n",
       "</table>\n",
       "</div>"
      ],
      "text/plain": [
       "                                    md5  \\\n",
       "14055  00097cd4f5034a417d5b8b8cf088ca01   \n",
       "15625  000bb42b833fd4cfc13dc21cca5b9aac   \n",
       "8605   00138fb4dd66f117d13adeef22d54a88   \n",
       "12188  0014582318082135a7400ba9f0aa95fb   \n",
       "16874  00165f2d4367f5867b934fd4e37b6fab   \n",
       "\n",
       "                                               valstring  \n",
       "14055  48435720433|4295889557|3011566|IAS|True|484333...  \n",
       "15625  48435720455|4295889557|3011566|IAS|True|484331...  \n",
       "8605   48435720433|4295889557|3011566|IAS|True|484333...  \n",
       "12188  48435720455|4295889557|3011566|IAS|True|484333...  \n",
       "16874  48435720524|4295889557|3011624|SPG|True|484333...  "
      ]
     },
     "execution_count": 155,
     "metadata": {},
     "output_type": "execute_result"
    }
   ],
   "source": [
    "hbase_data_md5 = hbase_data.sort_values('md5')\n",
    "hbase_data.sort_values('md5').head()"
   ]
  },
  {
   "cell_type": "code",
   "execution_count": 156,
   "metadata": {
    "collapsed": false
   },
   "outputs": [
    {
     "data": {
      "text/html": [
       "<div>\n",
       "<table border=\"1\" class=\"dataframe\">\n",
       "  <thead>\n",
       "    <tr style=\"text-align: right;\">\n",
       "      <th></th>\n",
       "      <th>md5</th>\n",
       "      <th>valstring</th>\n",
       "    </tr>\n",
       "  </thead>\n",
       "  <tbody>\n",
       "    <tr>\n",
       "      <th>11838</th>\n",
       "      <td>000700e3c35f967e57f2b0bdb1ba1a82</td>\n",
       "      <td>48435720433|4295889557|3011566|IAS|1|484333503...</td>\n",
       "    </tr>\n",
       "    <tr>\n",
       "      <th>14553</th>\n",
       "      <td>0009ca889ac49256afc254526f8e78a6</td>\n",
       "      <td>48435720433|4295889557|3011566|IAS|1|484333503...</td>\n",
       "    </tr>\n",
       "    <tr>\n",
       "      <th>9714</th>\n",
       "      <td>000d692811709464b518a635d7bc54c9</td>\n",
       "      <td>48435720433|4295889557|3011566|IAS|1|484333503...</td>\n",
       "    </tr>\n",
       "    <tr>\n",
       "      <th>8014</th>\n",
       "      <td>0012bf57ff151d2e67b1e43654272d6d</td>\n",
       "      <td>48435720433|4295889557|3011566|IAS|1|484331415...</td>\n",
       "    </tr>\n",
       "    <tr>\n",
       "      <th>15621</th>\n",
       "      <td>0013bfcbe282218ab46aaafec4e273c0</td>\n",
       "      <td>48435720455|4295889557|3011566|IAS|1|484331415...</td>\n",
       "    </tr>\n",
       "  </tbody>\n",
       "</table>\n",
       "</div>"
      ],
      "text/plain": [
       "                                    md5  \\\n",
       "11838  000700e3c35f967e57f2b0bdb1ba1a82   \n",
       "14553  0009ca889ac49256afc254526f8e78a6   \n",
       "9714   000d692811709464b518a635d7bc54c9   \n",
       "8014   0012bf57ff151d2e67b1e43654272d6d   \n",
       "15621  0013bfcbe282218ab46aaafec4e273c0   \n",
       "\n",
       "                                               valstring  \n",
       "11838  48435720433|4295889557|3011566|IAS|1|484333503...  \n",
       "14553  48435720433|4295889557|3011566|IAS|1|484333503...  \n",
       "9714   48435720433|4295889557|3011566|IAS|1|484333503...  \n",
       "8014   48435720433|4295889557|3011566|IAS|1|484331415...  \n",
       "15621  48435720455|4295889557|3011566|IAS|1|484331415...  "
      ]
     },
     "execution_count": 156,
     "metadata": {},
     "output_type": "execute_result"
    }
   ],
   "source": [
    "vw_data_md5.head()"
   ]
  },
  {
   "cell_type": "code",
   "execution_count": 157,
   "metadata": {
    "collapsed": false
   },
   "outputs": [
    {
     "data": {
      "text/html": [
       "<div>\n",
       "<table border=\"1\" class=\"dataframe\">\n",
       "  <thead>\n",
       "    <tr style=\"text-align: right;\">\n",
       "      <th></th>\n",
       "      <th>md5</th>\n",
       "      <th>valstring</th>\n",
       "    </tr>\n",
       "  </thead>\n",
       "  <tbody>\n",
       "    <tr>\n",
       "      <th>14055</th>\n",
       "      <td>00097cd4f5034a417d5b8b8cf088ca01</td>\n",
       "      <td>48435720433|4295889557|3011566|IAS|True|484333...</td>\n",
       "    </tr>\n",
       "    <tr>\n",
       "      <th>15625</th>\n",
       "      <td>000bb42b833fd4cfc13dc21cca5b9aac</td>\n",
       "      <td>48435720455|4295889557|3011566|IAS|True|484331...</td>\n",
       "    </tr>\n",
       "    <tr>\n",
       "      <th>8605</th>\n",
       "      <td>00138fb4dd66f117d13adeef22d54a88</td>\n",
       "      <td>48435720433|4295889557|3011566|IAS|True|484333...</td>\n",
       "    </tr>\n",
       "    <tr>\n",
       "      <th>12188</th>\n",
       "      <td>0014582318082135a7400ba9f0aa95fb</td>\n",
       "      <td>48435720455|4295889557|3011566|IAS|True|484333...</td>\n",
       "    </tr>\n",
       "    <tr>\n",
       "      <th>16874</th>\n",
       "      <td>00165f2d4367f5867b934fd4e37b6fab</td>\n",
       "      <td>48435720524|4295889557|3011624|SPG|True|484333...</td>\n",
       "    </tr>\n",
       "  </tbody>\n",
       "</table>\n",
       "</div>"
      ],
      "text/plain": [
       "                                    md5  \\\n",
       "14055  00097cd4f5034a417d5b8b8cf088ca01   \n",
       "15625  000bb42b833fd4cfc13dc21cca5b9aac   \n",
       "8605   00138fb4dd66f117d13adeef22d54a88   \n",
       "12188  0014582318082135a7400ba9f0aa95fb   \n",
       "16874  00165f2d4367f5867b934fd4e37b6fab   \n",
       "\n",
       "                                               valstring  \n",
       "14055  48435720433|4295889557|3011566|IAS|True|484333...  \n",
       "15625  48435720455|4295889557|3011566|IAS|True|484331...  \n",
       "8605   48435720433|4295889557|3011566|IAS|True|484333...  \n",
       "12188  48435720455|4295889557|3011566|IAS|True|484333...  \n",
       "16874  48435720524|4295889557|3011624|SPG|True|484333...  "
      ]
     },
     "execution_count": 157,
     "metadata": {},
     "output_type": "execute_result"
    }
   ],
   "source": [
    "hbase_data_md5.head()"
   ]
  },
  {
   "cell_type": "code",
   "execution_count": 181,
   "metadata": {
    "collapsed": false
   },
   "outputs": [
    {
     "name": "stdout",
     "output_type": "stream",
     "text": [
      "<class 'pandas.core.frame.DataFrame'>\n",
      "Int64Index: 1 entries, 0 to 0\n",
      "Data columns (total 2 columns):\n",
      "md5          1 non-null object\n",
      "valstring    1 non-null object\n",
      "dtypes: object(2)\n",
      "memory usage: 24.0+ bytes\n",
      "None\n",
      "2b133086d0613a49c1310ee0809292c5\n"
     ]
    },
    {
     "data": {
      "text/html": [
       "<div>\n",
       "<table border=\"1\" class=\"dataframe\">\n",
       "  <thead>\n",
       "    <tr style=\"text-align: right;\">\n",
       "      <th></th>\n",
       "      <th>md5</th>\n",
       "      <th>valstring</th>\n",
       "    </tr>\n",
       "  </thead>\n",
       "  <tbody>\n",
       "    <tr>\n",
       "      <th>0</th>\n",
       "      <td>2b133086d0613a49c1310ee0809292c5</td>\n",
       "      <td>48435720524|4295889557|3011624|SPG|True|484333...</td>\n",
       "    </tr>\n",
       "  </tbody>\n",
       "</table>\n",
       "</div>"
      ],
      "text/plain": [
       "                                md5  \\\n",
       "0  2b133086d0613a49c1310ee0809292c5   \n",
       "\n",
       "                                           valstring  \n",
       "0  48435720524|4295889557|3011624|SPG|True|484333...  "
      ]
     },
     "execution_count": 181,
     "metadata": {},
     "output_type": "execute_result"
    }
   ],
   "source": [
    "same_raws = pd.merge(vw_data_md5, hbase_data_md5)\n",
    "print same_raws.info()\n",
    "print same_raws.ix[0, 0]\n",
    "same_raws"
   ]
  },
  {
   "cell_type": "code",
   "execution_count": 189,
   "metadata": {
    "collapsed": false
   },
   "outputs": [
    {
     "data": {
      "text/plain": [
       "Int64Index([14055, 15625,  8605, 12188, 16874,  6911,  5598, 16205, 17141,\n",
       "             8984,\n",
       "            ...\n",
       "            15488, 17761,  4852, 17372,  6091, 12968, 12185, 14728,  7890,\n",
       "              999],\n",
       "           dtype='int64', length=17827)"
      ]
     },
     "execution_count": 189,
     "metadata": {},
     "output_type": "execute_result"
    }
   ],
   "source": [
    "hbase_data_md5[hbase_data_md5['md5'] != same_raws.ix[0, 0]].index"
   ]
  },
  {
   "cell_type": "markdown",
   "metadata": {},
   "source": [
    "# -----------------disused-----------------"
   ]
  },
  {
   "cell_type": "code",
   "execution_count": null,
   "metadata": {
    "collapsed": false
   },
   "outputs": [],
   "source": [
    "data1 = hbase_data.replace('nil', np.NAN)\n",
    "data1 = data1.replace(True, '1')\n",
    "data1 = data1.replace(False, '0')\n",
    "data1.locallanguagelabellanguageid"
   ]
  },
  {
   "cell_type": "code",
   "execution_count": null,
   "metadata": {
    "collapsed": false
   },
   "outputs": [],
   "source": [
    "locallanguage = data1.locallanguagelabellanguageid\n",
    "lineitemname = data1.lineitemnamelanguageid\n",
    "data1['ocallanguagelabellanguageid'] = lineitemname\n",
    "data1['lineitemnamelanguageid'] = locallanguage"
   ]
  },
  {
   "cell_type": "code",
   "execution_count": null,
   "metadata": {
    "collapsed": false
   },
   "outputs": [],
   "source": [
    "data1.locallanguagelabellanguageid"
   ]
  },
  {
   "cell_type": "code",
   "execution_count": null,
   "metadata": {
    "collapsed": false
   },
   "outputs": [],
   "source": [
    "data1.to_csv(\"data1.csv\", sep = '|')"
   ]
  },
  {
   "cell_type": "code",
   "execution_count": null,
   "metadata": {
    "collapsed": false
   },
   "outputs": [],
   "source": [
    "data1"
   ]
  },
  {
   "cell_type": "code",
   "execution_count": null,
   "metadata": {
    "collapsed": false
   },
   "outputs": [],
   "source": [
    "import time\n"
   ]
  }
 ],
 "metadata": {
  "kernelspec": {
   "display_name": "Python 2",
   "language": "python",
   "name": "python2"
  },
  "language_info": {
   "codemirror_mode": {
    "name": "ipython",
    "version": 2
   },
   "file_extension": ".py",
   "mimetype": "text/x-python",
   "name": "python",
   "nbconvert_exporter": "python",
   "pygments_lexer": "ipython2",
   "version": "2.7.10"
  }
 },
 "nbformat": 4,
 "nbformat_minor": 0
}
